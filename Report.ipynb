{
 "cells": [
  {
   "cell_type": "markdown",
   "metadata": {},
   "source": [
    "# 1,4-Butanediol (BDO) Production"
   ]
  },
  {
   "cell_type": "code",
   "execution_count": 3,
   "metadata": {},
   "outputs": [],
   "source": [
    "from IPython.display import FileLink, FileLinks, Image"
   ]
  },
  {
   "cell_type": "markdown",
   "metadata": {},
   "source": [
    "## 1. Introduction"
   ]
  },
  {
   "cell_type": "markdown",
   "metadata": {},
   "source": [
    "### 1.1 Literature review of the compound (<500 words)\n",
    "1,4-butanediol (BDO) is a four-carbon compound with two hydroxyl groups. At room temperature, it appears as a colorless and viscous liquid, with a melting point of ~230ºC and high water solubility. The typical commercial purity requirements are 99.5-99.8% (Elvers, 2003).   \n",
    "\n",
    "BDO has a large number of applications in the petrochemical industry including the production of tetrahydrofuran (THF), an intermediate for spandex, and polybutylene terephthalate (PBT) resins for thermoplastic fabrication. In addition, BDO is needed for the synthesis of gamma-butyrolactone (GBL), as well as polyesters and polyurethanes (Silva, 2020). Finally, it is also employed as a pest control and growth-promoting agent in agriculture, mainly due to its high biodegradability.\n",
    "\n",
    "BDO market is in the process of expanding, sitting at an estimated 6 billion value in 2018 but projected to reach over 12 billion in 2025 (1,4 butanediol market size, n.d.). Global production amounts to around 2 million MT/yr, with a sale price of roughly 2\\\\$/kg. Bio-based production represents a very small fraction of the BDO market, which is mostly dominated by chemical manufacturing from petroleum-based feedstocks. However, techno-economical analyses have shown that the bioproduction of BDO could lower its price down to 1.8$/kg (Satam, 2019).\n",
    "\n",
    "No known microorganisms have been identified to naturally synthesize BDO, but the heterologous expression in E coli is a well-established process that has been improved from production titers of 20 g/L in the early strains to more than 125 g/L in the latest (Satam, 2019, Yim, 2011) in process. These advances were achieved through metabolic engineering and biochemical pathway optimization (Burgard, 2016).\n",
    "\n",
    "1-4 butanediol is fermented in a bioconversion reactor operated under aerobic, axenic conditions. Through genetic manipulation, Succinyl-COA is redirected from the TCA cycle in microaerobic conditions and reduced through exposure to 6 enzymes \n",
    "**Include reaction??????????????????????????**\n",
    "\n",
    "![Reaction](Pictures/reaction.png \"reaction\")\n",
    "\n",
    "\n",
    "**Figure 1. CAPTION MISSING **\n"
   ]
  },
  {
   "cell_type": "markdown",
   "metadata": {},
   "source": [
    "### 1.2 Literature review of the cell factory (<500 words) \n",
    "*E. coli* is one of the best studied hosts used as cell factories. It has a high growth rate, compared to most microorganisms, and its physiology, biochemistry and genetics are extensively characterized. *E. coli* is the most used microorganism in research laboratories with much experience having been gathered around engineering its genome. Several genetic tools have been developed for engineering this goal, resulting in a big number of different industrial *E. coli* strains, that can be deployed to produce proteins and molecules of interest. The most commonly used *E. coli* strains have a GRAS (generally regarded as safe) status and are easily culturable, adding up more reason why *E. coli* is the most preferred bacterial microorganism for applications in research and industrial environments (Pontrelli, 2018). \n",
    "The biggest limitation in the use of *E. coli* as a cell factory comes to the production of eukaryotic proteins, since the needed protein modifications cannot be performed in prokaryotic cells (Theisen, 2017). Additionally, as all prokaryotic systems, *E. coli* is sensitive to bacteriophage contamination, a problem which Liu, L., Zhao, D., Ye, L. et al. tried to address by constructing a phage-resistance system in *E. coli* BL21, one of the most popular industrial *E. coli* strains (Liu, 2020). Formation of inclusion bodies is another disadvantage of *E. coli* in industrial applications, but various methods have been developed for the renaturation of the proteins in these insoluble aggregates (Theisen, 2017). \n",
    "\n",
    "#### E. coli for 1,4 BDO production \n",
    "1,4-BDO is not naturally produced by *E. coli*. Several groups have engineered *E. coli* to produce 1,4-BDO, deploying different pathways, with two being the most sufficient and starting from succinate and α-ketoglutarate accordingly. However, the insertion of metabolic pathways for the production of 1,4-BDO does not lead to high titers of the product. Therefore, research groups have tried various approaches to optimize the production process. Research efforts have focused on increasing the production of precursor molecules, suppressing competing genes that direct the carbon flow towards the production of byproducts and testing different carbon sources, among others. Overall, *E. coli* is considered an ideal host for production of 1,4-BDO, for reasons stated above. \n",
    " \n",
    "*Vibrio natriegens* has also been engineered and used for the production of BDO achieving higher BDO production rates compared to the rates achieved from *E. coli* (Erian, 2020). *V. natriegens* is a gram-negative marine bacterium with well characterized genetics that has been engineered for various biotechnological applications (Weinstock, 2016). This bacterium has been reported to be the fastest growing organism with a duplication time of less than 10 minutes. Unlike *E. coli*, *V. natriegens* is cold-sensitive, probably due to low catalase activity, making its storage more challenging (Schleicher, 2018). Moreover, its high growth rate could be a potential disadvantage for commercial bioproduction processes, since bacterial biomass yield has been shown to be optimal in intervening growth rate, due to a negative relationship between yield and growth rate (Lipson, 2015). "
   ]
  },
  {
   "cell_type": "markdown",
   "metadata": {},
   "source": [
    "## 2. Problem definition (<300 words)\n",
    "The production of bulk chemicals through a metabolic engineered *E. coli* strain can be quite challenging. For example, during the years, it has been observed that the output of non-natural substances such as 1,4-butanediol (BDO) requires every time a new synthetic pathway, while increased oxidoreduction reactions have to take place since 1,4-butanediol is a reduced substance. Although, it should be mentioned that many byproducts are emitted during the production of BDO in the TCA cycle, which can affect its final titer. Thus, it is needed to resort to methods of dealing with or eliminating them to improve the quality and increase the quantity of the final product. \n",
    " \n",
    "Recent studies which have aimed to produce BDO through raw materials such as sugar, dextrose (undirect production) (Burgard, 2016), and direct production (Yim, 2011)  have shown that the yield reaches approximately the 70% of the theoretical estimation (Tai, 2016) and a production of 18 g/L, respectively.  \n",
    " \n",
    "One of the major challenges that arise during the BDO’s production is the emission of CO2. By having the largest percentage among other byproducts. This project aims to increase the BDO’s titer and concurrently minimize the emissions of the byproducts that affect the final output.  \n"
   ]
  },
  {
   "cell_type": "markdown",
   "metadata": {},
   "source": [
    "## 3. Selection and assessment of existing GSM (<500 words)\n",
    "The GSMs of *E. Coli* strain K-12 MG165 that can be found in the literature and can be used to simulate the production of 1,4 butanediol, vary. The existing models which are being compared are the iML1515, iJO1366 and iAF1260 (Monk, 2017, Orth, 2011, Feist, 2011). These three models are the latest and all of them consist of a great number of genes, reactions and metabolites. More specifically, the first includes 2712 metabolic reactions, 1877 metabolites and knowledge of 1515 proteins can be extract from its database, whereas the second model provides information for 2583 reactions and 1805 metabolites, while the third one, that’s also the older one of the investigated models, consists of 2382 reactions and 1668 metabolites. There is a significant difference in the numbers of those models and the reason is that iML1515 is an updated version of both iJO1366 and iAF1260. The iML1515 model was constructed based on the iJO1366 by adding 149 new genes and 129 new reactions. It is considered to be the most complete genome-scale reconstruction of metabolic network in this particular strain of *E. Coli*. The previous update of this model was in 2011 and since then new functions and competences have been discovered and added. The knowledge that can be obtained from the model is abundant consequently, it is being chosen to be the GSMs for the optimization of the 1,4 butanediol pathway.\n",
    "\n",
    "It can be concluded that this model will be able to provide with reliable predictions as a more up to date model. According to publications it is capable enough to predict the growth effect of gene knockouts. These predictions were validated experimentally via genome-wide gene-knockout screens with 3892 gene knockouts and with 16 different carbon substrates. The results that were extracted, gave an accuracy of 93.4% compared to previous iJO1366 models’ accuracy which was 89.8%. The fact that this model has many more gene, reactions and metabolites than all the other models, increases the number of false-positive predictions made which results in an increased accuracy.\n",
    "\n",
    "More detailed quantic metric that were extracted by Memote, are being presented below. Figure 2, presents basic information of the 3 models, based on results derived from Memote analysis of the three models. "
   ]
  },
  {
   "cell_type": "markdown",
   "metadata": {},
   "source": [
    "![Basic information](Pictures/BasicInfo.png)\n",
    "\n",
    "Figure 2. Basic information on the three models"
   ]
  },
  {
   "cell_type": "markdown",
   "metadata": {},
   "source": [
    "Figure 3, depicts the score of each model per category. It’s easy to observe that the three models have approximately equal scores in every category, given in the table. While the total score of all three models is equal to 86%\n",
    "\n",
    "![Comparison of score ](Pictures/perfcomparison.png)\n",
    "\n",
    "Figure 3. Comparison of score per category for the three models.\n",
    "\n",
    "Since the three models resulted in approximately same scores in all categories, we decided to proceed with model iML1515, based on the plethora of genes and reactions that it includes and the frequent experimental use, expecting it to give trustworthy results.  \n"
   ]
  },
  {
   "cell_type": "code",
   "execution_count": 4,
   "metadata": {},
   "outputs": [
    {
     "data": {
      "text/html": [
       "<a href='Analysis/ExistingAssess.ipynb' target='_blank'>Analysis/ExistingAssess.ipynb</a><br>"
      ],
      "text/plain": [
       "C:\\Users\\Lenovo\\27410\\group-assignment-2021-group_11_bdo_production\\Analysis\\ExistingAssess.ipynb"
      ]
     },
     "execution_count": 4,
     "metadata": {},
     "output_type": "execute_result"
    }
   ],
   "source": [
    "FileLink('Analysis/ExistingAssess.ipynb')"
   ]
  },
  {
   "cell_type": "markdown",
   "metadata": {},
   "source": [
    "## 4. Computer-Aided Cell Factory Engineering (<1500 words if Category II project)"
   ]
  },
  {
   "cell_type": "markdown",
   "metadata": {},
   "source": [
    "### Pathway visualizations"
   ]
  },
  {
   "cell_type": "markdown",
   "metadata": {},
   "source": [
    "In order to visualize the model, the online version of Escher was used to plot both pathways on metabolic maps. In order to plot the maps, the already available map of the core metabolism of *E. coli* was used. Sucd model and akg model were added respectively in the core map in order to visualize both pathways.\n",
    "\n",
    "#### SUCD Model\n",
    "In this case the biosynthesis of 1,4-BDO starts from succinate.\n",
    "![Whole_sucd](Pictures/sucd_model.png)\n",
    "The heterologous pathway added is highlighted in the red square. In order to have a better look at the pathway, the model is zoomed in that area.\n",
    "![sucd_path](Pictures/sucd_path.png)\n",
    "\n",
    "\n",
    "#### AKG Model\n",
    "In the AKG model, biosynthesis of 1,4-BDO starts from α-ketoglutarate and can be visualized in the following map.\n",
    "![Whole_akg](Pictures/akg_model.png)\n",
    "Same as before, the heterologous pathway added is highlighted in the red square. The biosynthetic pathway is depicted in the following picture. \n",
    "![akg_path](Pictures/akg_path.png)"
   ]
  },
  {
   "cell_type": "markdown",
   "metadata": {},
   "source": [
    "### Phenotypic Phase Plane analysis"
   ]
  },
  {
   "cell_type": "markdown",
   "metadata": {},
   "source": [
    "Phenotypic Phase Plane (PhPP) analysis is a constrains-based method that allows the investigation of the optimal conditions between two fluxes. We used Phenotypic Phase Plane analysis to explore the relationship between the 1,4bdo production flux and biomass production, glucose uptake and oxygen exchange reaction.\n",
    "\n",
    "From Fig. X, we conclude that the PhPP plots are not different between the two models (akg and sucd). This was expected, since the difference in the 1,4bdo production from the two models is negligible.\n",
    "\n",
    "Our plots that present Biomass as a function of 1,4-BDO production shows that there is a direct trade-off between biomass flux and production of 1,4-BDO. This means that our bacterium prefers to utilize nutrients for growth, rather than production of 1,4-BDO. The same applies for the relation between 1,4-BDO production and glucose uptake. \n",
    "\n",
    "\n",
    "1.comment for 3rd plot\n",
    "2.i will change the figure so the plots have right titles"
   ]
  },
  {
   "cell_type": "markdown",
   "metadata": {},
   "source": [
    "![PhPP](Pictures/PhPP.png)"
   ]
  },
  {
   "cell_type": "markdown",
   "metadata": {},
   "source": [
    "### Knocking out targeted genes"
   ]
  },
  {
   "cell_type": "markdown",
   "metadata": {},
   "source": [
    "In 2011, Yim et al. used the OptKnock algorithm and identified targets that could be knocked out in order to achieve higher 1,4-BDO production. We deleted these targets from our models, as well as a combination of those, to test if we can also achieve higher 1,4-BDO production following this strategy. Surprisingly, none of our deletions resulted in increased 1,4-BDO production.\n",
    "\n",
    "Here I can talk more about the genes that were knocked out."
   ]
  },
  {
   "cell_type": "markdown",
   "metadata": {},
   "source": [
    "### Optimization algorithms"
   ]
  },
  {
   "cell_type": "markdown",
   "metadata": {},
   "source": [
    "#### OptGene "
   ]
  },
  {
   "cell_type": "markdown",
   "metadata": {},
   "source": []
  },
  {
   "cell_type": "markdown",
   "metadata": {},
   "source": [
    "#### OptKnock"
   ]
  },
  {
   "cell_type": "markdown",
   "metadata": {},
   "source": [
    "### Co-factor swap"
   ]
  },
  {
   "cell_type": "markdown",
   "metadata": {},
   "source": [
    "An attempt of swapping the co-factors have been presented in this project. Recent studies have established that changing the co-factors to a specific pathway most of the time leads to the increase of the yield of the final product (Armingol, 2018) as well as can affect the maximum theoritical by increasing it (Kinga, 2014). However, not all the times the co-factor is effective because specific enzymes have to be used to produce particular products. Therefore, in this project, the co-factor swap algorithm was adjusted and implemented regarding the production of 1,4 -BDO. However, after performing the algorithm, it resulted in not having any factors to be swapped. \n",
    "\n",
    "\n",
    "Need to add references for this part. Needs rephrase.\n"
   ]
  },
  {
   "cell_type": "code",
   "execution_count": null,
   "metadata": {},
   "outputs": [],
   "source": []
  },
  {
   "cell_type": "markdown",
   "metadata": {},
   "source": [
    "## 5. Discussion (<500 words)"
   ]
  },
  {
   "cell_type": "markdown",
   "metadata": {},
   "source": [
    "## 6. Conclusion (<200 words)"
   ]
  },
  {
   "cell_type": "markdown",
   "metadata": {},
   "source": [
    "## References"
   ]
  },
  {
   "cell_type": "markdown",
   "metadata": {},
   "source": [
    "1. 1,4 butanediol market size worth $12.6 billion by 2025. 1,4 Butanediol Market Size Worth $12.6 Billion By 2025. (n.d.). Retrieved November 1, 2021, from https://www.grandviewresearch.com/press-release/global-1-4-butanediol-market.\n",
    "2. Burgard, A., Burk, M. J., Osterhout, R., Van Dien, S., & Yim, H. (2016). Development of a commercial scale process for production of 1, 4-butanediol from sugar. Current opinion in biotechnology, 42, 118-125. https://doi.org/10.1016/j.copbio.2016.04.016.\n",
    "3. Elvers, B., Hawkins, S., Russey, W., Weise, E., &amp; Ullmann, F. (2003). Ullmann's encyclopedia of industrial chemistry. VCH. DOI: https://doi.org/10.1002/14356007.a24_107\n",
    "4. Erian, A. M., Freitag, P., Gibisch, M., & Pflügl, S. (2020). High rate 2, 3-butanediol production with Vibrio natriegens. Bioresource Technology Reports, 10, 100408. https://doi.org/10.1016/j.biteb.2020.100408.\n",
    "5. Feist, A. M., Henry, C. S., Reed, J. L., Krummenacker, M., Joyce, A. R., Karp, P. D., ... & Palsson, B. Ø. (2007). A genome‐scale metabolic reconstruction for Escherichia coli K‐12 MG1655 that accounts for 1260 ORFs and thermodynamic information. Molecular systems biology, 3(1), 121. https://doi.org/10.1038/msb4100155\n",
    "6. Lipson, D. A. (2015). The complex relationship between microbial growth rate and yield and its implications for ecosystem processes. Frontiers in microbiology, 6, 615. https://doi.org/10.3389/fmicb.2015.00615\n",
    "7. Liu, L., Zhao, D., Ye, L., Zhan, T., Xiong, B., Hu, M., ... & Zhang, X. (2020). A programmable CRISPR/Cas9-based phage defense system for Escherichia coli BL21 (DE3). Microbial cell factories, 19(1), 1-9. https://doi.org/10.1186/s12934-020-01393-2\n",
    "8. Monk, J. M., Lloyd, C. J., Brunk, E., Mih, N., Sastry, A., King, Z., ... & Palsson, B. O. (2017). i ML1515, a knowledgebase that computes Escherichia coli traits. Nature biotechnology, 35(10), 904-908. https://doi.org/10.1038/nbt.3956\n",
    "9. Orth, J. D., Conrad, T. M., Na, J., Lerman, J. A., Nam, H., Feist, A. M., & Palsson, B. Ø. (2011). A comprehensive genome‐scale reconstruction of Escherichia coli metabolism—2011. Molecular systems biology, 7(1), 535\n",
    "https://doi.org/10.1038/msb.2011.65\n",
    "10. Pontrelli, S., Chiu, T. Y., Lan, E. I., Chen, F. Y. H., Chang, P., & Liao, J. C. (2018). Escherichia coli as a host for metabolic engineering. Metabolic engineering, 50, 16-46.https://doi.org/10.1016/j.ymben.2018.04.008\n",
    "11. Satam, C. C., Daub, M., & Realff, M. J. (2019). Techno‐economic analysis of 1, 4‐butanediol production by a single‐step bioconversion process. Biofuels, Bioproducts and Biorefining, 13(5), 1261-1273. https://doi.org/10.1002/bbb.2016\n",
    "12. Silva, R. G. C., Ferreira, T. F., & Borges, É. R. (2020). Identification of potential technologies for 1, 4‐Butanediol production using prospecting methodology. Journal of Chemical Technology & Biotechnology, 95(12), 3057-3070. https://doi.org/10.1002/jctb.6518\n",
    "13. Schleicher, L., Muras, V., Claussen, B., Pfannstiel, J., Blombach, B., Dibrov, P., ... & Steuber, J. (2018). Vibrio natriegens as host for expression of multisubunit membrane protein complexes. Frontiers in microbiology, 9, 2537. https://doi.org/10.3389/fmicb.2018.02537\n",
    "14. Tai, Y. S., Xiong, M., Jambunathan, P., Wang, J., Wang, J., Stapleton, C., & Zhang, K. (2016). Engineering nonphosphorylative metabolism to generate lignocellulose-derived products. Nature chemical biology, 12(4), 247-253. https://doi.org/10.1038/nchembio.2020\n",
    "15. Theisen, M., & Liao, J. C. (2017). Industrial biotechnology: Escherichia coli as a host. Industrial biotechnology: microorganisms, 1, 149-181. \n",
    "16. Weinstock, M. T., Hesek, E. D., Wilson, C. M., & Gibson, D. G. (2016). Vibrio natriegens as a fast-growing host for molecular biology. Nature methods, 13(10), 849-851. https://doi.org/10.1038/nmeth.3970\n",
    "17. Yim, H., Haselbeck, R., Niu, W., Pujol-Baxley, C., Burgard, A., Boldt, J., ... & Van Dien, S. (2011). Metabolic engineering of Escherichia coli for direct production of 1, 4-butanediol. Nature chemical biology, 7(7), 445-452.\n",
    "https://doi.org/10.1038/nchembio.580"
   ]
  },
  {
   "cell_type": "code",
   "execution_count": null,
   "metadata": {},
   "outputs": [],
   "source": []
  }
 ],
 "metadata": {
  "kernelspec": {
   "display_name": "Python 3",
   "language": "python",
   "name": "python3"
  },
  "language_info": {
   "codemirror_mode": {
    "name": "ipython",
    "version": 3
   },
   "file_extension": ".py",
   "mimetype": "text/x-python",
   "name": "python",
   "nbconvert_exporter": "python",
   "pygments_lexer": "ipython3",
   "version": "3.8.8"
  }
 },
 "nbformat": 4,
 "nbformat_minor": 4
}
