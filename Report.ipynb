{
 "cells": [
  {
   "cell_type": "markdown",
   "metadata": {},
   "source": [
    "# 1,4-Butanediol (1,4-BDO) Production"
   ]
  },
  {
   "cell_type": "code",
   "execution_count": 5,
   "metadata": {},
   "outputs": [],
   "source": [
    "from IPython.display import FileLink, FileLinks, Image"
   ]
  },
  {
   "cell_type": "markdown",
   "metadata": {},
   "source": [
    "## 1. Introduction"
   ]
  },
  {
   "cell_type": "markdown",
   "metadata": {},
   "source": [
    "### 1.1 Literature review of the compound\n",
    "1,4-butanediol (1,4-BDO) is a four-carbon compound with two hydroxyl groups. At room temperature, it appears as a colorless and viscous liquid, with a melting point of ~230ºC and high water solubility. The typical commercial purity requirements are 99.5-99.8% (Elvers, 2003).   \n",
    "\n",
    "1,4-BDO has a large number of applications in the petrochemical industry including the production of tetrahydrofuran (THF), an intermediate for spandex, and polybutylene terephthalate (PBT) resins for thermoplastic fabrication. In addition, 1,4-BDO is needed for the synthesis of gamma-butyrolactone (GBL), as well as polyesters and polyurethanes (Silva, 2020). Finally, it is also employed as a pest control and growth-promoting agent in agriculture, mainly due to its high biodegradability.\n",
    "\n",
    "1,4-BDO market is in the process of expanding, sitting at an estimated 6 billion value in 2018 but projected to reach over 12 billion in 2025 (1,4-BDO market size, n.d.). Global production amounts to around 2 million MT/yr, with a sale price of roughly 2\\\\$/kg. Bio-based production represents a very small fraction of the BDO market, which is mostly dominated by chemical manufacturing from petroleum-based feedstocks. However, techno-economical analyses have shown that the bioproduction of BDO could lower its price down to 1.8$/kg (Satam, 2019).\n",
    "\n",
    "No known microorganisms have been identified to naturally synthesize 1,4-BDO, but the heterologous expression in E coli is a well-established process that has been improved from production titers of 20 g/L in the early strains to more than 125 g/L in the latest (Satam, 2019, Yim, 2011) in process. These advances were achieved through metabolic engineering and biochemical pathway optimization (Burgard, 2016).\n",
    "\n",
    "1,4-BDO is fermented in a bioconversion reactor operated under aerobic, axenic conditions. \n",
    "\n",
    "\n",
    "<img src=\"Pictures/Biosynthetic pathways introduced in E.coli.jpg\" width=\"900\" style=\"margin:auto\" align=\"center\"/>\n",
    "\n",
    "**Figure 1. Biosynthetic pathways of 1,4-BDO introduced in E.coli (Yim et al., 2011)**\n"
   ]
  },
  {
   "cell_type": "markdown",
   "metadata": {},
   "source": [
    "### 1.2 Literature review of the cell factory (<500 words) \n",
    "*E. coli* is one of the best studied hosts used as cell factories. It has a high growth rate, compared to most microorganisms, and its physiology, biochemistry and genetics are extensively characterized. *E. coli* is the most used microorganism in research laboratories with much experience having been gathered around engineering its genome. Several genetic tools have been developed for engineering this goal, resulting in a big number of different industrial *E. coli* strains, that can be deployed to produce proteins and molecules of interest. The most commonly used *E. coli* strains have a GRAS (generally regarded as safe) status and are easily culturable, adding up more reason why *E. coli* is the most preferred bacterial microorganism for applications in research and industrial environments (Pontrelli, 2018). \n",
    "The biggest limitation in the use of *E. coli* as a cell factory comes to the production of eukaryotic proteins, since the needed protein modifications cannot be performed in prokaryotic cells (Theisen, 2017). Additionally, as all prokaryotic systems, *E. coli* is sensitive to bacteriophage contamination, a problem which Liu, L., Zhao, D., Ye, L. et al. tried to address by constructing a phage-resistance system in *E. coli* BL21, one of the most popular industrial *E. coli* strains (Liu, 2020). Formation of inclusion bodies is another disadvantage of *E. coli* in industrial applications, but various methods have been developed for the renaturation of the proteins in these insoluble aggregates (Theisen, 2017). \n",
    "\n",
    "#### E. coli for 1,4 BDO production \n",
    "1,4-BDO is not naturally produced by *E. coli*. Several groups have engineered *E. coli* to produce 1,4-BDO, deploying different pathways, with two being the most sufficient and starting from succinate and α-ketoglutarate accordingly. However, the insertion of metabolic pathways for the production of 1,4-BDO does not lead to high titers of the product. Therefore, research groups have tried various approaches to optimize the production process. Research efforts have focused on increasing the production of precursor molecules, suppressing competing genes that direct the carbon flow towards the production of byproducts and testing different carbon sources, among others. Overall, *E. coli* is considered an ideal host for production of 1,4-BDO, for reasons stated above. \n",
    " \n",
    "To the best of our knowledge, no other microorganism has been engineered to produce 1,4-BDO. This shows that engineering microorganisms for the production of this compound can be quite challenging. The main reason for this seems to be its highly reduced nature (Yim et al., 2011)."
   ]
  },
  {
   "cell_type": "markdown",
   "metadata": {},
   "source": [
    "## 2. Problem definition (<300 words)\n",
    "It can be challenging to produce bulk compounds using a metabolically modified *E. coli* strain. For example, it has been noted throughout time that the output of non-natural chemicals such as 1,4-BDO requires a new synthetic pathway every time, despite the fact that 1,4-BDO is a reduced material, which necessitates more oxidoreduction processes. However, it should be noted that several byproducts are emitted during the TCA cycle's generation of 1,4-BDO, which can alter its final titer.\n",
    "As a result, strategies for dealing with or eliminating them must be used to improve the quality and quantity of the final output.\n",
    "\n",
    "Recent investigations targeted at producing 1,4-BDO from raw materials such as sugar, dextrose (undirect production) (Burgard, 2016), and direct production (Yim, 2011) have found that the yield achieves roughly 70% of the theoretical estimate (Tai, 2016) and a production of 18.  g/L, respectively.  "
   ]
  },
  {
   "cell_type": "markdown",
   "metadata": {},
   "source": [
    "## 3. Selection and assessment of existing GSM (<500 words)\n",
    "The GSMs of *E. Coli* strain K-12 MG165 that can be found in the literature and can be used to simulate the production of 1,4-BDO, vary. The existing models which are being compared are the iML1515, iJO1366 and iAF1260 (Monk, 2017, Orth, 2011, Feist, 2011). These three models are the latest and all of them consist of a great number of genes, reactions and metabolites. More specifically, the first includes 2712 metabolic reactions, 1877 metabolites and knowledge of 1515 proteins can be extract from its database, whereas the second model provides information for 2583 reactions and 1805 metabolites, while the third one, that’s also the older one of the investigated models, consists of 2382 reactions and 1668 metabolites. There is a significant difference in the numbers of those models and the reason is that iML1515 is an updated version of both iJO1366 and iAF1260. The iML1515 model was constructed based on the iJO1366 by adding 149 new genes and 129 new reactions. It is considered to be the most complete genome-scale reconstruction of metabolic network in this particular strain of *E. Coli*. The previous update of this model was in 2011 and since then new functions and competences have been discovered and added. The knowledge that can be obtained from the model is abundant consequently, it is being chosen to be the GSMs for the optimization of the 1,4-BDO pathway.\n",
    "\n",
    "It can be concluded that this model will be able to provide with reliable predictions as a more up to date model. According to publications it is capable enough to predict the growth effect of gene knockouts. These predictions were validated experimentally via genome-wide gene-knockout screens with 3892 gene knockouts and with 16 different carbon substrates. The results that were extracted, gave an accuracy of 93.4% compared to previous iJO1366 models’ accuracy which was 89.8%. The fact that this model has many more gene, reactions and metabolites than all the other models, increases the number of false-positive predictions made which results in an increased accuracy.\n",
    "\n",
    "More detailed quantic metric that were extracted by Memote, are being presented below. Figure 2, presents basic information of the 3 models, based on results derived from Memote analysis of the three models. "
   ]
  },
  {
   "cell_type": "markdown",
   "metadata": {},
   "source": [
    "<img src=\"Pictures/BasicInfo.png\" width=\"300\" style=\"margin:auto\" align=\"center\"/>\n",
    "\n",
    "Figure 2. Basic information on the three models"
   ]
  },
  {
   "cell_type": "markdown",
   "metadata": {},
   "source": [
    "Figure 3, depicts the score of each model per category. It’s easy to observe that the three models have approximately equal scores in every category, given in the table. While the total score of all three models is equal to 86%\n",
    "\n",
    "<img src=\"Pictures/perfcomparison.png\" width=\"500\" style=\"margin:auto\" align=\"center\"/>\n",
    "\n",
    "Figure 3. Comparison of score per category for the three models.\n",
    "\n",
    "Since the three models resulted in approximately same scores in all categories, we decided to proceed with model iML1515, based on the plethora of genes and reactions that it includes and the frequent experimental use, expecting it to give trustworthy results.  \n"
   ]
  },
  {
   "cell_type": "code",
   "execution_count": 6,
   "metadata": {},
   "outputs": [
    {
     "data": {
      "text/html": [
       "<a href='Analysis/ExistingAssess.ipynb' target='_blank'>Analysis/ExistingAssess.ipynb</a><br>"
      ],
      "text/plain": [
       "C:\\Users\\Lenovo\\27410\\group-assignment-2021-group_11_bdo_production\\Analysis\\ExistingAssess.ipynb"
      ]
     },
     "execution_count": 6,
     "metadata": {},
     "output_type": "execute_result"
    }
   ],
   "source": [
    "FileLink('Analysis/ExistingAssess.ipynb')"
   ]
  },
  {
   "cell_type": "markdown",
   "metadata": {},
   "source": [
    "## 4. Computer-Aided Cell Factory Engineering (<1500 words if Category II project)"
   ]
  },
  {
   "cell_type": "markdown",
   "metadata": {},
   "source": [
    "### Constructing parallel models "
   ]
  },
  {
   "cell_type": "markdown",
   "metadata": {},
   "source": [
    "We constructed two models from original iML1515 by introducing 1,4-BDO biosynthesis pathways starting from succinate and from α-ketoglutarate, respectively, as was proposed in Yim et. all, 2011. Addition of heterologous pathways to produce two model iterations is ishown in the code file called  '[Model](Analysis/Model.ipynb)'. \n",
    "\n",
    "#### Heterologous pathway insertion in SUCD Model\n",
    "\n",
    "One of 1,4-BDO biosynthetic pathways starts from succinate, which is converted into succinyl-CoA, a reaction which occurs normally in the cell. Reactions catalyzed by CoA-dependent succinate semialdehyde dehydrogenase (3), 4-hydroxybutyrate dehydrogenase (4), 4-hydroxybutyryl-CoA transferase (5), 4-hydroxybutyryl-CoA reductase (6) are heterologous and added the model, construting a new iteration named SUCD model. Numbers along the enzymes correspond to reactions shown in Figure 1. Final reaction of conversion 4-hydroxybutyraldehyde to 1,4-BDO is catalyzed by enzyme native to the cell, alcohol dehydrogenase, but this reaction needed to be included in the model to link heterologous substrate and product to native enzyme. In total six steps were added, resulting in yield of 0.9606 p-mmol/gl-mmol.\n",
    "\n",
    "#### Heterologous pathway insertion in AKG Model\n",
    "\n",
    "Alternate biosynthetic 1,4-BDO pathway starts from α-ketoglutarate, which is converted by heterologous enzyme 2-oxoglutarate decarboxylase (1) into succinyl semialdehyde. From there this pathway is identical to the one in SUCD model, as depicted in Figure 1. This model achieved the yield 0.97081 p-mmol/gl-mmol from five added steps. One less step from SUCD model might explain the higher yield rate. "
   ]
  },
  {
   "cell_type": "markdown",
   "metadata": {},
   "source": [
    "### Pathway visualizations"
   ]
  },
  {
   "cell_type": "markdown",
   "metadata": {},
   "source": [
    "In order to visualize the model, the online version of Escher was used to plot both pathways on metabolic maps. In order to plot the maps, the already available map of the core metabolism of *E. coli* was used. Sucd model and akg model were added respectively in the core map in order to visualize both pathways.\n",
    "\n",
    "#### SUCD Model\n",
    "In this case the biosynthesis of 1,4-BDO starts from succinate.\n",
    "\n",
    "<img src=\"Pictures/sucd_model.png\" width=\"500\" style=\"margin:auto\" align=\"center\"/>\n",
    "\n",
    "The heterologous pathway added is highlighted in the red square. In order to have a better look at the pathway, the model is zoomed in that area.\n",
    "\n",
    "<img src=\"Pictures/sucd_path.png\" width=\"600\" style=\"margin:auto\" align=\"center\"/>\n",
    "\n",
    "\n",
    "\n",
    "#### AKG Model\n",
    "In the AKG model, biosynthesis of 1,4-BDO starts from α-ketoglutarate and can be visualized in the following map.\n",
    "\n",
    "<img src=\"Pictures/akg_model.png\" width=\"500\" style=\"margin:auto\" align=\"center\"/>\n",
    "\n",
    "Same as before, the heterologous pathway added is highlighted in the red square. The biosynthetic pathway is depicted in the following picture. \n",
    "\n",
    "<img src=\"Pictures/akg_path.png\" width=\"600\" style=\"margin:auto\" align=\"center\"/>"
   ]
  },
  {
   "cell_type": "code",
   "execution_count": 7,
   "metadata": {},
   "outputs": [
    {
     "data": {
      "text/html": [
       "<a href='Analysis/Model.ipynb' target='_blank'>Analysis/Model.ipynb</a><br>"
      ],
      "text/plain": [
       "C:\\Users\\Lenovo\\27410\\group-assignment-2021-group_11_bdo_production\\Analysis\\Model.ipynb"
      ]
     },
     "execution_count": 7,
     "metadata": {},
     "output_type": "execute_result"
    }
   ],
   "source": [
    "FileLink('Analysis/Model.ipynb')"
   ]
  },
  {
   "cell_type": "markdown",
   "metadata": {},
   "source": [
    "### Optimization of the Medium\n"
   ]
  },
  {
   "cell_type": "code",
   "execution_count": null,
   "metadata": {},
   "outputs": [],
   "source": []
  },
  {
   "cell_type": "markdown",
   "metadata": {},
   "source": [
    "For the optimization of the medium, the 1,4-BDO production was tested in different carbon sources and under anaerobic conditions. The tests were conducted with the introduction of a loop into the carbon-based metabolites that are in the models. The idea of the loop was borrowed by an old assignment. \n",
    "\n",
    "The obtained results are the growth rate, the 1,4-BDO production and the yields measured in g of 1,4-BDO/g carbon source. Each point on the graphs is different carbon source. Higher 1,4-BDO production and growth rate means, that the carbon source molecule consists of more carbons. This can also be observed at the tables in the Medium.ipynb document. The yields of the two models also vary. Substrates such as D-Glycose, D-Fructose, D-Mannose have similar yields for both models whereas other substrates such as D-xylose, L-Arabinose have lower yields. For higher yields, bigger molecules with more carbon atoms, can be chosen like octadecenoate and hexadecenoate but these options are considered to be more expensive. \n",
    "\n",
    "Finally, both models can produce 1,4-BDO in anaerobic conditions however, the production is better with the presence of oxygen."
   ]
  },
  {
   "cell_type": "markdown",
   "metadata": {},
   "source": [
    "<img src=\"Pictures/Carbon_Sources_sucd.png\" width=\"600\" style=\"margin:auto\" align=\"center\"/>"
   ]
  },
  {
   "cell_type": "markdown",
   "metadata": {},
   "source": [
    "<img src=\"Pictures/Carbon_Sources_akg.png\" width=\"600\" style=\"margin:auto\" align=\"center\"/>"
   ]
  },
  {
   "cell_type": "markdown",
   "metadata": {},
   "source": [
    "### Phenotypic Phase Plane analysis"
   ]
  },
  {
   "cell_type": "markdown",
   "metadata": {},
   "source": [
    "Phenotypic Phase Plane (PhPP) analysis is a constrains-based method that allows the investigation of the optimal conditions between two fluxes. We used Phenotypic Phase Plane analysis to explore the relationship between the 1,4-BDO production flux and biomass production, glucose uptake and oxygen exchange reaction.\n",
    "\n",
    "From Fig. X, we conclude that the PhPP plots are not different between the two models (akg and sucd). This was expected, since the difference in the 1,4-BDO production from the two models is negligible.\n",
    "\n",
    "Our plots that present Biomass as a function of 1,4-BDO production shows that there is a direct trade-off between biomass flux and production of 1,4-BDO. This means that our bacterium prefers to utilize nutrients for growth, rather than production of 1,4-BDO. The same applies for the relation between 1,4-BDO production and glucose uptake. \n",
    "\n",
    "\n",
    "1.comment for 3rd plot\n",
    "2.i will change the figure so the plots have right titles"
   ]
  },
  {
   "cell_type": "markdown",
   "metadata": {},
   "source": [
    "<img src=\"Pictures/PhPP.png\" width=\"600\" style=\"margin:auto\" align=\"center\"/>"
   ]
  },
  {
   "cell_type": "markdown",
   "metadata": {},
   "source": [
    "### Knocking out targeted genes"
   ]
  },
  {
   "cell_type": "markdown",
   "metadata": {},
   "source": [
    "In 2011, Yim et al. used the OptKnock algorithm and identified targets that could be knocked out in order to achieve higher 1,4-BDO production. We deleted these targets from our models, as well as a combination of those, to test if we can also achieve higher 1,4-BDO production following this strategy. Surprisingly, none of our deletions resulted in increased 1,4-BDO production.\n",
    "\n",
    "Here I can talk more about the genes that were knocked out."
   ]
  },
  {
   "cell_type": "markdown",
   "metadata": {},
   "source": [
    "### Optimization algorithms"
   ]
  },
  {
   "cell_type": "markdown",
   "metadata": {},
   "source": [
    "#### OptGene "
   ]
  },
  {
   "cell_type": "markdown",
   "metadata": {},
   "source": [
    "OptGene uses evolutionary algorithms to search for gene/reaction knockouts. In this project, OptGene was used under aerobic and anaerobic condictions for both our models, without returning any results, as can be seen in Fig. X.\n",
    "\n",
    "\n",
    "<img src=\"Pictures/optgene.png\" width=\"400\" style=\"margin:auto\" align=\"center\"/>"
   ]
  },
  {
   "cell_type": "markdown",
   "metadata": {},
   "source": [
    "#### OptKnock"
   ]
  },
  {
   "cell_type": "markdown",
   "metadata": {},
   "source": [
    "OptKnock uses a bi-level mixed integer linear programming approach to search for gene/reaction knockouts. We run OptKnock for both akg and sucd models, with the results being the same for both models. Results shown in Fig. X. \n",
    "\n",
    "<img src=\"Pictures/optknock.png\" width=\"700\" style=\"margin:auto\" align=\"center\"/>\n",
    "\n",
    "We then identified the gene targets that OptKnock targeted, as shown in Fig.X.\n",
    "\n",
    "<img src=\"Pictures/targets.png\" width=\"700\" style=\"margin:auto\" align=\"center\"/>\n",
    "\n",
    "However, deleting these reactions did not have any effect on the 1,4-BDO production rate."
   ]
  },
  {
   "cell_type": "markdown",
   "metadata": {},
   "source": [
    "### Co-factor swap"
   ]
  },
  {
   "cell_type": "markdown",
   "metadata": {},
   "source": [
    "In this project, an attempt to switch the co-factors was provided. Recent research has found that modifying the co-factors in a certain route almost always results in an increase in the final product yield (Armingol, 2018), as well as having an effect on the maximum theoretical yield by increasing it (Kinga, 2014). However, because certain enzymes are required to generate specific compounds, the co-factor swap is not always effective. As a result, the co-factor swap approach was adjusted and implemented in this project for the generation of 1,4-BDO. However, after running the algorithm, there were no components that needed to be exchanged as it is depicted in Figure X. Although, investigating the factor's concentrations on each stage is another approach to pursue the co-factor swap model results actively. By analyzing the concentrations of our response variables on both SUCD and AKG models at the same time. \n",
    "\n",
    "<img src=\"Pictures/Co_factor_result.png\" width=\"700\" style=\"margin:auto\" align=\"center\"/>\n",
    "\n",
    "<p style=\"text-align: center;\">Figure X. Outcome from the co-factor algorithm performance.</p>"
   ]
  },
  {
   "cell_type": "markdown",
   "metadata": {},
   "source": [
    "## 5. Discussion (<500 words)"
   ]
  },
  {
   "cell_type": "markdown",
   "metadata": {},
   "source": [
    "To construct SUCD model six heterologous reaction steps of production of 1,4-BDO from succinate were added, resulting in yield of 0.9606 p-mmol/gl-mmol, while to construct AKG model, five steps were added, the 1,4-BDO production starting from α-ketoglutarate with yield of 0,97081 p-mmol/gl-mmol.\n",
    "\n",
    "An interesting observation during the carbon sources analysis was that by changing the substrate to a different compound but keeping it to the same concentration, the model can benefit and give better yields. Considering the availability and the price of each substrate, the model can be optimized by changing the glucose.\n",
    "Additionaly, it was shown that the model can also produce the compound of interest while being under anaerobic conditions. However, the yield is better when the model works aerobically.\n",
    "\n",
    "In our attempt to optimize the production of 1,4-BDO in both our models, we manually knocked out some genes. As mentioned above, these genes were identified by literature review and were encoding a malate dehydrogenase (mdh), lactate dehydrogenase (ldh), alcohol dehydrogenase (adhE) and pyruvate formate lyase (pfl). Deleting those genes did not affect the 1,4-BDO production rate, \n",
    "\n",
    "We then used two optimization algorithms, OptGene and OptKnock. OptGene did not give any results, while OptKnock resulted in some reaction knockouts that were tested and found to not affect the production of 1,4-BDO.This could be explained if there are no reactions inhibiting the 1,4-BDO production pathway. Another explanation could be ....\n",
    "In the future, we could try to run OptGene under different conditions, e.g. different carbon sources or optimized production pathway. OptKnock could run under anaerobic conditions or with utilizing different carbon sources.\n",
    "##### i have no idea how to explain this thing above\n"
   ]
  },
  {
   "cell_type": "markdown",
   "metadata": {},
   "source": [
    "## 6. Conclusion (<200 words)"
   ]
  },
  {
   "cell_type": "markdown",
   "metadata": {},
   "source": [
    "## References"
   ]
  },
  {
   "cell_type": "markdown",
   "metadata": {},
   "source": [
    "1. 1,4 butanediol market size worth $12.6 billion by 2025. 1,4 Butanediol Market Size Worth $12.6 Billion By 2025. (n.d.). Retrieved November 1, 2021, from https://www.grandviewresearch.com/press-release/global-1-4-butanediol-market.\n",
    "2. Armingol E, TobarE, CabreraR (2018)Understanding the impactof the cofactorswappingof isocitratedehydrogenase over the growthphenotypeofEscherichiacolion acetate by usingconstraint-basedmodeling. PLoSONE 13(4):e0196182.https://doi.org/10.1371/journal.pone.0196182\n",
    "3. Burgard, A., Burk, M. J., Osterhout, R., Van Dien, S., & Yim, H. (2016). Development of a commercial scale process for production of 1, 4-butanediol from sugar. Current opinion in biotechnology, 42, 118-125. https://doi.org/10.1016/j.copbio.2016.04.016.\n",
    "4. Elvers, B., Hawkins, S., Russey, W., Weise, E., &amp; Ullmann, F. (2003). Ullmann's encyclopedia of industrial chemistry. VCH. DOI: https://doi.org/10.1002/14356007.a24_107\n",
    "5. Erian, A. M., Freitag, P., Gibisch, M., & Pflügl, S. (2020). High rate 2, 3-butanediol production with Vibrio natriegens. Bioresource Technology Reports, 10, 100408. https://doi.org/10.1016/j.biteb.2020.100408.\n",
    "6. Feist, A. M., Henry, C. S., Reed, J. L., Krummenacker, M., Joyce, A. R., Karp, P. D., ... & Palsson, B. Ø. (2007). A genome‐scale metabolic reconstruction for Escherichia coli K‐12 MG1655 that accounts for 1260 ORFs and thermodynamic information. Molecular systems biology, 3(1), 121. https://doi.org/10.1038/msb4100155\n",
    "7. Lipson, D. A. (2015). The complex relationship between microbial growth rate and yield and its implications for ecosystem processes. Frontiers in microbiology, 6, 615. https://doi.org/10.3389/fmicb.2015.00615\n",
    "8. Liu, L., Zhao, D., Ye, L., Zhan, T., Xiong, B., Hu, M., ... & Zhang, X. (2020). A programmable CRISPR/Cas9-based phage defense system for Escherichia coli BL21 (DE3). Microbial cell factories, 19(1), 1-9. https://doi.org/10.1186/s12934-020-01393-2\n",
    "9. Monk, J. M., Lloyd, C. J., Brunk, E., Mih, N., Sastry, A., King, Z., ... & Palsson, B. O. (2017). i ML1515, a knowledgebase that computes Escherichia coli traits. Nature biotechnology, 35(10), 904-908. https://doi.org/10.1038/nbt.3956\n",
    "10. Orth, J. D., Conrad, T. M., Na, J., Lerman, J. A., Nam, H., Feist, A. M., & Palsson, B. Ø. (2011). A comprehensive genome‐scale reconstruction of Escherichia coli metabolism—2011. Molecular systems biology, 7(1), 535\n",
    "https://doi.org/10.1038/msb.2011.65\n",
    "11. Pontrelli, S., Chiu, T. Y., Lan, E. I., Chen, F. Y. H., Chang, P., & Liao, J. C. (2018). Escherichia coli as a host for metabolic engineering. Metabolic engineering, 50, 16-46.https://doi.org/10.1016/j.ymben.2018.04.008\n",
    "12. Satam, C. C., Daub, M., & Realff, M. J. (2019). Techno‐economic analysis of 1, 4‐butanediol production by a single‐step bioconversion process. Biofuels, Bioproducts and Biorefining, 13(5), 1261-1273. https://doi.org/10.1002/bbb.2016\n",
    "13. Silva, R. G. C., Ferreira, T. F., & Borges, É. R. (2020). Identification of potential technologies for 1, 4‐Butanediol production using prospecting methodology. Journal of Chemical Technology & Biotechnology, 95(12), 3057-3070. https://doi.org/10.1002/jctb.6518\n",
    "14. Schleicher, L., Muras, V., Claussen, B., Pfannstiel, J., Blombach, B., Dibrov, P., ... & Steuber, J. (2018). Vibrio natriegens as host for expression of multisubunit membrane protein complexes. Frontiers in microbiology, 9, 2537. https://doi.org/10.3389/fmicb.2018.02537\n",
    "15. Tai, Y. S., Xiong, M., Jambunathan, P., Wang, J., Wang, J., Stapleton, C., & Zhang, K. (2016). Engineering nonphosphorylative metabolism to generate lignocellulose-derived products. Nature chemical biology, 12(4), 247-253. https://doi.org/10.1038/nchembio.2020\n",
    "16. Theisen, M., & Liao, J. C. (2017). Industrial biotechnology: Escherichia coli as a host. Industrial biotechnology: microorganisms, 1, 149-181. \n",
    "17. Weinstock, M. T., Hesek, E. D., Wilson, C. M., & Gibson, D. G. (2016). Vibrio natriegens as a fast-growing host for molecular biology. Nature methods, 13(10), 849-851. https://doi.org/10.1038/nmeth.3970\n",
    "18. Yim, H., Haselbeck, R., Niu, W., Pujol-Baxley, C., Burgard, A., Boldt, J., ... & Van Dien, S. (2011). Metabolic engineering of Escherichia coli for direct production of 1, 4-butanediol. Nature chemical biology, 7(7), 445-452.\n",
    "https://doi.org/10.1038/nchembio.580\n",
    "19. Zachary A.Kinga and Adam M.Feistab, Optimal cofactor swapping can increase the theoretical yield for chemical production in Escherichia coli and Saccharomyces cerevisiae, Metabolic Engineering, vol 24, July 2014, Pages 117-128. https://doi.org/10.1016/j.ymben.2014.05.009"
   ]
  }
 ],
 "metadata": {
  "kernelspec": {
   "display_name": "Python 3",
   "language": "python",
   "name": "python3"
  },
  "language_info": {
   "codemirror_mode": {
    "name": "ipython",
    "version": 3
   },
   "file_extension": ".py",
   "mimetype": "text/x-python",
   "name": "python",
   "nbconvert_exporter": "python",
   "pygments_lexer": "ipython3",
   "version": "3.6.13"
  }
 },
 "nbformat": 4,
 "nbformat_minor": 4
}
