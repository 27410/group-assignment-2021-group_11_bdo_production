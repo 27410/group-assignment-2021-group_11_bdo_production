{
 "cells": [
  {
   "cell_type": "code",
   "execution_count": 23,
   "id": "0c6d6b5f-5cb2-4656-9d37-51daf59b0b1c",
   "metadata": {},
   "outputs": [
    {
     "data": {
      "text/html": [
       "\n",
       "        <table>\n",
       "            <tr>\n",
       "                <td><strong>Name</strong></td>\n",
       "                <td>iML1515</td>\n",
       "            </tr><tr>\n",
       "                <td><strong>Memory address</strong></td>\n",
       "                <td>0x01d4506ea7f0</td>\n",
       "            </tr><tr>\n",
       "                <td><strong>Number of metabolites</strong></td>\n",
       "                <td>1877</td>\n",
       "            </tr><tr>\n",
       "                <td><strong>Number of reactions</strong></td>\n",
       "                <td>2712</td>\n",
       "            </tr><tr>\n",
       "                <td><strong>Number of groups</strong></td>\n",
       "                <td>0</td>\n",
       "            </tr><tr>\n",
       "                <td><strong>Objective expression</strong></td>\n",
       "                <td>1.0*BIOMASS_Ec_iML1515_core_75p37M - 1.0*BIOMASS_Ec_iML1515_core_75p37M_reverse_35685</td>\n",
       "            </tr><tr>\n",
       "                <td><strong>Compartments</strong></td>\n",
       "                <td>cytosol, extracellular space, periplasm</td>\n",
       "            </tr>\n",
       "          </table>"
      ],
      "text/plain": [
       "<Model iML1515 at 0x1d4506ea7f0>"
      ]
     },
     "execution_count": 23,
     "metadata": {},
     "output_type": "execute_result"
    }
   ],
   "source": [
    "import pandas as pd\n",
    "import matplotlib.pyplot as plt\n",
    "from cobra.io import read_sbml_model\n",
    "model = read_sbml_model('iML1515.xml.gz')\n",
    "model"
   ]
  },
  {
   "cell_type": "code",
   "execution_count": 24,
   "id": "6392cea3-15ff-47bb-8b32-597083fb5ac6",
   "metadata": {
    "tags": []
   },
   "outputs": [
    {
     "name": "stdout",
     "output_type": "stream",
     "text": [
      "nadh_c + succoa_c --> coa_c + h_c + nad_c + succinyl_semialdehyde_c\n"
     ]
    },
    {
     "data": {
      "text/html": [
       "\n",
       "        <table>\n",
       "            <tr>\n",
       "                <td><strong>Reaction identifier</strong></td><td>SUCD</td>\n",
       "            </tr><tr>\n",
       "                <td><strong>Name</strong></td><td></td>\n",
       "            </tr><tr>\n",
       "                <td><strong>Memory address</strong></td>\n",
       "                <td>0x01d45074ed60</td>\n",
       "            </tr><tr>\n",
       "                <td><strong>Stoichiometry</strong></td>\n",
       "                <td>\n",
       "                    <p style='text-align:right'>nadh_c + succoa_c --> coa_c + h_c + nad_c + succinyl_semialdehyde_c</p>\n",
       "                    <p style='text-align:right'>Nicotinamide adenine dinucleotide - reduced + Succinyl-CoA --> Coenzyme A + H+ + Nicotinamide adenine dinucleotide +</p>\n",
       "                </td>\n",
       "            </tr><tr>\n",
       "                <td><strong>GPR</strong></td><td></td>\n",
       "            </tr><tr>\n",
       "                <td><strong>Lower bound</strong></td><td>0.0</td>\n",
       "            </tr><tr>\n",
       "                <td><strong>Upper bound</strong></td><td>1000.0</td>\n",
       "            </tr>\n",
       "        </table>\n",
       "        "
      ],
      "text/plain": [
       "<Reaction SUCD at 0x1d45074ed60>"
      ]
     },
     "execution_count": 24,
     "metadata": {},
     "output_type": "execute_result"
    }
   ],
   "source": [
    "from cobra import Reaction, Metabolite\n",
    "sucd = Reaction('SUCD') #CoA-dependent succinate semialdehyde dehydrogenase\n",
    "succinyl_semialdehyde = Metabolite(id='succinyl_semialdehyde_c', compartment='c')\n",
    "\n",
    "sucd.add_metabolites({model.metabolites.h_c: 1,\n",
    "                              model.metabolites.nadh_c: -1,\n",
    "                              model.metabolites.succoa_c: -1,\n",
    "                              succinyl_semialdehyde: 1, #new one\n",
    "                              model.metabolites.coa_c: 1,\n",
    "                              model.metabolites.nad_c: 1\n",
    "                             })\n",
    "print(sucd.build_reaction_string())\n",
    "model.add_reactions([sucd])\n",
    "model.reactions.SUCD"
   ]
  },
  {
   "cell_type": "code",
   "execution_count": 25,
   "id": "7a7ad927-c2a0-4b91-ac8b-ef3db232869a",
   "metadata": {},
   "outputs": [
    {
     "name": "stdout",
     "output_type": "stream",
     "text": [
      "nadh_c + succinyl_semialdehyde_c --> four_hydroxybutyrate_c + h_c + nad_c\n"
     ]
    },
    {
     "data": {
      "text/html": [
       "\n",
       "        <table>\n",
       "            <tr>\n",
       "                <td><strong>Reaction identifier</strong></td><td>FHBD</td>\n",
       "            </tr><tr>\n",
       "                <td><strong>Name</strong></td><td></td>\n",
       "            </tr><tr>\n",
       "                <td><strong>Memory address</strong></td>\n",
       "                <td>0x01d45071d2b0</td>\n",
       "            </tr><tr>\n",
       "                <td><strong>Stoichiometry</strong></td>\n",
       "                <td>\n",
       "                    <p style='text-align:right'>nadh_c + succinyl_semialdehyde_c --> four_hydroxybutyrate_c + h_c + nad_c</p>\n",
       "                    <p style='text-align:right'>Nicotinamide adenine dinucleotide - reduced + --> + H+ + Nicotinamide adenine dinucleotide</p>\n",
       "                </td>\n",
       "            </tr><tr>\n",
       "                <td><strong>GPR</strong></td><td></td>\n",
       "            </tr><tr>\n",
       "                <td><strong>Lower bound</strong></td><td>0.0</td>\n",
       "            </tr><tr>\n",
       "                <td><strong>Upper bound</strong></td><td>1000.0</td>\n",
       "            </tr>\n",
       "        </table>\n",
       "        "
      ],
      "text/plain": [
       "<Reaction FHBD at 0x1d45071d2b0>"
      ]
     },
     "execution_count": 25,
     "metadata": {},
     "output_type": "execute_result"
    }
   ],
   "source": [
    "from cobra import Reaction, Metabolite\n",
    "fhbd = Reaction('FHBD') #4-hydroxybutyrate dehydrogenase\n",
    "four_hydroxybutyrate = Metabolite(id='four_hydroxybutyrate_c', compartment='c')\n",
    "\n",
    "fhbd.add_metabolites({model.metabolites.h_c: 1,\n",
    "                              model.metabolites.nadh_c: -1,\n",
    "                              succinyl_semialdehyde: -1, \n",
    "                              four_hydroxybutyrate: 1, #new one\n",
    "                              model.metabolites.nad_c: 1\n",
    "                             })\n",
    "print(fhbd.build_reaction_string())\n",
    "model.add_reactions([fhbd])\n",
    "model.reactions.FHBD"
   ]
  },
  {
   "cell_type": "code",
   "execution_count": 28,
   "id": "194b137c-4161-4f63-8ccd-454d3e826191",
   "metadata": {},
   "outputs": [
    {
     "name": "stdout",
     "output_type": "stream",
     "text": [
      "accoa_c + four_hydroxybutyrate_c --> ac_c + four_hbcoa_c\n"
     ]
    },
    {
     "data": {
      "text/html": [
       "\n",
       "        <table>\n",
       "            <tr>\n",
       "                <td><strong>Reaction identifier</strong></td><td>HBCT</td>\n",
       "            </tr><tr>\n",
       "                <td><strong>Name</strong></td><td></td>\n",
       "            </tr><tr>\n",
       "                <td><strong>Memory address</strong></td>\n",
       "                <td>0x01d450705490</td>\n",
       "            </tr><tr>\n",
       "                <td><strong>Stoichiometry</strong></td>\n",
       "                <td>\n",
       "                    <p style='text-align:right'>accoa_c + four_hydroxybutyrate_c --> ac_c + four_hbcoa_c</p>\n",
       "                    <p style='text-align:right'>Acetyl-CoA + --> Acetate +</p>\n",
       "                </td>\n",
       "            </tr><tr>\n",
       "                <td><strong>GPR</strong></td><td></td>\n",
       "            </tr><tr>\n",
       "                <td><strong>Lower bound</strong></td><td>0.0</td>\n",
       "            </tr><tr>\n",
       "                <td><strong>Upper bound</strong></td><td>1000.0</td>\n",
       "            </tr>\n",
       "        </table>\n",
       "        "
      ],
      "text/plain": [
       "<Reaction HBCT at 0x1d450705490>"
      ]
     },
     "execution_count": 28,
     "metadata": {},
     "output_type": "execute_result"
    }
   ],
   "source": [
    "from cobra import Reaction, Metabolite\n",
    "hbd_coa_t = Reaction('HBCT') #4-hydroxybutyryl-CoA transferase\n",
    "four_hbcoa = Metabolite(id='four_hbcoa_c', compartment='c')\n",
    "hbd_coa_t.add_metabolites({model.metabolites.accoa_c: -1,\n",
    "                              model.metabolites.ac_c: 1,\n",
    "                              four_hbcoa: 1, #new one\n",
    "                              four_hydroxybutyrate: -1\n",
    "                             })\n",
    "print(hbd_coa_t.build_reaction_string())\n",
    "model.add_reactions([hbd_coa_t])\n",
    "model.reactions.HBCT"
   ]
  },
  {
   "cell_type": "code",
   "execution_count": 30,
   "id": "dc5abb31-ee11-4758-b8cb-f19d09d723ee",
   "metadata": {},
   "outputs": [
    {
     "name": "stdout",
     "output_type": "stream",
     "text": [
      "four_hbcoa_c + nadh_c --> coa_c + four_hbaldehyde_c + h_c + nad_c\n"
     ]
    },
    {
     "data": {
      "text/html": [
       "\n",
       "        <table>\n",
       "            <tr>\n",
       "                <td><strong>Reaction identifier</strong></td><td>HBCR</td>\n",
       "            </tr><tr>\n",
       "                <td><strong>Name</strong></td><td></td>\n",
       "            </tr><tr>\n",
       "                <td><strong>Memory address</strong></td>\n",
       "                <td>0x01d4507050d0</td>\n",
       "            </tr><tr>\n",
       "                <td><strong>Stoichiometry</strong></td>\n",
       "                <td>\n",
       "                    <p style='text-align:right'>four_hbcoa_c + nadh_c --> coa_c + four_hbaldehyde_c + h_c + nad_c</p>\n",
       "                    <p style='text-align:right'>+ Nicotinamide adenine dinucleotide - reduced --> Coenzyme A + + H+ + Nicotinamide adenine dinucleotide</p>\n",
       "                </td>\n",
       "            </tr><tr>\n",
       "                <td><strong>GPR</strong></td><td></td>\n",
       "            </tr><tr>\n",
       "                <td><strong>Lower bound</strong></td><td>0.0</td>\n",
       "            </tr><tr>\n",
       "                <td><strong>Upper bound</strong></td><td>1000.0</td>\n",
       "            </tr>\n",
       "        </table>\n",
       "        "
      ],
      "text/plain": [
       "<Reaction HBCR at 0x1d4507050d0>"
      ]
     },
     "execution_count": 30,
     "metadata": {},
     "output_type": "execute_result"
    }
   ],
   "source": [
    "from cobra import Reaction, Metabolite\n",
    "hbd_coa_r = Reaction('HBCR') #4-hydroxybutyryl-CoA reductase\n",
    "four_hbaldehyde = Metabolite(id='four_hbaldehyde_c', compartment='c')\n",
    "hbd_coa_r.add_metabolites({model.metabolites.h_c: 1,\n",
    "                              model.metabolites.nadh_c: -1,\n",
    "                              four_hbaldehyde: 1, #new one\n",
    "                              four_hbcoa: -1,\n",
    "                              model.metabolites.nad_c: 1,\n",
    "                              model.metabolites.coa_c: 1\n",
    "                             })\n",
    "print(hbd_coa_r.build_reaction_string())\n",
    "model.add_reactions([hbd_coa_r])\n",
    "model.reactions.HBCR"
   ]
  },
  {
   "cell_type": "code",
   "execution_count": 36,
   "id": "5230fc7f-3e50-4193-b4b1-df058adef3d3",
   "metadata": {
    "tags": []
   },
   "outputs": [
    {
     "name": "stdout",
     "output_type": "stream",
     "text": [
      "four_hbaldehyde_c + nadh_c --> bdo_c + h_c + nad_c\n"
     ]
    },
    {
     "data": {
      "text/html": [
       "\n",
       "        <table>\n",
       "            <tr>\n",
       "                <td><strong>Reaction identifier</strong></td><td>ADH</td>\n",
       "            </tr><tr>\n",
       "                <td><strong>Name</strong></td><td></td>\n",
       "            </tr><tr>\n",
       "                <td><strong>Memory address</strong></td>\n",
       "                <td>0x01d450871a30</td>\n",
       "            </tr><tr>\n",
       "                <td><strong>Stoichiometry</strong></td>\n",
       "                <td>\n",
       "                    <p style='text-align:right'>four_hbaldehyde_c + nadh_c --> bdo_c + h_c + nad_c</p>\n",
       "                    <p style='text-align:right'>+ Nicotinamide adenine dinucleotide - reduced --> + H+ + Nicotinamide adenine dinucleotide</p>\n",
       "                </td>\n",
       "            </tr><tr>\n",
       "                <td><strong>GPR</strong></td><td></td>\n",
       "            </tr><tr>\n",
       "                <td><strong>Lower bound</strong></td><td>0.0</td>\n",
       "            </tr><tr>\n",
       "                <td><strong>Upper bound</strong></td><td>1000.0</td>\n",
       "            </tr>\n",
       "        </table>\n",
       "        "
      ],
      "text/plain": [
       "<Reaction ADH at 0x1d450871a30>"
      ]
     },
     "execution_count": 36,
     "metadata": {},
     "output_type": "execute_result"
    }
   ],
   "source": [
    "from cobra import Reaction, Metabolite\n",
    "adh= Reaction('ADH') #alcohol dehydrogenase\n",
    "bdo = Metabolite(id='bdo_c', compartment='c')\n",
    "adh.add_metabolites({model.metabolites.h_c: 1,\n",
    "                              model.metabolites.nadh_c: -1,\n",
    "                              four_hbaldehyde: -1,\n",
    "                              bdo: 1, #new one\n",
    "                              model.metabolites.nad_c: 1,\n",
    "                             })\n",
    "print(adh.build_reaction_string())\n",
    "model.reactions.ADH"
   ]
  },
  {
   "cell_type": "code",
   "execution_count": 33,
   "id": "0b370886-3c62-4079-8038-3bffa8da7cd4",
   "metadata": {},
   "outputs": [
    {
     "name": "stdout",
     "output_type": "stream",
     "text": [
      "0.0\n"
     ]
    }
   ],
   "source": [
    "with model:\n",
    "    model.objective=model.reactions.ADH\n",
    "    print(model.optimize().objective_value)"
   ]
  },
  {
   "cell_type": "code",
   "execution_count": null,
   "id": "dbe2b87b-c045-4257-ae79-b13658be071f",
   "metadata": {},
   "outputs": [],
   "source": []
  }
 ],
 "metadata": {
  "kernelspec": {
   "display_name": "Python 3",
   "language": "python",
   "name": "python3"
  },
  "language_info": {
   "codemirror_mode": {
    "name": "ipython",
    "version": 3
   },
   "file_extension": ".py",
   "mimetype": "text/x-python",
   "name": "python",
   "nbconvert_exporter": "python",
   "pygments_lexer": "ipython3",
   "version": "3.8.8"
  }
 },
 "nbformat": 4,
 "nbformat_minor": 5
}
