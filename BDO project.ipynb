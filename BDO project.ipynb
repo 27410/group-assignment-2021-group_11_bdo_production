{
 "cells": [
  {
   "cell_type": "code",
   "execution_count": 5,
   "id": "6d1f719e",
   "metadata": {},
   "outputs": [
    {
     "data": {
      "text/html": [
       "\n",
       "        <table>\n",
       "            <tr>\n",
       "                <td><strong>Name</strong></td>\n",
       "                <td>iML1515</td>\n",
       "            </tr><tr>\n",
       "                <td><strong>Memory address</strong></td>\n",
       "                <td>0x01f7708f73c8</td>\n",
       "            </tr><tr>\n",
       "                <td><strong>Number of metabolites</strong></td>\n",
       "                <td>1877</td>\n",
       "            </tr><tr>\n",
       "                <td><strong>Number of reactions</strong></td>\n",
       "                <td>2712</td>\n",
       "            </tr><tr>\n",
       "                <td><strong>Number of groups</strong></td>\n",
       "                <td>0</td>\n",
       "            </tr><tr>\n",
       "                <td><strong>Objective expression</strong></td>\n",
       "                <td>1.0*BIOMASS_Ec_iML1515_core_75p37M - 1.0*BIOMASS_Ec_iML1515_core_75p37M_reverse_35685</td>\n",
       "            </tr><tr>\n",
       "                <td><strong>Compartments</strong></td>\n",
       "                <td>cytosol, extracellular space, periplasm</td>\n",
       "            </tr>\n",
       "          </table>"
      ],
      "text/plain": [
       "<Model iML1515 at 0x1f7708f73c8>"
      ]
     },
     "execution_count": 5,
     "metadata": {},
     "output_type": "execute_result"
    }
   ],
   "source": [
    "import pandas as pd\n",
    "import matplotlib.pyplot as plt\n",
    "from cobra.io import read_sbml_model\n",
    "model = read_sbml_model('iML1515.xml.gz')\n",
    "model"
   ]
  },
  {
   "cell_type": "code",
   "execution_count": 6,
   "id": "f08dbbb6",
   "metadata": {},
   "outputs": [
    {
     "data": {
      "text/html": [
       "\n",
       "        <table>\n",
       "            <tr>\n",
       "                <td><strong>Name</strong></td>\n",
       "                <td>iML1515</td>\n",
       "            </tr><tr>\n",
       "                <td><strong>Memory address</strong></td>\n",
       "                <td>0x01f76b79c0f0</td>\n",
       "            </tr><tr>\n",
       "                <td><strong>Number of metabolites</strong></td>\n",
       "                <td>1877</td>\n",
       "            </tr><tr>\n",
       "                <td><strong>Number of reactions</strong></td>\n",
       "                <td>2712</td>\n",
       "            </tr><tr>\n",
       "                <td><strong>Number of groups</strong></td>\n",
       "                <td>0</td>\n",
       "            </tr><tr>\n",
       "                <td><strong>Objective expression</strong></td>\n",
       "                <td>1.0*BIOMASS_Ec_iML1515_core_75p37M - 1.0*BIOMASS_Ec_iML1515_core_75p37M_reverse_35685</td>\n",
       "            </tr><tr>\n",
       "                <td><strong>Compartments</strong></td>\n",
       "                <td>cytosol, extracellular space, periplasm</td>\n",
       "            </tr>\n",
       "          </table>"
      ],
      "text/plain": [
       "<Model iML1515 at 0x1f76b79c0f0>"
      ]
     },
     "execution_count": 6,
     "metadata": {},
     "output_type": "execute_result"
    }
   ],
   "source": [
    "model_sucd= model.copy()\n",
    "model_sucd"
   ]
  },
  {
   "cell_type": "code",
   "execution_count": 7,
   "id": "6490bc0e",
   "metadata": {
    "tags": []
   },
   "outputs": [
    {
     "name": "stdout",
     "output_type": "stream",
     "text": [
      "nadh_c + succoa_c --> coa_c + h_c + nad_c + succinyl_semialdehyde_c\n"
     ]
    },
    {
     "data": {
      "text/html": [
       "\n",
       "        <table>\n",
       "            <tr>\n",
       "                <td><strong>Reaction identifier</strong></td><td>SUCD</td>\n",
       "            </tr><tr>\n",
       "                <td><strong>Name</strong></td><td></td>\n",
       "            </tr><tr>\n",
       "                <td><strong>Memory address</strong></td>\n",
       "                <td>0x01f77c118940</td>\n",
       "            </tr><tr>\n",
       "                <td><strong>Stoichiometry</strong></td>\n",
       "                <td>\n",
       "                    <p style='text-align:right'>nadh_c + succoa_c --> coa_c + h_c + nad_c + succinyl_semialdehyde_c</p>\n",
       "                    <p style='text-align:right'>Nicotinamide adenine dinucleotide - reduced + Succinyl-CoA --> Coenzyme A + H+ + Nicotinamide adenine dinucleotide +</p>\n",
       "                </td>\n",
       "            </tr><tr>\n",
       "                <td><strong>GPR</strong></td><td></td>\n",
       "            </tr><tr>\n",
       "                <td><strong>Lower bound</strong></td><td>0.0</td>\n",
       "            </tr><tr>\n",
       "                <td><strong>Upper bound</strong></td><td>1000.0</td>\n",
       "            </tr>\n",
       "        </table>\n",
       "        "
      ],
      "text/plain": [
       "<Reaction SUCD at 0x1f77c118940>"
      ]
     },
     "execution_count": 7,
     "metadata": {},
     "output_type": "execute_result"
    }
   ],
   "source": [
    "from cobra import Reaction, Metabolite\n",
    "sucd = Reaction('SUCD') #CoA-dependent succinate semialdehyde dehydrogenase\n",
    "succinyl_semialdehyde = Metabolite(id='succinyl_semialdehyde_c', compartment='c')\n",
    "\n",
    "sucd.add_metabolites({model_sucd.metabolites.h_c: 1,\n",
    "                              model_sucd.metabolites.nadh_c: -1,\n",
    "                              model_sucd.metabolites.succoa_c: -1,\n",
    "                              succinyl_semialdehyde: 1, #new one\n",
    "                              model_sucd.metabolites.coa_c: 1,\n",
    "                              model_sucd.metabolites.nad_c: 1\n",
    "                             })\n",
    "print(sucd.build_reaction_string())\n",
    "model_sucd.add_reactions([sucd])\n",
    "model_sucd.reactions.SUCD"
   ]
  },
  {
   "cell_type": "code",
   "execution_count": 8,
   "id": "4fb24470",
   "metadata": {},
   "outputs": [
    {
     "name": "stdout",
     "output_type": "stream",
     "text": [
      "nadh_c + succinyl_semialdehyde_c --> four_hydroxybutyrate_c + h_c + nad_c\n"
     ]
    },
    {
     "data": {
      "text/html": [
       "\n",
       "        <table>\n",
       "            <tr>\n",
       "                <td><strong>Reaction identifier</strong></td><td>FHBD</td>\n",
       "            </tr><tr>\n",
       "                <td><strong>Name</strong></td><td></td>\n",
       "            </tr><tr>\n",
       "                <td><strong>Memory address</strong></td>\n",
       "                <td>0x01f77c1187b8</td>\n",
       "            </tr><tr>\n",
       "                <td><strong>Stoichiometry</strong></td>\n",
       "                <td>\n",
       "                    <p style='text-align:right'>nadh_c + succinyl_semialdehyde_c --> four_hydroxybutyrate_c + h_c + nad_c</p>\n",
       "                    <p style='text-align:right'>Nicotinamide adenine dinucleotide - reduced + --> + H+ + Nicotinamide adenine dinucleotide</p>\n",
       "                </td>\n",
       "            </tr><tr>\n",
       "                <td><strong>GPR</strong></td><td></td>\n",
       "            </tr><tr>\n",
       "                <td><strong>Lower bound</strong></td><td>0.0</td>\n",
       "            </tr><tr>\n",
       "                <td><strong>Upper bound</strong></td><td>1000.0</td>\n",
       "            </tr>\n",
       "        </table>\n",
       "        "
      ],
      "text/plain": [
       "<Reaction FHBD at 0x1f77c1187b8>"
      ]
     },
     "execution_count": 8,
     "metadata": {},
     "output_type": "execute_result"
    }
   ],
   "source": [
    "from cobra import Reaction, Metabolite\n",
    "fhbd = Reaction('FHBD') #4-hydroxybutyrate dehydrogenase\n",
    "four_hydroxybutyrate = Metabolite(id='four_hydroxybutyrate_c', compartment='c')\n",
    "\n",
    "fhbd.add_metabolites({model_sucd.metabolites.h_c: 1,\n",
    "                              model_sucd.metabolites.nadh_c: -1,\n",
    "                              succinyl_semialdehyde: -1, \n",
    "                              four_hydroxybutyrate: 1, #new one\n",
    "                              model_sucd.metabolites.nad_c: 1\n",
    "                             })\n",
    "print(fhbd.build_reaction_string())\n",
    "model_sucd.add_reactions([fhbd])\n",
    "model_sucd.reactions.FHBD"
   ]
  },
  {
   "cell_type": "code",
   "execution_count": 9,
   "id": "0e6fc5ea",
   "metadata": {},
   "outputs": [
    {
     "name": "stdout",
     "output_type": "stream",
     "text": [
      "accoa_c + four_hydroxybutyrate_c --> ac_c + four_hbcoa_c\n"
     ]
    },
    {
     "data": {
      "text/html": [
       "\n",
       "        <table>\n",
       "            <tr>\n",
       "                <td><strong>Reaction identifier</strong></td><td>HBCT</td>\n",
       "            </tr><tr>\n",
       "                <td><strong>Name</strong></td><td></td>\n",
       "            </tr><tr>\n",
       "                <td><strong>Memory address</strong></td>\n",
       "                <td>0x01f77c118710</td>\n",
       "            </tr><tr>\n",
       "                <td><strong>Stoichiometry</strong></td>\n",
       "                <td>\n",
       "                    <p style='text-align:right'>accoa_c + four_hydroxybutyrate_c --> ac_c + four_hbcoa_c</p>\n",
       "                    <p style='text-align:right'>Acetyl-CoA + --> Acetate +</p>\n",
       "                </td>\n",
       "            </tr><tr>\n",
       "                <td><strong>GPR</strong></td><td></td>\n",
       "            </tr><tr>\n",
       "                <td><strong>Lower bound</strong></td><td>0.0</td>\n",
       "            </tr><tr>\n",
       "                <td><strong>Upper bound</strong></td><td>1000.0</td>\n",
       "            </tr>\n",
       "        </table>\n",
       "        "
      ],
      "text/plain": [
       "<Reaction HBCT at 0x1f77c118710>"
      ]
     },
     "execution_count": 9,
     "metadata": {},
     "output_type": "execute_result"
    }
   ],
   "source": [
    "from cobra import Reaction, Metabolite\n",
    "hbd_coa_t = Reaction('HBCT') #4-hydroxybutyryl-CoA transferase\n",
    "four_hbcoa = Metabolite(id='four_hbcoa_c', compartment='c')\n",
    "hbd_coa_t.add_metabolites({model_sucd.metabolites.accoa_c: -1,\n",
    "                              model_sucd.metabolites.ac_c: 1,\n",
    "                              four_hbcoa: 1, #new one\n",
    "                              four_hydroxybutyrate: -1\n",
    "                             })\n",
    "print(hbd_coa_t.build_reaction_string())\n",
    "model_sucd.add_reactions([hbd_coa_t])\n",
    "model_sucd.reactions.HBCT"
   ]
  },
  {
   "cell_type": "code",
   "execution_count": 10,
   "id": "ccc8111a",
   "metadata": {},
   "outputs": [
    {
     "name": "stdout",
     "output_type": "stream",
     "text": [
      "four_hbcoa_c + nadh_c --> coa_c + four_hbaldehyde_c + h_c + nad_c\n"
     ]
    },
    {
     "data": {
      "text/html": [
       "\n",
       "        <table>\n",
       "            <tr>\n",
       "                <td><strong>Reaction identifier</strong></td><td>HBCR</td>\n",
       "            </tr><tr>\n",
       "                <td><strong>Name</strong></td><td></td>\n",
       "            </tr><tr>\n",
       "                <td><strong>Memory address</strong></td>\n",
       "                <td>0x01f77c283780</td>\n",
       "            </tr><tr>\n",
       "                <td><strong>Stoichiometry</strong></td>\n",
       "                <td>\n",
       "                    <p style='text-align:right'>four_hbcoa_c + nadh_c --> coa_c + four_hbaldehyde_c + h_c + nad_c</p>\n",
       "                    <p style='text-align:right'>+ Nicotinamide adenine dinucleotide - reduced --> Coenzyme A + + H+ + Nicotinamide adenine dinucleotide</p>\n",
       "                </td>\n",
       "            </tr><tr>\n",
       "                <td><strong>GPR</strong></td><td></td>\n",
       "            </tr><tr>\n",
       "                <td><strong>Lower bound</strong></td><td>0.0</td>\n",
       "            </tr><tr>\n",
       "                <td><strong>Upper bound</strong></td><td>1000.0</td>\n",
       "            </tr>\n",
       "        </table>\n",
       "        "
      ],
      "text/plain": [
       "<Reaction HBCR at 0x1f77c283780>"
      ]
     },
     "execution_count": 10,
     "metadata": {},
     "output_type": "execute_result"
    }
   ],
   "source": [
    "from cobra import Reaction, Metabolite\n",
    "hbd_coa_r = Reaction('HBCR') #4-hydroxybutyryl-CoA reductase\n",
    "four_hbaldehyde = Metabolite(id='four_hbaldehyde_c', compartment='c')\n",
    "hbd_coa_r.add_metabolites({model_sucd.metabolites.h_c: 1,\n",
    "                              model_sucd.metabolites.nadh_c: -1,\n",
    "                              four_hbaldehyde: 1, #new one\n",
    "                              four_hbcoa: -1,\n",
    "                              model_sucd.metabolites.nad_c: 1,\n",
    "                              model_sucd.metabolites.coa_c: 1\n",
    "                             })\n",
    "print(hbd_coa_r.build_reaction_string())\n",
    "model_sucd.add_reactions([hbd_coa_r])\n",
    "model_sucd.reactions.HBCR"
   ]
  },
  {
   "cell_type": "code",
   "execution_count": 11,
   "id": "6502a38a",
   "metadata": {
    "tags": []
   },
   "outputs": [
    {
     "name": "stdout",
     "output_type": "stream",
     "text": [
      "four_hbaldehyde_c + nadh_c --> bdo_c + h_c + nad_c\n"
     ]
    },
    {
     "data": {
      "text/html": [
       "\n",
       "        <table>\n",
       "            <tr>\n",
       "                <td><strong>Reaction identifier</strong></td><td>ADH</td>\n",
       "            </tr><tr>\n",
       "                <td><strong>Name</strong></td><td></td>\n",
       "            </tr><tr>\n",
       "                <td><strong>Memory address</strong></td>\n",
       "                <td>0x01f77c283dd8</td>\n",
       "            </tr><tr>\n",
       "                <td><strong>Stoichiometry</strong></td>\n",
       "                <td>\n",
       "                    <p style='text-align:right'>four_hbaldehyde_c + nadh_c --> bdo_c + h_c + nad_c</p>\n",
       "                    <p style='text-align:right'>+ Nicotinamide adenine dinucleotide - reduced --> + H+ + Nicotinamide adenine dinucleotide</p>\n",
       "                </td>\n",
       "            </tr><tr>\n",
       "                <td><strong>GPR</strong></td><td></td>\n",
       "            </tr><tr>\n",
       "                <td><strong>Lower bound</strong></td><td>0.0</td>\n",
       "            </tr><tr>\n",
       "                <td><strong>Upper bound</strong></td><td>1000.0</td>\n",
       "            </tr>\n",
       "        </table>\n",
       "        "
      ],
      "text/plain": [
       "<Reaction ADH at 0x1f77c283dd8>"
      ]
     },
     "execution_count": 11,
     "metadata": {},
     "output_type": "execute_result"
    }
   ],
   "source": [
    "from cobra import Reaction, Metabolite\n",
    "adh= Reaction('ADH') #alcohol dehydrogenase\n",
    "bdo = Metabolite(id='bdo_c', compartment='c')\n",
    "adh.add_metabolites({model_sucd.metabolites.h_c: 1,\n",
    "                              model_sucd.metabolites.nadh_c: -1,\n",
    "                              four_hbaldehyde: -1,\n",
    "                              bdo: 1, #new one\n",
    "                              model_sucd.metabolites.nad_c: 1,\n",
    "                             })\n",
    "print(adh.build_reaction_string())\n",
    "model_sucd.add_reactions([adh])\n",
    "model_sucd.reactions.ADH"
   ]
  },
  {
   "cell_type": "code",
   "execution_count": 12,
   "id": "60b81688",
   "metadata": {},
   "outputs": [
    {
     "data": {
      "text/html": [
       "\n",
       "        <table>\n",
       "            <tr>\n",
       "                <td><strong>Reaction identifier</strong></td><td>DM_bdo_c</td>\n",
       "            </tr><tr>\n",
       "                <td><strong>Name</strong></td><td>demand</td>\n",
       "            </tr><tr>\n",
       "                <td><strong>Memory address</strong></td>\n",
       "                <td>0x01f77bf7be80</td>\n",
       "            </tr><tr>\n",
       "                <td><strong>Stoichiometry</strong></td>\n",
       "                <td>\n",
       "                    <p style='text-align:right'>bdo_c --></p>\n",
       "                    <p style='text-align:right'>--></p>\n",
       "                </td>\n",
       "            </tr><tr>\n",
       "                <td><strong>GPR</strong></td><td></td>\n",
       "            </tr><tr>\n",
       "                <td><strong>Lower bound</strong></td><td>0</td>\n",
       "            </tr><tr>\n",
       "                <td><strong>Upper bound</strong></td><td>1000.0</td>\n",
       "            </tr>\n",
       "        </table>\n",
       "        "
      ],
      "text/plain": [
       "<Reaction DM_bdo_c at 0x1f77bf7be80>"
      ]
     },
     "execution_count": 12,
     "metadata": {},
     "output_type": "execute_result"
    }
   ],
   "source": [
    "bdo_exchange = Reaction('EX_bdo')\n",
    "bdo_exchange.add_metabolites({model_sucd.metabolites.bdo_c: -1})\n",
    "model_sucd.add_reaction(bdo_exchange)\n",
    "model_sucd.add_boundary(model_sucd.metabolites.bdo_c, type='demand')"
   ]
  },
  {
   "cell_type": "code",
   "execution_count": 13,
   "id": "03536c79",
   "metadata": {},
   "outputs": [
    {
     "name": "stdout",
     "output_type": "stream",
     "text": [
      "9.605894736842117\n"
     ]
    }
   ],
   "source": [
    "with model:\n",
    "    model_sucd.objective=model_sucd.reactions.ADH\n",
    "    optimized = float(model_sucd.optimize().objective_value)\n",
    "    print(optimized)"
   ]
  },
  {
   "cell_type": "code",
   "execution_count": 14,
   "id": "570de4c5",
   "metadata": {},
   "outputs": [
    {
     "name": "stdout",
     "output_type": "stream",
     "text": [
      "-10.0\n"
     ]
    }
   ],
   "source": [
    "uptake = model_sucd.reactions.EX_glc__D_e.flux #uptake <--\n",
    "print(uptake)"
   ]
  },
  {
   "cell_type": "code",
   "execution_count": 15,
   "id": "ac1936d7",
   "metadata": {},
   "outputs": [],
   "source": [
    "#input text\n",
    "Models_yield = dict()\n",
    "Models_yield['one']= optimized\n",
    " \n",
    "#open file\n",
    "file = open(\"SucD Yield calc.txt\", \"w\")\n",
    " \n",
    "#convert variable to string\n",
    "str = repr(Models_yield)\n",
    "file.write(\"Models_yield = \" + str + \"\\n\")\n",
    " \n",
    "#close file\n",
    "file.close()\n",
    " \n",
    "f = open('SucD Yield calc.txt', 'r')\n",
    "if f.mode=='r':\n",
    "    contents= f.read()"
   ]
  },
  {
   "cell_type": "code",
   "execution_count": 16,
   "id": "47d7981e",
   "metadata": {},
   "outputs": [
    {
     "name": "stdout",
     "output_type": "stream",
     "text": [
      "Yield for model SucD = 0.9605894736842118\n"
     ]
    }
   ],
   "source": [
    "print(\"Yield for model SucD =\",(-1)*((Models_yield['one'])/uptake)) # Yield for Model_SucD (Succinate) p-mmol/gl-mmol\n",
    "#it is multiplied by -1 because the reaction is an uptake which means thats goes for the right to the left"
   ]
  },
  {
   "cell_type": "code",
   "execution_count": 17,
   "id": "5cead339",
   "metadata": {},
   "outputs": [
    {
     "data": {
      "text/html": [
       "\n",
       "        <table>\n",
       "            <tr>\n",
       "                <td><strong>Name</strong></td>\n",
       "                <td>iML1515</td>\n",
       "            </tr><tr>\n",
       "                <td><strong>Memory address</strong></td>\n",
       "                <td>0x01f77c1181d0</td>\n",
       "            </tr><tr>\n",
       "                <td><strong>Number of metabolites</strong></td>\n",
       "                <td>1877</td>\n",
       "            </tr><tr>\n",
       "                <td><strong>Number of reactions</strong></td>\n",
       "                <td>2712</td>\n",
       "            </tr><tr>\n",
       "                <td><strong>Number of groups</strong></td>\n",
       "                <td>0</td>\n",
       "            </tr><tr>\n",
       "                <td><strong>Objective expression</strong></td>\n",
       "                <td>1.0*BIOMASS_Ec_iML1515_core_75p37M - 1.0*BIOMASS_Ec_iML1515_core_75p37M_reverse_35685</td>\n",
       "            </tr><tr>\n",
       "                <td><strong>Compartments</strong></td>\n",
       "                <td>cytosol, extracellular space, periplasm</td>\n",
       "            </tr>\n",
       "          </table>"
      ],
      "text/plain": [
       "<Model iML1515 at 0x1f77c1181d0>"
      ]
     },
     "execution_count": 17,
     "metadata": {},
     "output_type": "execute_result"
    }
   ],
   "source": [
    "model_akg=model.copy()\n",
    "model_akg"
   ]
  },
  {
   "cell_type": "code",
   "execution_count": 18,
   "id": "38341666",
   "metadata": {},
   "outputs": [
    {
     "name": "stdout",
     "output_type": "stream",
     "text": [
      "akg_c --> co2_c + succinyl_semialdehyde_c\n"
     ]
    },
    {
     "data": {
      "text/html": [
       "\n",
       "        <table>\n",
       "            <tr>\n",
       "                <td><strong>Reaction identifier</strong></td><td>OXODC</td>\n",
       "            </tr><tr>\n",
       "                <td><strong>Name</strong></td><td></td>\n",
       "            </tr><tr>\n",
       "                <td><strong>Memory address</strong></td>\n",
       "                <td>0x01f77cddd4a8</td>\n",
       "            </tr><tr>\n",
       "                <td><strong>Stoichiometry</strong></td>\n",
       "                <td>\n",
       "                    <p style='text-align:right'>akg_c --> co2_c + succinyl_semialdehyde_c</p>\n",
       "                    <p style='text-align:right'>2-Oxoglutarate --> CO2 CO2 +</p>\n",
       "                </td>\n",
       "            </tr><tr>\n",
       "                <td><strong>GPR</strong></td><td></td>\n",
       "            </tr><tr>\n",
       "                <td><strong>Lower bound</strong></td><td>0.0</td>\n",
       "            </tr><tr>\n",
       "                <td><strong>Upper bound</strong></td><td>1000.0</td>\n",
       "            </tr>\n",
       "        </table>\n",
       "        "
      ],
      "text/plain": [
       "<Reaction OXODC at 0x1f77cddd4a8>"
      ]
     },
     "execution_count": 18,
     "metadata": {},
     "output_type": "execute_result"
    }
   ],
   "source": [
    "from cobra import Reaction, Metabolite\n",
    "oxodc = Reaction('OXODC') #2-oxoglutarate decarboxylase\n",
    "succinyl_semialdehyde = Metabolite(id='succinyl_semialdehyde_c', compartment='c')\n",
    "\n",
    "oxodc.add_metabolites({model_akg.metabolites.akg_c: -1,\n",
    "                              succinyl_semialdehyde: 1, #new one\n",
    "                              model_akg.metabolites.co2_c: 1\n",
    "                             })\n",
    "print(oxodc.build_reaction_string())\n",
    "model_akg.add_reactions([oxodc])\n",
    "model_akg.reactions.OXODC"
   ]
  },
  {
   "cell_type": "code",
   "execution_count": 19,
   "id": "6079efc1",
   "metadata": {},
   "outputs": [
    {
     "name": "stdout",
     "output_type": "stream",
     "text": [
      "nadh_c + succinyl_semialdehyde_c --> four_hydroxybutyrate_c + h_c + nad_c\n"
     ]
    },
    {
     "data": {
      "text/html": [
       "\n",
       "        <table>\n",
       "            <tr>\n",
       "                <td><strong>Reaction identifier</strong></td><td>FHBD</td>\n",
       "            </tr><tr>\n",
       "                <td><strong>Name</strong></td><td></td>\n",
       "            </tr><tr>\n",
       "                <td><strong>Memory address</strong></td>\n",
       "                <td>0x01f77cddd9e8</td>\n",
       "            </tr><tr>\n",
       "                <td><strong>Stoichiometry</strong></td>\n",
       "                <td>\n",
       "                    <p style='text-align:right'>nadh_c + succinyl_semialdehyde_c --> four_hydroxybutyrate_c + h_c + nad_c</p>\n",
       "                    <p style='text-align:right'>Nicotinamide adenine dinucleotide - reduced + --> + H+ + Nicotinamide adenine dinucleotide</p>\n",
       "                </td>\n",
       "            </tr><tr>\n",
       "                <td><strong>GPR</strong></td><td></td>\n",
       "            </tr><tr>\n",
       "                <td><strong>Lower bound</strong></td><td>0.0</td>\n",
       "            </tr><tr>\n",
       "                <td><strong>Upper bound</strong></td><td>1000.0</td>\n",
       "            </tr>\n",
       "        </table>\n",
       "        "
      ],
      "text/plain": [
       "<Reaction FHBD at 0x1f77cddd9e8>"
      ]
     },
     "execution_count": 19,
     "metadata": {},
     "output_type": "execute_result"
    }
   ],
   "source": [
    "from cobra import Reaction, Metabolite\n",
    "fhbd = Reaction('FHBD') #4-hydroxybutyrate dehydrogenase\n",
    "four_hydroxybutyrate = Metabolite(id='four_hydroxybutyrate_c', compartment='c')\n",
    "\n",
    "fhbd.add_metabolites({model_akg.metabolites.h_c: 1,\n",
    "                              model_akg.metabolites.nadh_c: -1,\n",
    "                              succinyl_semialdehyde: -1, \n",
    "                              four_hydroxybutyrate: 1, #new one\n",
    "                              model_akg.metabolites.nad_c: 1\n",
    "                             })\n",
    "print(fhbd.build_reaction_string())\n",
    "model_akg.add_reactions([fhbd])\n",
    "model_akg.reactions.FHBD"
   ]
  },
  {
   "cell_type": "code",
   "execution_count": 20,
   "id": "88762470",
   "metadata": {},
   "outputs": [
    {
     "name": "stdout",
     "output_type": "stream",
     "text": [
      "accoa_c + four_hydroxybutyrate_c --> ac_c + four_hbcoa_c\n"
     ]
    },
    {
     "data": {
      "text/html": [
       "\n",
       "        <table>\n",
       "            <tr>\n",
       "                <td><strong>Reaction identifier</strong></td><td>HBCT</td>\n",
       "            </tr><tr>\n",
       "                <td><strong>Name</strong></td><td></td>\n",
       "            </tr><tr>\n",
       "                <td><strong>Memory address</strong></td>\n",
       "                <td>0x01f77cddd748</td>\n",
       "            </tr><tr>\n",
       "                <td><strong>Stoichiometry</strong></td>\n",
       "                <td>\n",
       "                    <p style='text-align:right'>accoa_c + four_hydroxybutyrate_c --> ac_c + four_hbcoa_c</p>\n",
       "                    <p style='text-align:right'>Acetyl-CoA + --> Acetate +</p>\n",
       "                </td>\n",
       "            </tr><tr>\n",
       "                <td><strong>GPR</strong></td><td></td>\n",
       "            </tr><tr>\n",
       "                <td><strong>Lower bound</strong></td><td>0.0</td>\n",
       "            </tr><tr>\n",
       "                <td><strong>Upper bound</strong></td><td>1000.0</td>\n",
       "            </tr>\n",
       "        </table>\n",
       "        "
      ],
      "text/plain": [
       "<Reaction HBCT at 0x1f77cddd748>"
      ]
     },
     "execution_count": 20,
     "metadata": {},
     "output_type": "execute_result"
    }
   ],
   "source": [
    "from cobra import Reaction, Metabolite\n",
    "hbd_coa_t = Reaction('HBCT') #4-hydroxybutyryl-CoA transferase\n",
    "four_hbcoa = Metabolite(id='four_hbcoa_c', compartment='c')\n",
    "hbd_coa_t.add_metabolites({model_akg.metabolites.accoa_c: -1,\n",
    "                              model_akg.metabolites.ac_c: 1,\n",
    "                              four_hbcoa: 1, #new one\n",
    "                              four_hydroxybutyrate: -1\n",
    "                             })\n",
    "print(hbd_coa_t.build_reaction_string())\n",
    "model_akg.add_reactions([hbd_coa_t])\n",
    "model_akg.reactions.HBCT"
   ]
  },
  {
   "cell_type": "code",
   "execution_count": 22,
   "id": "68f7da81",
   "metadata": {},
   "outputs": [
    {
     "name": "stderr",
     "output_type": "stream",
     "text": [
      "Ignoring reaction 'HBCR' since it already exists.\n"
     ]
    },
    {
     "name": "stdout",
     "output_type": "stream",
     "text": [
      "four_hbcoa_c + nadh_c --> coa_c + four_hbaldehyde_c + h_c + nad_c\n"
     ]
    },
    {
     "data": {
      "text/html": [
       "\n",
       "        <table>\n",
       "            <tr>\n",
       "                <td><strong>Reaction identifier</strong></td><td>HBCR</td>\n",
       "            </tr><tr>\n",
       "                <td><strong>Name</strong></td><td></td>\n",
       "            </tr><tr>\n",
       "                <td><strong>Memory address</strong></td>\n",
       "                <td>0x01f77cc543c8</td>\n",
       "            </tr><tr>\n",
       "                <td><strong>Stoichiometry</strong></td>\n",
       "                <td>\n",
       "                    <p style='text-align:right'>four_hbcoa_c + nadh_c --> coa_c + four_hbaldehyde_c + h_c + nad_c</p>\n",
       "                    <p style='text-align:right'>+ Nicotinamide adenine dinucleotide - reduced --> Coenzyme A + + H+ + Nicotinamide adenine dinucleotide</p>\n",
       "                </td>\n",
       "            </tr><tr>\n",
       "                <td><strong>GPR</strong></td><td></td>\n",
       "            </tr><tr>\n",
       "                <td><strong>Lower bound</strong></td><td>0.0</td>\n",
       "            </tr><tr>\n",
       "                <td><strong>Upper bound</strong></td><td>1000.0</td>\n",
       "            </tr>\n",
       "        </table>\n",
       "        "
      ],
      "text/plain": [
       "<Reaction HBCR at 0x1f77cc543c8>"
      ]
     },
     "execution_count": 22,
     "metadata": {},
     "output_type": "execute_result"
    }
   ],
   "source": [
    "from cobra import Reaction, Metabolite\n",
    "hbd_coa_r = Reaction('HBCR') #4-hydroxybutyryl-CoA reductase\n",
    "four_hbaldehyde = Metabolite(id='four_hbaldehyde_c', compartment='c')\n",
    "hbd_coa_r.add_metabolites({model_akg.metabolites.h_c: 1,\n",
    "                              model_akg.metabolites.nadh_c: -1,\n",
    "                              four_hbaldehyde: 1, #new one\n",
    "                              four_hbcoa: -1,\n",
    "                              model_akg.metabolites.nad_c: 1,\n",
    "                              model_akg.metabolites.coa_c: 1\n",
    "                             })\n",
    "print(hbd_coa_r.build_reaction_string())\n",
    "model_akg.add_reactions([hbd_coa_r])\n",
    "model_akg.reactions.HBCR"
   ]
  },
  {
   "cell_type": "code",
   "execution_count": 23,
   "id": "10c2461a",
   "metadata": {},
   "outputs": [
    {
     "name": "stdout",
     "output_type": "stream",
     "text": [
      "four_hbaldehyde_c + nadh_c --> bdo_c + h_c + nad_c\n"
     ]
    },
    {
     "data": {
      "text/html": [
       "\n",
       "        <table>\n",
       "            <tr>\n",
       "                <td><strong>Reaction identifier</strong></td><td>ADH</td>\n",
       "            </tr><tr>\n",
       "                <td><strong>Name</strong></td><td></td>\n",
       "            </tr><tr>\n",
       "                <td><strong>Memory address</strong></td>\n",
       "                <td>0x01f77cc54400</td>\n",
       "            </tr><tr>\n",
       "                <td><strong>Stoichiometry</strong></td>\n",
       "                <td>\n",
       "                    <p style='text-align:right'>four_hbaldehyde_c + nadh_c --> bdo_c + h_c + nad_c</p>\n",
       "                    <p style='text-align:right'>+ Nicotinamide adenine dinucleotide - reduced --> + H+ + Nicotinamide adenine dinucleotide</p>\n",
       "                </td>\n",
       "            </tr><tr>\n",
       "                <td><strong>GPR</strong></td><td></td>\n",
       "            </tr><tr>\n",
       "                <td><strong>Lower bound</strong></td><td>0.0</td>\n",
       "            </tr><tr>\n",
       "                <td><strong>Upper bound</strong></td><td>1000.0</td>\n",
       "            </tr>\n",
       "        </table>\n",
       "        "
      ],
      "text/plain": [
       "<Reaction ADH at 0x1f77cc54400>"
      ]
     },
     "execution_count": 23,
     "metadata": {},
     "output_type": "execute_result"
    }
   ],
   "source": [
    "from cobra import Reaction, Metabolite\n",
    "adh= Reaction('ADH') #alcohol dehydrogenase\n",
    "bdo = Metabolite(id='bdo_c', compartment='c')\n",
    "adh.add_metabolites({model_akg.metabolites.h_c: 1,\n",
    "                              model_akg.metabolites.nadh_c: -1,\n",
    "                              four_hbaldehyde: -1,\n",
    "                              bdo: 1, #new one\n",
    "                              model_akg.metabolites.nad_c: 1,\n",
    "                             })\n",
    "print(adh.build_reaction_string())\n",
    "model_akg.add_reactions([adh])\n",
    "model_akg.reactions.ADH"
   ]
  },
  {
   "cell_type": "code",
   "execution_count": 25,
   "id": "ee5b5b24",
   "metadata": {},
   "outputs": [
    {
     "name": "stderr",
     "output_type": "stream",
     "text": [
      "Ignoring reaction 'EX_bdo' since it already exists.\n"
     ]
    },
    {
     "ename": "ValueError",
     "evalue": "Boundary reaction 'DM_bdo_c' already exists.",
     "output_type": "error",
     "traceback": [
      "\u001b[1;31m---------------------------------------------------------------------------\u001b[0m",
      "\u001b[1;31mValueError\u001b[0m                                Traceback (most recent call last)",
      "\u001b[1;32m<ipython-input-25-a02312573549>\u001b[0m in \u001b[0;36m<module>\u001b[1;34m\u001b[0m\n\u001b[0;32m      2\u001b[0m \u001b[0mbdo_exchange\u001b[0m\u001b[1;33m.\u001b[0m\u001b[0madd_metabolites\u001b[0m\u001b[1;33m(\u001b[0m\u001b[1;33m{\u001b[0m\u001b[0mmodel_akg\u001b[0m\u001b[1;33m.\u001b[0m\u001b[0mmetabolites\u001b[0m\u001b[1;33m.\u001b[0m\u001b[0mbdo_c\u001b[0m\u001b[1;33m:\u001b[0m \u001b[1;33m-\u001b[0m\u001b[1;36m1\u001b[0m\u001b[1;33m}\u001b[0m\u001b[1;33m)\u001b[0m\u001b[1;33m\u001b[0m\u001b[1;33m\u001b[0m\u001b[0m\n\u001b[0;32m      3\u001b[0m \u001b[0mmodel_akg\u001b[0m\u001b[1;33m.\u001b[0m\u001b[0madd_reaction\u001b[0m\u001b[1;33m(\u001b[0m\u001b[0mbdo_exchange\u001b[0m\u001b[1;33m)\u001b[0m\u001b[1;33m\u001b[0m\u001b[1;33m\u001b[0m\u001b[0m\n\u001b[1;32m----> 4\u001b[1;33m \u001b[0mmodel_akg\u001b[0m\u001b[1;33m.\u001b[0m\u001b[0madd_boundary\u001b[0m\u001b[1;33m(\u001b[0m\u001b[0mmodel_akg\u001b[0m\u001b[1;33m.\u001b[0m\u001b[0mmetabolites\u001b[0m\u001b[1;33m.\u001b[0m\u001b[0mbdo_c\u001b[0m\u001b[1;33m,\u001b[0m \u001b[0mtype\u001b[0m\u001b[1;33m=\u001b[0m\u001b[1;34m'demand'\u001b[0m\u001b[1;33m)\u001b[0m\u001b[1;33m\u001b[0m\u001b[1;33m\u001b[0m\u001b[0m\n\u001b[0m",
      "\u001b[1;32m~\\anaconda3\\envs\\new carve\\lib\\site-packages\\cobra\\core\\model.py\u001b[0m in \u001b[0;36madd_boundary\u001b[1;34m(self, metabolite, type, reaction_id, lb, ub, sbo_term)\u001b[0m\n\u001b[0;32m    628\u001b[0m         \u001b[1;32mif\u001b[0m \u001b[0mreaction_id\u001b[0m \u001b[1;32min\u001b[0m \u001b[0mself\u001b[0m\u001b[1;33m.\u001b[0m\u001b[0mreactions\u001b[0m\u001b[1;33m:\u001b[0m\u001b[1;33m\u001b[0m\u001b[1;33m\u001b[0m\u001b[0m\n\u001b[0;32m    629\u001b[0m             raise ValueError(\n\u001b[1;32m--> 630\u001b[1;33m                 \u001b[1;34m\"Boundary reaction '{}' already exists.\"\u001b[0m\u001b[1;33m.\u001b[0m\u001b[0mformat\u001b[0m\u001b[1;33m(\u001b[0m\u001b[0mreaction_id\u001b[0m\u001b[1;33m)\u001b[0m\u001b[1;33m\u001b[0m\u001b[1;33m\u001b[0m\u001b[0m\n\u001b[0m\u001b[0;32m    631\u001b[0m             )\n\u001b[0;32m    632\u001b[0m         \u001b[0mname\u001b[0m \u001b[1;33m=\u001b[0m \u001b[1;34m\"{} {}\"\u001b[0m\u001b[1;33m.\u001b[0m\u001b[0mformat\u001b[0m\u001b[1;33m(\u001b[0m\u001b[0mmetabolite\u001b[0m\u001b[1;33m.\u001b[0m\u001b[0mname\u001b[0m\u001b[1;33m,\u001b[0m \u001b[0mtype\u001b[0m\u001b[1;33m)\u001b[0m\u001b[1;33m\u001b[0m\u001b[1;33m\u001b[0m\u001b[0m\n",
      "\u001b[1;31mValueError\u001b[0m: Boundary reaction 'DM_bdo_c' already exists."
     ]
    }
   ],
   "source": [
    "bdo_exchange = Reaction('EX_bdo')\n",
    "bdo_exchange.add_metabolites({model_akg.metabolites.bdo_c: -1})\n",
    "model_akg.add_reaction(bdo_exchange)\n",
    "model_akg.add_boundary(model_akg.metabolites.bdo_c, type='demand')"
   ]
  },
  {
   "cell_type": "code",
   "execution_count": 26,
   "id": "e138bf2b",
   "metadata": {},
   "outputs": [
    {
     "name": "stdout",
     "output_type": "stream",
     "text": [
      "9.708085106382981\n"
     ]
    }
   ],
   "source": [
    "with model:\n",
    "    model_akg.objective=model_akg.reactions.ADH\n",
    "    optimized = float(model_akg.optimize().objective_value)\n",
    "    print(optimized)"
   ]
  },
  {
   "cell_type": "code",
   "execution_count": 27,
   "id": "8445a0bb",
   "metadata": {},
   "outputs": [
    {
     "name": "stdout",
     "output_type": "stream",
     "text": [
      "-10.0\n"
     ]
    }
   ],
   "source": [
    "uptake_akg = model_akg.reactions.EX_glc__D_e.flux #uptake <--\n",
    "print(uptake_akg)"
   ]
  },
  {
   "cell_type": "code",
   "execution_count": 28,
   "id": "15ed8a2f",
   "metadata": {},
   "outputs": [],
   "source": [
    "#input text\n",
    "Models_yield = dict()\n",
    "Models_yield['one']= optimized\n",
    " \n",
    "#open file\n",
    "file = open(\"Akg Yield calc.txt\", \"w\")\n",
    " \n",
    "#convert variable to string\n",
    "str = repr(Models_yield)\n",
    "file.write(\"Models_yield = \" + str + \"\\n\")\n",
    " \n",
    "#close file\n",
    "file.close()\n",
    " \n",
    "f = open('Akg Yield calc.txt', 'r')\n",
    "if f.mode=='r':\n",
    "    contents= f.read()"
   ]
  },
  {
   "cell_type": "code",
   "execution_count": 29,
   "id": "25f99d8d",
   "metadata": {},
   "outputs": [
    {
     "name": "stdout",
     "output_type": "stream",
     "text": [
      "Yield for model Akg = 0.9708085106382981\n"
     ]
    }
   ],
   "source": [
    "print(\"Yield for model Akg =\",(-1)*((Models_yield['one'])/uptake)) # Yield for Model_akg (a-ketoglutarate) p-mmol/gl-mmol\n",
    "#it is multiplied by -1 because the reaction is an uptake which means thats goes for the right to the left"
   ]
  },
  {
   "cell_type": "code",
   "execution_count": 30,
   "id": "da92f123",
   "metadata": {},
   "outputs": [
    {
     "data": {
      "text/html": [
       "\n",
       "<strong>Model:</strong> iML1515</br>\n",
       "<strong>Enforced objective:</strong> EX_bdo</br>\n",
       "<strong>Primary objective:</strong> Maximize\n",
       "1.0*ADH - 1.0*ADH_reverse_b5097</br>\n",
       "<br>\n",
       "<strong>Reaction fluxes</strong><br><br>\n",
       "<div>\n",
       "<style scoped>\n",
       "    .dataframe tbody tr th:only-of-type {\n",
       "        vertical-align: middle;\n",
       "    }\n",
       "\n",
       "    .dataframe tbody tr th {\n",
       "        vertical-align: top;\n",
       "    }\n",
       "\n",
       "    .dataframe thead th {\n",
       "        text-align: right;\n",
       "    }\n",
       "</style>\n",
       "<table border=\"1\" class=\"dataframe\">\n",
       "  <thead>\n",
       "    <tr style=\"text-align: right;\">\n",
       "      <th></th>\n",
       "      <th>1</th>\n",
       "      <th>2</th>\n",
       "      <th>3</th>\n",
       "      <th>4</th>\n",
       "      <th>5</th>\n",
       "      <th>6</th>\n",
       "      <th>7</th>\n",
       "      <th>8</th>\n",
       "      <th>9</th>\n",
       "      <th>10</th>\n",
       "    </tr>\n",
       "  </thead>\n",
       "  <tbody>\n",
       "    <tr>\n",
       "      <th>ICDHyr</th>\n",
       "      <td>9.605895</td>\n",
       "      <td>9.605895</td>\n",
       "      <td>9.605895</td>\n",
       "      <td>9.605895</td>\n",
       "      <td>9.605895</td>\n",
       "      <td>9.605895</td>\n",
       "      <td>9.605895</td>\n",
       "      <td>9.605895</td>\n",
       "      <td>9.605895</td>\n",
       "      <td>9.605895</td>\n",
       "    </tr>\n",
       "    <tr>\n",
       "      <th>PTAr</th>\n",
       "      <td>-9.605895</td>\n",
       "      <td>-9.605895</td>\n",
       "      <td>-9.605895</td>\n",
       "      <td>-9.605895</td>\n",
       "      <td>-9.605895</td>\n",
       "      <td>-9.605895</td>\n",
       "      <td>-9.605895</td>\n",
       "      <td>-9.605895</td>\n",
       "      <td>-9.605895</td>\n",
       "      <td>-9.605895</td>\n",
       "    </tr>\n",
       "    <tr>\n",
       "      <th>ACKr</th>\n",
       "      <td>9.605895</td>\n",
       "      <td>9.605895</td>\n",
       "      <td>9.605895</td>\n",
       "      <td>9.605895</td>\n",
       "      <td>9.605895</td>\n",
       "      <td>9.605895</td>\n",
       "      <td>9.605895</td>\n",
       "      <td>9.605895</td>\n",
       "      <td>9.605895</td>\n",
       "      <td>9.605895</td>\n",
       "    </tr>\n",
       "    <tr>\n",
       "      <th>FUM</th>\n",
       "      <td>0.788211</td>\n",
       "      <td>0.788211</td>\n",
       "      <td>0.788211</td>\n",
       "      <td>0.788211</td>\n",
       "      <td>0.788211</td>\n",
       "      <td>0.788211</td>\n",
       "      <td>0.788211</td>\n",
       "      <td>0.788211</td>\n",
       "      <td>0.788211</td>\n",
       "      <td>0.788211</td>\n",
       "    </tr>\n",
       "    <tr>\n",
       "      <th>ICL</th>\n",
       "      <td>0.788211</td>\n",
       "      <td>0.788211</td>\n",
       "      <td>0.788211</td>\n",
       "      <td>0.788211</td>\n",
       "      <td>0.788211</td>\n",
       "      <td>0.788211</td>\n",
       "      <td>0.788211</td>\n",
       "      <td>0.788211</td>\n",
       "      <td>0.788211</td>\n",
       "      <td>0.788211</td>\n",
       "    </tr>\n",
       "    <tr>\n",
       "      <th>DHAPT</th>\n",
       "      <td>1.182316</td>\n",
       "      <td>1.182316</td>\n",
       "      <td>1.182316</td>\n",
       "      <td>1.182316</td>\n",
       "      <td>1.182316</td>\n",
       "      <td>1.182316</td>\n",
       "      <td>1.182316</td>\n",
       "      <td>1.182316</td>\n",
       "      <td>1.182316</td>\n",
       "      <td>1.182316</td>\n",
       "    </tr>\n",
       "    <tr>\n",
       "      <th>F6PA</th>\n",
       "      <td>1.182316</td>\n",
       "      <td>1.182316</td>\n",
       "      <td>1.182316</td>\n",
       "      <td>1.182316</td>\n",
       "      <td>1.182316</td>\n",
       "      <td>1.182316</td>\n",
       "      <td>1.182316</td>\n",
       "      <td>1.182316</td>\n",
       "      <td>1.182316</td>\n",
       "      <td>1.182316</td>\n",
       "    </tr>\n",
       "    <tr>\n",
       "      <th>MALS</th>\n",
       "      <td>0.788211</td>\n",
       "      <td>0.788211</td>\n",
       "      <td>0.788211</td>\n",
       "      <td>0.788211</td>\n",
       "      <td>0.788211</td>\n",
       "      <td>0.788211</td>\n",
       "      <td>0.788211</td>\n",
       "      <td>0.788211</td>\n",
       "      <td>0.788211</td>\n",
       "      <td>0.788211</td>\n",
       "    </tr>\n",
       "    <tr>\n",
       "      <th>NADTRHD</th>\n",
       "      <td>9.605895</td>\n",
       "      <td>9.605895</td>\n",
       "      <td>9.605895</td>\n",
       "      <td>9.605895</td>\n",
       "      <td>9.605895</td>\n",
       "      <td>9.605895</td>\n",
       "      <td>9.605895</td>\n",
       "      <td>9.605895</td>\n",
       "      <td>9.605895</td>\n",
       "      <td>9.605895</td>\n",
       "    </tr>\n",
       "    <tr>\n",
       "      <th>AKGDH</th>\n",
       "      <td>9.605895</td>\n",
       "      <td>9.605895</td>\n",
       "      <td>9.605895</td>\n",
       "      <td>9.605895</td>\n",
       "      <td>9.605895</td>\n",
       "      <td>9.605895</td>\n",
       "      <td>9.605895</td>\n",
       "      <td>9.605895</td>\n",
       "      <td>9.605895</td>\n",
       "      <td>9.605895</td>\n",
       "    </tr>\n",
       "    <tr>\n",
       "      <th>Htex</th>\n",
       "      <td>-76.847158</td>\n",
       "      <td>-76.847158</td>\n",
       "      <td>-76.847158</td>\n",
       "      <td>-76.847158</td>\n",
       "      <td>-76.847158</td>\n",
       "      <td>-76.847158</td>\n",
       "      <td>-76.847158</td>\n",
       "      <td>-76.847158</td>\n",
       "      <td>-76.847158</td>\n",
       "      <td>-76.847158</td>\n",
       "    </tr>\n",
       "    <tr>\n",
       "      <th>O2tpp</th>\n",
       "      <td>7.167579</td>\n",
       "      <td>7.167579</td>\n",
       "      <td>7.167579</td>\n",
       "      <td>7.167579</td>\n",
       "      <td>7.167579</td>\n",
       "      <td>7.167579</td>\n",
       "      <td>7.167579</td>\n",
       "      <td>7.167579</td>\n",
       "      <td>7.167579</td>\n",
       "      <td>7.167579</td>\n",
       "    </tr>\n",
       "    <tr>\n",
       "      <th>ATPS4rpp</th>\n",
       "      <td>5.283579</td>\n",
       "      <td>5.283579</td>\n",
       "      <td>5.283579</td>\n",
       "      <td>5.283579</td>\n",
       "      <td>5.283579</td>\n",
       "      <td>5.283579</td>\n",
       "      <td>5.283579</td>\n",
       "      <td>5.283579</td>\n",
       "      <td>5.283579</td>\n",
       "      <td>5.283579</td>\n",
       "    </tr>\n",
       "    <tr>\n",
       "      <th>O2tex</th>\n",
       "      <td>7.167579</td>\n",
       "      <td>7.167579</td>\n",
       "      <td>7.167579</td>\n",
       "      <td>7.167579</td>\n",
       "      <td>7.167579</td>\n",
       "      <td>7.167579</td>\n",
       "      <td>7.167579</td>\n",
       "      <td>7.167579</td>\n",
       "      <td>7.167579</td>\n",
       "      <td>7.167579</td>\n",
       "    </tr>\n",
       "    <tr>\n",
       "      <th>PDH</th>\n",
       "      <td>11.182316</td>\n",
       "      <td>11.182316</td>\n",
       "      <td>11.182316</td>\n",
       "      <td>11.182316</td>\n",
       "      <td>11.182316</td>\n",
       "      <td>11.182316</td>\n",
       "      <td>11.182316</td>\n",
       "      <td>11.182316</td>\n",
       "      <td>11.182316</td>\n",
       "      <td>11.182316</td>\n",
       "    </tr>\n",
       "    <tr>\n",
       "      <th>CYTBO3_4pp</th>\n",
       "      <td>14.335158</td>\n",
       "      <td>14.335158</td>\n",
       "      <td>14.335158</td>\n",
       "      <td>14.335158</td>\n",
       "      <td>14.335158</td>\n",
       "      <td>14.335158</td>\n",
       "      <td>14.335158</td>\n",
       "      <td>14.335158</td>\n",
       "      <td>14.335158</td>\n",
       "      <td>14.335158</td>\n",
       "    </tr>\n",
       "    <tr>\n",
       "      <th>SUCDi</th>\n",
       "      <td>0.788211</td>\n",
       "      <td>0.788211</td>\n",
       "      <td>0.788211</td>\n",
       "      <td>0.788211</td>\n",
       "      <td>0.788211</td>\n",
       "      <td>0.788211</td>\n",
       "      <td>0.788211</td>\n",
       "      <td>0.788211</td>\n",
       "      <td>0.788211</td>\n",
       "      <td>0.788211</td>\n",
       "    </tr>\n",
       "    <tr>\n",
       "      <th>SUCD</th>\n",
       "      <td>9.605895</td>\n",
       "      <td>9.605895</td>\n",
       "      <td>9.605895</td>\n",
       "      <td>9.605895</td>\n",
       "      <td>9.605895</td>\n",
       "      <td>9.605895</td>\n",
       "      <td>9.605895</td>\n",
       "      <td>9.605895</td>\n",
       "      <td>9.605895</td>\n",
       "      <td>9.605895</td>\n",
       "    </tr>\n",
       "    <tr>\n",
       "      <th>FHBD</th>\n",
       "      <td>9.605895</td>\n",
       "      <td>9.605895</td>\n",
       "      <td>9.605895</td>\n",
       "      <td>9.605895</td>\n",
       "      <td>9.605895</td>\n",
       "      <td>9.605895</td>\n",
       "      <td>9.605895</td>\n",
       "      <td>9.605895</td>\n",
       "      <td>9.605895</td>\n",
       "      <td>9.605895</td>\n",
       "    </tr>\n",
       "    <tr>\n",
       "      <th>HBCT</th>\n",
       "      <td>9.605895</td>\n",
       "      <td>9.605895</td>\n",
       "      <td>9.605895</td>\n",
       "      <td>9.605895</td>\n",
       "      <td>9.605895</td>\n",
       "      <td>9.605895</td>\n",
       "      <td>9.605895</td>\n",
       "      <td>9.605895</td>\n",
       "      <td>9.605895</td>\n",
       "      <td>9.605895</td>\n",
       "    </tr>\n",
       "    <tr>\n",
       "      <th>HBCR</th>\n",
       "      <td>9.605895</td>\n",
       "      <td>9.605895</td>\n",
       "      <td>9.605895</td>\n",
       "      <td>9.605895</td>\n",
       "      <td>9.605895</td>\n",
       "      <td>9.605895</td>\n",
       "      <td>9.605895</td>\n",
       "      <td>9.605895</td>\n",
       "      <td>9.605895</td>\n",
       "      <td>9.605895</td>\n",
       "    </tr>\n",
       "    <tr>\n",
       "      <th>ADH</th>\n",
       "      <td>9.605895</td>\n",
       "      <td>9.605895</td>\n",
       "      <td>9.605895</td>\n",
       "      <td>9.605895</td>\n",
       "      <td>9.605895</td>\n",
       "      <td>9.605895</td>\n",
       "      <td>9.605895</td>\n",
       "      <td>9.605895</td>\n",
       "      <td>9.605895</td>\n",
       "      <td>9.605895</td>\n",
       "    </tr>\n",
       "    <tr>\n",
       "      <th>EX_bdo</th>\n",
       "      <td>9.509836</td>\n",
       "      <td>9.413777</td>\n",
       "      <td>9.317718</td>\n",
       "      <td>9.221659</td>\n",
       "      <td>9.125600</td>\n",
       "      <td>9.029541</td>\n",
       "      <td>8.933482</td>\n",
       "      <td>8.837423</td>\n",
       "      <td>8.741364</td>\n",
       "      <td>8.645306</td>\n",
       "    </tr>\n",
       "  </tbody>\n",
       "</table>\n",
       "</div>\n"
      ],
      "text/plain": [
       "<cameo.strain_design.deterministic.flux_variability_based.FSEOFResult at 0x1f77cc54358>"
      ]
     },
     "execution_count": 30,
     "metadata": {},
     "output_type": "execute_result"
    }
   ],
   "source": [
    "from cameo import models\n",
    "#from cameo.visualization.plotting.with_plotly import PlotlyPlotter\n",
    "from cameo.strain_design.deterministic.flux_variability_based import FSEOF\n",
    "fseof = FSEOF(model_sucd)\n",
    "result_sucd=fseof.run(target=model_sucd.reactions.EX_bdo)"
   ]
  },
  {
   "cell_type": "code",
   "execution_count": 50,
   "id": "cfb9b984-4550-4b8e-a665-2f2db33dcfd6",
   "metadata": {},
   "outputs": [
    {
     "data": {
      "text/html": [
       "\n",
       "<strong>Model:</strong> iML1515</br>\n",
       "<strong>Enforced objective:</strong> EX_bdo</br>\n",
       "<strong>Primary objective:</strong> Maximize\n",
       "1.0*ADH - 1.0*ADH_reverse_b5097</br>\n",
       "<br>\n",
       "<strong>Reaction fluxes</strong><br><br>\n",
       "<div>\n",
       "<style scoped>\n",
       "    .dataframe tbody tr th:only-of-type {\n",
       "        vertical-align: middle;\n",
       "    }\n",
       "\n",
       "    .dataframe tbody tr th {\n",
       "        vertical-align: top;\n",
       "    }\n",
       "\n",
       "    .dataframe thead th {\n",
       "        text-align: right;\n",
       "    }\n",
       "</style>\n",
       "<table border=\"1\" class=\"dataframe\">\n",
       "  <thead>\n",
       "    <tr style=\"text-align: right;\">\n",
       "      <th></th>\n",
       "      <th>1</th>\n",
       "      <th>2</th>\n",
       "      <th>3</th>\n",
       "      <th>4</th>\n",
       "      <th>5</th>\n",
       "      <th>6</th>\n",
       "      <th>7</th>\n",
       "      <th>8</th>\n",
       "      <th>9</th>\n",
       "      <th>10</th>\n",
       "    </tr>\n",
       "  </thead>\n",
       "  <tbody>\n",
       "    <tr>\n",
       "      <th>CS</th>\n",
       "      <td>10.291915</td>\n",
       "      <td>10.291915</td>\n",
       "      <td>10.291915</td>\n",
       "      <td>10.291915</td>\n",
       "      <td>10.291915</td>\n",
       "      <td>10.291915</td>\n",
       "      <td>10.291915</td>\n",
       "      <td>10.291915</td>\n",
       "      <td>10.291915</td>\n",
       "      <td>10.291915</td>\n",
       "    </tr>\n",
       "    <tr>\n",
       "      <th>MDH</th>\n",
       "      <td>1.167660</td>\n",
       "      <td>1.167660</td>\n",
       "      <td>1.167660</td>\n",
       "      <td>1.167660</td>\n",
       "      <td>1.167660</td>\n",
       "      <td>1.167660</td>\n",
       "      <td>1.167660</td>\n",
       "      <td>1.167660</td>\n",
       "      <td>1.167660</td>\n",
       "      <td>1.167660</td>\n",
       "    </tr>\n",
       "    <tr>\n",
       "      <th>FUM</th>\n",
       "      <td>0.583830</td>\n",
       "      <td>0.583830</td>\n",
       "      <td>0.583830</td>\n",
       "      <td>0.583830</td>\n",
       "      <td>0.583830</td>\n",
       "      <td>0.583830</td>\n",
       "      <td>0.583830</td>\n",
       "      <td>0.583830</td>\n",
       "      <td>0.583830</td>\n",
       "      <td>0.583830</td>\n",
       "    </tr>\n",
       "    <tr>\n",
       "      <th>ICL</th>\n",
       "      <td>0.583830</td>\n",
       "      <td>0.583830</td>\n",
       "      <td>0.583830</td>\n",
       "      <td>0.583830</td>\n",
       "      <td>0.583830</td>\n",
       "      <td>0.583830</td>\n",
       "      <td>0.583830</td>\n",
       "      <td>0.583830</td>\n",
       "      <td>0.583830</td>\n",
       "      <td>0.583830</td>\n",
       "    </tr>\n",
       "    <tr>\n",
       "      <th>DHAPT</th>\n",
       "      <td>0.875745</td>\n",
       "      <td>0.875745</td>\n",
       "      <td>0.875745</td>\n",
       "      <td>0.875745</td>\n",
       "      <td>0.875745</td>\n",
       "      <td>0.875745</td>\n",
       "      <td>0.875745</td>\n",
       "      <td>0.875745</td>\n",
       "      <td>0.875745</td>\n",
       "      <td>0.875745</td>\n",
       "    </tr>\n",
       "    <tr>\n",
       "      <th>F6PA</th>\n",
       "      <td>0.875745</td>\n",
       "      <td>0.875745</td>\n",
       "      <td>0.875745</td>\n",
       "      <td>0.875745</td>\n",
       "      <td>0.875745</td>\n",
       "      <td>0.875745</td>\n",
       "      <td>0.875745</td>\n",
       "      <td>0.875745</td>\n",
       "      <td>0.875745</td>\n",
       "      <td>0.875745</td>\n",
       "    </tr>\n",
       "    <tr>\n",
       "      <th>MALS</th>\n",
       "      <td>0.583830</td>\n",
       "      <td>0.583830</td>\n",
       "      <td>0.583830</td>\n",
       "      <td>0.583830</td>\n",
       "      <td>0.583830</td>\n",
       "      <td>0.583830</td>\n",
       "      <td>0.583830</td>\n",
       "      <td>0.583830</td>\n",
       "      <td>0.583830</td>\n",
       "      <td>0.583830</td>\n",
       "    </tr>\n",
       "    <tr>\n",
       "      <th>Htex</th>\n",
       "      <td>-67.956596</td>\n",
       "      <td>-67.956596</td>\n",
       "      <td>-67.956596</td>\n",
       "      <td>-67.956596</td>\n",
       "      <td>-67.956596</td>\n",
       "      <td>-67.956596</td>\n",
       "      <td>-67.956596</td>\n",
       "      <td>-67.956596</td>\n",
       "      <td>-67.956596</td>\n",
       "      <td>-67.956596</td>\n",
       "    </tr>\n",
       "    <tr>\n",
       "      <th>O2tpp</th>\n",
       "      <td>6.605532</td>\n",
       "      <td>6.605532</td>\n",
       "      <td>6.605532</td>\n",
       "      <td>6.605532</td>\n",
       "      <td>6.605532</td>\n",
       "      <td>6.605532</td>\n",
       "      <td>6.605532</td>\n",
       "      <td>6.605532</td>\n",
       "      <td>6.605532</td>\n",
       "      <td>6.605532</td>\n",
       "    </tr>\n",
       "    <tr>\n",
       "      <th>CO2tpp</th>\n",
       "      <td>-21.167660</td>\n",
       "      <td>-21.167660</td>\n",
       "      <td>-21.167660</td>\n",
       "      <td>-21.167660</td>\n",
       "      <td>-21.167660</td>\n",
       "      <td>-21.167660</td>\n",
       "      <td>-21.167660</td>\n",
       "      <td>-21.167660</td>\n",
       "      <td>-21.167660</td>\n",
       "      <td>-21.167660</td>\n",
       "    </tr>\n",
       "    <tr>\n",
       "      <th>O2tex</th>\n",
       "      <td>6.605532</td>\n",
       "      <td>6.605532</td>\n",
       "      <td>6.605532</td>\n",
       "      <td>6.605532</td>\n",
       "      <td>6.605532</td>\n",
       "      <td>6.605532</td>\n",
       "      <td>6.605532</td>\n",
       "      <td>6.605532</td>\n",
       "      <td>6.605532</td>\n",
       "      <td>6.605532</td>\n",
       "    </tr>\n",
       "    <tr>\n",
       "      <th>CO2tex</th>\n",
       "      <td>-21.167660</td>\n",
       "      <td>-21.167660</td>\n",
       "      <td>-21.167660</td>\n",
       "      <td>-21.167660</td>\n",
       "      <td>-21.167660</td>\n",
       "      <td>-21.167660</td>\n",
       "      <td>-21.167660</td>\n",
       "      <td>-21.167660</td>\n",
       "      <td>-21.167660</td>\n",
       "      <td>-21.167660</td>\n",
       "    </tr>\n",
       "    <tr>\n",
       "      <th>PDH</th>\n",
       "      <td>10.875745</td>\n",
       "      <td>10.875745</td>\n",
       "      <td>10.875745</td>\n",
       "      <td>10.875745</td>\n",
       "      <td>10.875745</td>\n",
       "      <td>10.875745</td>\n",
       "      <td>10.875745</td>\n",
       "      <td>10.875745</td>\n",
       "      <td>10.875745</td>\n",
       "      <td>10.875745</td>\n",
       "    </tr>\n",
       "    <tr>\n",
       "      <th>CYTBO3_4pp</th>\n",
       "      <td>13.211064</td>\n",
       "      <td>13.211064</td>\n",
       "      <td>13.211064</td>\n",
       "      <td>13.211064</td>\n",
       "      <td>13.211064</td>\n",
       "      <td>13.211064</td>\n",
       "      <td>13.211064</td>\n",
       "      <td>13.211064</td>\n",
       "      <td>13.211064</td>\n",
       "      <td>13.211064</td>\n",
       "    </tr>\n",
       "    <tr>\n",
       "      <th>ACONTb</th>\n",
       "      <td>10.291915</td>\n",
       "      <td>10.291915</td>\n",
       "      <td>10.291915</td>\n",
       "      <td>10.291915</td>\n",
       "      <td>10.291915</td>\n",
       "      <td>10.291915</td>\n",
       "      <td>10.291915</td>\n",
       "      <td>10.291915</td>\n",
       "      <td>10.291915</td>\n",
       "      <td>10.291915</td>\n",
       "    </tr>\n",
       "    <tr>\n",
       "      <th>SUCDi</th>\n",
       "      <td>0.583830</td>\n",
       "      <td>0.583830</td>\n",
       "      <td>0.583830</td>\n",
       "      <td>0.583830</td>\n",
       "      <td>0.583830</td>\n",
       "      <td>0.583830</td>\n",
       "      <td>0.583830</td>\n",
       "      <td>0.583830</td>\n",
       "      <td>0.583830</td>\n",
       "      <td>0.583830</td>\n",
       "    </tr>\n",
       "    <tr>\n",
       "      <th>ACONTa</th>\n",
       "      <td>10.291915</td>\n",
       "      <td>10.291915</td>\n",
       "      <td>10.291915</td>\n",
       "      <td>10.291915</td>\n",
       "      <td>10.291915</td>\n",
       "      <td>10.291915</td>\n",
       "      <td>10.291915</td>\n",
       "      <td>10.291915</td>\n",
       "      <td>10.291915</td>\n",
       "      <td>10.291915</td>\n",
       "    </tr>\n",
       "    <tr>\n",
       "      <th>EX_bdo</th>\n",
       "      <td>0.873728</td>\n",
       "      <td>1.747455</td>\n",
       "      <td>2.621183</td>\n",
       "      <td>3.494911</td>\n",
       "      <td>4.368638</td>\n",
       "      <td>5.242366</td>\n",
       "      <td>6.116094</td>\n",
       "      <td>6.989821</td>\n",
       "      <td>7.863549</td>\n",
       "      <td>8.737277</td>\n",
       "    </tr>\n",
       "  </tbody>\n",
       "</table>\n",
       "</div>\n"
      ],
      "text/plain": [
       "<cameo.strain_design.deterministic.flux_variability_based.FSEOFResult at 0x1f77f0aef28>"
      ]
     },
     "execution_count": 50,
     "metadata": {},
     "output_type": "execute_result"
    }
   ],
   "source": [
    "from cameo import models\n",
    "from cameo.visualization.plotting.with_plotly import PlotlyPlotter\n",
    "from cameo.strain_design.deterministic.flux_variability_based import FSEOF\n",
    "fseof = FSEOF(model_akg)\n",
    "result_akg=fseof.run(target=model_akg.reactions.EX_bdo)\n",
    "result_akg"
   ]
  },
  {
   "cell_type": "code",
   "execution_count": 52,
   "id": "8d7a99b2-226f-4af4-990e-4277a18624ac",
   "metadata": {},
   "outputs": [
    {
     "data": {
      "application/vnd.plotly.v1+json": {
       "config": {
        "linkText": "Export to plot.ly",
        "plotlyServerURL": "https://plot.ly",
        "showLink": false
       },
       "data": [
        {
         "mode": "lines",
         "name": "CS",
         "type": "scatter",
         "x": [
          0,
          1,
          2,
          3,
          4,
          5,
          6,
          7,
          8,
          9
         ],
         "y": [
          10.291915,
          10.291915,
          10.291915,
          10.291915,
          10.291915,
          10.291915,
          10.291915,
          10.291915,
          10.291915,
          10.291915
         ]
        },
        {
         "mode": "lines",
         "name": "MDH",
         "type": "scatter",
         "x": [
          0,
          1,
          2,
          3,
          4,
          5,
          6,
          7,
          8,
          9
         ],
         "y": [
          1.16766,
          1.16766,
          1.16766,
          1.16766,
          1.16766,
          1.16766,
          1.16766,
          1.16766,
          1.16766,
          1.16766
         ]
        },
        {
         "mode": "lines",
         "name": "FUM",
         "type": "scatter",
         "x": [
          0,
          1,
          2,
          3,
          4,
          5,
          6,
          7,
          8,
          9
         ],
         "y": [
          0.58383,
          0.58383,
          0.58383,
          0.58383,
          0.58383,
          0.58383,
          0.58383,
          0.58383,
          0.58383,
          0.58383
         ]
        },
        {
         "mode": "lines",
         "name": "ICL",
         "type": "scatter",
         "x": [
          0,
          1,
          2,
          3,
          4,
          5,
          6,
          7,
          8,
          9
         ],
         "y": [
          0.58383,
          0.58383,
          0.58383,
          0.58383,
          0.58383,
          0.58383,
          0.58383,
          0.58383,
          0.58383,
          0.58383
         ]
        },
        {
         "mode": "lines",
         "name": "DHAPT",
         "type": "scatter",
         "x": [
          0,
          1,
          2,
          3,
          4,
          5,
          6,
          7,
          8,
          9
         ],
         "y": [
          0.875745,
          0.875745,
          0.875745,
          0.875745,
          0.875745,
          0.875745,
          0.875745,
          0.875745,
          0.875745,
          0.875745
         ]
        },
        {
         "mode": "lines",
         "name": "F6PA",
         "type": "scatter",
         "x": [
          0,
          1,
          2,
          3,
          4,
          5,
          6,
          7,
          8,
          9
         ],
         "y": [
          0.875745,
          0.875745,
          0.875745,
          0.875745,
          0.875745,
          0.875745,
          0.875745,
          0.875745,
          0.875745,
          0.875745
         ]
        },
        {
         "mode": "lines",
         "name": "MALS",
         "type": "scatter",
         "x": [
          0,
          1,
          2,
          3,
          4,
          5,
          6,
          7,
          8,
          9
         ],
         "y": [
          0.58383,
          0.58383,
          0.58383,
          0.58383,
          0.58383,
          0.58383,
          0.58383,
          0.58383,
          0.58383,
          0.58383
         ]
        },
        {
         "mode": "lines",
         "name": "Htex",
         "type": "scatter",
         "x": [
          0,
          1,
          2,
          3,
          4,
          5,
          6,
          7,
          8,
          9
         ],
         "y": [
          -67.956596,
          -67.956596,
          -67.956596,
          -67.956596,
          -67.956596,
          -67.956596,
          -67.956596,
          -67.956596,
          -67.956596,
          -67.956596
         ]
        }
       ],
       "layout": {
        "height": 432,
        "template": {
         "data": {
          "bar": [
           {
            "error_x": {
             "color": "#2a3f5f"
            },
            "error_y": {
             "color": "#2a3f5f"
            },
            "marker": {
             "line": {
              "color": "#E5ECF6",
              "width": 0.5
             },
             "pattern": {
              "fillmode": "overlay",
              "size": 10,
              "solidity": 0.2
             }
            },
            "type": "bar"
           }
          ],
          "barpolar": [
           {
            "marker": {
             "line": {
              "color": "#E5ECF6",
              "width": 0.5
             },
             "pattern": {
              "fillmode": "overlay",
              "size": 10,
              "solidity": 0.2
             }
            },
            "type": "barpolar"
           }
          ],
          "carpet": [
           {
            "aaxis": {
             "endlinecolor": "#2a3f5f",
             "gridcolor": "white",
             "linecolor": "white",
             "minorgridcolor": "white",
             "startlinecolor": "#2a3f5f"
            },
            "baxis": {
             "endlinecolor": "#2a3f5f",
             "gridcolor": "white",
             "linecolor": "white",
             "minorgridcolor": "white",
             "startlinecolor": "#2a3f5f"
            },
            "type": "carpet"
           }
          ],
          "choropleth": [
           {
            "colorbar": {
             "outlinewidth": 0,
             "ticks": ""
            },
            "type": "choropleth"
           }
          ],
          "contour": [
           {
            "colorbar": {
             "outlinewidth": 0,
             "ticks": ""
            },
            "colorscale": [
             [
              0,
              "#0d0887"
             ],
             [
              0.1111111111111111,
              "#46039f"
             ],
             [
              0.2222222222222222,
              "#7201a8"
             ],
             [
              0.3333333333333333,
              "#9c179e"
             ],
             [
              0.4444444444444444,
              "#bd3786"
             ],
             [
              0.5555555555555556,
              "#d8576b"
             ],
             [
              0.6666666666666666,
              "#ed7953"
             ],
             [
              0.7777777777777778,
              "#fb9f3a"
             ],
             [
              0.8888888888888888,
              "#fdca26"
             ],
             [
              1,
              "#f0f921"
             ]
            ],
            "type": "contour"
           }
          ],
          "contourcarpet": [
           {
            "colorbar": {
             "outlinewidth": 0,
             "ticks": ""
            },
            "type": "contourcarpet"
           }
          ],
          "heatmap": [
           {
            "colorbar": {
             "outlinewidth": 0,
             "ticks": ""
            },
            "colorscale": [
             [
              0,
              "#0d0887"
             ],
             [
              0.1111111111111111,
              "#46039f"
             ],
             [
              0.2222222222222222,
              "#7201a8"
             ],
             [
              0.3333333333333333,
              "#9c179e"
             ],
             [
              0.4444444444444444,
              "#bd3786"
             ],
             [
              0.5555555555555556,
              "#d8576b"
             ],
             [
              0.6666666666666666,
              "#ed7953"
             ],
             [
              0.7777777777777778,
              "#fb9f3a"
             ],
             [
              0.8888888888888888,
              "#fdca26"
             ],
             [
              1,
              "#f0f921"
             ]
            ],
            "type": "heatmap"
           }
          ],
          "heatmapgl": [
           {
            "colorbar": {
             "outlinewidth": 0,
             "ticks": ""
            },
            "colorscale": [
             [
              0,
              "#0d0887"
             ],
             [
              0.1111111111111111,
              "#46039f"
             ],
             [
              0.2222222222222222,
              "#7201a8"
             ],
             [
              0.3333333333333333,
              "#9c179e"
             ],
             [
              0.4444444444444444,
              "#bd3786"
             ],
             [
              0.5555555555555556,
              "#d8576b"
             ],
             [
              0.6666666666666666,
              "#ed7953"
             ],
             [
              0.7777777777777778,
              "#fb9f3a"
             ],
             [
              0.8888888888888888,
              "#fdca26"
             ],
             [
              1,
              "#f0f921"
             ]
            ],
            "type": "heatmapgl"
           }
          ],
          "histogram": [
           {
            "marker": {
             "pattern": {
              "fillmode": "overlay",
              "size": 10,
              "solidity": 0.2
             }
            },
            "type": "histogram"
           }
          ],
          "histogram2d": [
           {
            "colorbar": {
             "outlinewidth": 0,
             "ticks": ""
            },
            "colorscale": [
             [
              0,
              "#0d0887"
             ],
             [
              0.1111111111111111,
              "#46039f"
             ],
             [
              0.2222222222222222,
              "#7201a8"
             ],
             [
              0.3333333333333333,
              "#9c179e"
             ],
             [
              0.4444444444444444,
              "#bd3786"
             ],
             [
              0.5555555555555556,
              "#d8576b"
             ],
             [
              0.6666666666666666,
              "#ed7953"
             ],
             [
              0.7777777777777778,
              "#fb9f3a"
             ],
             [
              0.8888888888888888,
              "#fdca26"
             ],
             [
              1,
              "#f0f921"
             ]
            ],
            "type": "histogram2d"
           }
          ],
          "histogram2dcontour": [
           {
            "colorbar": {
             "outlinewidth": 0,
             "ticks": ""
            },
            "colorscale": [
             [
              0,
              "#0d0887"
             ],
             [
              0.1111111111111111,
              "#46039f"
             ],
             [
              0.2222222222222222,
              "#7201a8"
             ],
             [
              0.3333333333333333,
              "#9c179e"
             ],
             [
              0.4444444444444444,
              "#bd3786"
             ],
             [
              0.5555555555555556,
              "#d8576b"
             ],
             [
              0.6666666666666666,
              "#ed7953"
             ],
             [
              0.7777777777777778,
              "#fb9f3a"
             ],
             [
              0.8888888888888888,
              "#fdca26"
             ],
             [
              1,
              "#f0f921"
             ]
            ],
            "type": "histogram2dcontour"
           }
          ],
          "mesh3d": [
           {
            "colorbar": {
             "outlinewidth": 0,
             "ticks": ""
            },
            "type": "mesh3d"
           }
          ],
          "parcoords": [
           {
            "line": {
             "colorbar": {
              "outlinewidth": 0,
              "ticks": ""
             }
            },
            "type": "parcoords"
           }
          ],
          "pie": [
           {
            "automargin": true,
            "type": "pie"
           }
          ],
          "scatter": [
           {
            "marker": {
             "colorbar": {
              "outlinewidth": 0,
              "ticks": ""
             }
            },
            "type": "scatter"
           }
          ],
          "scatter3d": [
           {
            "line": {
             "colorbar": {
              "outlinewidth": 0,
              "ticks": ""
             }
            },
            "marker": {
             "colorbar": {
              "outlinewidth": 0,
              "ticks": ""
             }
            },
            "type": "scatter3d"
           }
          ],
          "scattercarpet": [
           {
            "marker": {
             "colorbar": {
              "outlinewidth": 0,
              "ticks": ""
             }
            },
            "type": "scattercarpet"
           }
          ],
          "scattergeo": [
           {
            "marker": {
             "colorbar": {
              "outlinewidth": 0,
              "ticks": ""
             }
            },
            "type": "scattergeo"
           }
          ],
          "scattergl": [
           {
            "marker": {
             "colorbar": {
              "outlinewidth": 0,
              "ticks": ""
             }
            },
            "type": "scattergl"
           }
          ],
          "scattermapbox": [
           {
            "marker": {
             "colorbar": {
              "outlinewidth": 0,
              "ticks": ""
             }
            },
            "type": "scattermapbox"
           }
          ],
          "scatterpolar": [
           {
            "marker": {
             "colorbar": {
              "outlinewidth": 0,
              "ticks": ""
             }
            },
            "type": "scatterpolar"
           }
          ],
          "scatterpolargl": [
           {
            "marker": {
             "colorbar": {
              "outlinewidth": 0,
              "ticks": ""
             }
            },
            "type": "scatterpolargl"
           }
          ],
          "scatterternary": [
           {
            "marker": {
             "colorbar": {
              "outlinewidth": 0,
              "ticks": ""
             }
            },
            "type": "scatterternary"
           }
          ],
          "surface": [
           {
            "colorbar": {
             "outlinewidth": 0,
             "ticks": ""
            },
            "colorscale": [
             [
              0,
              "#0d0887"
             ],
             [
              0.1111111111111111,
              "#46039f"
             ],
             [
              0.2222222222222222,
              "#7201a8"
             ],
             [
              0.3333333333333333,
              "#9c179e"
             ],
             [
              0.4444444444444444,
              "#bd3786"
             ],
             [
              0.5555555555555556,
              "#d8576b"
             ],
             [
              0.6666666666666666,
              "#ed7953"
             ],
             [
              0.7777777777777778,
              "#fb9f3a"
             ],
             [
              0.8888888888888888,
              "#fdca26"
             ],
             [
              1,
              "#f0f921"
             ]
            ],
            "type": "surface"
           }
          ],
          "table": [
           {
            "cells": {
             "fill": {
              "color": "#EBF0F8"
             },
             "line": {
              "color": "white"
             }
            },
            "header": {
             "fill": {
              "color": "#C8D4E3"
             },
             "line": {
              "color": "white"
             }
            },
            "type": "table"
           }
          ]
         },
         "layout": {
          "annotationdefaults": {
           "arrowcolor": "#2a3f5f",
           "arrowhead": 0,
           "arrowwidth": 1
          },
          "autotypenumbers": "strict",
          "coloraxis": {
           "colorbar": {
            "outlinewidth": 0,
            "ticks": ""
           }
          },
          "colorscale": {
           "diverging": [
            [
             0,
             "#8e0152"
            ],
            [
             0.1,
             "#c51b7d"
            ],
            [
             0.2,
             "#de77ae"
            ],
            [
             0.3,
             "#f1b6da"
            ],
            [
             0.4,
             "#fde0ef"
            ],
            [
             0.5,
             "#f7f7f7"
            ],
            [
             0.6,
             "#e6f5d0"
            ],
            [
             0.7,
             "#b8e186"
            ],
            [
             0.8,
             "#7fbc41"
            ],
            [
             0.9,
             "#4d9221"
            ],
            [
             1,
             "#276419"
            ]
           ],
           "sequential": [
            [
             0,
             "#0d0887"
            ],
            [
             0.1111111111111111,
             "#46039f"
            ],
            [
             0.2222222222222222,
             "#7201a8"
            ],
            [
             0.3333333333333333,
             "#9c179e"
            ],
            [
             0.4444444444444444,
             "#bd3786"
            ],
            [
             0.5555555555555556,
             "#d8576b"
            ],
            [
             0.6666666666666666,
             "#ed7953"
            ],
            [
             0.7777777777777778,
             "#fb9f3a"
            ],
            [
             0.8888888888888888,
             "#fdca26"
            ],
            [
             1,
             "#f0f921"
            ]
           ],
           "sequentialminus": [
            [
             0,
             "#0d0887"
            ],
            [
             0.1111111111111111,
             "#46039f"
            ],
            [
             0.2222222222222222,
             "#7201a8"
            ],
            [
             0.3333333333333333,
             "#9c179e"
            ],
            [
             0.4444444444444444,
             "#bd3786"
            ],
            [
             0.5555555555555556,
             "#d8576b"
            ],
            [
             0.6666666666666666,
             "#ed7953"
            ],
            [
             0.7777777777777778,
             "#fb9f3a"
            ],
            [
             0.8888888888888888,
             "#fdca26"
            ],
            [
             1,
             "#f0f921"
            ]
           ]
          },
          "colorway": [
           "#636efa",
           "#EF553B",
           "#00cc96",
           "#ab63fa",
           "#FFA15A",
           "#19d3f3",
           "#FF6692",
           "#B6E880",
           "#FF97FF",
           "#FECB52"
          ],
          "font": {
           "color": "#2a3f5f"
          },
          "geo": {
           "bgcolor": "white",
           "lakecolor": "white",
           "landcolor": "#E5ECF6",
           "showlakes": true,
           "showland": true,
           "subunitcolor": "white"
          },
          "hoverlabel": {
           "align": "left"
          },
          "hovermode": "closest",
          "mapbox": {
           "style": "light"
          },
          "paper_bgcolor": "white",
          "plot_bgcolor": "#E5ECF6",
          "polar": {
           "angularaxis": {
            "gridcolor": "white",
            "linecolor": "white",
            "ticks": ""
           },
           "bgcolor": "#E5ECF6",
           "radialaxis": {
            "gridcolor": "white",
            "linecolor": "white",
            "ticks": ""
           }
          },
          "scene": {
           "xaxis": {
            "backgroundcolor": "#E5ECF6",
            "gridcolor": "white",
            "gridwidth": 2,
            "linecolor": "white",
            "showbackground": true,
            "ticks": "",
            "zerolinecolor": "white"
           },
           "yaxis": {
            "backgroundcolor": "#E5ECF6",
            "gridcolor": "white",
            "gridwidth": 2,
            "linecolor": "white",
            "showbackground": true,
            "ticks": "",
            "zerolinecolor": "white"
           },
           "zaxis": {
            "backgroundcolor": "#E5ECF6",
            "gridcolor": "white",
            "gridwidth": 2,
            "linecolor": "white",
            "showbackground": true,
            "ticks": "",
            "zerolinecolor": "white"
           }
          },
          "shapedefaults": {
           "line": {
            "color": "#2a3f5f"
           }
          },
          "ternary": {
           "aaxis": {
            "gridcolor": "white",
            "linecolor": "white",
            "ticks": ""
           },
           "baxis": {
            "gridcolor": "white",
            "linecolor": "white",
            "ticks": ""
           },
           "bgcolor": "#E5ECF6",
           "caxis": {
            "gridcolor": "white",
            "linecolor": "white",
            "ticks": ""
           }
          },
          "title": {
           "x": 0.05
          },
          "xaxis": {
           "automargin": true,
           "gridcolor": "white",
           "linecolor": "white",
           "ticks": "",
           "title": {
            "standoff": 15
           },
           "zerolinecolor": "white",
           "zerolinewidth": 2
          },
          "yaxis": {
           "automargin": true,
           "gridcolor": "white",
           "linecolor": "white",
           "ticks": "",
           "title": {
            "standoff": 15
           },
           "zerolinecolor": "white",
           "zerolinewidth": 2
          }
         }
        },
        "title": {
         "text": "FSEOF fluxes"
        },
        "width": 700,
        "xaxis": {
         "autorange": true,
         "range": [
          0,
          9
         ],
         "type": "linear"
        },
        "yaxis": {
         "autorange": true,
         "range": [
          -72.3037355,
          14.6390545
         ],
         "type": "linear"
        }
       }
      },
      "image/png": "[encoded data removed]",
      "text/html": [
       "<div>                            <div id=\"ab253fea-0b8a-4af0-af7d-1037bafc2cdc\" class=\"plotly-graph-div\" style=\"height:432px; width:700px;\"></div>            <script type=\"text/javascript\">                require([\"plotly\"], function(Plotly) {                    window.PLOTLYENV=window.PLOTLYENV || {};                                    if (document.getElementById(\"ab253fea-0b8a-4af0-af7d-1037bafc2cdc\")) {                    Plotly.newPlot(                        \"ab253fea-0b8a-4af0-af7d-1037bafc2cdc\",                        [{\"mode\":\"lines\",\"name\":\"CS\",\"x\":[0,1,2,3,4,5,6,7,8,9],\"y\":[10.291915,10.291915,10.291915,10.291915,10.291915,10.291915,10.291915,10.291915,10.291915,10.291915],\"type\":\"scatter\"},{\"mode\":\"lines\",\"name\":\"MDH\",\"x\":[0,1,2,3,4,5,6,7,8,9],\"y\":[1.16766,1.16766,1.16766,1.16766,1.16766,1.16766,1.16766,1.16766,1.16766,1.16766],\"type\":\"scatter\"},{\"mode\":\"lines\",\"name\":\"FUM\",\"x\":[0,1,2,3,4,5,6,7,8,9],\"y\":[0.58383,0.58383,0.58383,0.58383,0.58383,0.58383,0.58383,0.58383,0.58383,0.58383],\"type\":\"scatter\"},{\"mode\":\"lines\",\"name\":\"ICL\",\"x\":[0,1,2,3,4,5,6,7,8,9],\"y\":[0.58383,0.58383,0.58383,0.58383,0.58383,0.58383,0.58383,0.58383,0.58383,0.58383],\"type\":\"scatter\"},{\"mode\":\"lines\",\"name\":\"DHAPT\",\"x\":[0,1,2,3,4,5,6,7,8,9],\"y\":[0.875745,0.875745,0.875745,0.875745,0.875745,0.875745,0.875745,0.875745,0.875745,0.875745],\"type\":\"scatter\"},{\"mode\":\"lines\",\"name\":\"F6PA\",\"x\":[0,1,2,3,4,5,6,7,8,9],\"y\":[0.875745,0.875745,0.875745,0.875745,0.875745,0.875745,0.875745,0.875745,0.875745,0.875745],\"type\":\"scatter\"},{\"mode\":\"lines\",\"name\":\"MALS\",\"x\":[0,1,2,3,4,5,6,7,8,9],\"y\":[0.58383,0.58383,0.58383,0.58383,0.58383,0.58383,0.58383,0.58383,0.58383,0.58383],\"type\":\"scatter\"},{\"mode\":\"lines\",\"name\":\"Htex\",\"x\":[0,1,2,3,4,5,6,7,8,9],\"y\":[-67.956596,-67.956596,-67.956596,-67.956596,-67.956596,-67.956596,-67.956596,-67.956596,-67.956596,-67.956596],\"type\":\"scatter\"}],                        {\"height\":432,\"template\":{\"data\":{\"barpolar\":[{\"marker\":{\"line\":{\"color\":\"#E5ECF6\",\"width\":0.5},\"pattern\":{\"fillmode\":\"overlay\",\"size\":10,\"solidity\":0.2}},\"type\":\"barpolar\"}],\"bar\":[{\"error_x\":{\"color\":\"#2a3f5f\"},\"error_y\":{\"color\":\"#2a3f5f\"},\"marker\":{\"line\":{\"color\":\"#E5ECF6\",\"width\":0.5},\"pattern\":{\"fillmode\":\"overlay\",\"size\":10,\"solidity\":0.2}},\"type\":\"bar\"}],\"carpet\":[{\"aaxis\":{\"endlinecolor\":\"#2a3f5f\",\"gridcolor\":\"white\",\"linecolor\":\"white\",\"minorgridcolor\":\"white\",\"startlinecolor\":\"#2a3f5f\"},\"baxis\":{\"endlinecolor\":\"#2a3f5f\",\"gridcolor\":\"white\",\"linecolor\":\"white\",\"minorgridcolor\":\"white\",\"startlinecolor\":\"#2a3f5f\"},\"type\":\"carpet\"}],\"choropleth\":[{\"colorbar\":{\"outlinewidth\":0,\"ticks\":\"\"},\"type\":\"choropleth\"}],\"contourcarpet\":[{\"colorbar\":{\"outlinewidth\":0,\"ticks\":\"\"},\"type\":\"contourcarpet\"}],\"contour\":[{\"colorbar\":{\"outlinewidth\":0,\"ticks\":\"\"},\"colorscale\":[[0.0,\"#0d0887\"],[0.1111111111111111,\"#46039f\"],[0.2222222222222222,\"#7201a8\"],[0.3333333333333333,\"#9c179e\"],[0.4444444444444444,\"#bd3786\"],[0.5555555555555556,\"#d8576b\"],[0.6666666666666666,\"#ed7953\"],[0.7777777777777778,\"#fb9f3a\"],[0.8888888888888888,\"#fdca26\"],[1.0,\"#f0f921\"]],\"type\":\"contour\"}],\"heatmapgl\":[{\"colorbar\":{\"outlinewidth\":0,\"ticks\":\"\"},\"colorscale\":[[0.0,\"#0d0887\"],[0.1111111111111111,\"#46039f\"],[0.2222222222222222,\"#7201a8\"],[0.3333333333333333,\"#9c179e\"],[0.4444444444444444,\"#bd3786\"],[0.5555555555555556,\"#d8576b\"],[0.6666666666666666,\"#ed7953\"],[0.7777777777777778,\"#fb9f3a\"],[0.8888888888888888,\"#fdca26\"],[1.0,\"#f0f921\"]],\"type\":\"heatmapgl\"}],\"heatmap\":[{\"colorbar\":{\"outlinewidth\":0,\"ticks\":\"\"},\"colorscale\":[[0.0,\"#0d0887\"],[0.1111111111111111,\"#46039f\"],[0.2222222222222222,\"#7201a8\"],[0.3333333333333333,\"#9c179e\"],[0.4444444444444444,\"#bd3786\"],[0.5555555555555556,\"#d8576b\"],[0.6666666666666666,\"#ed7953\"],[0.7777777777777778,\"#fb9f3a\"],[0.8888888888888888,\"#fdca26\"],[1.0,\"#f0f921\"]],\"type\":\"heatmap\"}],\"histogram2dcontour\":[{\"colorbar\":{\"outlinewidth\":0,\"ticks\":\"\"},\"colorscale\":[[0.0,\"#0d0887\"],[0.1111111111111111,\"#46039f\"],[0.2222222222222222,\"#7201a8\"],[0.3333333333333333,\"#9c179e\"],[0.4444444444444444,\"#bd3786\"],[0.5555555555555556,\"#d8576b\"],[0.6666666666666666,\"#ed7953\"],[0.7777777777777778,\"#fb9f3a\"],[0.8888888888888888,\"#fdca26\"],[1.0,\"#f0f921\"]],\"type\":\"histogram2dcontour\"}],\"histogram2d\":[{\"colorbar\":{\"outlinewidth\":0,\"ticks\":\"\"},\"colorscale\":[[0.0,\"#0d0887\"],[0.1111111111111111,\"#46039f\"],[0.2222222222222222,\"#7201a8\"],[0.3333333333333333,\"#9c179e\"],[0.4444444444444444,\"#bd3786\"],[0.5555555555555556,\"#d8576b\"],[0.6666666666666666,\"#ed7953\"],[0.7777777777777778,\"#fb9f3a\"],[0.8888888888888888,\"#fdca26\"],[1.0,\"#f0f921\"]],\"type\":\"histogram2d\"}],\"histogram\":[{\"marker\":{\"pattern\":{\"fillmode\":\"overlay\",\"size\":10,\"solidity\":0.2}},\"type\":\"histogram\"}],\"mesh3d\":[{\"colorbar\":{\"outlinewidth\":0,\"ticks\":\"\"},\"type\":\"mesh3d\"}],\"parcoords\":[{\"line\":{\"colorbar\":{\"outlinewidth\":0,\"ticks\":\"\"}},\"type\":\"parcoords\"}],\"pie\":[{\"automargin\":true,\"type\":\"pie\"}],\"scatter3d\":[{\"line\":{\"colorbar\":{\"outlinewidth\":0,\"ticks\":\"\"}},\"marker\":{\"colorbar\":{\"outlinewidth\":0,\"ticks\":\"\"}},\"type\":\"scatter3d\"}],\"scattercarpet\":[{\"marker\":{\"colorbar\":{\"outlinewidth\":0,\"ticks\":\"\"}},\"type\":\"scattercarpet\"}],\"scattergeo\":[{\"marker\":{\"colorbar\":{\"outlinewidth\":0,\"ticks\":\"\"}},\"type\":\"scattergeo\"}],\"scattergl\":[{\"marker\":{\"colorbar\":{\"outlinewidth\":0,\"ticks\":\"\"}},\"type\":\"scattergl\"}],\"scattermapbox\":[{\"marker\":{\"colorbar\":{\"outlinewidth\":0,\"ticks\":\"\"}},\"type\":\"scattermapbox\"}],\"scatterpolargl\":[{\"marker\":{\"colorbar\":{\"outlinewidth\":0,\"ticks\":\"\"}},\"type\":\"scatterpolargl\"}],\"scatterpolar\":[{\"marker\":{\"colorbar\":{\"outlinewidth\":0,\"ticks\":\"\"}},\"type\":\"scatterpolar\"}],\"scatter\":[{\"marker\":{\"colorbar\":{\"outlinewidth\":0,\"ticks\":\"\"}},\"type\":\"scatter\"}],\"scatterternary\":[{\"marker\":{\"colorbar\":{\"outlinewidth\":0,\"ticks\":\"\"}},\"type\":\"scatterternary\"}],\"surface\":[{\"colorbar\":{\"outlinewidth\":0,\"ticks\":\"\"},\"colorscale\":[[0.0,\"#0d0887\"],[0.1111111111111111,\"#46039f\"],[0.2222222222222222,\"#7201a8\"],[0.3333333333333333,\"#9c179e\"],[0.4444444444444444,\"#bd3786\"],[0.5555555555555556,\"#d8576b\"],[0.6666666666666666,\"#ed7953\"],[0.7777777777777778,\"#fb9f3a\"],[0.8888888888888888,\"#fdca26\"],[1.0,\"#f0f921\"]],\"type\":\"surface\"}],\"table\":[{\"cells\":{\"fill\":{\"color\":\"#EBF0F8\"},\"line\":{\"color\":\"white\"}},\"header\":{\"fill\":{\"color\":\"#C8D4E3\"},\"line\":{\"color\":\"white\"}},\"type\":\"table\"}]},\"layout\":{\"annotationdefaults\":{\"arrowcolor\":\"#2a3f5f\",\"arrowhead\":0,\"arrowwidth\":1},\"autotypenumbers\":\"strict\",\"coloraxis\":{\"colorbar\":{\"outlinewidth\":0,\"ticks\":\"\"}},\"colorscale\":{\"diverging\":[[0,\"#8e0152\"],[0.1,\"#c51b7d\"],[0.2,\"#de77ae\"],[0.3,\"#f1b6da\"],[0.4,\"#fde0ef\"],[0.5,\"#f7f7f7\"],[0.6,\"#e6f5d0\"],[0.7,\"#b8e186\"],[0.8,\"#7fbc41\"],[0.9,\"#4d9221\"],[1,\"#276419\"]],\"sequential\":[[0.0,\"#0d0887\"],[0.1111111111111111,\"#46039f\"],[0.2222222222222222,\"#7201a8\"],[0.3333333333333333,\"#9c179e\"],[0.4444444444444444,\"#bd3786\"],[0.5555555555555556,\"#d8576b\"],[0.6666666666666666,\"#ed7953\"],[0.7777777777777778,\"#fb9f3a\"],[0.8888888888888888,\"#fdca26\"],[1.0,\"#f0f921\"]],\"sequentialminus\":[[0.0,\"#0d0887\"],[0.1111111111111111,\"#46039f\"],[0.2222222222222222,\"#7201a8\"],[0.3333333333333333,\"#9c179e\"],[0.4444444444444444,\"#bd3786\"],[0.5555555555555556,\"#d8576b\"],[0.6666666666666666,\"#ed7953\"],[0.7777777777777778,\"#fb9f3a\"],[0.8888888888888888,\"#fdca26\"],[1.0,\"#f0f921\"]]},\"colorway\":[\"#636efa\",\"#EF553B\",\"#00cc96\",\"#ab63fa\",\"#FFA15A\",\"#19d3f3\",\"#FF6692\",\"#B6E880\",\"#FF97FF\",\"#FECB52\"],\"font\":{\"color\":\"#2a3f5f\"},\"geo\":{\"bgcolor\":\"white\",\"lakecolor\":\"white\",\"landcolor\":\"#E5ECF6\",\"showlakes\":true,\"showland\":true,\"subunitcolor\":\"white\"},\"hoverlabel\":{\"align\":\"left\"},\"hovermode\":\"closest\",\"mapbox\":{\"style\":\"light\"},\"paper_bgcolor\":\"white\",\"plot_bgcolor\":\"#E5ECF6\",\"polar\":{\"angularaxis\":{\"gridcolor\":\"white\",\"linecolor\":\"white\",\"ticks\":\"\"},\"bgcolor\":\"#E5ECF6\",\"radialaxis\":{\"gridcolor\":\"white\",\"linecolor\":\"white\",\"ticks\":\"\"}},\"scene\":{\"xaxis\":{\"backgroundcolor\":\"#E5ECF6\",\"gridcolor\":\"white\",\"gridwidth\":2,\"linecolor\":\"white\",\"showbackground\":true,\"ticks\":\"\",\"zerolinecolor\":\"white\"},\"yaxis\":{\"backgroundcolor\":\"#E5ECF6\",\"gridcolor\":\"white\",\"gridwidth\":2,\"linecolor\":\"white\",\"showbackground\":true,\"ticks\":\"\",\"zerolinecolor\":\"white\"},\"zaxis\":{\"backgroundcolor\":\"#E5ECF6\",\"gridcolor\":\"white\",\"gridwidth\":2,\"linecolor\":\"white\",\"showbackground\":true,\"ticks\":\"\",\"zerolinecolor\":\"white\"}},\"shapedefaults\":{\"line\":{\"color\":\"#2a3f5f\"}},\"ternary\":{\"aaxis\":{\"gridcolor\":\"white\",\"linecolor\":\"white\",\"ticks\":\"\"},\"baxis\":{\"gridcolor\":\"white\",\"linecolor\":\"white\",\"ticks\":\"\"},\"bgcolor\":\"#E5ECF6\",\"caxis\":{\"gridcolor\":\"white\",\"linecolor\":\"white\",\"ticks\":\"\"}},\"title\":{\"x\":0.05},\"xaxis\":{\"automargin\":true,\"gridcolor\":\"white\",\"linecolor\":\"white\",\"ticks\":\"\",\"title\":{\"standoff\":15},\"zerolinecolor\":\"white\",\"zerolinewidth\":2},\"yaxis\":{\"automargin\":true,\"gridcolor\":\"white\",\"linecolor\":\"white\",\"ticks\":\"\",\"title\":{\"standoff\":15},\"zerolinecolor\":\"white\",\"zerolinewidth\":2}}},\"title\":{\"text\":\"FSEOF fluxes\"},\"width\":700},                        {\"responsive\": true}                    ).then(function(){\n",
       "                            \n",
       "var gd = document.getElementById('ab253fea-0b8a-4af0-af7d-1037bafc2cdc');\n",
       "var x = new MutationObserver(function (mutations, observer) {{\n",
       "        var display = window.getComputedStyle(gd).display;\n",
       "        if (!display || display === 'none') {{\n",
       "            console.log([gd, 'removed!']);\n",
       "            Plotly.purge(gd);\n",
       "            observer.disconnect();\n",
       "        }}\n",
       "}});\n",
       "\n",
       "// Listen for the removal of the full notebook cells\n",
       "var notebookContainer = gd.closest('#notebook-container');\n",
       "if (notebookContainer) {{\n",
       "    x.observe(notebookContainer, {childList: true});\n",
       "}}\n",
       "\n",
       "// Listen for the clearing of the current output cell\n",
       "var outputEl = gd.closest('.output');\n",
       "if (outputEl) {{\n",
       "    x.observe(outputEl, {childList: true});\n",
       "}}\n",
       "\n",
       "                        })                };                });            </script>        </div>"
      ]
     },
     "metadata": {},
     "output_type": "display_data"
    }
   ],
   "source": [
    "result_akg.plot(plotter)"
   ]
  },
  {
   "cell_type": "code",
   "execution_count": 53,
   "id": "ee29e593-02a8-4924-a62c-2bc544c1f540",
   "metadata": {},
   "outputs": [
    {
     "data": {
      "text/plain": [
       "['__add__',\n",
       " '__class__',\n",
       " '__delattr__',\n",
       " '__dict__',\n",
       " '__dir__',\n",
       " '__doc__',\n",
       " '__eq__',\n",
       " '__format__',\n",
       " '__ge__',\n",
       " '__getattribute__',\n",
       " '__gt__',\n",
       " '__hash__',\n",
       " '__init__',\n",
       " '__init_subclass__',\n",
       " '__iter__',\n",
       " '__le__',\n",
       " '__len__',\n",
       " '__lt__',\n",
       " '__method_name__',\n",
       " '__module__',\n",
       " '__ne__',\n",
       " '__new__',\n",
       " '__reduce__',\n",
       " '__reduce_ex__',\n",
       " '__repr__',\n",
       " '__setattr__',\n",
       " '__sizeof__',\n",
       " '__str__',\n",
       " '__subclasshook__',\n",
       " '__weakref__',\n",
       " '_aggreate_functions_',\n",
       " '_designs',\n",
       " '_enforced_levels',\n",
       " '_generate_designs',\n",
       " '_meta_information',\n",
       " '_model',\n",
       " '_primary_objective',\n",
       " '_reaction_results',\n",
       " '_reactions',\n",
       " '_reference_fluxes',\n",
       " '_repr_html_',\n",
       " '_run_args',\n",
       " '_target',\n",
       " 'data_frame',\n",
       " 'display_on_map',\n",
       " 'enforced_levels',\n",
       " 'meta_information',\n",
       " 'model',\n",
       " 'plot',\n",
       " 'primary_objective',\n",
       " 'reactions',\n",
       " 'run_args',\n",
       " 'target']"
      ]
     },
     "execution_count": 53,
     "metadata": {},
     "output_type": "execute_result"
    }
   ],
   "source": [
    "dir(result_akg)"
   ]
  },
  {
   "cell_type": "code",
   "execution_count": 55,
   "id": "9c2b7b7e-d96e-4a6b-a7cb-c9d4f5c052a5",
   "metadata": {},
   "outputs": [
    {
     "data": {
      "text/plain": [
       "[<Reaction CS at 0x1f77c0c2e10>,\n",
       " <Reaction MDH at 0x1f77c0ed668>,\n",
       " <Reaction FUM at 0x1f77c0ed710>,\n",
       " <Reaction ICL at 0x1f77c2bc940>,\n",
       " <Reaction DHAPT at 0x1f77c2cd898>,\n",
       " <Reaction F6PA at 0x1f77c2cde80>,\n",
       " <Reaction MALS at 0x1f77c2def28>,\n",
       " <Reaction Htex at 0x1f77c33bb00>,\n",
       " <Reaction O2tpp at 0x1f77c33beb8>,\n",
       " <Reaction CO2tpp at 0x1f77c355eb8>,\n",
       " <Reaction O2tex at 0x1f77c36e7b8>,\n",
       " <Reaction CO2tex at 0x1f77c424ac8>,\n",
       " <Reaction PDH at 0x1f77c45a828>,\n",
       " <Reaction CYTBO3_4pp at 0x1f77c4dab70>,\n",
       " <Reaction ACONTb at 0x1f77c4f6be0>,\n",
       " <Reaction SUCDi at 0x1f77c50d048>,\n",
       " <Reaction ACONTa at 0x1f77c527160>]"
      ]
     },
     "execution_count": 55,
     "metadata": {},
     "output_type": "execute_result"
    }
   ],
   "source": [
    "result_akg.reactions"
   ]
  },
  {
   "cell_type": "code",
   "execution_count": 40,
   "id": "9b1ac470-5a57-4208-9cc5-f99615848364",
   "metadata": {},
   "outputs": [
    {
     "data": {
      "text/plain": [
       "cobra.core.reaction.Reaction"
      ]
     },
     "execution_count": 40,
     "metadata": {},
     "output_type": "execute_result"
    }
   ],
   "source": []
  },
  {
   "cell_type": "code",
   "execution_count": 45,
   "id": "ad8055d3-4503-473d-9f09-212bb0897c9a",
   "metadata": {},
   "outputs": [
    {
     "name": "stdout",
     "output_type": "stream",
     "text": [
      "Maximize\n",
      "1.0*BIOMASS_Ec_iML1515_core_75p37M - 1.0*BIOMASS_Ec_iML1515_core_75p37M_reverse_35685\n"
     ]
    }
   ],
   "source": []
  },
  {
   "cell_type": "code",
   "execution_count": null,
   "id": "1922b52a-7f68-4b01-9a51-0da6c2431ae2",
   "metadata": {},
   "outputs": [],
   "source": []
  }
 ],
 "metadata": {
  "kernelspec": {
   "display_name": "Python 3",
   "language": "python",
   "name": "python3"
  },
  "language_info": {
   "codemirror_mode": {
    "name": "ipython",
    "version": 3
   },
   "file_extension": ".py",
   "mimetype": "text/x-python",
   "name": "python",
   "nbconvert_exporter": "python",
   "pygments_lexer": "ipython3",
   "version": "3.8.8"
  }
 },
 "nbformat": 4,
 "nbformat_minor": 5
}
