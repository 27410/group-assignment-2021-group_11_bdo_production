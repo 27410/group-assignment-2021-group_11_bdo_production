{
 "cells": [
  {
   "cell_type": "code",
   "execution_count": 5,
   "id": "6d1f719e",
   "metadata": {},
   "outputs": [
    {
     "data": {
      "text/html": [
       "\n",
       "        <table>\n",
       "            <tr>\n",
       "                <td><strong>Name</strong></td>\n",
       "                <td>iML1515</td>\n",
       "            </tr><tr>\n",
       "                <td><strong>Memory address</strong></td>\n",
       "                <td>0x01ab4bb9ca90</td>\n",
       "            </tr><tr>\n",
       "                <td><strong>Number of metabolites</strong></td>\n",
       "                <td>1877</td>\n",
       "            </tr><tr>\n",
       "                <td><strong>Number of reactions</strong></td>\n",
       "                <td>2712</td>\n",
       "            </tr><tr>\n",
       "                <td><strong>Number of groups</strong></td>\n",
       "                <td>0</td>\n",
       "            </tr><tr>\n",
       "                <td><strong>Objective expression</strong></td>\n",
       "                <td>1.0*BIOMASS_Ec_iML1515_core_75p37M - 1.0*BIOMASS_Ec_iML1515_core_75p37M_reverse_35685</td>\n",
       "            </tr><tr>\n",
       "                <td><strong>Compartments</strong></td>\n",
       "                <td>cytosol, extracellular space, periplasm</td>\n",
       "            </tr>\n",
       "          </table>"
      ],
      "text/plain": [
       "<Model iML1515 at 0x1ab4bb9ca90>"
      ]
     },
     "execution_count": 5,
     "metadata": {},
     "output_type": "execute_result"
    }
   ],
   "source": [
    "import pandas as pd\n",
    "import matplotlib.pyplot as plt\n",
    "from cobra.io import read_sbml_model\n",
    "model = read_sbml_model('iML1515.xml.gz')\n",
    "model"
   ]
  },
  {
   "cell_type": "code",
   "execution_count": 6,
   "id": "f08dbbb6",
   "metadata": {},
   "outputs": [
    {
     "data": {
      "text/html": [
       "\n",
       "        <table>\n",
       "            <tr>\n",
       "                <td><strong>Name</strong></td>\n",
       "                <td>iML1515</td>\n",
       "            </tr><tr>\n",
       "                <td><strong>Memory address</strong></td>\n",
       "                <td>0x01ab56309e80</td>\n",
       "            </tr><tr>\n",
       "                <td><strong>Number of metabolites</strong></td>\n",
       "                <td>1877</td>\n",
       "            </tr><tr>\n",
       "                <td><strong>Number of reactions</strong></td>\n",
       "                <td>2712</td>\n",
       "            </tr><tr>\n",
       "                <td><strong>Number of groups</strong></td>\n",
       "                <td>0</td>\n",
       "            </tr><tr>\n",
       "                <td><strong>Objective expression</strong></td>\n",
       "                <td>1.0*BIOMASS_Ec_iML1515_core_75p37M - 1.0*BIOMASS_Ec_iML1515_core_75p37M_reverse_35685</td>\n",
       "            </tr><tr>\n",
       "                <td><strong>Compartments</strong></td>\n",
       "                <td>cytosol, extracellular space, periplasm</td>\n",
       "            </tr>\n",
       "          </table>"
      ],
      "text/plain": [
       "<Model iML1515 at 0x1ab56309e80>"
      ]
     },
     "execution_count": 6,
     "metadata": {},
     "output_type": "execute_result"
    }
   ],
   "source": [
    "model_sucd= model.copy()\n",
    "model_sucd"
   ]
  },
  {
   "cell_type": "code",
   "execution_count": 7,
   "id": "6490bc0e",
   "metadata": {
    "tags": []
   },
   "outputs": [
    {
     "name": "stdout",
     "output_type": "stream",
     "text": [
      "nadh_c + succoa_c --> coa_c + h_c + nad_c + succinyl_semialdehyde_c\n"
     ]
    },
    {
     "data": {
      "text/html": [
       "\n",
       "        <table>\n",
       "            <tr>\n",
       "                <td><strong>Reaction identifier</strong></td><td>SUCD</td>\n",
       "            </tr><tr>\n",
       "                <td><strong>Name</strong></td><td></td>\n",
       "            </tr><tr>\n",
       "                <td><strong>Memory address</strong></td>\n",
       "                <td>0x01ab574fcc18</td>\n",
       "            </tr><tr>\n",
       "                <td><strong>Stoichiometry</strong></td>\n",
       "                <td>\n",
       "                    <p style='text-align:right'>nadh_c + succoa_c --> coa_c + h_c + nad_c + succinyl_semialdehyde_c</p>\n",
       "                    <p style='text-align:right'>Nicotinamide adenine dinucleotide - reduced + Succinyl-CoA --> Coenzyme A + H+ + Nicotinamide adenine dinucleotide +</p>\n",
       "                </td>\n",
       "            </tr><tr>\n",
       "                <td><strong>GPR</strong></td><td></td>\n",
       "            </tr><tr>\n",
       "                <td><strong>Lower bound</strong></td><td>0.0</td>\n",
       "            </tr><tr>\n",
       "                <td><strong>Upper bound</strong></td><td>1000.0</td>\n",
       "            </tr>\n",
       "        </table>\n",
       "        "
      ],
      "text/plain": [
       "<Reaction SUCD at 0x1ab574fcc18>"
      ]
     },
     "execution_count": 7,
     "metadata": {},
     "output_type": "execute_result"
    }
   ],
   "source": [
    "from cobra import Reaction, Metabolite\n",
    "sucd = Reaction('SUCD') #CoA-dependent succinate semialdehyde dehydrogenase\n",
    "succinyl_semialdehyde = Metabolite(id='succinyl_semialdehyde_c', compartment='c')\n",
    "\n",
    "sucd.add_metabolites({model_sucd.metabolites.h_c: 1,\n",
    "                              model_sucd.metabolites.nadh_c: -1,\n",
    "                              model_sucd.metabolites.succoa_c: -1,\n",
    "                              succinyl_semialdehyde: 1, #new one\n",
    "                              model_sucd.metabolites.coa_c: 1,\n",
    "                              model_sucd.metabolites.nad_c: 1\n",
    "                             })\n",
    "print(sucd.build_reaction_string())\n",
    "model_sucd.add_reactions([sucd])\n",
    "model_sucd.reactions.SUCD"
   ]
  },
  {
   "cell_type": "code",
   "execution_count": 8,
   "id": "4fb24470",
   "metadata": {},
   "outputs": [
    {
     "name": "stdout",
     "output_type": "stream",
     "text": [
      "nadh_c + succinyl_semialdehyde_c --> four_hydroxybutyrate_c + h_c + nad_c\n"
     ]
    },
    {
     "data": {
      "text/html": [
       "\n",
       "        <table>\n",
       "            <tr>\n",
       "                <td><strong>Reaction identifier</strong></td><td>FHBD</td>\n",
       "            </tr><tr>\n",
       "                <td><strong>Name</strong></td><td></td>\n",
       "            </tr><tr>\n",
       "                <td><strong>Memory address</strong></td>\n",
       "                <td>0x01ab574fca58</td>\n",
       "            </tr><tr>\n",
       "                <td><strong>Stoichiometry</strong></td>\n",
       "                <td>\n",
       "                    <p style='text-align:right'>nadh_c + succinyl_semialdehyde_c --> four_hydroxybutyrate_c + h_c + nad_c</p>\n",
       "                    <p style='text-align:right'>Nicotinamide adenine dinucleotide - reduced + --> + H+ + Nicotinamide adenine dinucleotide</p>\n",
       "                </td>\n",
       "            </tr><tr>\n",
       "                <td><strong>GPR</strong></td><td></td>\n",
       "            </tr><tr>\n",
       "                <td><strong>Lower bound</strong></td><td>0.0</td>\n",
       "            </tr><tr>\n",
       "                <td><strong>Upper bound</strong></td><td>1000.0</td>\n",
       "            </tr>\n",
       "        </table>\n",
       "        "
      ],
      "text/plain": [
       "<Reaction FHBD at 0x1ab574fca58>"
      ]
     },
     "execution_count": 8,
     "metadata": {},
     "output_type": "execute_result"
    }
   ],
   "source": [
    "from cobra import Reaction, Metabolite\n",
    "fhbd = Reaction('FHBD') #4-hydroxybutyrate dehydrogenase\n",
    "four_hydroxybutyrate = Metabolite(id='four_hydroxybutyrate_c', compartment='c')\n",
    "\n",
    "fhbd.add_metabolites({model_sucd.metabolites.h_c: 1,\n",
    "                              model_sucd.metabolites.nadh_c: -1,\n",
    "                              succinyl_semialdehyde: -1, \n",
    "                              four_hydroxybutyrate: 1, #new one\n",
    "                              model_sucd.metabolites.nad_c: 1\n",
    "                             })\n",
    "print(fhbd.build_reaction_string())\n",
    "model_sucd.add_reactions([fhbd])\n",
    "model_sucd.reactions.FHBD"
   ]
  },
  {
   "cell_type": "code",
   "execution_count": 9,
   "id": "0e6fc5ea",
   "metadata": {},
   "outputs": [
    {
     "name": "stdout",
     "output_type": "stream",
     "text": [
      "accoa_c + four_hydroxybutyrate_c --> ac_c + four_hbcoa_c\n"
     ]
    },
    {
     "data": {
      "text/html": [
       "\n",
       "        <table>\n",
       "            <tr>\n",
       "                <td><strong>Reaction identifier</strong></td><td>HBCT</td>\n",
       "            </tr><tr>\n",
       "                <td><strong>Name</strong></td><td></td>\n",
       "            </tr><tr>\n",
       "                <td><strong>Memory address</strong></td>\n",
       "                <td>0x01ab574fccf8</td>\n",
       "            </tr><tr>\n",
       "                <td><strong>Stoichiometry</strong></td>\n",
       "                <td>\n",
       "                    <p style='text-align:right'>accoa_c + four_hydroxybutyrate_c --> ac_c + four_hbcoa_c</p>\n",
       "                    <p style='text-align:right'>Acetyl-CoA + --> Acetate +</p>\n",
       "                </td>\n",
       "            </tr><tr>\n",
       "                <td><strong>GPR</strong></td><td></td>\n",
       "            </tr><tr>\n",
       "                <td><strong>Lower bound</strong></td><td>0.0</td>\n",
       "            </tr><tr>\n",
       "                <td><strong>Upper bound</strong></td><td>1000.0</td>\n",
       "            </tr>\n",
       "        </table>\n",
       "        "
      ],
      "text/plain": [
       "<Reaction HBCT at 0x1ab574fccf8>"
      ]
     },
     "execution_count": 9,
     "metadata": {},
     "output_type": "execute_result"
    }
   ],
   "source": [
    "from cobra import Reaction, Metabolite\n",
    "hbd_coa_t = Reaction('HBCT') #4-hydroxybutyryl-CoA transferase\n",
    "four_hbcoa = Metabolite(id='four_hbcoa_c', compartment='c')\n",
    "hbd_coa_t.add_metabolites({model_sucd.metabolites.accoa_c: -1,\n",
    "                              model_sucd.metabolites.ac_c: 1,\n",
    "                              four_hbcoa: 1, #new one\n",
    "                              four_hydroxybutyrate: -1\n",
    "                             })\n",
    "print(hbd_coa_t.build_reaction_string())\n",
    "model_sucd.add_reactions([hbd_coa_t])\n",
    "model_sucd.reactions.HBCT"
   ]
  },
  {
   "cell_type": "code",
   "execution_count": 10,
   "id": "ccc8111a",
   "metadata": {},
   "outputs": [
    {
     "name": "stdout",
     "output_type": "stream",
     "text": [
      "four_hbcoa_c + nadh_c --> coa_c + four_hbaldehyde_c + h_c + nad_c\n"
     ]
    },
    {
     "data": {
      "text/html": [
       "\n",
       "        <table>\n",
       "            <tr>\n",
       "                <td><strong>Reaction identifier</strong></td><td>HBCR</td>\n",
       "            </tr><tr>\n",
       "                <td><strong>Name</strong></td><td></td>\n",
       "            </tr><tr>\n",
       "                <td><strong>Memory address</strong></td>\n",
       "                <td>0x01ab57665898</td>\n",
       "            </tr><tr>\n",
       "                <td><strong>Stoichiometry</strong></td>\n",
       "                <td>\n",
       "                    <p style='text-align:right'>four_hbcoa_c + nadh_c --> coa_c + four_hbaldehyde_c + h_c + nad_c</p>\n",
       "                    <p style='text-align:right'>+ Nicotinamide adenine dinucleotide - reduced --> Coenzyme A + + H+ + Nicotinamide adenine dinucleotide</p>\n",
       "                </td>\n",
       "            </tr><tr>\n",
       "                <td><strong>GPR</strong></td><td></td>\n",
       "            </tr><tr>\n",
       "                <td><strong>Lower bound</strong></td><td>0.0</td>\n",
       "            </tr><tr>\n",
       "                <td><strong>Upper bound</strong></td><td>1000.0</td>\n",
       "            </tr>\n",
       "        </table>\n",
       "        "
      ],
      "text/plain": [
       "<Reaction HBCR at 0x1ab57665898>"
      ]
     },
     "execution_count": 10,
     "metadata": {},
     "output_type": "execute_result"
    }
   ],
   "source": [
    "from cobra import Reaction, Metabolite\n",
    "hbd_coa_r = Reaction('HBCR') #4-hydroxybutyryl-CoA reductase\n",
    "four_hbaldehyde = Metabolite(id='four_hbaldehyde_c', compartment='c')\n",
    "hbd_coa_r.add_metabolites({model_sucd.metabolites.h_c: 1,\n",
    "                              model_sucd.metabolites.nadh_c: -1,\n",
    "                              four_hbaldehyde: 1, #new one\n",
    "                              four_hbcoa: -1,\n",
    "                              model_sucd.metabolites.nad_c: 1,\n",
    "                              model_sucd.metabolites.coa_c: 1\n",
    "                             })\n",
    "print(hbd_coa_r.build_reaction_string())\n",
    "model_sucd.add_reactions([hbd_coa_r])\n",
    "model_sucd.reactions.HBCR"
   ]
  },
  {
   "cell_type": "code",
   "execution_count": 11,
   "id": "6502a38a",
   "metadata": {
    "tags": []
   },
   "outputs": [
    {
     "name": "stdout",
     "output_type": "stream",
     "text": [
      "four_hbaldehyde_c + nadh_c --> bdo_c + h_c + nad_c\n"
     ]
    },
    {
     "data": {
      "text/html": [
       "\n",
       "        <table>\n",
       "            <tr>\n",
       "                <td><strong>Reaction identifier</strong></td><td>ADH</td>\n",
       "            </tr><tr>\n",
       "                <td><strong>Name</strong></td><td></td>\n",
       "            </tr><tr>\n",
       "                <td><strong>Memory address</strong></td>\n",
       "                <td>0x01ab57665860</td>\n",
       "            </tr><tr>\n",
       "                <td><strong>Stoichiometry</strong></td>\n",
       "                <td>\n",
       "                    <p style='text-align:right'>four_hbaldehyde_c + nadh_c --> bdo_c + h_c + nad_c</p>\n",
       "                    <p style='text-align:right'>+ Nicotinamide adenine dinucleotide - reduced --> + H+ + Nicotinamide adenine dinucleotide</p>\n",
       "                </td>\n",
       "            </tr><tr>\n",
       "                <td><strong>GPR</strong></td><td></td>\n",
       "            </tr><tr>\n",
       "                <td><strong>Lower bound</strong></td><td>0.0</td>\n",
       "            </tr><tr>\n",
       "                <td><strong>Upper bound</strong></td><td>1000.0</td>\n",
       "            </tr>\n",
       "        </table>\n",
       "        "
      ],
      "text/plain": [
       "<Reaction ADH at 0x1ab57665860>"
      ]
     },
     "execution_count": 11,
     "metadata": {},
     "output_type": "execute_result"
    }
   ],
   "source": [
    "from cobra import Reaction, Metabolite\n",
    "adh= Reaction('ADH') #alcohol dehydrogenase\n",
    "bdo = Metabolite(id='bdo_c', compartment='c')\n",
    "adh.add_metabolites({model_sucd.metabolites.h_c: 1,\n",
    "                              model_sucd.metabolites.nadh_c: -1,\n",
    "                              four_hbaldehyde: -1,\n",
    "                              bdo: 1, #new one\n",
    "                              model_sucd.metabolites.nad_c: 1,\n",
    "                             })\n",
    "print(adh.build_reaction_string())\n",
    "model_sucd.add_reactions([adh])\n",
    "model_sucd.reactions.ADH"
   ]
  },
  {
   "cell_type": "code",
   "execution_count": 30,
   "id": "60b81688",
   "metadata": {},
   "outputs": [
    {
     "name": "stderr",
     "output_type": "stream",
     "text": [
      "Ignoring reaction 'EX_bdo' since it already exists.\n"
     ]
    },
    {
     "ename": "ValueError",
     "evalue": "Boundary reaction 'DM_bdo_c' already exists.",
     "output_type": "error",
     "traceback": [
      "\u001b[1;31m---------------------------------------------------------------------------\u001b[0m",
      "\u001b[1;31mValueError\u001b[0m                                Traceback (most recent call last)",
      "\u001b[1;32m<ipython-input-30-fc2848e420a3>\u001b[0m in \u001b[0;36m<module>\u001b[1;34m\u001b[0m\n\u001b[0;32m      2\u001b[0m \u001b[0mbdo_exchange\u001b[0m\u001b[1;33m.\u001b[0m\u001b[0madd_metabolites\u001b[0m\u001b[1;33m(\u001b[0m\u001b[1;33m{\u001b[0m\u001b[0mmodel_sucd\u001b[0m\u001b[1;33m.\u001b[0m\u001b[0mmetabolites\u001b[0m\u001b[1;33m.\u001b[0m\u001b[0mbdo_c\u001b[0m\u001b[1;33m:\u001b[0m \u001b[1;33m-\u001b[0m\u001b[1;36m1\u001b[0m\u001b[1;33m}\u001b[0m\u001b[1;33m)\u001b[0m\u001b[1;33m\u001b[0m\u001b[1;33m\u001b[0m\u001b[0m\n\u001b[0;32m      3\u001b[0m \u001b[0mmodel_sucd\u001b[0m\u001b[1;33m.\u001b[0m\u001b[0madd_reaction\u001b[0m\u001b[1;33m(\u001b[0m\u001b[0mbdo_exchange\u001b[0m\u001b[1;33m)\u001b[0m\u001b[1;33m\u001b[0m\u001b[1;33m\u001b[0m\u001b[0m\n\u001b[1;32m----> 4\u001b[1;33m \u001b[0mmodel_sucd\u001b[0m\u001b[1;33m.\u001b[0m\u001b[0madd_boundary\u001b[0m\u001b[1;33m(\u001b[0m\u001b[0mmodel_sucd\u001b[0m\u001b[1;33m.\u001b[0m\u001b[0mmetabolites\u001b[0m\u001b[1;33m.\u001b[0m\u001b[0mbdo_c\u001b[0m\u001b[1;33m,\u001b[0m \u001b[0mtype\u001b[0m\u001b[1;33m=\u001b[0m\u001b[1;34m'demand'\u001b[0m\u001b[1;33m)\u001b[0m\u001b[1;33m\u001b[0m\u001b[1;33m\u001b[0m\u001b[0m\n\u001b[0m",
      "\u001b[1;32m~\\anaconda3\\envs\\new carve\\lib\\site-packages\\cobra\\core\\model.py\u001b[0m in \u001b[0;36madd_boundary\u001b[1;34m(self, metabolite, type, reaction_id, lb, ub, sbo_term)\u001b[0m\n\u001b[0;32m    628\u001b[0m         \u001b[1;32mif\u001b[0m \u001b[0mreaction_id\u001b[0m \u001b[1;32min\u001b[0m \u001b[0mself\u001b[0m\u001b[1;33m.\u001b[0m\u001b[0mreactions\u001b[0m\u001b[1;33m:\u001b[0m\u001b[1;33m\u001b[0m\u001b[1;33m\u001b[0m\u001b[0m\n\u001b[0;32m    629\u001b[0m             raise ValueError(\n\u001b[1;32m--> 630\u001b[1;33m                 \u001b[1;34m\"Boundary reaction '{}' already exists.\"\u001b[0m\u001b[1;33m.\u001b[0m\u001b[0mformat\u001b[0m\u001b[1;33m(\u001b[0m\u001b[0mreaction_id\u001b[0m\u001b[1;33m)\u001b[0m\u001b[1;33m\u001b[0m\u001b[1;33m\u001b[0m\u001b[0m\n\u001b[0m\u001b[0;32m    631\u001b[0m             )\n\u001b[0;32m    632\u001b[0m         \u001b[0mname\u001b[0m \u001b[1;33m=\u001b[0m \u001b[1;34m\"{} {}\"\u001b[0m\u001b[1;33m.\u001b[0m\u001b[0mformat\u001b[0m\u001b[1;33m(\u001b[0m\u001b[0mmetabolite\u001b[0m\u001b[1;33m.\u001b[0m\u001b[0mname\u001b[0m\u001b[1;33m,\u001b[0m \u001b[0mtype\u001b[0m\u001b[1;33m)\u001b[0m\u001b[1;33m\u001b[0m\u001b[1;33m\u001b[0m\u001b[0m\n",
      "\u001b[1;31mValueError\u001b[0m: Boundary reaction 'DM_bdo_c' already exists."
     ]
    }
   ],
   "source": [
    "bdo_exchange = Reaction('EX_bdo')\n",
    "bdo_exchange.add_metabolites({model_sucd.metabolites.bdo_c: -1})\n",
    "model_sucd.add_reaction(bdo_exchange)\n",
    "model_sucd.add_boundary(model_sucd.metabolites.bdo_c, type='demand')"
   ]
  },
  {
   "cell_type": "code",
   "execution_count": 13,
   "id": "03536c79",
   "metadata": {},
   "outputs": [
    {
     "name": "stdout",
     "output_type": "stream",
     "text": [
      "9.605894736842117\n"
     ]
    }
   ],
   "source": [
    "with model:\n",
    "    model_sucd.objective=model_sucd.reactions.ADH\n",
    "    optimized = float(model_sucd.optimize().objective_value)\n",
    "    print(optimized)"
   ]
  },
  {
   "cell_type": "code",
   "execution_count": 14,
   "id": "570de4c5",
   "metadata": {},
   "outputs": [
    {
     "name": "stdout",
     "output_type": "stream",
     "text": [
      "-10.0\n"
     ]
    }
   ],
   "source": [
    "uptake = model_sucd.reactions.EX_glc__D_e.flux #uptake <--\n",
    "print(uptake)"
   ]
  },
  {
   "cell_type": "code",
   "execution_count": 15,
   "id": "ac1936d7",
   "metadata": {},
   "outputs": [],
   "source": [
    "#input text\n",
    "Models_yield = dict()\n",
    "Models_yield['one']= optimized\n",
    " \n",
    "#open file\n",
    "file = open(\"SucD Yield calc.txt\", \"w\")\n",
    " \n",
    "#convert variable to string\n",
    "str = repr(Models_yield)\n",
    "file.write(\"Models_yield = \" + str + \"\\n\")\n",
    " \n",
    "#close file\n",
    "file.close()\n",
    " \n",
    "f = open('SucD Yield calc.txt', 'r')\n",
    "if f.mode=='r':\n",
    "    contents= f.read()"
   ]
  },
  {
   "cell_type": "code",
   "execution_count": 16,
   "id": "47d7981e",
   "metadata": {},
   "outputs": [
    {
     "name": "stdout",
     "output_type": "stream",
     "text": [
      "Yield for model SucD = 0.9605894736842118\n"
     ]
    }
   ],
   "source": [
    "print(\"Yield for model SucD =\",(-1)*((Models_yield['one'])/uptake)) # Yield for Model_SucD (Succinate) p-mmol/gl-mmol\n",
    "#it is multiplied by -1 because the reaction is an uptake which means thats goes for the right to the left"
   ]
  },
  {
   "cell_type": "code",
   "execution_count": 17,
   "id": "5cead339",
   "metadata": {},
   "outputs": [
    {
     "data": {
      "text/html": [
       "\n",
       "        <table>\n",
       "            <tr>\n",
       "                <td><strong>Name</strong></td>\n",
       "                <td>iML1515</td>\n",
       "            </tr><tr>\n",
       "                <td><strong>Memory address</strong></td>\n",
       "                <td>0x01ab574fc630</td>\n",
       "            </tr><tr>\n",
       "                <td><strong>Number of metabolites</strong></td>\n",
       "                <td>1877</td>\n",
       "            </tr><tr>\n",
       "                <td><strong>Number of reactions</strong></td>\n",
       "                <td>2712</td>\n",
       "            </tr><tr>\n",
       "                <td><strong>Number of groups</strong></td>\n",
       "                <td>0</td>\n",
       "            </tr><tr>\n",
       "                <td><strong>Objective expression</strong></td>\n",
       "                <td>1.0*BIOMASS_Ec_iML1515_core_75p37M - 1.0*BIOMASS_Ec_iML1515_core_75p37M_reverse_35685</td>\n",
       "            </tr><tr>\n",
       "                <td><strong>Compartments</strong></td>\n",
       "                <td>cytosol, extracellular space, periplasm</td>\n",
       "            </tr>\n",
       "          </table>"
      ],
      "text/plain": [
       "<Model iML1515 at 0x1ab574fc630>"
      ]
     },
     "execution_count": 17,
     "metadata": {},
     "output_type": "execute_result"
    }
   ],
   "source": [
    "model_akg=model.copy()\n",
    "model_akg"
   ]
  },
  {
   "cell_type": "code",
   "execution_count": 18,
   "id": "38341666",
   "metadata": {},
   "outputs": [
    {
     "name": "stdout",
     "output_type": "stream",
     "text": [
      "akg_c --> co2_c + succinyl_semialdehyde_c\n"
     ]
    },
    {
     "data": {
      "text/html": [
       "\n",
       "        <table>\n",
       "            <tr>\n",
       "                <td><strong>Reaction identifier</strong></td><td>OXODC</td>\n",
       "            </tr><tr>\n",
       "                <td><strong>Name</strong></td><td></td>\n",
       "            </tr><tr>\n",
       "                <td><strong>Memory address</strong></td>\n",
       "                <td>0x01ab581cf160</td>\n",
       "            </tr><tr>\n",
       "                <td><strong>Stoichiometry</strong></td>\n",
       "                <td>\n",
       "                    <p style='text-align:right'>akg_c --> co2_c + succinyl_semialdehyde_c</p>\n",
       "                    <p style='text-align:right'>2-Oxoglutarate --> CO2 CO2 +</p>\n",
       "                </td>\n",
       "            </tr><tr>\n",
       "                <td><strong>GPR</strong></td><td></td>\n",
       "            </tr><tr>\n",
       "                <td><strong>Lower bound</strong></td><td>0.0</td>\n",
       "            </tr><tr>\n",
       "                <td><strong>Upper bound</strong></td><td>1000.0</td>\n",
       "            </tr>\n",
       "        </table>\n",
       "        "
      ],
      "text/plain": [
       "<Reaction OXODC at 0x1ab581cf160>"
      ]
     },
     "execution_count": 18,
     "metadata": {},
     "output_type": "execute_result"
    }
   ],
   "source": [
    "from cobra import Reaction, Metabolite\n",
    "oxodc = Reaction('OXODC') #2-oxoglutarate decarboxylase\n",
    "succinyl_semialdehyde = Metabolite(id='succinyl_semialdehyde_c', compartment='c')\n",
    "\n",
    "oxodc.add_metabolites({model_akg.metabolites.akg_c: -1,\n",
    "                              succinyl_semialdehyde: 1, #new one\n",
    "                              model_akg.metabolites.co2_c: 1\n",
    "                             })\n",
    "print(oxodc.build_reaction_string())\n",
    "model_akg.add_reactions([oxodc])\n",
    "model_akg.reactions.OXODC"
   ]
  },
  {
   "cell_type": "code",
   "execution_count": 19,
   "id": "6079efc1",
   "metadata": {},
   "outputs": [
    {
     "name": "stdout",
     "output_type": "stream",
     "text": [
      "nadh_c + succinyl_semialdehyde_c --> four_hydroxybutyrate_c + h_c + nad_c\n"
     ]
    },
    {
     "data": {
      "text/html": [
       "\n",
       "        <table>\n",
       "            <tr>\n",
       "                <td><strong>Reaction identifier</strong></td><td>FHBD</td>\n",
       "            </tr><tr>\n",
       "                <td><strong>Name</strong></td><td></td>\n",
       "            </tr><tr>\n",
       "                <td><strong>Memory address</strong></td>\n",
       "                <td>0x01ab581cf518</td>\n",
       "            </tr><tr>\n",
       "                <td><strong>Stoichiometry</strong></td>\n",
       "                <td>\n",
       "                    <p style='text-align:right'>nadh_c + succinyl_semialdehyde_c --> four_hydroxybutyrate_c + h_c + nad_c</p>\n",
       "                    <p style='text-align:right'>Nicotinamide adenine dinucleotide - reduced + --> + H+ + Nicotinamide adenine dinucleotide</p>\n",
       "                </td>\n",
       "            </tr><tr>\n",
       "                <td><strong>GPR</strong></td><td></td>\n",
       "            </tr><tr>\n",
       "                <td><strong>Lower bound</strong></td><td>0.0</td>\n",
       "            </tr><tr>\n",
       "                <td><strong>Upper bound</strong></td><td>1000.0</td>\n",
       "            </tr>\n",
       "        </table>\n",
       "        "
      ],
      "text/plain": [
       "<Reaction FHBD at 0x1ab581cf518>"
      ]
     },
     "execution_count": 19,
     "metadata": {},
     "output_type": "execute_result"
    }
   ],
   "source": [
    "from cobra import Reaction, Metabolite\n",
    "fhbd = Reaction('FHBD') #4-hydroxybutyrate dehydrogenase\n",
    "four_hydroxybutyrate = Metabolite(id='four_hydroxybutyrate_c', compartment='c')\n",
    "\n",
    "fhbd.add_metabolites({model_akg.metabolites.h_c: 1,\n",
    "                              model_akg.metabolites.nadh_c: -1,\n",
    "                              succinyl_semialdehyde: -1, \n",
    "                              four_hydroxybutyrate: 1, #new one\n",
    "                              model_akg.metabolites.nad_c: 1\n",
    "                             })\n",
    "print(fhbd.build_reaction_string())\n",
    "model_akg.add_reactions([fhbd])\n",
    "model_akg.reactions.FHBD"
   ]
  },
  {
   "cell_type": "code",
   "execution_count": 20,
   "id": "88762470",
   "metadata": {},
   "outputs": [
    {
     "name": "stdout",
     "output_type": "stream",
     "text": [
      "accoa_c + four_hydroxybutyrate_c --> ac_c + four_hbcoa_c\n"
     ]
    },
    {
     "data": {
      "text/html": [
       "\n",
       "        <table>\n",
       "            <tr>\n",
       "                <td><strong>Reaction identifier</strong></td><td>HBCT</td>\n",
       "            </tr><tr>\n",
       "                <td><strong>Name</strong></td><td></td>\n",
       "            </tr><tr>\n",
       "                <td><strong>Memory address</strong></td>\n",
       "                <td>0x01ab581cf3c8</td>\n",
       "            </tr><tr>\n",
       "                <td><strong>Stoichiometry</strong></td>\n",
       "                <td>\n",
       "                    <p style='text-align:right'>accoa_c + four_hydroxybutyrate_c --> ac_c + four_hbcoa_c</p>\n",
       "                    <p style='text-align:right'>Acetyl-CoA + --> Acetate +</p>\n",
       "                </td>\n",
       "            </tr><tr>\n",
       "                <td><strong>GPR</strong></td><td></td>\n",
       "            </tr><tr>\n",
       "                <td><strong>Lower bound</strong></td><td>0.0</td>\n",
       "            </tr><tr>\n",
       "                <td><strong>Upper bound</strong></td><td>1000.0</td>\n",
       "            </tr>\n",
       "        </table>\n",
       "        "
      ],
      "text/plain": [
       "<Reaction HBCT at 0x1ab581cf3c8>"
      ]
     },
     "execution_count": 20,
     "metadata": {},
     "output_type": "execute_result"
    }
   ],
   "source": [
    "from cobra import Reaction, Metabolite\n",
    "hbd_coa_t = Reaction('HBCT') #4-hydroxybutyryl-CoA transferase\n",
    "four_hbcoa = Metabolite(id='four_hbcoa_c', compartment='c')\n",
    "hbd_coa_t.add_metabolites({model_akg.metabolites.accoa_c: -1,\n",
    "                              model_akg.metabolites.ac_c: 1,\n",
    "                              four_hbcoa: 1, #new one\n",
    "                              four_hydroxybutyrate: -1\n",
    "                             })\n",
    "print(hbd_coa_t.build_reaction_string())\n",
    "model_akg.add_reactions([hbd_coa_t])\n",
    "model_akg.reactions.HBCT"
   ]
  },
  {
   "cell_type": "code",
   "execution_count": 21,
   "id": "68f7da81",
   "metadata": {},
   "outputs": [
    {
     "name": "stdout",
     "output_type": "stream",
     "text": [
      "four_hbcoa_c + nadh_c --> coa_c + four_hbaldehyde_c + h_c + nad_c\n"
     ]
    },
    {
     "data": {
      "text/html": [
       "\n",
       "        <table>\n",
       "            <tr>\n",
       "                <td><strong>Reaction identifier</strong></td><td>HBCR</td>\n",
       "            </tr><tr>\n",
       "                <td><strong>Name</strong></td><td></td>\n",
       "            </tr><tr>\n",
       "                <td><strong>Memory address</strong></td>\n",
       "                <td>0x01ab5834fc88</td>\n",
       "            </tr><tr>\n",
       "                <td><strong>Stoichiometry</strong></td>\n",
       "                <td>\n",
       "                    <p style='text-align:right'>four_hbcoa_c + nadh_c --> coa_c + four_hbaldehyde_c + h_c + nad_c</p>\n",
       "                    <p style='text-align:right'>+ Nicotinamide adenine dinucleotide - reduced --> Coenzyme A + + H+ + Nicotinamide adenine dinucleotide</p>\n",
       "                </td>\n",
       "            </tr><tr>\n",
       "                <td><strong>GPR</strong></td><td></td>\n",
       "            </tr><tr>\n",
       "                <td><strong>Lower bound</strong></td><td>0.0</td>\n",
       "            </tr><tr>\n",
       "                <td><strong>Upper bound</strong></td><td>1000.0</td>\n",
       "            </tr>\n",
       "        </table>\n",
       "        "
      ],
      "text/plain": [
       "<Reaction HBCR at 0x1ab5834fc88>"
      ]
     },
     "execution_count": 21,
     "metadata": {},
     "output_type": "execute_result"
    }
   ],
   "source": [
    "from cobra import Reaction, Metabolite\n",
    "hbd_coa_r = Reaction('HBCR') #4-hydroxybutyryl-CoA reductase\n",
    "four_hbaldehyde = Metabolite(id='four_hbaldehyde_c', compartment='c')\n",
    "hbd_coa_r.add_metabolites({model_akg.metabolites.h_c: 1,\n",
    "                              model_akg.metabolites.nadh_c: -1,\n",
    "                              four_hbaldehyde: 1, #new one\n",
    "                              four_hbcoa: -1,\n",
    "                              model_akg.metabolites.nad_c: 1,\n",
    "                              model_akg.metabolites.coa_c: 1\n",
    "                             })\n",
    "print(hbd_coa_r.build_reaction_string())\n",
    "model_akg.add_reactions([hbd_coa_r])\n",
    "model_akg.reactions.HBCR"
   ]
  },
  {
   "cell_type": "code",
   "execution_count": 22,
   "id": "10c2461a",
   "metadata": {},
   "outputs": [
    {
     "name": "stdout",
     "output_type": "stream",
     "text": [
      "four_hbaldehyde_c + nadh_c --> bdo_c + h_c + nad_c\n"
     ]
    },
    {
     "data": {
      "text/html": [
       "\n",
       "        <table>\n",
       "            <tr>\n",
       "                <td><strong>Reaction identifier</strong></td><td>ADH</td>\n",
       "            </tr><tr>\n",
       "                <td><strong>Name</strong></td><td></td>\n",
       "            </tr><tr>\n",
       "                <td><strong>Memory address</strong></td>\n",
       "                <td>0x01ab5834fa58</td>\n",
       "            </tr><tr>\n",
       "                <td><strong>Stoichiometry</strong></td>\n",
       "                <td>\n",
       "                    <p style='text-align:right'>four_hbaldehyde_c + nadh_c --> bdo_c + h_c + nad_c</p>\n",
       "                    <p style='text-align:right'>+ Nicotinamide adenine dinucleotide - reduced --> + H+ + Nicotinamide adenine dinucleotide</p>\n",
       "                </td>\n",
       "            </tr><tr>\n",
       "                <td><strong>GPR</strong></td><td></td>\n",
       "            </tr><tr>\n",
       "                <td><strong>Lower bound</strong></td><td>0.0</td>\n",
       "            </tr><tr>\n",
       "                <td><strong>Upper bound</strong></td><td>1000.0</td>\n",
       "            </tr>\n",
       "        </table>\n",
       "        "
      ],
      "text/plain": [
       "<Reaction ADH at 0x1ab5834fa58>"
      ]
     },
     "execution_count": 22,
     "metadata": {},
     "output_type": "execute_result"
    }
   ],
   "source": [
    "from cobra import Reaction, Metabolite\n",
    "adh= Reaction('ADH') #alcohol dehydrogenase\n",
    "bdo = Metabolite(id='bdo_c', compartment='c')\n",
    "adh.add_metabolites({model_akg.metabolites.h_c: 1,\n",
    "                              model_akg.metabolites.nadh_c: -1,\n",
    "                              four_hbaldehyde: -1,\n",
    "                              bdo: 1, #new one\n",
    "                              model_akg.metabolites.nad_c: 1,\n",
    "                             })\n",
    "print(adh.build_reaction_string())\n",
    "model_akg.add_reactions([adh])\n",
    "model_akg.reactions.ADH"
   ]
  },
  {
   "cell_type": "code",
   "execution_count": 23,
   "id": "ee5b5b24",
   "metadata": {},
   "outputs": [
    {
     "data": {
      "text/html": [
       "\n",
       "        <table>\n",
       "            <tr>\n",
       "                <td><strong>Reaction identifier</strong></td><td>DM_bdo_c</td>\n",
       "            </tr><tr>\n",
       "                <td><strong>Name</strong></td><td>demand</td>\n",
       "            </tr><tr>\n",
       "                <td><strong>Memory address</strong></td>\n",
       "                <td>0x01ab5802dba8</td>\n",
       "            </tr><tr>\n",
       "                <td><strong>Stoichiometry</strong></td>\n",
       "                <td>\n",
       "                    <p style='text-align:right'>bdo_c --></p>\n",
       "                    <p style='text-align:right'>--></p>\n",
       "                </td>\n",
       "            </tr><tr>\n",
       "                <td><strong>GPR</strong></td><td></td>\n",
       "            </tr><tr>\n",
       "                <td><strong>Lower bound</strong></td><td>0</td>\n",
       "            </tr><tr>\n",
       "                <td><strong>Upper bound</strong></td><td>1000.0</td>\n",
       "            </tr>\n",
       "        </table>\n",
       "        "
      ],
      "text/plain": [
       "<Reaction DM_bdo_c at 0x1ab5802dba8>"
      ]
     },
     "execution_count": 23,
     "metadata": {},
     "output_type": "execute_result"
    }
   ],
   "source": [
    "bdo_exchange = Reaction('EX_bdo')\n",
    "bdo_exchange.add_metabolites({model_akg.metabolites.bdo_c: -1})\n",
    "model_akg.add_reaction(bdo_exchange)\n",
    "model_akg.add_boundary(model_akg.metabolites.bdo_c, type='demand')"
   ]
  },
  {
   "cell_type": "code",
   "execution_count": 24,
   "id": "e138bf2b",
   "metadata": {},
   "outputs": [
    {
     "name": "stdout",
     "output_type": "stream",
     "text": [
      "9.708085106382981\n"
     ]
    }
   ],
   "source": [
    "with model:\n",
    "    model_akg.objective=model_akg.reactions.ADH\n",
    "    optimized = float(model_akg.optimize().objective_value)\n",
    "    print(optimized)"
   ]
  },
  {
   "cell_type": "code",
   "execution_count": 25,
   "id": "8445a0bb",
   "metadata": {},
   "outputs": [
    {
     "name": "stdout",
     "output_type": "stream",
     "text": [
      "-10.0\n"
     ]
    }
   ],
   "source": [
    "uptake_akg = model_akg.reactions.EX_glc__D_e.flux #uptake <--\n",
    "print(uptake_akg)"
   ]
  },
  {
   "cell_type": "code",
   "execution_count": 26,
   "id": "15ed8a2f",
   "metadata": {},
   "outputs": [],
   "source": [
    "#input text\n",
    "Models_yield = dict()\n",
    "Models_yield['one']= optimized\n",
    " \n",
    "#open file\n",
    "file = open(\"Akg Yield calc.txt\", \"w\")\n",
    " \n",
    "#convert variable to string\n",
    "str = repr(Models_yield)\n",
    "file.write(\"Models_yield = \" + str + \"\\n\")\n",
    " \n",
    "#close file\n",
    "file.close()\n",
    " \n",
    "f = open('Akg Yield calc.txt', 'r')\n",
    "if f.mode=='r':\n",
    "    contents= f.read()"
   ]
  },
  {
   "cell_type": "code",
   "execution_count": 27,
   "id": "25f99d8d",
   "metadata": {},
   "outputs": [
    {
     "name": "stdout",
     "output_type": "stream",
     "text": [
      "Yield for model Akg = 0.9708085106382981\n"
     ]
    }
   ],
   "source": [
    "print(\"Yield for model Akg =\",(-1)*((Models_yield['one'])/uptake)) # Yield for Model_akg (a-ketoglutarate) p-mmol/gl-mmol\n",
    "#it is multiplied by -1 because the reaction is an uptake which means thats goes for the right to the left"
   ]
  },
  {
   "cell_type": "code",
   "execution_count": 41,
   "id": "da92f123",
   "metadata": {},
   "outputs": [
    {
     "data": {
      "text/html": [
       "\n",
       "<strong>Model:</strong> iML1515</br>\n",
       "<strong>Enforced objective:</strong> EX_bdo</br>\n",
       "<strong>Primary objective:</strong> Maximize\n",
       "1.0*ADH - 1.0*ADH_reverse_b5097</br>\n",
       "<br>\n",
       "<strong>Reaction fluxes</strong><br><br>\n",
       "<div>\n",
       "<style scoped>\n",
       "    .dataframe tbody tr th:only-of-type {\n",
       "        vertical-align: middle;\n",
       "    }\n",
       "\n",
       "    .dataframe tbody tr th {\n",
       "        vertical-align: top;\n",
       "    }\n",
       "\n",
       "    .dataframe thead th {\n",
       "        text-align: right;\n",
       "    }\n",
       "</style>\n",
       "<table border=\"1\" class=\"dataframe\">\n",
       "  <thead>\n",
       "    <tr style=\"text-align: right;\">\n",
       "      <th></th>\n",
       "      <th>1</th>\n",
       "      <th>2</th>\n",
       "      <th>3</th>\n",
       "      <th>4</th>\n",
       "      <th>5</th>\n",
       "      <th>6</th>\n",
       "      <th>7</th>\n",
       "      <th>8</th>\n",
       "      <th>9</th>\n",
       "      <th>10</th>\n",
       "    </tr>\n",
       "  </thead>\n",
       "  <tbody>\n",
       "    <tr>\n",
       "      <th>ICDHyr</th>\n",
       "      <td>10.394105</td>\n",
       "      <td>10.394105</td>\n",
       "      <td>10.394105</td>\n",
       "      <td>10.394105</td>\n",
       "      <td>10.394105</td>\n",
       "      <td>10.394105</td>\n",
       "      <td>10.394105</td>\n",
       "      <td>10.394105</td>\n",
       "      <td>10.394105</td>\n",
       "      <td>10.394105</td>\n",
       "    </tr>\n",
       "    <tr>\n",
       "      <th>FRD2</th>\n",
       "      <td>13.546947</td>\n",
       "      <td>13.546947</td>\n",
       "      <td>13.546947</td>\n",
       "      <td>13.546947</td>\n",
       "      <td>13.546947</td>\n",
       "      <td>13.546947</td>\n",
       "      <td>13.546947</td>\n",
       "      <td>13.546947</td>\n",
       "      <td>13.546947</td>\n",
       "      <td>13.546947</td>\n",
       "    </tr>\n",
       "    <tr>\n",
       "      <th>PTAr</th>\n",
       "      <td>-9.605895</td>\n",
       "      <td>-9.605895</td>\n",
       "      <td>-9.605895</td>\n",
       "      <td>-9.605895</td>\n",
       "      <td>-9.605895</td>\n",
       "      <td>-9.605895</td>\n",
       "      <td>-9.605895</td>\n",
       "      <td>-9.605895</td>\n",
       "      <td>-9.605895</td>\n",
       "      <td>-9.605895</td>\n",
       "    </tr>\n",
       "    <tr>\n",
       "      <th>ACKr</th>\n",
       "      <td>9.605895</td>\n",
       "      <td>9.605895</td>\n",
       "      <td>9.605895</td>\n",
       "      <td>9.605895</td>\n",
       "      <td>9.605895</td>\n",
       "      <td>9.605895</td>\n",
       "      <td>9.605895</td>\n",
       "      <td>9.605895</td>\n",
       "      <td>9.605895</td>\n",
       "      <td>9.605895</td>\n",
       "    </tr>\n",
       "    <tr>\n",
       "      <th>FBA</th>\n",
       "      <td>9.605895</td>\n",
       "      <td>9.605895</td>\n",
       "      <td>9.605895</td>\n",
       "      <td>9.605895</td>\n",
       "      <td>9.605895</td>\n",
       "      <td>9.605895</td>\n",
       "      <td>9.605895</td>\n",
       "      <td>9.605895</td>\n",
       "      <td>9.605895</td>\n",
       "      <td>9.605895</td>\n",
       "    </tr>\n",
       "    <tr>\n",
       "      <th>FUM</th>\n",
       "      <td>0.788211</td>\n",
       "      <td>0.788211</td>\n",
       "      <td>0.788211</td>\n",
       "      <td>0.788211</td>\n",
       "      <td>0.788211</td>\n",
       "      <td>0.788211</td>\n",
       "      <td>0.788211</td>\n",
       "      <td>0.788211</td>\n",
       "      <td>0.788211</td>\n",
       "      <td>0.788211</td>\n",
       "    </tr>\n",
       "    <tr>\n",
       "      <th>PPC</th>\n",
       "      <td>9.605895</td>\n",
       "      <td>9.605895</td>\n",
       "      <td>9.605895</td>\n",
       "      <td>9.605895</td>\n",
       "      <td>9.605895</td>\n",
       "      <td>9.605895</td>\n",
       "      <td>9.605895</td>\n",
       "      <td>9.605895</td>\n",
       "      <td>9.605895</td>\n",
       "      <td>9.605895</td>\n",
       "    </tr>\n",
       "    <tr>\n",
       "      <th>NADTRHD</th>\n",
       "      <td>10.394105</td>\n",
       "      <td>10.394105</td>\n",
       "      <td>10.394105</td>\n",
       "      <td>10.394105</td>\n",
       "      <td>10.394105</td>\n",
       "      <td>10.394105</td>\n",
       "      <td>10.394105</td>\n",
       "      <td>10.394105</td>\n",
       "      <td>10.394105</td>\n",
       "      <td>10.394105</td>\n",
       "    </tr>\n",
       "    <tr>\n",
       "      <th>AKGDH</th>\n",
       "      <td>10.394105</td>\n",
       "      <td>10.394105</td>\n",
       "      <td>10.394105</td>\n",
       "      <td>10.394105</td>\n",
       "      <td>10.394105</td>\n",
       "      <td>10.394105</td>\n",
       "      <td>10.394105</td>\n",
       "      <td>10.394105</td>\n",
       "      <td>10.394105</td>\n",
       "      <td>10.394105</td>\n",
       "    </tr>\n",
       "    <tr>\n",
       "      <th>Htex</th>\n",
       "      <td>-76.847158</td>\n",
       "      <td>-76.847158</td>\n",
       "      <td>-76.847158</td>\n",
       "      <td>-76.847158</td>\n",
       "      <td>-76.847158</td>\n",
       "      <td>-76.847158</td>\n",
       "      <td>-76.847158</td>\n",
       "      <td>-76.847158</td>\n",
       "      <td>-76.847158</td>\n",
       "      <td>-76.847158</td>\n",
       "    </tr>\n",
       "    <tr>\n",
       "      <th>O2tpp</th>\n",
       "      <td>7.167579</td>\n",
       "      <td>7.167579</td>\n",
       "      <td>7.167579</td>\n",
       "      <td>7.167579</td>\n",
       "      <td>7.167579</td>\n",
       "      <td>7.167579</td>\n",
       "      <td>7.167579</td>\n",
       "      <td>7.167579</td>\n",
       "      <td>7.167579</td>\n",
       "      <td>7.167579</td>\n",
       "    </tr>\n",
       "    <tr>\n",
       "      <th>ATPS4rpp</th>\n",
       "      <td>5.283579</td>\n",
       "      <td>5.283579</td>\n",
       "      <td>5.283579</td>\n",
       "      <td>5.283579</td>\n",
       "      <td>5.283579</td>\n",
       "      <td>5.283579</td>\n",
       "      <td>5.283579</td>\n",
       "      <td>5.283579</td>\n",
       "      <td>5.283579</td>\n",
       "      <td>5.283579</td>\n",
       "    </tr>\n",
       "    <tr>\n",
       "      <th>O2tex</th>\n",
       "      <td>7.167579</td>\n",
       "      <td>7.167579</td>\n",
       "      <td>7.167579</td>\n",
       "      <td>7.167579</td>\n",
       "      <td>7.167579</td>\n",
       "      <td>7.167579</td>\n",
       "      <td>7.167579</td>\n",
       "      <td>7.167579</td>\n",
       "      <td>7.167579</td>\n",
       "      <td>7.167579</td>\n",
       "    </tr>\n",
       "    <tr>\n",
       "      <th>SUCOAS</th>\n",
       "      <td>-0.788211</td>\n",
       "      <td>-0.788211</td>\n",
       "      <td>-0.788211</td>\n",
       "      <td>-0.788211</td>\n",
       "      <td>-0.788211</td>\n",
       "      <td>-0.788211</td>\n",
       "      <td>-0.788211</td>\n",
       "      <td>-0.788211</td>\n",
       "      <td>-0.788211</td>\n",
       "      <td>-0.788211</td>\n",
       "    </tr>\n",
       "    <tr>\n",
       "      <th>PFK</th>\n",
       "      <td>9.605895</td>\n",
       "      <td>9.605895</td>\n",
       "      <td>9.605895</td>\n",
       "      <td>9.605895</td>\n",
       "      <td>9.605895</td>\n",
       "      <td>9.605895</td>\n",
       "      <td>9.605895</td>\n",
       "      <td>9.605895</td>\n",
       "      <td>9.605895</td>\n",
       "      <td>9.605895</td>\n",
       "    </tr>\n",
       "    <tr>\n",
       "      <th>CYTBO3_4pp</th>\n",
       "      <td>14.335158</td>\n",
       "      <td>14.335158</td>\n",
       "      <td>14.335158</td>\n",
       "      <td>14.335158</td>\n",
       "      <td>14.335158</td>\n",
       "      <td>14.335158</td>\n",
       "      <td>14.335158</td>\n",
       "      <td>14.335158</td>\n",
       "      <td>14.335158</td>\n",
       "      <td>14.335158</td>\n",
       "    </tr>\n",
       "    <tr>\n",
       "      <th>SUCDi</th>\n",
       "      <td>14.335158</td>\n",
       "      <td>14.335158</td>\n",
       "      <td>14.335158</td>\n",
       "      <td>14.335158</td>\n",
       "      <td>14.335158</td>\n",
       "      <td>14.335158</td>\n",
       "      <td>14.335158</td>\n",
       "      <td>14.335158</td>\n",
       "      <td>14.335158</td>\n",
       "      <td>14.335158</td>\n",
       "    </tr>\n",
       "    <tr>\n",
       "      <th>NADH17pp</th>\n",
       "      <td>13.546947</td>\n",
       "      <td>13.546947</td>\n",
       "      <td>13.546947</td>\n",
       "      <td>13.546947</td>\n",
       "      <td>13.546947</td>\n",
       "      <td>13.546947</td>\n",
       "      <td>13.546947</td>\n",
       "      <td>13.546947</td>\n",
       "      <td>13.546947</td>\n",
       "      <td>13.546947</td>\n",
       "    </tr>\n",
       "    <tr>\n",
       "      <th>SUCD</th>\n",
       "      <td>9.605895</td>\n",
       "      <td>9.605895</td>\n",
       "      <td>9.605895</td>\n",
       "      <td>9.605895</td>\n",
       "      <td>9.605895</td>\n",
       "      <td>9.605895</td>\n",
       "      <td>9.605895</td>\n",
       "      <td>9.605895</td>\n",
       "      <td>9.605895</td>\n",
       "      <td>9.605895</td>\n",
       "    </tr>\n",
       "    <tr>\n",
       "      <th>FHBD</th>\n",
       "      <td>9.605895</td>\n",
       "      <td>9.605895</td>\n",
       "      <td>9.605895</td>\n",
       "      <td>9.605895</td>\n",
       "      <td>9.605895</td>\n",
       "      <td>9.605895</td>\n",
       "      <td>9.605895</td>\n",
       "      <td>9.605895</td>\n",
       "      <td>9.605895</td>\n",
       "      <td>9.605895</td>\n",
       "    </tr>\n",
       "    <tr>\n",
       "      <th>HBCT</th>\n",
       "      <td>9.605895</td>\n",
       "      <td>9.605895</td>\n",
       "      <td>9.605895</td>\n",
       "      <td>9.605895</td>\n",
       "      <td>9.605895</td>\n",
       "      <td>9.605895</td>\n",
       "      <td>9.605895</td>\n",
       "      <td>9.605895</td>\n",
       "      <td>9.605895</td>\n",
       "      <td>9.605895</td>\n",
       "    </tr>\n",
       "    <tr>\n",
       "      <th>HBCR</th>\n",
       "      <td>9.605895</td>\n",
       "      <td>9.605895</td>\n",
       "      <td>9.605895</td>\n",
       "      <td>9.605895</td>\n",
       "      <td>9.605895</td>\n",
       "      <td>9.605895</td>\n",
       "      <td>9.605895</td>\n",
       "      <td>9.605895</td>\n",
       "      <td>9.605895</td>\n",
       "      <td>9.605895</td>\n",
       "    </tr>\n",
       "    <tr>\n",
       "      <th>ADH</th>\n",
       "      <td>9.605895</td>\n",
       "      <td>9.605895</td>\n",
       "      <td>9.605895</td>\n",
       "      <td>9.605895</td>\n",
       "      <td>9.605895</td>\n",
       "      <td>9.605895</td>\n",
       "      <td>9.605895</td>\n",
       "      <td>9.605895</td>\n",
       "      <td>9.605895</td>\n",
       "      <td>9.605895</td>\n",
       "    </tr>\n",
       "    <tr>\n",
       "      <th>EX_bdo</th>\n",
       "      <td>0.864531</td>\n",
       "      <td>1.729061</td>\n",
       "      <td>2.593592</td>\n",
       "      <td>3.458122</td>\n",
       "      <td>4.322653</td>\n",
       "      <td>5.187183</td>\n",
       "      <td>6.051714</td>\n",
       "      <td>6.916244</td>\n",
       "      <td>7.780775</td>\n",
       "      <td>8.645306</td>\n",
       "    </tr>\n",
       "  </tbody>\n",
       "</table>\n",
       "</div>\n"
      ],
      "text/plain": [
       "<cameo.strain_design.deterministic.flux_variability_based.FSEOFResult at 0x1ab581cf5f8>"
      ]
     },
     "execution_count": 41,
     "metadata": {},
     "output_type": "execute_result"
    }
   ],
   "source": [
    "from cameo import models\n",
    "#from cameo.visualization.plotting.with_plotly import PlotlyPlotter\n",
    "from cameo.strain_design.deterministic.flux_variability_based import FSEOF\n",
    "fseof = FSEOF(model_sucd)\n",
    "fseof.run(target=model_sucd.reactions.EX_bdo)"
   ]
  },
  {
   "cell_type": "code",
   "execution_count": 42,
   "id": "cfb9b984-4550-4b8e-a665-2f2db33dcfd6",
   "metadata": {},
   "outputs": [
    {
     "data": {
      "text/html": [
       "\n",
       "<strong>Model:</strong> iML1515</br>\n",
       "<strong>Enforced objective:</strong> EX_bdo</br>\n",
       "<strong>Primary objective:</strong> Maximize\n",
       "1.0*ADH - 1.0*ADH_reverse_b5097</br>\n",
       "<br>\n",
       "<strong>Reaction fluxes</strong><br><br>\n",
       "<div>\n",
       "<style scoped>\n",
       "    .dataframe tbody tr th:only-of-type {\n",
       "        vertical-align: middle;\n",
       "    }\n",
       "\n",
       "    .dataframe tbody tr th {\n",
       "        vertical-align: top;\n",
       "    }\n",
       "\n",
       "    .dataframe thead th {\n",
       "        text-align: right;\n",
       "    }\n",
       "</style>\n",
       "<table border=\"1\" class=\"dataframe\">\n",
       "  <thead>\n",
       "    <tr style=\"text-align: right;\">\n",
       "      <th></th>\n",
       "      <th>1</th>\n",
       "      <th>2</th>\n",
       "      <th>3</th>\n",
       "      <th>4</th>\n",
       "      <th>5</th>\n",
       "      <th>6</th>\n",
       "      <th>7</th>\n",
       "      <th>8</th>\n",
       "      <th>9</th>\n",
       "      <th>10</th>\n",
       "    </tr>\n",
       "  </thead>\n",
       "  <tbody>\n",
       "    <tr>\n",
       "      <th>CS</th>\n",
       "      <td>10.291915</td>\n",
       "      <td>10.291915</td>\n",
       "      <td>10.291915</td>\n",
       "      <td>10.291915</td>\n",
       "      <td>10.291915</td>\n",
       "      <td>10.291915</td>\n",
       "      <td>10.291915</td>\n",
       "      <td>10.291915</td>\n",
       "      <td>10.291915</td>\n",
       "      <td>10.291915</td>\n",
       "    </tr>\n",
       "    <tr>\n",
       "      <th>ICDHyr</th>\n",
       "      <td>10.291915</td>\n",
       "      <td>10.291915</td>\n",
       "      <td>10.291915</td>\n",
       "      <td>10.291915</td>\n",
       "      <td>10.291915</td>\n",
       "      <td>10.291915</td>\n",
       "      <td>10.291915</td>\n",
       "      <td>10.291915</td>\n",
       "      <td>10.291915</td>\n",
       "      <td>10.291915</td>\n",
       "    </tr>\n",
       "    <tr>\n",
       "      <th>FBA</th>\n",
       "      <td>9.708085</td>\n",
       "      <td>9.708085</td>\n",
       "      <td>9.708085</td>\n",
       "      <td>9.708085</td>\n",
       "      <td>9.708085</td>\n",
       "      <td>9.708085</td>\n",
       "      <td>9.708085</td>\n",
       "      <td>9.708085</td>\n",
       "      <td>9.708085</td>\n",
       "      <td>9.708085</td>\n",
       "    </tr>\n",
       "    <tr>\n",
       "      <th>FUM</th>\n",
       "      <td>0.583830</td>\n",
       "      <td>0.583830</td>\n",
       "      <td>0.583830</td>\n",
       "      <td>0.583830</td>\n",
       "      <td>0.583830</td>\n",
       "      <td>0.583830</td>\n",
       "      <td>0.583830</td>\n",
       "      <td>0.583830</td>\n",
       "      <td>0.583830</td>\n",
       "      <td>0.583830</td>\n",
       "    </tr>\n",
       "    <tr>\n",
       "      <th>PPC</th>\n",
       "      <td>9.708085</td>\n",
       "      <td>9.708085</td>\n",
       "      <td>9.708085</td>\n",
       "      <td>9.708085</td>\n",
       "      <td>9.708085</td>\n",
       "      <td>9.708085</td>\n",
       "      <td>9.708085</td>\n",
       "      <td>9.708085</td>\n",
       "      <td>9.708085</td>\n",
       "      <td>9.708085</td>\n",
       "    </tr>\n",
       "    <tr>\n",
       "      <th>NADTRHD</th>\n",
       "      <td>10.291915</td>\n",
       "      <td>10.291915</td>\n",
       "      <td>10.291915</td>\n",
       "      <td>10.291915</td>\n",
       "      <td>10.291915</td>\n",
       "      <td>10.291915</td>\n",
       "      <td>10.291915</td>\n",
       "      <td>10.291915</td>\n",
       "      <td>10.291915</td>\n",
       "      <td>10.291915</td>\n",
       "    </tr>\n",
       "    <tr>\n",
       "      <th>AKGDH</th>\n",
       "      <td>0.583830</td>\n",
       "      <td>0.583830</td>\n",
       "      <td>0.583830</td>\n",
       "      <td>0.583830</td>\n",
       "      <td>0.583830</td>\n",
       "      <td>0.583830</td>\n",
       "      <td>0.583830</td>\n",
       "      <td>0.583830</td>\n",
       "      <td>0.583830</td>\n",
       "      <td>0.583830</td>\n",
       "    </tr>\n",
       "    <tr>\n",
       "      <th>Htex</th>\n",
       "      <td>-67.956596</td>\n",
       "      <td>-67.956596</td>\n",
       "      <td>-67.956596</td>\n",
       "      <td>-67.956596</td>\n",
       "      <td>-67.956596</td>\n",
       "      <td>-67.956596</td>\n",
       "      <td>-67.956596</td>\n",
       "      <td>-67.956596</td>\n",
       "      <td>-67.956596</td>\n",
       "      <td>-67.956596</td>\n",
       "    </tr>\n",
       "    <tr>\n",
       "      <th>O2tpp</th>\n",
       "      <td>6.605532</td>\n",
       "      <td>6.605532</td>\n",
       "      <td>6.605532</td>\n",
       "      <td>6.605532</td>\n",
       "      <td>6.605532</td>\n",
       "      <td>6.605532</td>\n",
       "      <td>6.605532</td>\n",
       "      <td>6.605532</td>\n",
       "      <td>6.605532</td>\n",
       "      <td>6.605532</td>\n",
       "    </tr>\n",
       "    <tr>\n",
       "      <th>CO2tpp</th>\n",
       "      <td>-21.167660</td>\n",
       "      <td>-21.167660</td>\n",
       "      <td>-21.167660</td>\n",
       "      <td>-21.167660</td>\n",
       "      <td>-21.167660</td>\n",
       "      <td>-21.167660</td>\n",
       "      <td>-21.167660</td>\n",
       "      <td>-21.167660</td>\n",
       "      <td>-21.167660</td>\n",
       "      <td>-21.167660</td>\n",
       "    </tr>\n",
       "    <tr>\n",
       "      <th>O2tex</th>\n",
       "      <td>6.605532</td>\n",
       "      <td>6.605532</td>\n",
       "      <td>6.605532</td>\n",
       "      <td>6.605532</td>\n",
       "      <td>6.605532</td>\n",
       "      <td>6.605532</td>\n",
       "      <td>6.605532</td>\n",
       "      <td>6.605532</td>\n",
       "      <td>6.605532</td>\n",
       "      <td>6.605532</td>\n",
       "    </tr>\n",
       "    <tr>\n",
       "      <th>CO2tex</th>\n",
       "      <td>-21.167660</td>\n",
       "      <td>-21.167660</td>\n",
       "      <td>-21.167660</td>\n",
       "      <td>-21.167660</td>\n",
       "      <td>-21.167660</td>\n",
       "      <td>-21.167660</td>\n",
       "      <td>-21.167660</td>\n",
       "      <td>-21.167660</td>\n",
       "      <td>-21.167660</td>\n",
       "      <td>-21.167660</td>\n",
       "    </tr>\n",
       "    <tr>\n",
       "      <th>SUCOAS</th>\n",
       "      <td>-0.583830</td>\n",
       "      <td>-0.583830</td>\n",
       "      <td>-0.583830</td>\n",
       "      <td>-0.583830</td>\n",
       "      <td>-0.583830</td>\n",
       "      <td>-0.583830</td>\n",
       "      <td>-0.583830</td>\n",
       "      <td>-0.583830</td>\n",
       "      <td>-0.583830</td>\n",
       "      <td>-0.583830</td>\n",
       "    </tr>\n",
       "    <tr>\n",
       "      <th>PFK</th>\n",
       "      <td>9.708085</td>\n",
       "      <td>9.708085</td>\n",
       "      <td>9.708085</td>\n",
       "      <td>9.708085</td>\n",
       "      <td>9.708085</td>\n",
       "      <td>9.708085</td>\n",
       "      <td>9.708085</td>\n",
       "      <td>9.708085</td>\n",
       "      <td>9.708085</td>\n",
       "      <td>9.708085</td>\n",
       "    </tr>\n",
       "    <tr>\n",
       "      <th>CYTBO3_4pp</th>\n",
       "      <td>13.211064</td>\n",
       "      <td>13.211064</td>\n",
       "      <td>13.211064</td>\n",
       "      <td>13.211064</td>\n",
       "      <td>13.211064</td>\n",
       "      <td>13.211064</td>\n",
       "      <td>13.211064</td>\n",
       "      <td>13.211064</td>\n",
       "      <td>13.211064</td>\n",
       "      <td>13.211064</td>\n",
       "    </tr>\n",
       "    <tr>\n",
       "      <th>ACONTb</th>\n",
       "      <td>10.291915</td>\n",
       "      <td>10.291915</td>\n",
       "      <td>10.291915</td>\n",
       "      <td>10.291915</td>\n",
       "      <td>10.291915</td>\n",
       "      <td>10.291915</td>\n",
       "      <td>10.291915</td>\n",
       "      <td>10.291915</td>\n",
       "      <td>10.291915</td>\n",
       "      <td>10.291915</td>\n",
       "    </tr>\n",
       "    <tr>\n",
       "      <th>SUCDi</th>\n",
       "      <td>0.583830</td>\n",
       "      <td>0.583830</td>\n",
       "      <td>0.583830</td>\n",
       "      <td>0.583830</td>\n",
       "      <td>0.583830</td>\n",
       "      <td>0.583830</td>\n",
       "      <td>0.583830</td>\n",
       "      <td>0.583830</td>\n",
       "      <td>0.583830</td>\n",
       "      <td>0.583830</td>\n",
       "    </tr>\n",
       "    <tr>\n",
       "      <th>ACONTa</th>\n",
       "      <td>10.291915</td>\n",
       "      <td>10.291915</td>\n",
       "      <td>10.291915</td>\n",
       "      <td>10.291915</td>\n",
       "      <td>10.291915</td>\n",
       "      <td>10.291915</td>\n",
       "      <td>10.291915</td>\n",
       "      <td>10.291915</td>\n",
       "      <td>10.291915</td>\n",
       "      <td>10.291915</td>\n",
       "    </tr>\n",
       "    <tr>\n",
       "      <th>EX_bdo</th>\n",
       "      <td>9.611004</td>\n",
       "      <td>9.513923</td>\n",
       "      <td>9.416842</td>\n",
       "      <td>9.319762</td>\n",
       "      <td>9.222681</td>\n",
       "      <td>9.125600</td>\n",
       "      <td>9.028519</td>\n",
       "      <td>8.931438</td>\n",
       "      <td>8.834357</td>\n",
       "      <td>8.737277</td>\n",
       "    </tr>\n",
       "  </tbody>\n",
       "</table>\n",
       "</div>\n"
      ],
      "text/plain": [
       "<cameo.strain_design.deterministic.flux_variability_based.FSEOFResult at 0x1ab58716cc0>"
      ]
     },
     "execution_count": 42,
     "metadata": {},
     "output_type": "execute_result"
    }
   ],
   "source": [
    "from cameo import models\n",
    "#from cameo.visualization.plotting.with_plotly import PlotlyPlotter\n",
    "from cameo.strain_design.deterministic.flux_variability_based import FSEOF\n",
    "fseof = FSEOF(model_akg)\n",
    "fseof.run(target=model_akg.reactions.EX_bdo)"
   ]
  },
  {
   "cell_type": "code",
   "execution_count": null,
   "id": "8d7a99b2-226f-4af4-990e-4277a18624ac",
   "metadata": {},
   "outputs": [],
   "source": []
  }
 ],
 "metadata": {
  "kernelspec": {
   "display_name": "Python 3",
   "language": "python",
   "name": "python3"
  },
  "language_info": {
   "codemirror_mode": {
    "name": "ipython",
    "version": 3
   },
   "file_extension": ".py",
   "mimetype": "text/x-python",
   "name": "python",
   "nbconvert_exporter": "python",
   "pygments_lexer": "ipython3",
   "version": "3.6.13"
  }
 },
 "nbformat": 4,
 "nbformat_minor": 5
}
