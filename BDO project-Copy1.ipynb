{
 "cells": [
  {
   "cell_type": "code",
   "execution_count": 24,
   "metadata": {},
   "outputs": [
    {
     "data": {
      "text/html": [
       "\n",
       "        <table>\n",
       "            <tr>\n",
       "                <td><strong>Name</strong></td>\n",
       "                <td>iML1515</td>\n",
       "            </tr><tr>\n",
       "                <td><strong>Memory address</strong></td>\n",
       "                <td>0x07f97cce29550</td>\n",
       "            </tr><tr>\n",
       "                <td><strong>Number of metabolites</strong></td>\n",
       "                <td>1877</td>\n",
       "            </tr><tr>\n",
       "                <td><strong>Number of reactions</strong></td>\n",
       "                <td>2712</td>\n",
       "            </tr><tr>\n",
       "                <td><strong>Number of groups</strong></td>\n",
       "                <td>0</td>\n",
       "            </tr><tr>\n",
       "                <td><strong>Objective expression</strong></td>\n",
       "                <td>1.0*BIOMASS_Ec_iML1515_core_75p37M - 1.0*BIOMASS_Ec_iML1515_core_75p37M_reverse_35685</td>\n",
       "            </tr><tr>\n",
       "                <td><strong>Compartments</strong></td>\n",
       "                <td>cytosol, extracellular space, periplasm</td>\n",
       "            </tr>\n",
       "          </table>"
      ],
      "text/plain": [
       "<Model iML1515 at 0x7f97cce29550>"
      ]
     },
     "execution_count": 24,
     "metadata": {},
     "output_type": "execute_result"
    }
   ],
   "source": [
    "import pandas as pd\n",
    "import matplotlib.pyplot as plt\n",
    "from cobra.io import read_sbml_model\n",
    "model = read_sbml_model('iML1515.xml.gz')\n",
    "model"
   ]
  },
  {
   "cell_type": "code",
   "execution_count": 25,
   "metadata": {},
   "outputs": [
    {
     "data": {
      "text/html": [
       "\n",
       "        <table>\n",
       "            <tr>\n",
       "                <td><strong>Name</strong></td>\n",
       "                <td>iML1515</td>\n",
       "            </tr><tr>\n",
       "                <td><strong>Memory address</strong></td>\n",
       "                <td>0x07f97cce294c0</td>\n",
       "            </tr><tr>\n",
       "                <td><strong>Number of metabolites</strong></td>\n",
       "                <td>1877</td>\n",
       "            </tr><tr>\n",
       "                <td><strong>Number of reactions</strong></td>\n",
       "                <td>2712</td>\n",
       "            </tr><tr>\n",
       "                <td><strong>Number of groups</strong></td>\n",
       "                <td>0</td>\n",
       "            </tr><tr>\n",
       "                <td><strong>Objective expression</strong></td>\n",
       "                <td>1.0*BIOMASS_Ec_iML1515_core_75p37M - 1.0*BIOMASS_Ec_iML1515_core_75p37M_reverse_35685</td>\n",
       "            </tr><tr>\n",
       "                <td><strong>Compartments</strong></td>\n",
       "                <td>cytosol, extracellular space, periplasm</td>\n",
       "            </tr>\n",
       "          </table>"
      ],
      "text/plain": [
       "<Model iML1515 at 0x7f97cce294c0>"
      ]
     },
     "execution_count": 25,
     "metadata": {},
     "output_type": "execute_result"
    }
   ],
   "source": [
    "model_sucd= model.copy()\n",
    "model_sucd"
   ]
  },
  {
   "cell_type": "code",
   "execution_count": 26,
   "metadata": {
    "tags": []
   },
   "outputs": [
    {
     "name": "stdout",
     "output_type": "stream",
     "text": [
      "nadh_c + succoa_c --> coa_c + h_c + nad_c + succinyl_semialdehyde_c\n"
     ]
    },
    {
     "data": {
      "text/html": [
       "\n",
       "        <table>\n",
       "            <tr>\n",
       "                <td><strong>Reaction identifier</strong></td><td>SUCD</td>\n",
       "            </tr><tr>\n",
       "                <td><strong>Name</strong></td><td></td>\n",
       "            </tr><tr>\n",
       "                <td><strong>Memory address</strong></td>\n",
       "                <td>0x07f97cd818b80</td>\n",
       "            </tr><tr>\n",
       "                <td><strong>Stoichiometry</strong></td>\n",
       "                <td>\n",
       "                    <p style='text-align:right'>nadh_c + succoa_c --> coa_c + h_c + nad_c + succinyl_semialdehyde_c</p>\n",
       "                    <p style='text-align:right'>Nicotinamide adenine dinucleotide - reduced + Succinyl-CoA --> Coenzyme A + H+ + Nicotinamide adenine dinucleotide +</p>\n",
       "                </td>\n",
       "            </tr><tr>\n",
       "                <td><strong>GPR</strong></td><td></td>\n",
       "            </tr><tr>\n",
       "                <td><strong>Lower bound</strong></td><td>0.0</td>\n",
       "            </tr><tr>\n",
       "                <td><strong>Upper bound</strong></td><td>1000.0</td>\n",
       "            </tr>\n",
       "        </table>\n",
       "        "
      ],
      "text/plain": [
       "<Reaction SUCD at 0x7f97cd818b80>"
      ]
     },
     "execution_count": 26,
     "metadata": {},
     "output_type": "execute_result"
    }
   ],
   "source": [
    "from cobra import Reaction, Metabolite\n",
    "sucd = Reaction('SUCD') #CoA-dependent succinate semialdehyde dehydrogenase\n",
    "succinyl_semialdehyde = Metabolite(id='succinyl_semialdehyde_c', compartment='c')\n",
    "\n",
    "sucd.add_metabolites({model_sucd.metabolites.h_c: 1,\n",
    "                              model_sucd.metabolites.nadh_c: -1,\n",
    "                              model_sucd.metabolites.succoa_c: -1,\n",
    "                              succinyl_semialdehyde: 1, #new one\n",
    "                              model_sucd.metabolites.coa_c: 1,\n",
    "                              model_sucd.metabolites.nad_c: 1\n",
    "                             })\n",
    "print(sucd.build_reaction_string())\n",
    "model_sucd.add_reactions([sucd])\n",
    "model_sucd.reactions.SUCD"
   ]
  },
  {
   "cell_type": "code",
   "execution_count": 27,
   "metadata": {},
   "outputs": [
    {
     "name": "stdout",
     "output_type": "stream",
     "text": [
      "nadh_c + succinyl_semialdehyde_c --> four_hydroxybutyrate_c + h_c + nad_c\n"
     ]
    },
    {
     "data": {
      "text/html": [
       "\n",
       "        <table>\n",
       "            <tr>\n",
       "                <td><strong>Reaction identifier</strong></td><td>FHBD</td>\n",
       "            </tr><tr>\n",
       "                <td><strong>Name</strong></td><td></td>\n",
       "            </tr><tr>\n",
       "                <td><strong>Memory address</strong></td>\n",
       "                <td>0x07f97cd8189a0</td>\n",
       "            </tr><tr>\n",
       "                <td><strong>Stoichiometry</strong></td>\n",
       "                <td>\n",
       "                    <p style='text-align:right'>nadh_c + succinyl_semialdehyde_c --> four_hydroxybutyrate_c + h_c + nad_c</p>\n",
       "                    <p style='text-align:right'>Nicotinamide adenine dinucleotide - reduced + --> + H+ + Nicotinamide adenine dinucleotide</p>\n",
       "                </td>\n",
       "            </tr><tr>\n",
       "                <td><strong>GPR</strong></td><td></td>\n",
       "            </tr><tr>\n",
       "                <td><strong>Lower bound</strong></td><td>0.0</td>\n",
       "            </tr><tr>\n",
       "                <td><strong>Upper bound</strong></td><td>1000.0</td>\n",
       "            </tr>\n",
       "        </table>\n",
       "        "
      ],
      "text/plain": [
       "<Reaction FHBD at 0x7f97cd8189a0>"
      ]
     },
     "execution_count": 27,
     "metadata": {},
     "output_type": "execute_result"
    }
   ],
   "source": [
    "from cobra import Reaction, Metabolite\n",
    "fhbd = Reaction('FHBD') #4-hydroxybutyrate dehydrogenase\n",
    "four_hydroxybutyrate = Metabolite(id='four_hydroxybutyrate_c', compartment='c')\n",
    "\n",
    "fhbd.add_metabolites({model_sucd.metabolites.h_c: 1,\n",
    "                              model_sucd.metabolites.nadh_c: -1,\n",
    "                              succinyl_semialdehyde: -1, \n",
    "                              four_hydroxybutyrate: 1, #new one\n",
    "                              model_sucd.metabolites.nad_c: 1\n",
    "                             })\n",
    "print(fhbd.build_reaction_string())\n",
    "model_sucd.add_reactions([fhbd])\n",
    "model_sucd.reactions.FHBD"
   ]
  },
  {
   "cell_type": "code",
   "execution_count": 28,
   "metadata": {},
   "outputs": [
    {
     "name": "stdout",
     "output_type": "stream",
     "text": [
      "accoa_c + four_hydroxybutyrate_c --> ac_c + four_hbcoa_c\n"
     ]
    },
    {
     "data": {
      "text/html": [
       "\n",
       "        <table>\n",
       "            <tr>\n",
       "                <td><strong>Reaction identifier</strong></td><td>HBCT</td>\n",
       "            </tr><tr>\n",
       "                <td><strong>Name</strong></td><td></td>\n",
       "            </tr><tr>\n",
       "                <td><strong>Memory address</strong></td>\n",
       "                <td>0x07f97cd810af0</td>\n",
       "            </tr><tr>\n",
       "                <td><strong>Stoichiometry</strong></td>\n",
       "                <td>\n",
       "                    <p style='text-align:right'>accoa_c + four_hydroxybutyrate_c --> ac_c + four_hbcoa_c</p>\n",
       "                    <p style='text-align:right'>Acetyl-CoA + --> Acetate +</p>\n",
       "                </td>\n",
       "            </tr><tr>\n",
       "                <td><strong>GPR</strong></td><td></td>\n",
       "            </tr><tr>\n",
       "                <td><strong>Lower bound</strong></td><td>0.0</td>\n",
       "            </tr><tr>\n",
       "                <td><strong>Upper bound</strong></td><td>1000.0</td>\n",
       "            </tr>\n",
       "        </table>\n",
       "        "
      ],
      "text/plain": [
       "<Reaction HBCT at 0x7f97cd810af0>"
      ]
     },
     "execution_count": 28,
     "metadata": {},
     "output_type": "execute_result"
    }
   ],
   "source": [
    "from cobra import Reaction, Metabolite\n",
    "hbd_coa_t = Reaction('HBCT') #4-hydroxybutyryl-CoA transferase\n",
    "four_hbcoa = Metabolite(id='four_hbcoa_c', compartment='c')\n",
    "hbd_coa_t.add_metabolites({model_sucd.metabolites.accoa_c: -1,\n",
    "                              model_sucd.metabolites.ac_c: 1,\n",
    "                              four_hbcoa: 1, #new one\n",
    "                              four_hydroxybutyrate: -1\n",
    "                             })\n",
    "print(hbd_coa_t.build_reaction_string())\n",
    "model_sucd.add_reactions([hbd_coa_t])\n",
    "model_sucd.reactions.HBCT"
   ]
  },
  {
   "cell_type": "code",
   "execution_count": 29,
   "metadata": {},
   "outputs": [
    {
     "name": "stdout",
     "output_type": "stream",
     "text": [
      "four_hbcoa_c + nadh_c --> coa_c + four_hbaldehyde_c + h_c + nad_c\n"
     ]
    },
    {
     "data": {
      "text/html": [
       "\n",
       "        <table>\n",
       "            <tr>\n",
       "                <td><strong>Reaction identifier</strong></td><td>HBCR</td>\n",
       "            </tr><tr>\n",
       "                <td><strong>Name</strong></td><td></td>\n",
       "            </tr><tr>\n",
       "                <td><strong>Memory address</strong></td>\n",
       "                <td>0x07f97cd810040</td>\n",
       "            </tr><tr>\n",
       "                <td><strong>Stoichiometry</strong></td>\n",
       "                <td>\n",
       "                    <p style='text-align:right'>four_hbcoa_c + nadh_c --> coa_c + four_hbaldehyde_c + h_c + nad_c</p>\n",
       "                    <p style='text-align:right'>+ Nicotinamide adenine dinucleotide - reduced --> Coenzyme A + + H+ + Nicotinamide adenine dinucleotide</p>\n",
       "                </td>\n",
       "            </tr><tr>\n",
       "                <td><strong>GPR</strong></td><td></td>\n",
       "            </tr><tr>\n",
       "                <td><strong>Lower bound</strong></td><td>0.0</td>\n",
       "            </tr><tr>\n",
       "                <td><strong>Upper bound</strong></td><td>1000.0</td>\n",
       "            </tr>\n",
       "        </table>\n",
       "        "
      ],
      "text/plain": [
       "<Reaction HBCR at 0x7f97cd810040>"
      ]
     },
     "execution_count": 29,
     "metadata": {},
     "output_type": "execute_result"
    }
   ],
   "source": [
    "from cobra import Reaction, Metabolite\n",
    "hbd_coa_r = Reaction('HBCR') #4-hydroxybutyryl-CoA reductase\n",
    "four_hbaldehyde = Metabolite(id='four_hbaldehyde_c', compartment='c')\n",
    "hbd_coa_r.add_metabolites({model_sucd.metabolites.h_c: 1,\n",
    "                              model_sucd.metabolites.nadh_c: -1,\n",
    "                              four_hbaldehyde: 1, #new one\n",
    "                              four_hbcoa: -1,\n",
    "                              model_sucd.metabolites.nad_c: 1,\n",
    "                              model_sucd.metabolites.coa_c: 1\n",
    "                             })\n",
    "print(hbd_coa_r.build_reaction_string())\n",
    "model_sucd.add_reactions([hbd_coa_r])\n",
    "model_sucd.reactions.HBCR"
   ]
  },
  {
   "cell_type": "code",
   "execution_count": 30,
   "metadata": {
    "tags": []
   },
   "outputs": [
    {
     "name": "stdout",
     "output_type": "stream",
     "text": [
      "four_hbaldehyde_c + nadh_c --> bdo_c + h_c + nad_c\n"
     ]
    },
    {
     "data": {
      "text/html": [
       "\n",
       "        <table>\n",
       "            <tr>\n",
       "                <td><strong>Reaction identifier</strong></td><td>ADH</td>\n",
       "            </tr><tr>\n",
       "                <td><strong>Name</strong></td><td></td>\n",
       "            </tr><tr>\n",
       "                <td><strong>Memory address</strong></td>\n",
       "                <td>0x07f97cd8109a0</td>\n",
       "            </tr><tr>\n",
       "                <td><strong>Stoichiometry</strong></td>\n",
       "                <td>\n",
       "                    <p style='text-align:right'>four_hbaldehyde_c + nadh_c --> bdo_c + h_c + nad_c</p>\n",
       "                    <p style='text-align:right'>+ Nicotinamide adenine dinucleotide - reduced --> + H+ + Nicotinamide adenine dinucleotide</p>\n",
       "                </td>\n",
       "            </tr><tr>\n",
       "                <td><strong>GPR</strong></td><td></td>\n",
       "            </tr><tr>\n",
       "                <td><strong>Lower bound</strong></td><td>0.0</td>\n",
       "            </tr><tr>\n",
       "                <td><strong>Upper bound</strong></td><td>1000.0</td>\n",
       "            </tr>\n",
       "        </table>\n",
       "        "
      ],
      "text/plain": [
       "<Reaction ADH at 0x7f97cd8109a0>"
      ]
     },
     "execution_count": 30,
     "metadata": {},
     "output_type": "execute_result"
    }
   ],
   "source": [
    "from cobra import Reaction, Metabolite\n",
    "adh= Reaction('ADH') #alcohol dehydrogenase\n",
    "bdo = Metabolite(id='bdo_c', compartment='c')\n",
    "adh.add_metabolites({model_sucd.metabolites.h_c: 1,\n",
    "                              model_sucd.metabolites.nadh_c: -1,\n",
    "                              four_hbaldehyde: -1,\n",
    "                              bdo: 1, #new one\n",
    "                              model_sucd.metabolites.nad_c: 1,\n",
    "                             })\n",
    "print(adh.build_reaction_string())\n",
    "model_sucd.add_reactions([adh])\n",
    "model_sucd.reactions.ADH"
   ]
  },
  {
   "cell_type": "code",
   "execution_count": 31,
   "metadata": {},
   "outputs": [
    {
     "data": {
      "text/html": [
       "\n",
       "        <table>\n",
       "            <tr>\n",
       "                <td><strong>Reaction identifier</strong></td><td>DM_bdo_c</td>\n",
       "            </tr><tr>\n",
       "                <td><strong>Name</strong></td><td>demand</td>\n",
       "            </tr><tr>\n",
       "                <td><strong>Memory address</strong></td>\n",
       "                <td>0x07f97cd8185e0</td>\n",
       "            </tr><tr>\n",
       "                <td><strong>Stoichiometry</strong></td>\n",
       "                <td>\n",
       "                    <p style='text-align:right'>bdo_c --></p>\n",
       "                    <p style='text-align:right'>--></p>\n",
       "                </td>\n",
       "            </tr><tr>\n",
       "                <td><strong>GPR</strong></td><td></td>\n",
       "            </tr><tr>\n",
       "                <td><strong>Lower bound</strong></td><td>0</td>\n",
       "            </tr><tr>\n",
       "                <td><strong>Upper bound</strong></td><td>1000.0</td>\n",
       "            </tr>\n",
       "        </table>\n",
       "        "
      ],
      "text/plain": [
       "<Reaction DM_bdo_c at 0x7f97cd8185e0>"
      ]
     },
     "execution_count": 31,
     "metadata": {},
     "output_type": "execute_result"
    }
   ],
   "source": [
    "bdo_exchange = Reaction('EX_bdo')\n",
    "bdo_exchange.add_metabolites({model_sucd.metabolites.bdo_c: -1})\n",
    "model_sucd.add_reaction(bdo_exchange)\n",
    "model_sucd.add_boundary(model_sucd.metabolites.bdo_c, type='demand')"
   ]
  },
  {
   "cell_type": "code",
   "execution_count": 35,
   "metadata": {},
   "outputs": [
    {
     "name": "stdout",
     "output_type": "stream",
     "text": [
      "9.605894736842117\n"
     ]
    }
   ],
   "source": [
    "with model:\n",
    "    model_sucd.objective=model_sucd.reactions.ADH\n",
    "    optimized = float(model_sucd.optimize().objective_value)\n",
    "    print(optimized)"
   ]
  },
  {
   "cell_type": "code",
   "execution_count": 37,
   "metadata": {},
   "outputs": [
    {
     "name": "stdout",
     "output_type": "stream",
     "text": [
      "-10.0\n"
     ]
    }
   ],
   "source": [
    "uptake = model_sucd.reactions.EX_glc__D_e.flux #uptake <--\n",
    "print(uptake)"
   ]
  },
  {
   "cell_type": "code",
   "execution_count": 41,
   "metadata": {},
   "outputs": [],
   "source": [
    "#input text\n",
    "Models_yield = dict()\n",
    "Models_yield['one']= optimized\n",
    " \n",
    "#open file\n",
    "file = open(\"SucD Yield calc.txt\", \"w\")\n",
    " \n",
    "#convert variable to string\n",
    "str = repr(Models_yield)\n",
    "file.write(\"Models_yield = \" + str + \"\\n\")\n",
    " \n",
    "#close file\n",
    "file.close()\n",
    " \n",
    "f = open('SucD Yield calc.txt', 'r')\n",
    "if f.mode=='r':\n",
    "    contents= f.read()"
   ]
  },
  {
   "cell_type": "code",
   "execution_count": 43,
   "metadata": {},
   "outputs": [
    {
     "name": "stdout",
     "output_type": "stream",
     "text": [
      "Yield for model SucD = 0.9605894736842118\n"
     ]
    }
   ],
   "source": [
    "print(\"Yield for model SucD =\",(-1)*((Models_yield['one'])/uptake)) # Yield for Model_SucD (Succinate) p-mmol/gl-mmol\n",
    "#it is multiplied by -1 because the reaction is an uptake which means thats goes for the right to the left"
   ]
  },
  {
   "cell_type": "code",
   "execution_count": 13,
   "metadata": {},
   "outputs": [
    {
     "data": {
      "text/html": [
       "\n",
       "        <table>\n",
       "            <tr>\n",
       "                <td><strong>Name</strong></td>\n",
       "                <td>iML1515</td>\n",
       "            </tr><tr>\n",
       "                <td><strong>Memory address</strong></td>\n",
       "                <td>0x07f97c80e3b20</td>\n",
       "            </tr><tr>\n",
       "                <td><strong>Number of metabolites</strong></td>\n",
       "                <td>1877</td>\n",
       "            </tr><tr>\n",
       "                <td><strong>Number of reactions</strong></td>\n",
       "                <td>2712</td>\n",
       "            </tr><tr>\n",
       "                <td><strong>Number of groups</strong></td>\n",
       "                <td>0</td>\n",
       "            </tr><tr>\n",
       "                <td><strong>Objective expression</strong></td>\n",
       "                <td>1.0*BIOMASS_Ec_iML1515_core_75p37M - 1.0*BIOMASS_Ec_iML1515_core_75p37M_reverse_35685</td>\n",
       "            </tr><tr>\n",
       "                <td><strong>Compartments</strong></td>\n",
       "                <td>cytosol, extracellular space, periplasm</td>\n",
       "            </tr>\n",
       "          </table>"
      ],
      "text/plain": [
       "<Model iML1515 at 0x7f97c80e3b20>"
      ]
     },
     "execution_count": 13,
     "metadata": {},
     "output_type": "execute_result"
    }
   ],
   "source": [
    "model_akg=model.copy()\n",
    "model_akg"
   ]
  },
  {
   "cell_type": "code",
   "execution_count": 14,
   "metadata": {},
   "outputs": [
    {
     "name": "stdout",
     "output_type": "stream",
     "text": [
      "akg_c --> co2_c + succinyl_semialdehyde_c\n"
     ]
    },
    {
     "data": {
      "text/html": [
       "\n",
       "        <table>\n",
       "            <tr>\n",
       "                <td><strong>Reaction identifier</strong></td><td>OXODC</td>\n",
       "            </tr><tr>\n",
       "                <td><strong>Name</strong></td><td></td>\n",
       "            </tr><tr>\n",
       "                <td><strong>Memory address</strong></td>\n",
       "                <td>0x07f97cce29d90</td>\n",
       "            </tr><tr>\n",
       "                <td><strong>Stoichiometry</strong></td>\n",
       "                <td>\n",
       "                    <p style='text-align:right'>akg_c --> co2_c + succinyl_semialdehyde_c</p>\n",
       "                    <p style='text-align:right'>2-Oxoglutarate --> CO2 CO2 +</p>\n",
       "                </td>\n",
       "            </tr><tr>\n",
       "                <td><strong>GPR</strong></td><td></td>\n",
       "            </tr><tr>\n",
       "                <td><strong>Lower bound</strong></td><td>0.0</td>\n",
       "            </tr><tr>\n",
       "                <td><strong>Upper bound</strong></td><td>1000.0</td>\n",
       "            </tr>\n",
       "        </table>\n",
       "        "
      ],
      "text/plain": [
       "<Reaction OXODC at 0x7f97cce29d90>"
      ]
     },
     "execution_count": 14,
     "metadata": {},
     "output_type": "execute_result"
    }
   ],
   "source": [
    "from cobra import Reaction, Metabolite\n",
    "oxodc = Reaction('OXODC') #2-oxoglutarate decarboxylase\n",
    "succinyl_semialdehyde = Metabolite(id='succinyl_semialdehyde_c', compartment='c')\n",
    "\n",
    "oxodc.add_metabolites({model_akg.metabolites.akg_c: -1,\n",
    "                              succinyl_semialdehyde: 1, #new one\n",
    "                              model_akg.metabolites.co2_c: 1\n",
    "                             })\n",
    "print(oxodc.build_reaction_string())\n",
    "model_akg.add_reactions([oxodc])\n",
    "model_akg.reactions.OXODC"
   ]
  },
  {
   "cell_type": "code",
   "execution_count": 15,
   "metadata": {},
   "outputs": [
    {
     "name": "stdout",
     "output_type": "stream",
     "text": [
      "nadh_c + succinyl_semialdehyde_c --> four_hydroxybutyrate_c + h_c + nad_c\n"
     ]
    },
    {
     "data": {
      "text/html": [
       "\n",
       "        <table>\n",
       "            <tr>\n",
       "                <td><strong>Reaction identifier</strong></td><td>FHBD</td>\n",
       "            </tr><tr>\n",
       "                <td><strong>Name</strong></td><td></td>\n",
       "            </tr><tr>\n",
       "                <td><strong>Memory address</strong></td>\n",
       "                <td>0x07f97cce2f5b0</td>\n",
       "            </tr><tr>\n",
       "                <td><strong>Stoichiometry</strong></td>\n",
       "                <td>\n",
       "                    <p style='text-align:right'>nadh_c + succinyl_semialdehyde_c --> four_hydroxybutyrate_c + h_c + nad_c</p>\n",
       "                    <p style='text-align:right'>Nicotinamide adenine dinucleotide - reduced + --> + H+ + Nicotinamide adenine dinucleotide</p>\n",
       "                </td>\n",
       "            </tr><tr>\n",
       "                <td><strong>GPR</strong></td><td></td>\n",
       "            </tr><tr>\n",
       "                <td><strong>Lower bound</strong></td><td>0.0</td>\n",
       "            </tr><tr>\n",
       "                <td><strong>Upper bound</strong></td><td>1000.0</td>\n",
       "            </tr>\n",
       "        </table>\n",
       "        "
      ],
      "text/plain": [
       "<Reaction FHBD at 0x7f97cce2f5b0>"
      ]
     },
     "execution_count": 15,
     "metadata": {},
     "output_type": "execute_result"
    }
   ],
   "source": [
    "from cobra import Reaction, Metabolite\n",
    "fhbd = Reaction('FHBD') #4-hydroxybutyrate dehydrogenase\n",
    "four_hydroxybutyrate = Metabolite(id='four_hydroxybutyrate_c', compartment='c')\n",
    "\n",
    "fhbd.add_metabolites({model_akg.metabolites.h_c: 1,\n",
    "                              model_akg.metabolites.nadh_c: -1,\n",
    "                              succinyl_semialdehyde: -1, \n",
    "                              four_hydroxybutyrate: 1, #new one\n",
    "                              model_akg.metabolites.nad_c: 1\n",
    "                             })\n",
    "print(fhbd.build_reaction_string())\n",
    "model_akg.add_reactions([fhbd])\n",
    "model_akg.reactions.FHBD"
   ]
  },
  {
   "cell_type": "code",
   "execution_count": 16,
   "metadata": {},
   "outputs": [
    {
     "name": "stdout",
     "output_type": "stream",
     "text": [
      "accoa_c + four_hydroxybutyrate_c --> ac_c + four_hbcoa_c\n"
     ]
    },
    {
     "data": {
      "text/html": [
       "\n",
       "        <table>\n",
       "            <tr>\n",
       "                <td><strong>Reaction identifier</strong></td><td>HBCT</td>\n",
       "            </tr><tr>\n",
       "                <td><strong>Name</strong></td><td></td>\n",
       "            </tr><tr>\n",
       "                <td><strong>Memory address</strong></td>\n",
       "                <td>0x07f97cce2fca0</td>\n",
       "            </tr><tr>\n",
       "                <td><strong>Stoichiometry</strong></td>\n",
       "                <td>\n",
       "                    <p style='text-align:right'>accoa_c + four_hydroxybutyrate_c --> ac_c + four_hbcoa_c</p>\n",
       "                    <p style='text-align:right'>Acetyl-CoA + --> Acetate +</p>\n",
       "                </td>\n",
       "            </tr><tr>\n",
       "                <td><strong>GPR</strong></td><td></td>\n",
       "            </tr><tr>\n",
       "                <td><strong>Lower bound</strong></td><td>0.0</td>\n",
       "            </tr><tr>\n",
       "                <td><strong>Upper bound</strong></td><td>1000.0</td>\n",
       "            </tr>\n",
       "        </table>\n",
       "        "
      ],
      "text/plain": [
       "<Reaction HBCT at 0x7f97cce2fca0>"
      ]
     },
     "execution_count": 16,
     "metadata": {},
     "output_type": "execute_result"
    }
   ],
   "source": [
    "from cobra import Reaction, Metabolite\n",
    "hbd_coa_t = Reaction('HBCT') #4-hydroxybutyryl-CoA transferase\n",
    "four_hbcoa = Metabolite(id='four_hbcoa_c', compartment='c')\n",
    "hbd_coa_t.add_metabolites({model_akg.metabolites.accoa_c: -1,\n",
    "                              model_akg.metabolites.ac_c: 1,\n",
    "                              four_hbcoa: 1, #new one\n",
    "                              four_hydroxybutyrate: -1\n",
    "                             })\n",
    "print(hbd_coa_t.build_reaction_string())\n",
    "model_akg.add_reactions([hbd_coa_t])\n",
    "model_akg.reactions.HBCT"
   ]
  },
  {
   "cell_type": "code",
   "execution_count": 17,
   "metadata": {},
   "outputs": [
    {
     "name": "stdout",
     "output_type": "stream",
     "text": [
      "four_hbcoa_c + nadh_c --> coa_c + four_hbaldehyde_c + h_c + nad_c\n"
     ]
    },
    {
     "data": {
      "text/html": [
       "\n",
       "        <table>\n",
       "            <tr>\n",
       "                <td><strong>Reaction identifier</strong></td><td>HBCR</td>\n",
       "            </tr><tr>\n",
       "                <td><strong>Name</strong></td><td></td>\n",
       "            </tr><tr>\n",
       "                <td><strong>Memory address</strong></td>\n",
       "                <td>0x07f97cce2f970</td>\n",
       "            </tr><tr>\n",
       "                <td><strong>Stoichiometry</strong></td>\n",
       "                <td>\n",
       "                    <p style='text-align:right'>four_hbcoa_c + nadh_c --> coa_c + four_hbaldehyde_c + h_c + nad_c</p>\n",
       "                    <p style='text-align:right'>+ Nicotinamide adenine dinucleotide - reduced --> Coenzyme A + + H+ + Nicotinamide adenine dinucleotide</p>\n",
       "                </td>\n",
       "            </tr><tr>\n",
       "                <td><strong>GPR</strong></td><td></td>\n",
       "            </tr><tr>\n",
       "                <td><strong>Lower bound</strong></td><td>0.0</td>\n",
       "            </tr><tr>\n",
       "                <td><strong>Upper bound</strong></td><td>1000.0</td>\n",
       "            </tr>\n",
       "        </table>\n",
       "        "
      ],
      "text/plain": [
       "<Reaction HBCR at 0x7f97cce2f970>"
      ]
     },
     "execution_count": 17,
     "metadata": {},
     "output_type": "execute_result"
    }
   ],
   "source": [
    "from cobra import Reaction, Metabolite\n",
    "hbd_coa_r = Reaction('HBCR') #4-hydroxybutyryl-CoA reductase\n",
    "four_hbaldehyde = Metabolite(id='four_hbaldehyde_c', compartment='c')\n",
    "hbd_coa_r.add_metabolites({model_akg.metabolites.h_c: 1,\n",
    "                              model_akg.metabolites.nadh_c: -1,\n",
    "                              four_hbaldehyde: 1, #new one\n",
    "                              four_hbcoa: -1,\n",
    "                              model_akg.metabolites.nad_c: 1,\n",
    "                              model_akg.metabolites.coa_c: 1\n",
    "                             })\n",
    "print(hbd_coa_r.build_reaction_string())\n",
    "model_akg.add_reactions([hbd_coa_r])\n",
    "model_akg.reactions.HBCR"
   ]
  },
  {
   "cell_type": "code",
   "execution_count": 18,
   "metadata": {},
   "outputs": [
    {
     "name": "stdout",
     "output_type": "stream",
     "text": [
      "four_hbaldehyde_c + nadh_c --> bdo_c + h_c + nad_c\n"
     ]
    },
    {
     "data": {
      "text/html": [
       "\n",
       "        <table>\n",
       "            <tr>\n",
       "                <td><strong>Reaction identifier</strong></td><td>ADH</td>\n",
       "            </tr><tr>\n",
       "                <td><strong>Name</strong></td><td></td>\n",
       "            </tr><tr>\n",
       "                <td><strong>Memory address</strong></td>\n",
       "                <td>0x07f97cce3f940</td>\n",
       "            </tr><tr>\n",
       "                <td><strong>Stoichiometry</strong></td>\n",
       "                <td>\n",
       "                    <p style='text-align:right'>four_hbaldehyde_c + nadh_c --> bdo_c + h_c + nad_c</p>\n",
       "                    <p style='text-align:right'>+ Nicotinamide adenine dinucleotide - reduced --> + H+ + Nicotinamide adenine dinucleotide</p>\n",
       "                </td>\n",
       "            </tr><tr>\n",
       "                <td><strong>GPR</strong></td><td></td>\n",
       "            </tr><tr>\n",
       "                <td><strong>Lower bound</strong></td><td>0.0</td>\n",
       "            </tr><tr>\n",
       "                <td><strong>Upper bound</strong></td><td>1000.0</td>\n",
       "            </tr>\n",
       "        </table>\n",
       "        "
      ],
      "text/plain": [
       "<Reaction ADH at 0x7f97cce3f940>"
      ]
     },
     "execution_count": 18,
     "metadata": {},
     "output_type": "execute_result"
    }
   ],
   "source": [
    "from cobra import Reaction, Metabolite\n",
    "adh= Reaction('ADH') #alcohol dehydrogenase\n",
    "bdo = Metabolite(id='bdo_c', compartment='c')\n",
    "adh.add_metabolites({model_akg.metabolites.h_c: 1,\n",
    "                              model_akg.metabolites.nadh_c: -1,\n",
    "                              four_hbaldehyde: -1,\n",
    "                              bdo: 1, #new one\n",
    "                              model_akg.metabolites.nad_c: 1,\n",
    "                             })\n",
    "print(adh.build_reaction_string())\n",
    "model_akg.add_reactions([adh])\n",
    "model_akg.reactions.ADH"
   ]
  },
  {
   "cell_type": "code",
   "execution_count": 19,
   "metadata": {},
   "outputs": [
    {
     "data": {
      "text/html": [
       "\n",
       "        <table>\n",
       "            <tr>\n",
       "                <td><strong>Reaction identifier</strong></td><td>DM_bdo_c</td>\n",
       "            </tr><tr>\n",
       "                <td><strong>Name</strong></td><td>demand</td>\n",
       "            </tr><tr>\n",
       "                <td><strong>Memory address</strong></td>\n",
       "                <td>0x07f97cce3f850</td>\n",
       "            </tr><tr>\n",
       "                <td><strong>Stoichiometry</strong></td>\n",
       "                <td>\n",
       "                    <p style='text-align:right'>bdo_c --></p>\n",
       "                    <p style='text-align:right'>--></p>\n",
       "                </td>\n",
       "            </tr><tr>\n",
       "                <td><strong>GPR</strong></td><td></td>\n",
       "            </tr><tr>\n",
       "                <td><strong>Lower bound</strong></td><td>0</td>\n",
       "            </tr><tr>\n",
       "                <td><strong>Upper bound</strong></td><td>1000.0</td>\n",
       "            </tr>\n",
       "        </table>\n",
       "        "
      ],
      "text/plain": [
       "<Reaction DM_bdo_c at 0x7f97cce3f850>"
      ]
     },
     "execution_count": 19,
     "metadata": {},
     "output_type": "execute_result"
    }
   ],
   "source": [
    "bdo_exchange = Reaction('EX_bdo')\n",
    "bdo_exchange.add_metabolites({model_akg.metabolites.bdo_c: -1})\n",
    "model_akg.add_reaction(bdo_exchange)\n",
    "model_akg.add_boundary(model_akg.metabolites.bdo_c, type='demand')"
   ]
  },
  {
   "cell_type": "code",
   "execution_count": 49,
   "metadata": {},
   "outputs": [
    {
     "name": "stdout",
     "output_type": "stream",
     "text": [
      "9.708085106382972\n"
     ]
    }
   ],
   "source": [
    "with model:\n",
    "    model_akg.objective=model_akg.reactions.ADH\n",
    "    optimized = float(model_akg.optimize().objective_value)\n",
    "    print(optimized)"
   ]
  },
  {
   "cell_type": "code",
   "execution_count": 50,
   "metadata": {},
   "outputs": [
    {
     "name": "stdout",
     "output_type": "stream",
     "text": [
      "-10.0\n"
     ]
    }
   ],
   "source": [
    "uptake_akg = model_akg.reactions.EX_glc__D_e.flux #uptake <--\n",
    "print(uptake_akg)"
   ]
  },
  {
   "cell_type": "code",
   "execution_count": 51,
   "metadata": {},
   "outputs": [],
   "source": [
    "#input text\n",
    "Models_yield = dict()\n",
    "Models_yield['one']= optimized\n",
    " \n",
    "#open file\n",
    "file = open(\"Akg Yield calc.txt\", \"w\")\n",
    " \n",
    "#convert variable to string\n",
    "str = repr(Models_yield)\n",
    "file.write(\"Models_yield = \" + str + \"\\n\")\n",
    " \n",
    "#close file\n",
    "file.close()\n",
    " \n",
    "f = open('Akg Yield calc.txt', 'r')\n",
    "if f.mode=='r':\n",
    "    contents= f.read()"
   ]
  },
  {
   "cell_type": "code",
   "execution_count": 52,
   "metadata": {},
   "outputs": [
    {
     "name": "stdout",
     "output_type": "stream",
     "text": [
      "Yield for model Akg = 0.9708085106382972\n"
     ]
    }
   ],
   "source": [
    "print(\"Yield for model Akg =\",(-1)*((Models_yield['one'])/uptake)) # Yield for Model_akg (a-ketoglutarate) p-mmol/gl-mmol\n",
    "#it is multiplied by -1 because the reaction is an uptake which means thats goes for the right to the left"
   ]
  },
  {
   "cell_type": "code",
   "execution_count": null,
   "metadata": {},
   "outputs": [],
   "source": []
  }
 ],
 "metadata": {
  "kernelspec": {
   "display_name": "Python 3",
   "language": "python",
   "name": "python3"
  },
  "language_info": {
   "codemirror_mode": {
    "name": "ipython",
    "version": 3
   },
   "file_extension": ".py",
   "mimetype": "text/x-python",
   "name": "python",
   "nbconvert_exporter": "python",
   "pygments_lexer": "ipython3",
   "version": "3.8.3"
  }
 },
 "nbformat": 4,
 "nbformat_minor": 5
}
