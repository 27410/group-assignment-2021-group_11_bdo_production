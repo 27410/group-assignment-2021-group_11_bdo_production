{
 "cells": [
  {
   "cell_type": "code",
   "execution_count": 1,
   "id": "a9b5e748-7614-4515-9b03-c468bada2971",
   "metadata": {},
   "outputs": [
    {
     "name": "stdout",
     "output_type": "stream",
     "text": [
      "nadh_c + succoa_c --> coa_c + h_c + nad_c + succinyl_semialdehyde_c\n",
      "nadh_c + succinyl_semialdehyde_c --> four_hydroxybutyrate_c + h_c + nad_c\n",
      "accoa_c + four_hydroxybutyrate_c --> ac_c + four_hbcoa_c\n",
      "four_hbcoa_c + nadh_c --> coa_c + four_hbaldehyde_c + h_c + nad_c\n",
      "four_hbaldehyde_c + nadh_c --> bdo_c + h_c + nad_c\n",
      "9.605894736842117\n",
      "Uptake: -10.0\n",
      "Yield for model SucD = 0.9605894736842118\n",
      "akg_c --> co2_c + succinyl_semialdehyde_c\n",
      "nadh_c + succinyl_semialdehyde_c --> four_hydroxybutyrate_c + h_c + nad_c\n",
      "accoa_c + four_hydroxybutyrate_c --> ac_c + four_hbcoa_c\n",
      "four_hbcoa_c + nadh_c --> coa_c + four_hbaldehyde_c + h_c + nad_c\n",
      "four_hbaldehyde_c + nadh_c --> bdo_c + h_c + nad_c\n",
      "9.708085106382972\n",
      "Uptake: -10.0\n",
      "Yield for model Akg = 0.9708085106382972\n"
     ]
    }
   ],
   "source": [
    "%run Model.ipynb"
   ]
  },
  {
   "cell_type": "code",
   "execution_count": 2,
   "id": "6398f0c7-c732-4f31-a797-d0e96086e964",
   "metadata": {},
   "outputs": [
    {
     "data": {
      "text/html": [
       "<strong><em>Optimal</em> solution with objective value 0.877</strong><br><div>\n",
       "<style scoped>\n",
       "    .dataframe tbody tr th:only-of-type {\n",
       "        vertical-align: middle;\n",
       "    }\n",
       "\n",
       "    .dataframe tbody tr th {\n",
       "        vertical-align: top;\n",
       "    }\n",
       "\n",
       "    .dataframe thead th {\n",
       "        text-align: right;\n",
       "    }\n",
       "</style>\n",
       "<table border=\"1\" class=\"dataframe\">\n",
       "  <thead>\n",
       "    <tr style=\"text-align: right;\">\n",
       "      <th></th>\n",
       "      <th>fluxes</th>\n",
       "      <th>reduced_costs</th>\n",
       "    </tr>\n",
       "  </thead>\n",
       "  <tbody>\n",
       "    <tr>\n",
       "      <th>CYTDK2</th>\n",
       "      <td>0.00000</td>\n",
       "      <td>-7.273028e-17</td>\n",
       "    </tr>\n",
       "    <tr>\n",
       "      <th>XPPT</th>\n",
       "      <td>0.00000</td>\n",
       "      <td>-1.504671e-02</td>\n",
       "    </tr>\n",
       "    <tr>\n",
       "      <th>HXPRT</th>\n",
       "      <td>0.00000</td>\n",
       "      <td>-1.504671e-02</td>\n",
       "    </tr>\n",
       "    <tr>\n",
       "      <th>NDPK5</th>\n",
       "      <td>0.00000</td>\n",
       "      <td>-0.000000e+00</td>\n",
       "    </tr>\n",
       "    <tr>\n",
       "      <th>SHK3Dr</th>\n",
       "      <td>0.33424</td>\n",
       "      <td>0.000000e+00</td>\n",
       "    </tr>\n",
       "    <tr>\n",
       "      <th>...</th>\n",
       "      <td>...</td>\n",
       "      <td>...</td>\n",
       "    </tr>\n",
       "    <tr>\n",
       "      <th>HBCT</th>\n",
       "      <td>0.00000</td>\n",
       "      <td>0.000000e+00</td>\n",
       "    </tr>\n",
       "    <tr>\n",
       "      <th>HBCR</th>\n",
       "      <td>0.00000</td>\n",
       "      <td>0.000000e+00</td>\n",
       "    </tr>\n",
       "    <tr>\n",
       "      <th>ADH</th>\n",
       "      <td>0.00000</td>\n",
       "      <td>-1.170938e-17</td>\n",
       "    </tr>\n",
       "    <tr>\n",
       "      <th>EX_bdo</th>\n",
       "      <td>0.00000</td>\n",
       "      <td>0.000000e+00</td>\n",
       "    </tr>\n",
       "    <tr>\n",
       "      <th>DM_bdo_c</th>\n",
       "      <td>0.00000</td>\n",
       "      <td>-0.000000e+00</td>\n",
       "    </tr>\n",
       "  </tbody>\n",
       "</table>\n",
       "<p>2719 rows × 2 columns</p>\n",
       "</div>"
      ],
      "text/plain": [
       "<Solution 0.877 at 0x13e86e3c910>"
      ]
     },
     "execution_count": 2,
     "metadata": {},
     "output_type": "execute_result"
    }
   ],
   "source": [
    "model_sucd.optimize()"
   ]
  },
  {
   "cell_type": "code",
   "execution_count": 4,
   "id": "c3134653-7e89-488f-b2a5-781180927d9c",
   "metadata": {},
   "outputs": [
    {
     "data": {
      "text/html": [
       "<strong><em>Optimal</em> solution with objective value 0.877</strong><br><div>\n",
       "<style scoped>\n",
       "    .dataframe tbody tr th:only-of-type {\n",
       "        vertical-align: middle;\n",
       "    }\n",
       "\n",
       "    .dataframe tbody tr th {\n",
       "        vertical-align: top;\n",
       "    }\n",
       "\n",
       "    .dataframe thead th {\n",
       "        text-align: right;\n",
       "    }\n",
       "</style>\n",
       "<table border=\"1\" class=\"dataframe\">\n",
       "  <thead>\n",
       "    <tr style=\"text-align: right;\">\n",
       "      <th></th>\n",
       "      <th>fluxes</th>\n",
       "      <th>reduced_costs</th>\n",
       "    </tr>\n",
       "  </thead>\n",
       "  <tbody>\n",
       "    <tr>\n",
       "      <th>CYTDK2</th>\n",
       "      <td>0.00000</td>\n",
       "      <td>7.799850e-17</td>\n",
       "    </tr>\n",
       "    <tr>\n",
       "      <th>XPPT</th>\n",
       "      <td>0.00000</td>\n",
       "      <td>-7.523353e-03</td>\n",
       "    </tr>\n",
       "    <tr>\n",
       "      <th>HXPRT</th>\n",
       "      <td>0.00000</td>\n",
       "      <td>-7.523353e-03</td>\n",
       "    </tr>\n",
       "    <tr>\n",
       "      <th>NDPK5</th>\n",
       "      <td>0.00000</td>\n",
       "      <td>-2.409850e-17</td>\n",
       "    </tr>\n",
       "    <tr>\n",
       "      <th>SHK3Dr</th>\n",
       "      <td>0.33424</td>\n",
       "      <td>0.000000e+00</td>\n",
       "    </tr>\n",
       "    <tr>\n",
       "      <th>...</th>\n",
       "      <td>...</td>\n",
       "      <td>...</td>\n",
       "    </tr>\n",
       "    <tr>\n",
       "      <th>HBCT</th>\n",
       "      <td>0.00000</td>\n",
       "      <td>0.000000e+00</td>\n",
       "    </tr>\n",
       "    <tr>\n",
       "      <th>HBCR</th>\n",
       "      <td>0.00000</td>\n",
       "      <td>0.000000e+00</td>\n",
       "    </tr>\n",
       "    <tr>\n",
       "      <th>ADH</th>\n",
       "      <td>0.00000</td>\n",
       "      <td>-1.692754e-02</td>\n",
       "    </tr>\n",
       "    <tr>\n",
       "      <th>EX_bdo</th>\n",
       "      <td>0.00000</td>\n",
       "      <td>0.000000e+00</td>\n",
       "    </tr>\n",
       "    <tr>\n",
       "      <th>DM_bdo_c</th>\n",
       "      <td>0.00000</td>\n",
       "      <td>0.000000e+00</td>\n",
       "    </tr>\n",
       "  </tbody>\n",
       "</table>\n",
       "<p>2719 rows × 2 columns</p>\n",
       "</div>"
      ],
      "text/plain": [
       "<Solution 0.877 at 0x2ac4134b2b0>"
      ]
     },
     "execution_count": 4,
     "metadata": {},
     "output_type": "execute_result"
    }
   ],
   "source": [
    "model_akg.optimize()"
   ]
  },
  {
   "cell_type": "markdown",
   "id": "50f45d64-e872-41b8-b86f-507060e9ea9c",
   "metadata": {},
   "source": [
    "# Biomass growth"
   ]
  },
  {
   "cell_type": "markdown",
   "id": "7b4b46c0-99dd-4fc1-9d08-89c832c27933",
   "metadata": {},
   "source": [
    "## Substrate: glucose"
   ]
  },
  {
   "cell_type": "markdown",
   "id": "81782699-1340-419a-8e6a-8a88eed3a617",
   "metadata": {},
   "source": [
    "The biomass growth of the sucd model is calculated with substrate glucose"
   ]
  },
  {
   "cell_type": "code",
   "execution_count": 5,
   "id": "eb98a542-c4d8-46b0-a87d-e15747454898",
   "metadata": {},
   "outputs": [
    {
     "name": "stdout",
     "output_type": "stream",
     "text": [
      "0.8769972144269966\n"
     ]
    }
   ],
   "source": [
    "# model:sucd\n",
    "medium = model_sucd.medium\n",
    "with model_sucd:\n",
    "    medium['EX_glc__D_e'] = 10\n",
    "    medium['EX_xyl__D_e'] = 0\n",
    "    model_sucd.medium = medium\n",
    "    solution = model_sucd.optimize()\n",
    "    print(solution.fluxes['BIOMASS_Ec_iML1515_core_75p37M'])"
   ]
  },
  {
   "cell_type": "markdown",
   "id": "f1954a46-599f-44ab-a5da-c57364caeb8c",
   "metadata": {},
   "source": [
    "The biomass growth of the akg model is calculated with substrate glucose"
   ]
  },
  {
   "cell_type": "code",
   "execution_count": 4,
   "id": "ffb9b1b9-0e52-4467-9163-57059f19f3a6",
   "metadata": {},
   "outputs": [
    {
     "name": "stdout",
     "output_type": "stream",
     "text": [
      "0.0\n"
     ]
    }
   ],
   "source": [
    "# model:akg\n",
    "medium = model_akg.medium\n",
    "with model_akg:\n",
    "    medium['EX_glc__D_e'] = 10\n",
    "    medium['EX_xyl__D_e'] = 0\n",
    "    model_akg.medium = medium\n",
    "    solution = model_akg.optimize()\n",
    "    print(solution.fluxes['BIOMASS_Ec_iML1515_core_75p37M'])"
   ]
  },
  {
   "cell_type": "markdown",
   "id": "eb7f94d8-ee64-4f25-91bf-43e92bb9fe7a",
   "metadata": {},
   "source": [
    "## Substrate: Xylose"
   ]
  },
  {
   "cell_type": "markdown",
   "id": "3b13c662-cdd4-4f32-8462-d2775efda61b",
   "metadata": {},
   "source": [
    "The biomass growth of the sucd model is calculated with substrate xylose"
   ]
  },
  {
   "cell_type": "code",
   "execution_count": 6,
   "id": "22a1d36b-4ed5-4baf-a05b-e9e4f8141b49",
   "metadata": {},
   "outputs": [
    {
     "name": "stdout",
     "output_type": "stream",
     "text": [
      "0.717125971340642\n"
     ]
    }
   ],
   "source": [
    "# model:sucd\n",
    "medium = model_sucd.medium\n",
    "with model_sucd:\n",
    "    medium['EX_glc__D_e'] = 0\n",
    "    medium['EX_xyl__D_e'] = 10\n",
    "    model_sucd.medium = medium\n",
    "    solution = model_sucd.optimize()\n",
    "    print(solution.fluxes['BIOMASS_Ec_iML1515_core_75p37M'])"
   ]
  },
  {
   "cell_type": "markdown",
   "id": "32702264-cb2a-4f67-8dbd-3147b2ead94b",
   "metadata": {},
   "source": [
    "The biomass growth of the akg model is calculated with substrate xylose"
   ]
  },
  {
   "cell_type": "code",
   "execution_count": 7,
   "id": "4e3ea133-5ec6-4e5a-93b8-d3df19b88d23",
   "metadata": {},
   "outputs": [
    {
     "name": "stdout",
     "output_type": "stream",
     "text": [
      "0.0\n"
     ]
    }
   ],
   "source": [
    "# model:akg\n",
    "medium = model_akg.medium\n",
    "with model:\n",
    "    medium['EX_glc__D_e'] = 0\n",
    "    medium['EX_xyl__D_e'] = 10\n",
    "    model_akg.medium = medium\n",
    "    solution = model_akg.optimize()\n",
    "    print(solution.fluxes['BIOMASS_Ec_iML1515_core_75p37M'])"
   ]
  },
  {
   "cell_type": "markdown",
   "id": "782a5b97-dfc1-4db9-8d4a-b48c64be1122",
   "metadata": {},
   "source": [
    "# BDO production and Theoretical Yield, substrate: Xylose"
   ]
  },
  {
   "cell_type": "markdown",
   "id": "07939636-543a-44bc-a820-1e80867ea966",
   "metadata": {},
   "source": [
    "The max BDO production and the theoretical yield of the sucd model are calculated with substrate xylose"
   ]
  },
  {
   "cell_type": "code",
   "execution_count": 8,
   "id": "7fb2cdd2-9a93-4216-95f0-2fa4ed514801",
   "metadata": {},
   "outputs": [
    {
     "name": "stdout",
     "output_type": "stream",
     "text": [
      "Max. BDO production [mmol gDW^-1 h^-1]: 7.8515087719298355\n",
      "Theoretical max. yield [mmol-BDO / mmol-xyl]: 0.7851508771929836\n"
     ]
    }
   ],
   "source": [
    "# model:sucd\n",
    "with model_sucd:\n",
    "    medium['EX_glc__D_e'] = 0\n",
    "    medium['EX_xyl__D_e'] = 10\n",
    "    model_sucd.medium = medium\n",
    "    model_sucd.objective = model_sucd.reactions.EX_bdo\n",
    "    BDO_production = model_sucd.optimize().objective_value\n",
    "    print(\"Max. BDO production [mmol gDW^-1 h^-1]:\", BDO_production)\n",
    "    print(\"Theoretical max. yield [mmol-BDO / mmol-xyl]:\", BDO_production / (-1*model_sucd.reactions.EX_xyl__D_e.flux))"
   ]
  },
  {
   "cell_type": "markdown",
   "id": "c29d823d-4325-4ec6-ab3c-5d21dc292920",
   "metadata": {},
   "source": [
    "The max BDO production and the theoretical yield of the akg model are calculated with substrate xylose"
   ]
  },
  {
   "cell_type": "code",
   "execution_count": 9,
   "id": "407712a1-40f5-4e31-927c-a7c10240b10d",
   "metadata": {},
   "outputs": [
    {
     "name": "stdout",
     "output_type": "stream",
     "text": [
      "Max. BDO production [mmol gDW^-1 h^-1]: 7.9350354609929195\n",
      "Theoretical max. yield [mmol-BDO / mmol-xyl]: 0.793503546099292\n"
     ]
    }
   ],
   "source": [
    "# model:akg\n",
    "medium = model_akg.medium\n",
    "with model_akg:\n",
    "    medium['EX_glc__D_e'] = 0\n",
    "    medium['EX_xyl__D_e'] = 10\n",
    "    model_akg.medium = medium\n",
    "    model_akg.objective = model_akg.reactions.EX_bdo\n",
    "    BDO_production = model_akg.optimize().objective_value\n",
    "    print(\"Max. BDO production [mmol gDW^-1 h^-1]:\", BDO_production)\n",
    "    print(\"Theoretical max. yield [mmol-BDO / mmol-xyl]:\", BDO_production / (-1*model_akg.reactions.EX_xyl__D_e.flux))"
   ]
  },
  {
   "cell_type": "markdown",
   "id": "c4c9242d-0f5e-4a46-89b2-853aea1063d9",
   "metadata": {},
   "source": [
    "The BDO production of the sucd model is calculated under anaerobic conditions"
   ]
  },
  {
   "cell_type": "code",
   "execution_count": 10,
   "id": "0481c1ec-b04c-4534-95f1-7d8acb6ea1cd",
   "metadata": {},
   "outputs": [
    {
     "name": "stdout",
     "output_type": "stream",
     "text": [
      "6.1927619047619125\n"
     ]
    }
   ],
   "source": [
    "with model_sucd:\n",
    "    medium = model_sucd.medium\n",
    "    medium['EX_glc__D_e']=10\n",
    "    medium['EX_xyl__D_e']=0\n",
    "    medium['EX_o2_e'] =0    \n",
    "    model_sucd.medium = medium\n",
    "    with model_sucd:\n",
    "        model_sucd.objective = model_sucd.reactions.EX_bdo\n",
    "        BDO_production = model_sucd.optimize().objective_value\n",
    "\n",
    "print(BDO_production)\n"
   ]
  },
  {
   "cell_type": "markdown",
   "id": "4a97aeb8-6de7-4310-bd6f-47eae04a5a7b",
   "metadata": {},
   "source": [
    "The BDO production of akg model is calculated under anaerobic conditions"
   ]
  },
  {
   "cell_type": "code",
   "execution_count": 12,
   "id": "7eda53b8-131d-4733-96ef-d53314f98189",
   "metadata": {},
   "outputs": [
    {
     "name": "stdout",
     "output_type": "stream",
     "text": [
      "4.268235294117643\n"
     ]
    }
   ],
   "source": [
    "with model_akg:\n",
    "    medium = model_akg.medium\n",
    "    medium['EX_glc__D_e']=10\n",
    "    medium['EX_xyl__D_e']=0\n",
    "    medium['EX_o2_e'] =0    \n",
    "    model_akg.medium = medium\n",
    "    with model_akg:\n",
    "        model_akg.objective = model_akg.reactions.EX_bdo\n",
    "        BDO_production = model_akg.optimize().objective_value\n",
    "\n",
    "print(BDO_production)"
   ]
  },
  {
   "cell_type": "code",
   "execution_count": null,
   "id": "95b8b543-743f-437c-a26a-25b0097fb39c",
   "metadata": {},
   "outputs": [],
   "source": []
  }
 ],
 "metadata": {
  "kernelspec": {
   "display_name": "Python 3",
   "language": "python",
   "name": "python3"
  },
  "language_info": {
   "codemirror_mode": {
    "name": "ipython",
    "version": 3
   },
   "file_extension": ".py",
   "mimetype": "text/x-python",
   "name": "python",
   "nbconvert_exporter": "python",
   "pygments_lexer": "ipython3",
   "version": "3.8.8"
  }
 },
 "nbformat": 4,
 "nbformat_minor": 5
}
