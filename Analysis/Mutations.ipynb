{
 "cells": [
  {
   "cell_type": "code",
   "execution_count": 5,
   "id": "90ca7093-6fcf-4f69-b0e5-a8e63240e332",
   "metadata": {},
   "outputs": [
    {
     "name": "stdout",
     "output_type": "stream",
     "text": [
      "nadh_c + succoa_c --> coa_c + h_c + nad_c + succinyl_semialdehyde_c\n",
      "nadh_c + succinyl_semialdehyde_c --> four_hydroxybutyrate_c + h_c + nad_c\n",
      "accoa_c + four_hydroxybutyrate_c --> ac_c + four_hbcoa_c\n",
      "four_hbcoa_c + nadh_c --> coa_c + four_hbaldehyde_c + h_c + nad_c\n",
      "four_hbaldehyde_c + nadh_c --> bdo_c + h_c + nad_c\n",
      "akg_c --> co2_c + succinyl_semialdehyde_c\n",
      "nadh_c + succinyl_semialdehyde_c --> four_hydroxybutyrate_c + h_c + nad_c\n",
      "accoa_c + four_hydroxybutyrate_c --> ac_c + four_hbcoa_c\n",
      "four_hbcoa_c + nadh_c --> coa_c + four_hbaldehyde_c + h_c + nad_c\n",
      "four_hbaldehyde_c + nadh_c --> bdo_c + h_c + nad_c\n"
     ]
    }
   ],
   "source": [
    "%run Model.ipynb"
   ]
  },
  {
   "cell_type": "markdown",
   "id": "5f995d0f-af30-4de1-860a-7ce2dbae9fe9",
   "metadata": {},
   "source": [
    "## Mdh mutant"
   ]
  },
  {
   "cell_type": "code",
   "execution_count": 6,
   "id": "4af53080-c464-4585-ac85-35c556d7e542",
   "metadata": {},
   "outputs": [
    {
     "name": "stdout",
     "output_type": "stream",
     "text": [
      "Maximal growth rate:\n",
      "0.856444366957561\n",
      "Maximal bdo production rate:\n",
      "9.708085106382972\n"
     ]
    }
   ],
   "source": [
    "with model_akg as mdh_mutant:\n",
    "    mdh_mutant.genes.b3236.knock_out()\n",
    "    \n",
    "    print(\"Maximal growth rate:\")\n",
    "    print(mdh_mutant.slim_optimize())\n",
    "\n",
    "with model_akg as mdh_mutant:\n",
    "    mdh_mutant.objective = model_akg.reactions.ADH\n",
    "    print(\"Maximal bdo production rate:\")\n",
    "    print(mdh_mutant.slim_optimize())"
   ]
  },
  {
   "cell_type": "markdown",
   "id": "0be9aa9c-9eca-4f64-ad81-1801713b1605",
   "metadata": {},
   "source": [
    "## Adhe1 mutant "
   ]
  },
  {
   "cell_type": "code",
   "execution_count": 7,
   "id": "9bad8592-7816-4276-aeaa-28d2bb5d91e5",
   "metadata": {},
   "outputs": [
    {
     "name": "stdout",
     "output_type": "stream",
     "text": [
      "Maximal growth rate:\n",
      "0.8769972144269697\n",
      "Maximal bdo production rate:\n",
      "9.708085106382924\n"
     ]
    }
   ],
   "source": [
    "with model_akg as adhe1_mutant:\n",
    "    adhe1_mutant.genes.b1241.knock_out()\n",
    "    \n",
    "    print(\"Maximal growth rate:\")\n",
    "    print(adhe1_mutant.slim_optimize())\n",
    "    \n",
    "with model_akg as adhe1_mutant:\n",
    "    adhe1_mutant.objective = model_akg.reactions.ADH\n",
    "    print(\"Maximal bdo production rate:\")\n",
    "    print(adhe1_mutant.slim_optimize())"
   ]
  },
  {
   "cell_type": "markdown",
   "id": "34150a8f-142d-45b6-b96a-9bcebfb0a5e2",
   "metadata": {},
   "source": [
    "## Adhe12 mutant"
   ]
  },
  {
   "cell_type": "code",
   "execution_count": 8,
   "id": "62aa767e-8d80-418a-b744-e58eb2d738ab",
   "metadata": {},
   "outputs": [
    {
     "name": "stdout",
     "output_type": "stream",
     "text": [
      "Maximal growth rate:\n",
      "0.8769972144269996\n",
      "Maximal bdo production rate:\n",
      "9.708085106382978\n"
     ]
    }
   ],
   "source": [
    "with model_akg as adhe12_mutant:\n",
    "    adhe12_mutant.genes.b1478.knock_out()\n",
    "    adhe12_mutant.genes.b1241.knock_out()\n",
    "\n",
    "    \n",
    "    print(\"Maximal growth rate:\")\n",
    "    print(adhe12_mutant.slim_optimize())\n",
    "    \n",
    "with model_akg as adhe12_mutant:\n",
    "    adhe12_mutant.objective = model_akg.reactions.ADH\n",
    "    print(\"Maximal bdo production rate:\")\n",
    "    print(adhe12_mutant.slim_optimize())"
   ]
  }
 ],
 "metadata": {
  "kernelspec": {
   "display_name": "Python 3",
   "language": "python",
   "name": "python3"
  },
  "language_info": {
   "codemirror_mode": {
    "name": "ipython",
    "version": 3
   },
   "file_extension": ".py",
   "mimetype": "text/x-python",
   "name": "python",
   "nbconvert_exporter": "python",
   "pygments_lexer": "ipython3",
   "version": "3.8.8"
  }
 },
 "nbformat": 4,
 "nbformat_minor": 5
}
