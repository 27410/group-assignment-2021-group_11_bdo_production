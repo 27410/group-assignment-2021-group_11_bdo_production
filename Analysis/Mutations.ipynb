{
 "cells": [
  {
   "cell_type": "code",
   "execution_count": 54,
   "id": "90ca7093-6fcf-4f69-b0e5-a8e63240e332",
   "metadata": {},
   "outputs": [
    {
     "name": "stdout",
     "output_type": "stream",
     "text": [
      "nadh_c + succoa_c --> coa_c + h_c + nad_c + succinyl_semialdehyde_c\n",
      "nadh_c + succinyl_semialdehyde_c --> four_hydroxybutyrate_c + h_c + nad_c\n",
      "accoa_c + four_hydroxybutyrate_c --> ac_c + four_hbcoa_c\n",
      "four_hbcoa_c + nadh_c --> coa_c + four_hbaldehyde_c + h_c + nad_c\n",
      "four_hbaldehyde_c + nadh_c --> bdo_c + h_c + nad_c\n",
      "akg_c --> co2_c + succinyl_semialdehyde_c\n",
      "nadh_c + succinyl_semialdehyde_c --> four_hydroxybutyrate_c + h_c + nad_c\n",
      "accoa_c + four_hydroxybutyrate_c --> ac_c + four_hbcoa_c\n",
      "four_hbcoa_c + nadh_c --> coa_c + four_hbaldehyde_c + h_c + nad_c\n",
      "four_hbaldehyde_c + nadh_c --> bdo_c + h_c + nad_c\n"
     ]
    }
   ],
   "source": [
    "%run Model.ipynb"
   ]
  },
  {
   "cell_type": "markdown",
   "id": "e49ea637-f9d6-472f-b892-f98417582513",
   "metadata": {},
   "source": [
    "## Wild type E.coli"
   ]
  },
  {
   "cell_type": "markdown",
   "id": "62b01b0b-58f5-428c-8f85-7d2e41046c48",
   "metadata": {},
   "source": [
    "Here we calculate the maximum growth rate and maximum bdo production in the wild type strain. These rates will later be compared to the rates arising from the different knock-out strains, to see if knocking out genes in a targeted manner can improve either the growth rate or the bdo production."
   ]
  },
  {
   "cell_type": "code",
   "execution_count": 55,
   "id": "d834b383-3958-4b01-a400-92e169f43625",
   "metadata": {},
   "outputs": [
    {
     "name": "stdout",
     "output_type": "stream",
     "text": [
      "Maximal growth rate:\n",
      "0.876997214426983\n",
      "Maximal bdo production rate:\n",
      "0.876997214426983\n"
     ]
    }
   ],
   "source": [
    "from cobra.io import read_sbml_model, write_sbml_model\n",
    "from cobra import Reaction, Metabolite\n",
    "\n",
    "from cobra.flux_analysis.phenotype_phase_plane import production_envelope\n",
    "import pandas as pd\n",
    "import matplotlib\n",
    "import matplotlib.pyplot as plt \n",
    "\n",
    "\n",
    "print(\"Maximal growth rate:\")\n",
    "print(model_akg.slim_optimize())\n",
    "\n",
    "print(\"Maximal bdo production rate:\")\n",
    "print(model_akg.slim_optimize())\n"
   ]
  },
  {
   "cell_type": "markdown",
   "id": "911d63f4-60a8-403f-9328-596ef48e1705",
   "metadata": {},
   "source": [
    "Here we perform Phenotypic Phase Plane analysis for the wild type E.coli model "
   ]
  },
  {
   "cell_type": "code",
   "execution_count": 56,
   "id": "2e7d94a7-6a47-4eab-8d4f-8a0eb43dcd83",
   "metadata": {},
   "outputs": [
    {
     "data": {
      "image/png": "[encoded data removed]",
      "text/plain": [
       "<Figure size 432x288 with 1 Axes>"
      ]
     },
     "metadata": {
      "needs_background": "light"
     },
     "output_type": "display_data"
    }
   ],
   "source": [
    "ppp_bdo = production_envelope(model_akg,\n",
    "                    reactions=[model_akg.reactions.ADH],\n",
    "                    objective=model_akg.reactions.BIOMASS_Ec_iML1515_core_75p37M )\n",
    "\n",
    "pppp = ppp_bdo.plot(x='ADH', y='flux_maximum')\n",
    "fig = pppp.get_figure()"
   ]
  },
  {
   "cell_type": "markdown",
   "id": "7b771c15-9673-445c-8892-78fdc8053130",
   "metadata": {},
   "source": [
    "The phenotypic phase plane analysis shows that there is a direct trade-off between production of the target compound and growth.\n",
    "\n"
   ]
  },
  {
   "cell_type": "markdown",
   "id": "5f995d0f-af30-4de1-860a-7ce2dbae9fe9",
   "metadata": {},
   "source": [
    "## Identify genes for targeted gene knock out"
   ]
  },
  {
   "cell_type": "code",
   "execution_count": 57,
   "id": "b3192440-e0d1-40b6-9a51-1a695405f9f3",
   "metadata": {},
   "outputs": [
    {
     "data": {
      "text/plain": [
       "'b1380'"
      ]
     },
     "execution_count": 57,
     "metadata": {},
     "output_type": "execute_result"
    }
   ],
   "source": [
    "model.reactions.LDH_D.gene_reaction_rule "
   ]
  },
  {
   "cell_type": "code",
   "execution_count": 58,
   "id": "53a6a787-2c8d-4a30-9051-d205d62dc589",
   "metadata": {},
   "outputs": [
    {
     "data": {
      "text/plain": [
       "'b3236'"
      ]
     },
     "execution_count": 58,
     "metadata": {},
     "output_type": "execute_result"
    }
   ],
   "source": [
    "model.reactions.MDH.gene_reaction_rule "
   ]
  },
  {
   "cell_type": "code",
   "execution_count": 59,
   "id": "7784ba9f-9c7a-4100-b645-a9e4f3e88cc9",
   "metadata": {},
   "outputs": [
    {
     "data": {
      "text/plain": [
       "'b1241 or b1478'"
      ]
     },
     "execution_count": 59,
     "metadata": {},
     "output_type": "execute_result"
    }
   ],
   "source": [
    "model.reactions.ALCD2x.gene_reaction_rule "
   ]
  },
  {
   "cell_type": "code",
   "execution_count": 60,
   "id": "c3b243d5-a082-498e-b95c-e8b80c4fd62d",
   "metadata": {},
   "outputs": [
    {
     "data": {
      "text/plain": [
       "'( b0902 and b0903 ) or ( b0902 and b3114 ) or ( b3951 and b3952 ) or ( ( b0902 and b0903 ) and b2579 )'"
      ]
     },
     "execution_count": 60,
     "metadata": {},
     "output_type": "execute_result"
    }
   ],
   "source": [
    "model.reactions.PFL.gene_reaction_rule \n",
    "\n"
   ]
  },
  {
   "cell_type": "markdown",
   "id": "256bb357-fa49-4642-affb-bc05e5ab27e1",
   "metadata": {},
   "source": [
    "## Gene knock-out strains"
   ]
  },
  {
   "cell_type": "markdown",
   "id": "70ed2e67-f110-4fdf-932f-2184f01fc496",
   "metadata": {},
   "source": [
    "Ldh_d mutant"
   ]
  },
  {
   "cell_type": "code",
   "execution_count": 61,
   "id": "4af53080-c464-4585-ac85-35c556d7e542",
   "metadata": {
    "tags": []
   },
   "outputs": [
    {
     "name": "stdout",
     "output_type": "stream",
     "text": [
      "Maximal growth rate:\n",
      "0.876997214426975\n",
      "Maximal bdo production rate:\n",
      "9.708085106382974\n"
     ]
    }
   ],
   "source": [
    "with model_akg as ldh_d_mutant:\n",
    "    ldh_d_mutant.genes.b1380.knock_out()\n",
    "    \n",
    "    print(\"Maximal growth rate:\")\n",
    "    print(ldh_d_mutant.slim_optimize())\n",
    "\n",
    "with model_akg as ldh_d_mutant:\n",
    "    ldh_d_mutant.objective = model_akg.reactions.ADH\n",
    "    print(\"Maximal bdo production rate:\")\n",
    "    print(ldh_d_mutant.slim_optimize())"
   ]
  },
  {
   "cell_type": "markdown",
   "id": "ad09cab4-c002-4815-86c4-efd15cc44d99",
   "metadata": {},
   "source": [
    "Mdh mutant"
   ]
  },
  {
   "cell_type": "code",
   "execution_count": 62,
   "id": "2b0ea8fc-67a7-4686-97fb-5852bba4fd99",
   "metadata": {},
   "outputs": [
    {
     "name": "stdout",
     "output_type": "stream",
     "text": [
      "Maximal growth rate:\n",
      "0.856444366957576\n",
      "Maximal bdo production rate:\n",
      "9.708085106382981\n"
     ]
    }
   ],
   "source": [
    "with model_akg as mdh_mutant:\n",
    "    mdh_mutant.genes.b3236.knock_out()\n",
    "    \n",
    "    print(\"Maximal growth rate:\")\n",
    "    print(mdh_mutant.slim_optimize())\n",
    "\n",
    "with model_akg as mdh_mutant:\n",
    "    mdh_mutant.objective = model_akg.reactions.ADH\n",
    "    print(\"Maximal bdo production rate:\")\n",
    "    print(mdh_mutant.slim_optimize())"
   ]
  },
  {
   "cell_type": "markdown",
   "id": "0be9aa9c-9eca-4f64-ad81-1801713b1605",
   "metadata": {},
   "source": [
    "Adhe1 mutant "
   ]
  },
  {
   "cell_type": "code",
   "execution_count": 63,
   "id": "9bad8592-7816-4276-aeaa-28d2bb5d91e5",
   "metadata": {},
   "outputs": [
    {
     "name": "stdout",
     "output_type": "stream",
     "text": [
      "Maximal growth rate:\n",
      "0.8769972144269893\n",
      "Maximal bdo production rate:\n",
      "9.708085106382988\n"
     ]
    }
   ],
   "source": [
    "with model_akg as adhe1_mutant:\n",
    "    adhe1_mutant.genes.b1241.knock_out()\n",
    "    \n",
    "    print(\"Maximal growth rate:\")\n",
    "    print(adhe1_mutant.slim_optimize())\n",
    "    \n",
    "with model_akg as adhe1_mutant:\n",
    "    adhe1_mutant.objective = model_akg.reactions.ADH\n",
    "    print(\"Maximal bdo production rate:\")\n",
    "    print(adhe1_mutant.slim_optimize())"
   ]
  },
  {
   "cell_type": "markdown",
   "id": "ccaca5ca-2c8b-490b-b26a-71c6007cd113",
   "metadata": {},
   "source": [
    "Adhe2 mutant"
   ]
  },
  {
   "cell_type": "code",
   "execution_count": 64,
   "id": "970b7287-56f6-402f-8fca-207c8c6344ed",
   "metadata": {},
   "outputs": [
    {
     "name": "stdout",
     "output_type": "stream",
     "text": [
      "Maximal growth rate:\n",
      "0.8769972144269484\n",
      "Maximal bdo production rate:\n",
      "9.708085106383017\n"
     ]
    }
   ],
   "source": [
    "with model_akg as adhe2_mutant:\n",
    "    adhe2_mutant.genes.b1478.knock_out()\n",
    "\n",
    "    \n",
    "    print(\"Maximal growth rate:\")\n",
    "    print(adhe2_mutant.slim_optimize())\n",
    "    \n",
    "with model_akg as adhe2_mutant:\n",
    "    adhe2_mutant.objective = model_akg.reactions.ADH\n",
    "    print(\"Maximal bdo production rate:\")\n",
    "    print(adhe2_mutant.slim_optimize())"
   ]
  },
  {
   "cell_type": "markdown",
   "id": "34150a8f-142d-45b6-b96a-9bcebfb0a5e2",
   "metadata": {},
   "source": [
    "Adhe12 mutant"
   ]
  },
  {
   "cell_type": "code",
   "execution_count": 65,
   "id": "62aa767e-8d80-418a-b744-e58eb2d738ab",
   "metadata": {},
   "outputs": [
    {
     "name": "stdout",
     "output_type": "stream",
     "text": [
      "Maximal growth rate:\n",
      "0.8769972144269808\n",
      "Maximal bdo production rate:\n",
      "9.708085106382995\n"
     ]
    }
   ],
   "source": [
    "with model_akg as adhe12_mutant:\n",
    "    adhe12_mutant.genes.b1478.knock_out()\n",
    "    adhe12_mutant.genes.b1241.knock_out()\n",
    "\n",
    "    \n",
    "    print(\"Maximal growth rate:\")\n",
    "    print(adhe12_mutant.slim_optimize())\n",
    "    \n",
    "with model_akg as adhe12_mutant:\n",
    "    adhe12_mutant.objective = model_akg.reactions.ADH\n",
    "    print(\"Maximal bdo production rate:\")\n",
    "    print(adhe12_mutant.slim_optimize())"
   ]
  },
  {
   "cell_type": "markdown",
   "id": "4c01e6a8-6e32-4079-af22-5fa0aaebf55c",
   "metadata": {},
   "source": [
    "Pfl mutant 1"
   ]
  },
  {
   "cell_type": "code",
   "execution_count": 66,
   "id": "83a27806-b119-4f74-bbe2-e681aede65b8",
   "metadata": {},
   "outputs": [
    {
     "name": "stdout",
     "output_type": "stream",
     "text": [
      "Maximal growth rate:\n",
      "0.8769972144269701\n",
      "Maximal bdo production rate:\n",
      "9.70808510638299\n"
     ]
    }
   ],
   "source": [
    "with model_akg as pfl1_mutant:\n",
    "    pfl1_mutant.genes.b0902.knock_out()\n",
    "    pfl1_mutant.genes.b0903.knock_out()\n",
    "    \n",
    "    print(\"Maximal growth rate:\")\n",
    "    print(pfl1_mutant.slim_optimize())\n",
    "    \n",
    "with model_akg as pfl1_mutant:\n",
    "    pfl1_mutant.objective = model_akg.reactions.ADH\n",
    "    print(\"Maximal bdo production rate:\")\n",
    "    print(pfl1_mutant.slim_optimize())"
   ]
  },
  {
   "cell_type": "markdown",
   "id": "1de6ad35-cfa2-4cfa-a6ae-f1be0d361f91",
   "metadata": {},
   "source": [
    "Pfl mutant 2\n"
   ]
  },
  {
   "cell_type": "code",
   "execution_count": 67,
   "id": "ccb1a366-b72f-40f8-915c-2a99ce076138",
   "metadata": {},
   "outputs": [
    {
     "name": "stdout",
     "output_type": "stream",
     "text": [
      "Maximal growth rate:\n",
      "0.8769972144269762\n",
      "Maximal bdo production rate:\n",
      "9.708085106383\n"
     ]
    }
   ],
   "source": [
    "with model_akg as pfl2_mutant:\n",
    "    pfl2_mutant.genes.b0902.knock_out()\n",
    "    pfl2_mutant.genes.b3114.knock_out()\n",
    "    \n",
    "    print(\"Maximal growth rate:\")\n",
    "    print(pfl2_mutant.slim_optimize())\n",
    "    \n",
    "with model_akg as pfl2_mutant:\n",
    "    pfl2_mutant.objective = model_akg.reactions.ADH\n",
    "    print(\"Maximal bdo production rate:\")\n",
    "    print(pfl2_mutant.slim_optimize())"
   ]
  },
  {
   "cell_type": "markdown",
   "id": "1eb319b4-91d3-43e2-998b-093b799bfecc",
   "metadata": {},
   "source": [
    "Pfl mutant 3"
   ]
  },
  {
   "cell_type": "code",
   "execution_count": 68,
   "id": "e083fa8c-d790-4f5f-8e49-ba4afd066852",
   "metadata": {},
   "outputs": [
    {
     "name": "stdout",
     "output_type": "stream",
     "text": [
      "Maximal growth rate:\n",
      "0.8769972144269739\n",
      "Maximal bdo production rate:\n",
      "9.708085106382969\n"
     ]
    }
   ],
   "source": [
    "with model_akg as pfl3_mutant:\n",
    "    pfl3_mutant.genes.b3951.knock_out()\n",
    "    pfl3_mutant.genes.b3952.knock_out()\n",
    "    \n",
    "    print(\"Maximal growth rate:\")\n",
    "    print(pfl3_mutant.slim_optimize())\n",
    "    \n",
    "with model_akg as pfl3_mutant:\n",
    "    pfl3_mutant.objective = model_akg.reactions.ADH\n",
    "    print(\"Maximal bdo production rate:\")\n",
    "    print(pfl3_mutant.slim_optimize())"
   ]
  },
  {
   "cell_type": "markdown",
   "id": "216efcd2-d86a-445e-943c-10bb35db1e31",
   "metadata": {},
   "source": [
    "Pfl mutant 4"
   ]
  },
  {
   "cell_type": "code",
   "execution_count": 69,
   "id": "4dd59e53-9bcd-4c9d-9fc9-e1de709b4e73",
   "metadata": {},
   "outputs": [
    {
     "name": "stdout",
     "output_type": "stream",
     "text": [
      "Maximal growth rate:\n",
      "0.8769972144269745\n",
      "Maximal bdo production rate:\n",
      "9.708085106382988\n"
     ]
    }
   ],
   "source": [
    "with model_akg as pfl4_mutant:\n",
    "    pfl4_mutant.genes.b0902.knock_out()\n",
    "    pfl4_mutant.genes.b0903.knock_out()\n",
    "    pfl4_mutant.genes.b2579.knock_out()\n",
    "    \n",
    "    print(\"Maximal growth rate:\")\n",
    "    print(pfl4_mutant.slim_optimize())\n",
    "    \n",
    "with model_akg as pfl4_mutant:\n",
    "    pfl4_mutant.objective = model_akg.reactions.ADH\n",
    "    print(\"Maximal bdo production rate:\")\n",
    "    print(pfl4_mutant.slim_optimize())"
   ]
  },
  {
   "cell_type": "markdown",
   "id": "f285bb30-28f4-4965-b2bf-52fd95e18df6",
   "metadata": {},
   "source": [
    "As we see, knocking these genes out does not affect the growth rate or production of bdo. Here we knock out a combination of genes."
   ]
  },
  {
   "cell_type": "code",
   "execution_count": 70,
   "id": "2e59ce32-feb9-4862-94ce-1045a7693264",
   "metadata": {},
   "outputs": [
    {
     "name": "stdout",
     "output_type": "stream",
     "text": [
      "Maximal growth rate:\n",
      "0.8564443669575732\n",
      "Maximal bdo production rate:\n",
      "9.708085106382985\n"
     ]
    }
   ],
   "source": [
    "with model_akg as quadruple_mutant:\n",
    "    quadruple_mutant.genes.b1380.knock_out()\n",
    "    quadruple_mutant.genes.b3236.knock_out()\n",
    "    quadruple_mutant.genes.b1478.knock_out()\n",
    "    quadruple_mutant.genes.b0902.knock_out()\n",
    "    quadruple_mutant.genes.b0903.knock_out()   \n",
    "    \n",
    "    print(\"Maximal growth rate:\")\n",
    "    print(quadruple_mutant.slim_optimize())\n",
    "\n",
    "with model_akg as quadruple_mutant:\n",
    "    quadruple_mutant.objective = model_akg.reactions.ADH\n",
    "    print(\"Maximal bdo production rate:\")\n",
    "    print(quadruple_mutant.slim_optimize())"
   ]
  },
  {
   "cell_type": "markdown",
   "id": "07c5d0a6-8421-4e30-bdc3-cbd0cb6a6011",
   "metadata": {},
   "source": [
    "## OptGene algorithm"
   ]
  },
  {
   "cell_type": "code",
   "execution_count": null,
   "id": "834394c4-4d36-4d9c-bc04-82f00b0467fc",
   "metadata": {},
   "outputs": [],
   "source": [
    "import cameo\n",
    "from cameo.strain_design import OptGene\n",
    "optgene = OptGene(model_akg)\n",
    "\n",
    "result = optgene.run(target=model_akg.reactions.ADH,\n",
    "                     biomass=model_akg.reactions.BIOMASS_Ec_iML1515_core_75p37M,\n",
    "                     substrate=model_akg.metabolites.glc__D_e,\n",
    "                     max_evaluations=5000,\n",
    "                     plot=False)"
   ]
  },
  {
   "cell_type": "code",
   "execution_count": null,
   "id": "85903317-9908-4490-b746-3a280e8ce521",
   "metadata": {},
   "outputs": [],
   "source": []
  },
  {
   "cell_type": "code",
   "execution_count": null,
   "id": "8bb3b47c-4b56-434d-918d-2ba6cafaab3d",
   "metadata": {},
   "outputs": [],
   "source": [
    "result"
   ]
  },
  {
   "cell_type": "markdown",
   "id": "e5af27c8-3a4a-46a2-a50f-8e87e4b9333d",
   "metadata": {},
   "source": [
    "As presented above, OptGene returns no optimization targets"
   ]
  },
  {
   "cell_type": "code",
   "execution_count": null,
   "id": "f43eb89b-869f-4d68-af21-75e43a470e08",
   "metadata": {},
   "outputs": [],
   "source": [
    "optgene = OptGene(model_akg)\n"
   ]
  },
  {
   "cell_type": "code",
   "execution_count": null,
   "id": "301fbc76-1eda-4cae-9bcc-0b15caaaf3b2",
   "metadata": {},
   "outputs": [],
   "source": [
    "result = optgene.run(target=model_akg.reactions.EX_bdo, \n",
    "                     biomass=model_akg.reactions.BIOMASS_Ec_iML1515_core_75p37M,\n",
    "                     substrate=model_akg.metabolites.glc__D_e,\n",
    "                     max_evaluations=20000, population_size=200, max_knockouts=5,\n",
    "                     plot=False, growth_coupled=True)"
   ]
  },
  {
   "cell_type": "code",
   "execution_count": null,
   "id": "83be3fd2-12a5-426e-84b3-07771c073882",
   "metadata": {},
   "outputs": [],
   "source": [
    "result"
   ]
  },
  {
   "cell_type": "code",
   "execution_count": null,
   "id": "cf3e3317-01f9-433a-8e8d-71fab69b88dd",
   "metadata": {},
   "outputs": [],
   "source": [
    "result = optknock.run(max_knockouts=1, target=\"EX_bdo\", biomass=\"BIOMASS_Ec_iML1515_core_75p37M\")\n"
   ]
  },
  {
   "cell_type": "code",
   "execution_count": 98,
   "id": "0a7879fb-0c5a-44db-b604-9a3b4f5d329a",
   "metadata": {},
   "outputs": [],
   "source": [
    "import cameo \n",
    "from cameo.strain_design.deterministic.linear_programming import OptKnock\n"
   ]
  },
  {
   "cell_type": "code",
   "execution_count": 101,
   "id": "cb268058-a91b-4b5b-8f70-765f39b060e2",
   "metadata": {},
   "outputs": [
    {
     "name": "stderr",
     "output_type": "stream",
     "text": [
      "C:\\Users\\tzimo\\anaconda3\\lib\\site-packages\\cameo\\strain_design\\deterministic\\linear_programming.py:118: UserWarning: You are trying to run OptKnock with glpk_interface. This might not end well.\n",
      "  warnings.warn(\"You are trying to run OptKnock with %s. This might not end well.\" %\n"
     ]
    },
    {
     "ename": "Infeasible",
     "evalue": "None (infeasible).",
     "output_type": "error",
     "traceback": [
      "\u001b[1;31m---------------------------------------------------------------------------\u001b[0m",
      "\u001b[1;31mInfeasible\u001b[0m                                Traceback (most recent call last)",
      "\u001b[1;32m<ipython-input-101-f9841f906563>\u001b[0m in \u001b[0;36m<module>\u001b[1;34m\u001b[0m\n\u001b[1;32m----> 1\u001b[1;33m \u001b[0moptknock\u001b[0m \u001b[1;33m=\u001b[0m \u001b[0mOptKnock\u001b[0m\u001b[1;33m(\u001b[0m\u001b[0mmodel\u001b[0m\u001b[1;33m,\u001b[0m \u001b[0mfraction_of_optimum\u001b[0m\u001b[1;33m=\u001b[0m\u001b[1;36m0.1\u001b[0m\u001b[1;33m)\u001b[0m\u001b[1;33m\u001b[0m\u001b[1;33m\u001b[0m\u001b[0m\n\u001b[0m",
      "\u001b[1;32m~\\anaconda3\\lib\\site-packages\\cameo\\strain_design\\deterministic\\linear_programming.py\u001b[0m in \u001b[0;36m__init__\u001b[1;34m(self, model, exclude_reactions, remove_blocked, fraction_of_optimum, exclude_non_gene_reactions, use_nullspace_simplification, *args, **kwargs)\u001b[0m\n\u001b[0;32m    139\u001b[0m             \u001b[0mexclude_reactions\u001b[0m \u001b[1;33m+=\u001b[0m \u001b[1;33m[\u001b[0m\u001b[0mr\u001b[0m\u001b[1;33m.\u001b[0m\u001b[0mid\u001b[0m \u001b[1;32mfor\u001b[0m \u001b[0mr\u001b[0m \u001b[1;32min\u001b[0m \u001b[0mself\u001b[0m\u001b[1;33m.\u001b[0m\u001b[0m_model\u001b[0m\u001b[1;33m.\u001b[0m\u001b[0mreactions\u001b[0m \u001b[1;32mif\u001b[0m \u001b[1;32mnot\u001b[0m \u001b[0mr\u001b[0m\u001b[1;33m.\u001b[0m\u001b[0mgenes\u001b[0m\u001b[1;33m]\u001b[0m\u001b[1;33m\u001b[0m\u001b[1;33m\u001b[0m\u001b[0m\n\u001b[0;32m    140\u001b[0m \u001b[1;33m\u001b[0m\u001b[0m\n\u001b[1;32m--> 141\u001b[1;33m         \u001b[0mself\u001b[0m\u001b[1;33m.\u001b[0m\u001b[0m_build_problem\u001b[0m\u001b[1;33m(\u001b[0m\u001b[0mexclude_reactions\u001b[0m\u001b[1;33m,\u001b[0m \u001b[0muse_nullspace_simplification\u001b[0m\u001b[1;33m)\u001b[0m\u001b[1;33m\u001b[0m\u001b[1;33m\u001b[0m\u001b[0m\n\u001b[0m\u001b[0;32m    142\u001b[0m \u001b[1;33m\u001b[0m\u001b[0m\n\u001b[0;32m    143\u001b[0m     \u001b[1;32mdef\u001b[0m \u001b[0m_remove_blocked_reactions\u001b[0m\u001b[1;33m(\u001b[0m\u001b[0mself\u001b[0m\u001b[1;33m)\u001b[0m\u001b[1;33m:\u001b[0m\u001b[1;33m\u001b[0m\u001b[1;33m\u001b[0m\u001b[0m\n",
      "\u001b[1;32m~\\anaconda3\\lib\\site-packages\\cameo\\strain_design\\deterministic\\linear_programming.py\u001b[0m in \u001b[0;36m_build_problem\u001b[1;34m(self, exclude_reactions, use_nullspace_simplification)\u001b[0m\n\u001b[0;32m    160\u001b[0m         \u001b[0mlogger\u001b[0m\u001b[1;33m.\u001b[0m\u001b[0mdebug\u001b[0m\u001b[1;33m(\u001b[0m\u001b[1;34m\"Starting to formulate OptKnock problem\"\u001b[0m\u001b[1;33m)\u001b[0m\u001b[1;33m\u001b[0m\u001b[1;33m\u001b[0m\u001b[0m\n\u001b[0;32m    161\u001b[0m \u001b[1;33m\u001b[0m\u001b[0m\n\u001b[1;32m--> 162\u001b[1;33m         \u001b[0mself\u001b[0m\u001b[1;33m.\u001b[0m\u001b[0messential_reactions\u001b[0m \u001b[1;33m=\u001b[0m \u001b[0mfind_essential_reactions\u001b[0m\u001b[1;33m(\u001b[0m\u001b[0mself\u001b[0m\u001b[1;33m.\u001b[0m\u001b[0m_model\u001b[0m\u001b[1;33m,\u001b[0m \u001b[0mprocesses\u001b[0m\u001b[1;33m=\u001b[0m\u001b[1;36m1\u001b[0m\u001b[1;33m)\u001b[0m\u001b[1;33m.\u001b[0m\u001b[0munion\u001b[0m\u001b[1;33m(\u001b[0m\u001b[0mself\u001b[0m\u001b[1;33m.\u001b[0m\u001b[0m_model\u001b[0m\u001b[1;33m.\u001b[0m\u001b[0mboundary\u001b[0m\u001b[1;33m)\u001b[0m\u001b[1;33m\u001b[0m\u001b[1;33m\u001b[0m\u001b[0m\n\u001b[0m\u001b[0;32m    163\u001b[0m         \u001b[1;32mif\u001b[0m \u001b[0mexclude_reactions\u001b[0m\u001b[1;33m:\u001b[0m\u001b[1;33m\u001b[0m\u001b[1;33m\u001b[0m\u001b[0m\n\u001b[0;32m    164\u001b[0m             self.exclude_reactions = set.union(\n",
      "\u001b[1;32m~\\anaconda3\\lib\\site-packages\\cobra\\flux_analysis\\variability.py\u001b[0m in \u001b[0;36mfind_essential_reactions\u001b[1;34m(model, threshold, processes)\u001b[0m\n\u001b[0;32m    358\u001b[0m     \"\"\"\n\u001b[0;32m    359\u001b[0m     \u001b[1;32mif\u001b[0m \u001b[0mthreshold\u001b[0m \u001b[1;32mis\u001b[0m \u001b[1;32mNone\u001b[0m\u001b[1;33m:\u001b[0m\u001b[1;33m\u001b[0m\u001b[1;33m\u001b[0m\u001b[0m\n\u001b[1;32m--> 360\u001b[1;33m         \u001b[0mthreshold\u001b[0m \u001b[1;33m=\u001b[0m \u001b[0mmodel\u001b[0m\u001b[1;33m.\u001b[0m\u001b[0mslim_optimize\u001b[0m\u001b[1;33m(\u001b[0m\u001b[0merror_value\u001b[0m\u001b[1;33m=\u001b[0m\u001b[1;32mNone\u001b[0m\u001b[1;33m)\u001b[0m \u001b[1;33m*\u001b[0m \u001b[1;36m1e-02\u001b[0m\u001b[1;33m\u001b[0m\u001b[1;33m\u001b[0m\u001b[0m\n\u001b[0m\u001b[0;32m    361\u001b[0m     \u001b[0mdeletions\u001b[0m \u001b[1;33m=\u001b[0m \u001b[0msingle_reaction_deletion\u001b[0m\u001b[1;33m(\u001b[0m\u001b[0mmodel\u001b[0m\u001b[1;33m,\u001b[0m \u001b[0mmethod\u001b[0m\u001b[1;33m=\u001b[0m\u001b[1;34m\"fba\"\u001b[0m\u001b[1;33m,\u001b[0m \u001b[0mprocesses\u001b[0m\u001b[1;33m=\u001b[0m\u001b[0mprocesses\u001b[0m\u001b[1;33m)\u001b[0m\u001b[1;33m\u001b[0m\u001b[1;33m\u001b[0m\u001b[0m\n\u001b[0;32m    362\u001b[0m     essential = deletions.loc[\n",
      "\u001b[1;32m~\\anaconda3\\lib\\site-packages\\cobra\\core\\model.py\u001b[0m in \u001b[0;36mslim_optimize\u001b[1;34m(self, error_value, message)\u001b[0m\n\u001b[0;32m   1062\u001b[0m             \u001b[1;32mreturn\u001b[0m \u001b[0merror_value\u001b[0m\u001b[1;33m\u001b[0m\u001b[1;33m\u001b[0m\u001b[0m\n\u001b[0;32m   1063\u001b[0m         \u001b[1;32melse\u001b[0m\u001b[1;33m:\u001b[0m\u001b[1;33m\u001b[0m\u001b[1;33m\u001b[0m\u001b[0m\n\u001b[1;32m-> 1064\u001b[1;33m             \u001b[0massert_optimal\u001b[0m\u001b[1;33m(\u001b[0m\u001b[0mself\u001b[0m\u001b[1;33m,\u001b[0m \u001b[0mmessage\u001b[0m\u001b[1;33m)\u001b[0m\u001b[1;33m\u001b[0m\u001b[1;33m\u001b[0m\u001b[0m\n\u001b[0m\u001b[0;32m   1065\u001b[0m \u001b[1;33m\u001b[0m\u001b[0m\n\u001b[0;32m   1066\u001b[0m     \u001b[1;32mdef\u001b[0m \u001b[0moptimize\u001b[0m\u001b[1;33m(\u001b[0m\u001b[0mself\u001b[0m\u001b[1;33m,\u001b[0m \u001b[0mobjective_sense\u001b[0m\u001b[1;33m=\u001b[0m\u001b[1;32mNone\u001b[0m\u001b[1;33m,\u001b[0m \u001b[0mraise_error\u001b[0m\u001b[1;33m=\u001b[0m\u001b[1;32mFalse\u001b[0m\u001b[1;33m)\u001b[0m\u001b[1;33m:\u001b[0m\u001b[1;33m\u001b[0m\u001b[1;33m\u001b[0m\u001b[0m\n",
      "\u001b[1;32m~\\anaconda3\\lib\\site-packages\\cobra\\util\\solver.py\u001b[0m in \u001b[0;36massert_optimal\u001b[1;34m(model, message)\u001b[0m\n\u001b[0;32m    588\u001b[0m     \u001b[1;32mif\u001b[0m \u001b[0mstatus\u001b[0m \u001b[1;33m!=\u001b[0m \u001b[0mOPTIMAL\u001b[0m\u001b[1;33m:\u001b[0m\u001b[1;33m\u001b[0m\u001b[1;33m\u001b[0m\u001b[0m\n\u001b[0;32m    589\u001b[0m         \u001b[0mexception_cls\u001b[0m \u001b[1;33m=\u001b[0m \u001b[0mOPTLANG_TO_EXCEPTIONS_DICT\u001b[0m\u001b[1;33m.\u001b[0m\u001b[0mget\u001b[0m\u001b[1;33m(\u001b[0m\u001b[0mstatus\u001b[0m\u001b[1;33m,\u001b[0m \u001b[0mOptimizationError\u001b[0m\u001b[1;33m)\u001b[0m\u001b[1;33m\u001b[0m\u001b[1;33m\u001b[0m\u001b[0m\n\u001b[1;32m--> 590\u001b[1;33m         \u001b[1;32mraise\u001b[0m \u001b[0mexception_cls\u001b[0m\u001b[1;33m(\u001b[0m\u001b[1;34mf\"{message} ({status}).\"\u001b[0m\u001b[1;33m)\u001b[0m\u001b[1;33m\u001b[0m\u001b[1;33m\u001b[0m\u001b[0m\n\u001b[0m\u001b[0;32m    591\u001b[0m \u001b[1;33m\u001b[0m\u001b[0m\n\u001b[0;32m    592\u001b[0m \u001b[1;33m\u001b[0m\u001b[0m\n",
      "\u001b[1;31mInfeasible\u001b[0m: None (infeasible)."
     ]
    }
   ],
   "source": [
    "optknock = OptKnock(model, fraction_of_optimum=0.1)\n"
   ]
  },
  {
   "cell_type": "code",
   "execution_count": null,
   "id": "9ae8b05b-af15-4c56-9164-155aff1e4f72",
   "metadata": {},
   "outputs": [],
   "source": []
  }
 ],
 "metadata": {
  "kernelspec": {
   "display_name": "Python 3",
   "language": "python",
   "name": "python3"
  },
  "language_info": {
   "codemirror_mode": {
    "name": "ipython",
    "version": 3
   },
   "file_extension": ".py",
   "mimetype": "text/x-python",
   "name": "python",
   "nbconvert_exporter": "python",
   "pygments_lexer": "ipython3",
   "version": "3.8.8"
  }
 },
 "nbformat": 4,
 "nbformat_minor": 5
}
