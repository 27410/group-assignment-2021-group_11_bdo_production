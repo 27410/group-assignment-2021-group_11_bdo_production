{
 "cells": [
  {
   "cell_type": "code",
   "execution_count": 2,
   "metadata": {},
   "outputs": [
    {
     "name": "stdout",
     "output_type": "stream",
     "text": [
      "nadh_c + succoa_c --> coa_c + h_c + nad_c + succinyl_semialdehyde_c\n",
      "nadh_c + succinyl_semialdehyde_c --> four_hydroxybutyrate_c + h_c + nad_c\n",
      "accoa_c + four_hydroxybutyrate_c --> ac_c + four_hbcoa_c\n",
      "four_hbcoa_c + nadh_c --> coa_c + four_hbaldehyde_c + h_c + nad_c\n",
      "four_hbaldehyde_c + nadh_c --> bdo_c + h_c + nad_c\n",
      "akg_c --> co2_c + succinyl_semialdehyde_c\n",
      "nadh_c + succinyl_semialdehyde_c --> four_hydroxybutyrate_c + h_c + nad_c\n",
      "accoa_c + four_hydroxybutyrate_c --> ac_c + four_hbcoa_c\n",
      "four_hbcoa_c + nadh_c --> coa_c + four_hbaldehyde_c + h_c + nad_c\n",
      "four_hbaldehyde_c + nadh_c --> bdo_c + h_c + nad_c\n"
     ]
    }
   ],
   "source": [
    "%run Model.ipynb"
   ]
  },
  {
   "cell_type": "markdown",
   "metadata": {},
   "source": [
    "# Co-Factor Swap attempt "
   ]
  },
  {
   "cell_type": "markdown",
   "metadata": {},
   "source": [
    "Most of the metabolic processes rely on the functionality of the co-factors. By swapping the co-factors we have the ability to increase the production of our product or a target metabolite. At the same time, the growth is being also affected by the co-factor swapping. Lastly, the co-factor swapping can also optimize an already existing pathway."
   ]
  },
  {
   "cell_type": "code",
   "execution_count": 2,
   "metadata": {},
   "outputs": [],
   "source": [
    "from cameo import models\n",
    "model_orig = model_sucd #importing our model"
   ]
  },
  {
   "cell_type": "code",
   "execution_count": 3,
   "metadata": {},
   "outputs": [],
   "source": [
    "from cameo.strain_design.heuristic.evolutionary.optimization import CofactorSwapOptimization\n",
    "from cameo.strain_design.heuristic.evolutionary.objective_functions import product_yield\n",
    "from cameo.strain_design.heuristic.evolutionary.objective_functions import biomass_product_coupled_yield\n",
    "from cameo.util import TimeMachine\n",
    "from cameo.flux_analysis.analysis import flux_variability_analysis as fva"
   ]
  },
  {
   "cell_type": "code",
   "execution_count": 4,
   "metadata": {},
   "outputs": [],
   "source": [
    "model = model_orig.copy() # create a copy for changing the metobolites and reactions"
   ]
  },
  {
   "cell_type": "markdown",
   "metadata": {},
   "source": [
    "## Biomass yield and co-factor swap model"
   ]
  },
  {
   "cell_type": "markdown",
   "metadata": {},
   "source": [
    "Here we calculate the biomass yield of our product in order to be compared with the swapped one at the very end. Also, the code for the co-factor is presented. The code is changing the co-factors with the lowest yield and replace them with the co-factors with the highest yield, and saves them to the initial model. "
   ]
  },
  {
   "cell_type": "code",
<<<<<<< HEAD:Analysis/Co_factor_Swap_v2.ipynb
=======
   "execution_count": 5,
   "metadata": {},
   "outputs": [
    {
     "name": "stdout",
     "output_type": "stream",
     "text": [
      "Biomass yield= 0.08769972144269841\n"
     ]
    }
   ],
   "source": [
    "solution = model.optimize()\n",
    "g_dw_biomass_per_mmol_glucose = solution.objective_value / (-1. * solution.fluxes['EX_glc__D_e'])\n",
    "print ('Biomass yield=', g_dw_biomass_per_mmol_glucose)"
   ]
  },
  {
   "cell_type": "code",
>>>>>>> aa1d097376b4c172be99cdee8867e258d3ecdb19:Analysis/Co_factor_Swap_v4.ipynb
   "execution_count": 6,
   "metadata": {},
   "outputs": [],
   "source": [
    "for rid in ['SUCD', 'FHBD', 'HBCT', 'HBCR','ADH' ]: # we insert our reactions in our model\n",
    "    \n",
    "    model.reactions.get_by_id(rid).knock_out() #checking the reactions and replace them with a better yield\n",
    "model.reactions.ADH.lower_bound = 0\n",
    "model.reactions.EX_glc__D_e.lower_bound = -10\n",
    "model.reactions.EX_o2_e.lower_bound = -10\n"
   ]
  },
  {
   "cell_type": "code",
   "execution_count": 7,
   "metadata": {},
   "outputs": [],
   "source": [
    "model.reactions.BIOMASS_Ec_iML1515_core_75p37M.lower_bound = 0.1 # we set a lower bounder for the biomass"
   ]
  },
  {
   "cell_type": "markdown",
   "metadata": {},
   "source": [
    "## Calculation of yield in cmol"
   ]
  },
  {
   "cell_type": "markdown",
   "metadata": {},
   "source": [
    "In this part, the yield in cmol is calculated in order to see the yield per single carbon molecule. \n"
   ]
  },
  {
   "cell_type": "code",
   "execution_count": 8,
   "metadata": {},
   "outputs": [
    {
     "data": {
      "text/plain": [
       "0.6666666666666666"
      ]
     },
     "execution_count": 8,
     "metadata": {},
     "output_type": "execute_result"
    }
   ],
   "source": [
    "model.objective = model.reactions.EX_glc__D_e\n",
    "(model.optimize().objective_value * 4) / (model.reactions.EX_glc__D_e.flux * 6) #the yield is calculated in cmol "
   ]
  },
  {
   "cell_type": "markdown",
   "metadata": {},
   "source": [
    "## Swap analysis for identifying targets "
   ]
  },
  {
   "cell_type": "markdown",
   "metadata": {},
   "source": [
    "In this part is being attempted the swap analysis for the identification of potential targets."
   ]
  },
  {
   "cell_type": "code",
   "execution_count": 9,
   "metadata": {},
   "outputs": [],
   "source": [
    "py = product_yield(model.reactions.ADH, model.reactions.EX_glc__D_e) # product's yield\n",
    "optswap = CofactorSwapOptimization(model=model, objective_function=py)"
   ]
  },
  {
   "cell_type": "code",
   "execution_count": 13,
   "metadata": {},
   "outputs": [
    {
     "name": "stdout",
     "output_type": "stream",
     "text": [
<<<<<<< HEAD:Analysis/Co_factor_Swap_v2.ipynb
      "Starting optimization at Fri, 19 Nov 2021 22:10:30\n"
     ]
    },
    {
     "data": {
      "application/vnd.jupyter.widget-view+json": {
       "model_id": "3e61107f59e9476c843cca649dd39959",
       "version_major": 2,
       "version_minor": 0
      },
      "text/plain": [
       "HBox()"
      ]
     },
     "metadata": {},
     "output_type": "display_data"
=======
      "Starting optimization at Tue, 23 Nov 2021 14:46:00\n"
     ]
    },
    {
     "data": {
      "text/html": [
       "\n",
       "\n",
       "\n",
       "\n",
       "\n",
       "\n",
       "  <div class=\"bk-root\" id=\"35eb50aa-fe3b-450b-928c-e6e924e1ce11\" data-root-id=\"1098\"></div>\n"
      ]
     },
     "metadata": {},
     "output_type": "display_data"
    },
    {
     "data": {
      "application/javascript": [
       "(function(root) {\n",
       "  function embed_document(root) {\n",
       "    \n",
       "  var docs_json = {\"a9a09aee-c6c8-4536-89fc-ec6fbe9a8ed5\":{\"roots\":{\"references\":[{\"attributes\":{\"below\":[{\"id\":\"1109\"}],\"center\":[{\"id\":\"1112\"},{\"id\":\"1116\"}],\"left\":[{\"id\":\"1113\"}],\"plot_height\":400,\"plot_width\":650,\"renderers\":[{\"id\":\"1122\"}],\"title\":{\"id\":\"1099\"},\"toolbar\":{\"id\":\"1117\"},\"x_range\":{\"id\":\"1101\"},\"x_scale\":{\"id\":\"1105\"},\"y_range\":{\"id\":\"1103\"},\"y_scale\":{\"id\":\"1107\"}},\"id\":\"1098\",\"subtype\":\"Figure\",\"type\":\"Plot\"},{\"attributes\":{\"fill_color\":{\"value\":\"#1f77b4\"},\"line_color\":{\"value\":\"#1f77b4\"},\"x\":{\"field\":\"x\"},\"y\":{\"field\":\"y\"}},\"id\":\"1120\",\"type\":\"Circle\"},{\"attributes\":{\"axis_label\":\"Iteration\",\"formatter\":{\"id\":\"1133\"},\"ticker\":{\"id\":\"1110\"}},\"id\":\"1109\",\"type\":\"LinearAxis\"},{\"attributes\":{},\"id\":\"1101\",\"type\":\"DataRange1d\"},{\"attributes\":{},\"id\":\"1137\",\"type\":\"UnionRenderers\"},{\"attributes\":{\"data_source\":{\"id\":\"1118\"},\"glyph\":{\"id\":\"1120\"},\"hover_glyph\":null,\"muted_glyph\":null,\"nonselection_glyph\":{\"id\":\"1121\"},\"selection_glyph\":null,\"view\":{\"id\":\"1123\"}},\"id\":\"1122\",\"type\":\"GlyphRenderer\"},{\"attributes\":{\"axis_label\":\"Fitness\",\"formatter\":{\"id\":\"1135\"},\"ticker\":{\"id\":\"1114\"}},\"id\":\"1113\",\"type\":\"LinearAxis\"},{\"attributes\":{},\"id\":\"1103\",\"type\":\"DataRange1d\"},{\"attributes\":{\"text\":\"Fitness plot\"},\"id\":\"1099\",\"type\":\"Title\"},{\"attributes\":{},\"id\":\"1136\",\"type\":\"Selection\"},{\"attributes\":{\"data\":{\"x\":[],\"y\":[]},\"selected\":{\"id\":\"1136\"},\"selection_policy\":{\"id\":\"1137\"}},\"id\":\"1118\",\"type\":\"ColumnDataSource\"},{\"attributes\":{},\"id\":\"1114\",\"type\":\"BasicTicker\"},{\"attributes\":{},\"id\":\"1107\",\"type\":\"LinearScale\"},{\"attributes\":{\"fill_alpha\":{\"value\":0.1},\"fill_color\":{\"value\":\"#1f77b4\"},\"line_alpha\":{\"value\":0.1},\"line_color\":{\"value\":\"#1f77b4\"},\"x\":{\"field\":\"x\"},\"y\":{\"field\":\"y\"}},\"id\":\"1121\",\"type\":\"Circle\"},{\"attributes\":{\"active_drag\":\"auto\",\"active_inspect\":\"auto\",\"active_multi\":null,\"active_scroll\":\"auto\",\"active_tap\":\"auto\"},\"id\":\"1117\",\"type\":\"Toolbar\"},{\"attributes\":{},\"id\":\"1105\",\"type\":\"LinearScale\"},{\"attributes\":{},\"id\":\"1110\",\"type\":\"BasicTicker\"},{\"attributes\":{},\"id\":\"1133\",\"type\":\"BasicTickFormatter\"},{\"attributes\":{\"axis\":{\"id\":\"1109\"},\"ticker\":null},\"id\":\"1112\",\"type\":\"Grid\"},{\"attributes\":{\"axis\":{\"id\":\"1113\"},\"dimension\":1,\"ticker\":null},\"id\":\"1116\",\"type\":\"Grid\"},{\"attributes\":{},\"id\":\"1135\",\"type\":\"BasicTickFormatter\"},{\"attributes\":{\"source\":{\"id\":\"1118\"}},\"id\":\"1123\",\"type\":\"CDSView\"}],\"root_ids\":[\"1098\"]},\"title\":\"Bokeh Application\",\"version\":\"2.1.1\"}};\n",
       "  var render_items = [{\"docid\":\"a9a09aee-c6c8-4536-89fc-ec6fbe9a8ed5\",\"notebook_comms_target\":\"1138\",\"root_ids\":[\"1098\"],\"roots\":{\"1098\":\"35eb50aa-fe3b-450b-928c-e6e924e1ce11\"}}];\n",
       "  root.Bokeh.embed.embed_items_notebook(docs_json, render_items);\n",
       "\n",
       "  }\n",
       "  if (root.Bokeh !== undefined) {\n",
       "    embed_document(root);\n",
       "  } else {\n",
       "    var attempts = 0;\n",
       "    var timer = setInterval(function(root) {\n",
       "      if (root.Bokeh !== undefined) {\n",
       "        clearInterval(timer);\n",
       "        embed_document(root);\n",
       "      } else {\n",
       "        attempts++;\n",
       "        if (attempts > 100) {\n",
       "          clearInterval(timer);\n",
       "          console.log(\"Bokeh: ERROR: Unable to run BokehJS code because BokehJS library is missing\");\n",
       "        }\n",
       "      }\n",
       "    }, 10, root)\n",
       "  }\n",
       "})(window);"
      ],
      "application/vnd.bokehjs_exec.v0+json": ""
     },
     "metadata": {
      "application/vnd.bokehjs_exec.v0+json": {
       "id": "1098"
      }
     },
     "output_type": "display_data"
    },
    {
     "name": "stderr",
     "output_type": "stream",
     "text": [
      "BokehUserWarning: ColumnDataSource's columns must be of the same length. Current lengths: ('x', 1), ('y', 0)\n"
     ]
    },
    {
     "data": {
      "application/vnd.jupyter.widget-view+json": {
       "model_id": "d01eea8b92cc4a938348b49ce89642bd",
       "version_major": 2,
       "version_minor": 0
      },
      "text/plain": [
       "HBox()"
      ]
     },
     "metadata": {},
     "output_type": "display_data"
    },
    {
     "name": "stderr",
     "output_type": "stream",
     "text": [
      "BokehUserWarning: ColumnDataSource's columns must be of the same length. Current lengths: ('x', 2), ('y', 1)\n"
     ]
    },
    {
     "name": "stdout",
     "output_type": "stream",
     "text": [
      "Finished after 00:00:14\n"
     ]
    },
    {
     "name": "stderr",
     "output_type": "stream",
     "text": [
      "BokehUserWarning: ColumnDataSource's columns must be of the same length. Current lengths: ('x', 3), ('y', 2)\n"
     ]
    },
    {
     "data": {
      "text/html": [
       "\n",
       "        <h4>Result:</h4>\n",
       "        <ul>\n",
       "            <li>model: iML1515</li>\n",
       "            <li>heuristic: GA</li>\n",
       "            <li>objective function: $$yield = \\frac{ADH}{EX\\_glc\\_\\_D\\_e}$$</li>\n",
       "            <li>simulation method: pfba</li>\n",
       "            <li>target type: cofactor-swap</li>\n",
       "        <ul>\n",
       "        <div>\n",
       "<style scoped>\n",
       "    .dataframe tbody tr th:only-of-type {\n",
       "        vertical-align: middle;\n",
       "    }\n",
       "\n",
       "    .dataframe tbody tr th {\n",
       "        vertical-align: top;\n",
       "    }\n",
       "\n",
       "    .dataframe thead th {\n",
       "        text-align: right;\n",
       "    }\n",
       "</style>\n",
       "<table border=\"1\" class=\"dataframe\">\n",
       "  <thead>\n",
       "    <tr style=\"text-align: right;\">\n",
       "      <th></th>\n",
       "      <th>index</th>\n",
       "      <th>targets</th>\n",
       "      <th>fitness</th>\n",
       "    </tr>\n",
       "  </thead>\n",
       "  <tbody>\n",
       "  </tbody>\n",
       "</table>\n",
       "</div>"
      ],
      "text/plain": [
       "<cameo.strain_design.heuristic.evolutionary.optimization.TargetOptimizationResult at 0x7fc319ff8f40>"
      ]
     },
     "execution_count": 13,
     "metadata": {},
     "output_type": "execute_result"
>>>>>>> aa1d097376b4c172be99cdee8867e258d3ecdb19:Analysis/Co_factor_Swap_v4.ipynb
    }
   ],
   "source": [
    "optswap.run(max_evaluations=200, max_size=2) # No results of cofactor swap "
   ]
  },
  {
   "cell_type": "code",
   "execution_count": null,
   "metadata": {},
   "outputs": [],
   "source": [
    "# Calculations of yields before and after the swap"
   ]
  },
  {
   "cell_type": "code",
   "execution_count": null,
   "metadata": {},
   "outputs": [],
   "source": [
    "#Here are the calculations before and after the co-factor swap in order to compare the yields of the final product in both cases, respectively. "
   ]
  },
  {
   "cell_type": "code",
   "execution_count": 1,
   "metadata": {},
   "outputs": [],
   "source": [
    "#optswap.model.reactions.ADH.model = optswap.model\n",
    "#optswap.model.objective = optswap.model.reactions.ADH\n",
    "#original = (optswap.model.optimize().objective_value * 4) / (-optswap.model.reactions.EX_glc__D_e.flux * 6) # calculaates the yield before the substrate swap\n",
    "#with TimeMachine() as tm:\n",
    "#    optswap.model.swap_reaction('ADH', tm)\n",
    "#    swapped = (optswap.optimize().objective_value * 4) / (-optswap.model.reactions.EX_glc__D_e.flux * 6) # calculaates the yield after the substrate swap\n",
    "\n",
    "#print(\"product/substrate yield without swap: {}\\nproduct/substrate yield with swap: {}\".format(original, swapped))"
   ]
  },
  {
   "cell_type": "code",
   "execution_count": null,
   "metadata": {},
   "outputs": [],
   "source": []
  }
 ],
 "metadata": {
  "kernelspec": {
   "display_name": "Python 3",
   "language": "python",
   "name": "python3"
  },
  "language_info": {
   "codemirror_mode": {
    "name": "ipython",
    "version": 3
   },
   "file_extension": ".py",
   "mimetype": "text/x-python",
   "name": "python",
   "nbconvert_exporter": "python",
   "pygments_lexer": "ipython3",
   "version": "3.6.13"
  }
 },
 "nbformat": 4,
 "nbformat_minor": 4
}
