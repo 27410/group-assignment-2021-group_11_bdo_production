{
 "cells": [
  {
   "cell_type": "code",
   "execution_count": 28,
   "id": "561441c4-2ebc-49a4-8604-84e3f154d1a8",
   "metadata": {},
   "outputs": [
    {
     "name": "stdout",
     "output_type": "stream",
     "text": [
      "nadh_c + succoa_c --> coa_c + h_c + nad_c + succinyl_semialdehyde_c\n",
      "nadh_c + succinyl_semialdehyde_c --> four_hydroxybutyrate_c + h_c + nad_c\n",
      "accoa_c + four_hydroxybutyrate_c --> ac_c + four_hbcoa_c\n",
      "four_hbcoa_c + nadh_c --> coa_c + four_hbaldehyde_c + h_c + nad_c\n",
      "four_hbaldehyde_c + nadh_c --> bdo_c + h_c + nad_c\n",
      "akg_c --> co2_c + succinyl_semialdehyde_c\n",
      "nadh_c + succinyl_semialdehyde_c --> four_hydroxybutyrate_c + h_c + nad_c\n",
      "accoa_c + four_hydroxybutyrate_c --> ac_c + four_hbcoa_c\n",
      "four_hbcoa_c + nadh_c --> coa_c + four_hbaldehyde_c + h_c + nad_c\n",
      "four_hbaldehyde_c + nadh_c --> bdo_c + h_c + nad_c\n",
      "0.8769972144270062\n",
      "0.876997214426983\n",
      "0.7171259713406638\n",
      "0.7171259713406452\n",
      "Max. BDO production [mmol gDW^-1 h^-1]: 7.851508771929817\n",
      "Theoretical max. yield [mmol-BDO / mmol-xyl]: 0.7851508771929817\n",
      "Max. BDO production [mmol gDW^-1 h^-1]: 7.935035460992907\n",
      "Theoretical max. yield [mmol-BDO / mmol-xyl]: 0.7935035460992907\n"
     ]
    }
   ],
   "source": [
    "%run Medium1.ipynb"
   ]
  },
  {
   "cell_type": "markdown",
   "id": "2fd9c4f4-e938-456b-a631-a9489a3a73d5",
   "metadata": {},
   "source": [
    "# Loopless FBA"
   ]
  },
  {
   "cell_type": "code",
   "execution_count": 29,
   "id": "7bfc89cf-95ab-4baa-b510-a1fb72390c90",
   "metadata": {},
   "outputs": [],
   "source": [
    "from cobra.flux_analysis.loopless import add_loopless, loopless_solution\n",
    "from cobra.flux_analysis import pfba"
   ]
  },
  {
   "cell_type": "code",
   "execution_count": 30,
   "id": "5622fe1c-360d-49a0-bfb1-cf3eca3726f6",
   "metadata": {},
   "outputs": [
    {
     "data": {
      "text/plain": [
       "{'EX_pi_e': 1000.0,\n",
       " 'EX_co2_e': 1000.0,\n",
       " 'EX_fe3_e': 1000.0,\n",
       " 'EX_h_e': 1000.0,\n",
       " 'EX_mn2_e': 1000.0,\n",
       " 'EX_fe2_e': 1000.0,\n",
       " 'EX_xyl__D_e': 10,\n",
       " 'EX_zn2_e': 1000.0,\n",
       " 'EX_mg2_e': 1000.0,\n",
       " 'EX_ca2_e': 1000.0,\n",
       " 'EX_ni2_e': 1000.0,\n",
       " 'EX_cu2_e': 1000.0,\n",
       " 'EX_sel_e': 1000.0,\n",
       " 'EX_cobalt2_e': 1000.0,\n",
       " 'EX_h2o_e': 1000.0,\n",
       " 'EX_mobd_e': 1000.0,\n",
       " 'EX_so4_e': 1000.0,\n",
       " 'EX_nh4_e': 1000.0,\n",
       " 'EX_k_e': 1000.0,\n",
       " 'EX_na1_e': 1000.0,\n",
       " 'EX_cl_e': 1000.0,\n",
       " 'EX_o2_e': 1000.0,\n",
       " 'EX_tungs_e': 1000.0,\n",
       " 'EX_slnt_e': 1000.0}"
      ]
     },
     "execution_count": 30,
     "metadata": {},
     "output_type": "execute_result"
    }
   ],
   "source": [
    "model_akg.medium"
   ]
  },
  {
   "cell_type": "code",
   "execution_count": 31,
   "id": "1fd2cb39-0e0a-45fd-b34a-69fd927ec740",
   "metadata": {},
   "outputs": [
    {
     "data": {
      "text/plain": [
       "{'EX_pi_e': 1000.0,\n",
       " 'EX_co2_e': 1000.0,\n",
       " 'EX_fe3_e': 1000.0,\n",
       " 'EX_h_e': 1000.0,\n",
       " 'EX_mn2_e': 1000.0,\n",
       " 'EX_fe2_e': 1000.0,\n",
       " 'EX_glc__D_e': 10.0,\n",
       " 'EX_zn2_e': 1000.0,\n",
       " 'EX_mg2_e': 1000.0,\n",
       " 'EX_ca2_e': 1000.0,\n",
       " 'EX_ni2_e': 1000.0,\n",
       " 'EX_cu2_e': 1000.0,\n",
       " 'EX_sel_e': 1000.0,\n",
       " 'EX_cobalt2_e': 1000.0,\n",
       " 'EX_h2o_e': 1000.0,\n",
       " 'EX_mobd_e': 1000.0,\n",
       " 'EX_so4_e': 1000.0,\n",
       " 'EX_nh4_e': 1000.0,\n",
       " 'EX_k_e': 1000.0,\n",
       " 'EX_na1_e': 1000.0,\n",
       " 'EX_cl_e': 1000.0,\n",
       " 'EX_o2_e': 1000.0,\n",
       " 'EX_tungs_e': 1000.0,\n",
       " 'EX_slnt_e': 1000.0}"
      ]
     },
     "execution_count": 31,
     "metadata": {},
     "output_type": "execute_result"
    }
   ],
   "source": [
    "model_sucd.medium"
   ]
  },
  {
   "cell_type": "code",
   "execution_count": 50,
   "id": "86091009-2f33-4285-9122-f616ae9b3b2a",
   "metadata": {},
   "outputs": [],
   "source": [
    "model_akg.objective=model_akg.reactions.ADH\n",
    "nominal = model_akg.optimize()\n",
    "loopless = loopless_solution(model_akg)"
   ]
  },
  {
   "cell_type": "code",
   "execution_count": 51,
   "id": "e067f7ce-46b3-42cc-ad5d-a7ae115300e9",
   "metadata": {},
   "outputs": [],
   "source": [
    "import pandas\n",
    "df = pandas.DataFrame(dict(loopless=loopless.fluxes, nominal=nominal.fluxes))"
   ]
  },
  {
   "cell_type": "code",
   "execution_count": 52,
   "id": "5e445b23-b6cd-49ec-9dc2-fcba161f8185",
   "metadata": {},
   "outputs": [
    {
     "data": {
      "text/plain": [
       "<AxesSubplot:title={'center':'Akg Model'}, xlabel='loopless', ylabel='nominal'>"
      ]
     },
     "execution_count": 52,
     "metadata": {},
     "output_type": "execute_result"
    },
    {
     "data": {
      "image/png": "[encoded data removed]",
      "text/plain": [
       "<Figure size 432x288 with 1 Axes>"
      ]
     },
     "metadata": {
      "needs_background": "light"
     },
     "output_type": "display_data"
    }
   ],
   "source": [
    "df.plot.scatter(x='loopless', y='nominal', title='Akg Model')"
   ]
  },
  {
   "cell_type": "code",
   "execution_count": 59,
   "id": "31ddca71-e882-4706-a963-71fb2bd17f7d",
   "metadata": {},
   "outputs": [
    {
     "name": "stdout",
     "output_type": "stream",
     "text": [
      "parsimonious solution: status = optimal\n",
      "loopless solution flux: ADH = 7.9350 mmol/(gdw*h)\n"
     ]
    }
   ],
   "source": [
    "solution1 = pfba(model_akg)\n",
    "print(\"parsimonious solution: status = \" + solution1.status)\n",
    "print(\"loopless solution flux: ADH = %.4f\" % solution1.fluxes[\"ADH\"], \"mmol/(gdw*h)\")"
   ]
  },
  {
   "cell_type": "code",
   "execution_count": 56,
   "id": "881375da-421e-499a-89bf-07a41d559449",
   "metadata": {},
   "outputs": [],
   "source": [
    "model_sucd.objective=model_sucd.reactions.ADH\n",
    "nominal = model_sucd.optimize()\n",
    "loopless = loopless_solution(model_sucd)"
   ]
  },
  {
   "cell_type": "code",
   "execution_count": 57,
   "id": "10d85d40-8605-46b8-bd92-02e5d6662f54",
   "metadata": {},
   "outputs": [
    {
     "data": {
      "text/plain": [
       "<AxesSubplot:title={'center':'Sucd Model'}, xlabel='loopless', ylabel='nominal'>"
      ]
     },
     "execution_count": 57,
     "metadata": {},
     "output_type": "execute_result"
    },
    {
     "data": {
      "image/png": "[encoded data removed]",
      "text/plain": [
       "<Figure size 432x288 with 1 Axes>"
      ]
     },
     "metadata": {
      "needs_background": "light"
     },
     "output_type": "display_data"
    }
   ],
   "source": [
    "df.plot.scatter(x='loopless', y='nominal', title='Sucd Model')"
   ]
  },
  {
   "cell_type": "code",
   "execution_count": 58,
   "id": "49e8d038-8085-4af9-949a-b3d9f84a0d19",
   "metadata": {},
   "outputs": [
    {
     "name": "stdout",
     "output_type": "stream",
     "text": [
      "parsimonious solution: status = optimal\n",
      "loopless solution flux: ADH = 9.6059 mmol/(gdw*h)\n"
     ]
    }
   ],
   "source": [
    "solution2 = pfba(model_sucd)\n",
    "print(\"parsimonious solution: status = \" + solution2.status)\n",
    "print(\"loopless solution flux: ADH = %.4f\" % solution2.fluxes[\"ADH\"], \"mmol/(gdw*h)\")"
   ]
  }
 ],
 "metadata": {
  "kernelspec": {
   "display_name": "Python 3",
   "language": "python",
   "name": "python3"
  },
  "language_info": {
   "codemirror_mode": {
    "name": "ipython",
    "version": 3
   },
   "file_extension": ".py",
   "mimetype": "text/x-python",
   "name": "python",
   "nbconvert_exporter": "python",
   "pygments_lexer": "ipython3",
   "version": "3.8.8"
  }
 },
 "nbformat": 4,
 "nbformat_minor": 5
}
