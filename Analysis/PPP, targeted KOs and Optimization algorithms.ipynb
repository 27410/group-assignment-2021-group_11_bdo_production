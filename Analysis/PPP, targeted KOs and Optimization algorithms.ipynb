{
 "cells": [
  {
   "cell_type": "code",
   "execution_count": 11,
   "metadata": {},
   "outputs": [
    {
     "name": "stdout",
     "output_type": "stream",
     "text": [
      "nadh_c + succoa_c --> coa_c + h_c + nad_c + succinyl_semialdehyde_c\n",
      "nadh_c + succinyl_semialdehyde_c --> four_hydroxybutyrate_c + h_c + nad_c\n",
      "accoa_c + four_hydroxybutyrate_c --> ac_c + four_hbcoa_c\n",
      "four_hbcoa_c + nadh_c --> coa_c + four_hbaldehyde_c + h_c + nad_c\n",
      "four_hbaldehyde_c + nadh_c --> bdo_c + h_c + nad_c\n",
      "akg_c --> co2_c + succinyl_semialdehyde_c\n",
      "nadh_c + succinyl_semialdehyde_c --> four_hydroxybutyrate_c + h_c + nad_c\n",
      "accoa_c + four_hydroxybutyrate_c --> ac_c + four_hbcoa_c\n",
      "four_hbcoa_c + nadh_c --> coa_c + four_hbaldehyde_c + h_c + nad_c\n",
      "four_hbaldehyde_c + nadh_c --> bdo_c + h_c + nad_c\n"
     ]
    }
   ],
   "source": [
    "%run Model.ipynb"
   ]
  },
  {
   "cell_type": "markdown",
   "metadata": {},
   "source": [
    "## Wild type E.coli"
   ]
  },
  {
   "cell_type": "markdown",
   "metadata": {},
   "source": [
    "Here we calculate the maximum growth rate and maximum bdo production in the wild type strain. These rates will later be compared to the rates arising from the different knock-out strains, to see if knocking out genes in a targeted manner can improve either the growth rate or the bdo production."
   ]
  },
  {
   "cell_type": "code",
   "execution_count": 22,
   "metadata": {},
   "outputs": [
    {
     "name": "stdout",
     "output_type": "stream",
     "text": [
      "Maximal growth rate:\n",
      "0.8769972144269879\n",
      "Maximal bdo production rate:\n",
      "0.8769972144269879\n"
     ]
    }
   ],
   "source": [
    "from cobra.io import read_sbml_model, write_sbml_model\n",
    "from cobra import Reaction, Metabolite\n",
    "\n",
    "from cobra.flux_analysis.phenotype_phase_plane import production_envelope\n",
    "import pandas as pd\n",
    "import matplotlib\n",
    "import matplotlib.pyplot as plt \n",
    "\n",
    "\n",
    "print(\"Maximal growth rate:\")\n",
    "print(model_akg.slim_optimize())\n",
    "\n",
    "print(\"Maximal bdo production rate:\")\n",
    "print(model_akg.slim_optimize())\n"
   ]
  },
  {
   "cell_type": "markdown",
   "metadata": {},
   "source": [
    "Here we perform Phenotypic Phase Plane analysis for the wild type E.coli model "
   ]
  },
  {
   "cell_type": "markdown",
   "metadata": {},
   "source": [
    "PPP analysis for biomass on glucose for Model akg:"
   ]
  },
  {
   "cell_type": "code",
   "execution_count": 14,
   "metadata": {},
   "outputs": [
    {
     "data": {
      "text/html": [
       "<div>\n",
       "<style scoped>\n",
       "    .dataframe tbody tr th:only-of-type {\n",
       "        vertical-align: middle;\n",
       "    }\n",
       "\n",
       "    .dataframe tbody tr th {\n",
       "        vertical-align: top;\n",
       "    }\n",
       "\n",
       "    .dataframe thead th {\n",
       "        text-align: right;\n",
       "    }\n",
       "</style>\n",
       "<table border=\"1\" class=\"dataframe\">\n",
       "  <thead>\n",
       "    <tr style=\"text-align: right;\">\n",
       "      <th></th>\n",
       "      <th>carbon_source</th>\n",
       "      <th>flux_minimum</th>\n",
       "      <th>carbon_yield_minimum</th>\n",
       "      <th>mass_yield_minimum</th>\n",
       "      <th>flux_maximum</th>\n",
       "      <th>carbon_yield_maximum</th>\n",
       "      <th>mass_yield_maximum</th>\n",
       "      <th>EX_glc__D_e</th>\n",
       "    </tr>\n",
       "  </thead>\n",
       "  <tbody>\n",
       "    <tr>\n",
       "      <th>0</th>\n",
       "      <td>EX_glc__D_e</td>\n",
       "      <td>0.0</td>\n",
       "      <td>0.0</td>\n",
       "      <td>NaN</td>\n",
       "      <td>0.876997</td>\n",
       "      <td>1.161751e+01</td>\n",
       "      <td>NaN</td>\n",
       "      <td>-10.000000</td>\n",
       "    </tr>\n",
       "    <tr>\n",
       "      <th>1</th>\n",
       "      <td>EX_glc__D_e</td>\n",
       "      <td>0.0</td>\n",
       "      <td>0.0</td>\n",
       "      <td>NaN</td>\n",
       "      <td>0.830868</td>\n",
       "      <td>1.159910e+01</td>\n",
       "      <td>NaN</td>\n",
       "      <td>-9.489048</td>\n",
       "    </tr>\n",
       "    <tr>\n",
       "      <th>2</th>\n",
       "      <td>EX_glc__D_e</td>\n",
       "      <td>0.0</td>\n",
       "      <td>0.0</td>\n",
       "      <td>NaN</td>\n",
       "      <td>0.784740</td>\n",
       "      <td>1.157860e+01</td>\n",
       "      <td>NaN</td>\n",
       "      <td>-8.978096</td>\n",
       "    </tr>\n",
       "    <tr>\n",
       "      <th>3</th>\n",
       "      <td>EX_glc__D_e</td>\n",
       "      <td>0.0</td>\n",
       "      <td>0.0</td>\n",
       "      <td>NaN</td>\n",
       "      <td>0.738611</td>\n",
       "      <td>1.155562e+01</td>\n",
       "      <td>NaN</td>\n",
       "      <td>-8.467144</td>\n",
       "    </tr>\n",
       "    <tr>\n",
       "      <th>4</th>\n",
       "      <td>EX_glc__D_e</td>\n",
       "      <td>0.0</td>\n",
       "      <td>0.0</td>\n",
       "      <td>NaN</td>\n",
       "      <td>0.692482</td>\n",
       "      <td>1.152970e+01</td>\n",
       "      <td>NaN</td>\n",
       "      <td>-7.956193</td>\n",
       "    </tr>\n",
       "    <tr>\n",
       "      <th>5</th>\n",
       "      <td>EX_glc__D_e</td>\n",
       "      <td>0.0</td>\n",
       "      <td>0.0</td>\n",
       "      <td>NaN</td>\n",
       "      <td>0.646353</td>\n",
       "      <td>1.150021e+01</td>\n",
       "      <td>NaN</td>\n",
       "      <td>-7.445241</td>\n",
       "    </tr>\n",
       "    <tr>\n",
       "      <th>6</th>\n",
       "      <td>EX_glc__D_e</td>\n",
       "      <td>0.0</td>\n",
       "      <td>0.0</td>\n",
       "      <td>NaN</td>\n",
       "      <td>0.600224</td>\n",
       "      <td>1.146638e+01</td>\n",
       "      <td>NaN</td>\n",
       "      <td>-6.934289</td>\n",
       "    </tr>\n",
       "    <tr>\n",
       "      <th>7</th>\n",
       "      <td>EX_glc__D_e</td>\n",
       "      <td>0.0</td>\n",
       "      <td>0.0</td>\n",
       "      <td>NaN</td>\n",
       "      <td>0.554095</td>\n",
       "      <td>1.142717e+01</td>\n",
       "      <td>NaN</td>\n",
       "      <td>-6.423337</td>\n",
       "    </tr>\n",
       "    <tr>\n",
       "      <th>8</th>\n",
       "      <td>EX_glc__D_e</td>\n",
       "      <td>0.0</td>\n",
       "      <td>0.0</td>\n",
       "      <td>NaN</td>\n",
       "      <td>0.507966</td>\n",
       "      <td>1.138117e+01</td>\n",
       "      <td>NaN</td>\n",
       "      <td>-5.912385</td>\n",
       "    </tr>\n",
       "    <tr>\n",
       "      <th>9</th>\n",
       "      <td>EX_glc__D_e</td>\n",
       "      <td>0.0</td>\n",
       "      <td>0.0</td>\n",
       "      <td>NaN</td>\n",
       "      <td>0.461838</td>\n",
       "      <td>1.132648e+01</td>\n",
       "      <td>NaN</td>\n",
       "      <td>-5.401433</td>\n",
       "    </tr>\n",
       "    <tr>\n",
       "      <th>10</th>\n",
       "      <td>EX_glc__D_e</td>\n",
       "      <td>0.0</td>\n",
       "      <td>0.0</td>\n",
       "      <td>NaN</td>\n",
       "      <td>0.415709</td>\n",
       "      <td>1.126036e+01</td>\n",
       "      <td>NaN</td>\n",
       "      <td>-4.890482</td>\n",
       "    </tr>\n",
       "    <tr>\n",
       "      <th>11</th>\n",
       "      <td>EX_glc__D_e</td>\n",
       "      <td>0.0</td>\n",
       "      <td>0.0</td>\n",
       "      <td>NaN</td>\n",
       "      <td>0.369580</td>\n",
       "      <td>1.117881e+01</td>\n",
       "      <td>NaN</td>\n",
       "      <td>-4.379530</td>\n",
       "    </tr>\n",
       "    <tr>\n",
       "      <th>12</th>\n",
       "      <td>EX_glc__D_e</td>\n",
       "      <td>0.0</td>\n",
       "      <td>0.0</td>\n",
       "      <td>NaN</td>\n",
       "      <td>0.323451</td>\n",
       "      <td>1.107572e+01</td>\n",
       "      <td>NaN</td>\n",
       "      <td>-3.868578</td>\n",
       "    </tr>\n",
       "    <tr>\n",
       "      <th>13</th>\n",
       "      <td>EX_glc__D_e</td>\n",
       "      <td>0.0</td>\n",
       "      <td>0.0</td>\n",
       "      <td>NaN</td>\n",
       "      <td>0.277322</td>\n",
       "      <td>1.094125e+01</td>\n",
       "      <td>NaN</td>\n",
       "      <td>-3.357626</td>\n",
       "    </tr>\n",
       "    <tr>\n",
       "      <th>14</th>\n",
       "      <td>EX_glc__D_e</td>\n",
       "      <td>0.0</td>\n",
       "      <td>0.0</td>\n",
       "      <td>NaN</td>\n",
       "      <td>0.231193</td>\n",
       "      <td>1.075851e+01</td>\n",
       "      <td>NaN</td>\n",
       "      <td>-2.846674</td>\n",
       "    </tr>\n",
       "    <tr>\n",
       "      <th>15</th>\n",
       "      <td>EX_glc__D_e</td>\n",
       "      <td>0.0</td>\n",
       "      <td>0.0</td>\n",
       "      <td>NaN</td>\n",
       "      <td>0.185064</td>\n",
       "      <td>1.049583e+01</td>\n",
       "      <td>NaN</td>\n",
       "      <td>-2.335722</td>\n",
       "    </tr>\n",
       "    <tr>\n",
       "      <th>16</th>\n",
       "      <td>EX_glc__D_e</td>\n",
       "      <td>0.0</td>\n",
       "      <td>0.0</td>\n",
       "      <td>NaN</td>\n",
       "      <td>0.138936</td>\n",
       "      <td>1.008603e+01</td>\n",
       "      <td>NaN</td>\n",
       "      <td>-1.824770</td>\n",
       "    </tr>\n",
       "    <tr>\n",
       "      <th>17</th>\n",
       "      <td>EX_glc__D_e</td>\n",
       "      <td>0.0</td>\n",
       "      <td>0.0</td>\n",
       "      <td>NaN</td>\n",
       "      <td>0.092714</td>\n",
       "      <td>9.348163e+00</td>\n",
       "      <td>NaN</td>\n",
       "      <td>-1.313819</td>\n",
       "    </tr>\n",
       "    <tr>\n",
       "      <th>18</th>\n",
       "      <td>EX_glc__D_e</td>\n",
       "      <td>0.0</td>\n",
       "      <td>0.0</td>\n",
       "      <td>NaN</td>\n",
       "      <td>0.046357</td>\n",
       "      <td>7.648710e+00</td>\n",
       "      <td>NaN</td>\n",
       "      <td>-0.802867</td>\n",
       "    </tr>\n",
       "    <tr>\n",
       "      <th>19</th>\n",
       "      <td>EX_glc__D_e</td>\n",
       "      <td>0.0</td>\n",
       "      <td>0.0</td>\n",
       "      <td>NaN</td>\n",
       "      <td>0.000000</td>\n",
       "      <td>3.967413e-14</td>\n",
       "      <td>NaN</td>\n",
       "      <td>-0.291915</td>\n",
       "    </tr>\n",
       "  </tbody>\n",
       "</table>\n",
       "</div>"
      ],
      "text/plain": [
       "   carbon_source  flux_minimum  carbon_yield_minimum  mass_yield_minimum  \\\n",
       "0    EX_glc__D_e           0.0                   0.0                 NaN   \n",
       "1    EX_glc__D_e           0.0                   0.0                 NaN   \n",
       "2    EX_glc__D_e           0.0                   0.0                 NaN   \n",
       "3    EX_glc__D_e           0.0                   0.0                 NaN   \n",
       "4    EX_glc__D_e           0.0                   0.0                 NaN   \n",
       "5    EX_glc__D_e           0.0                   0.0                 NaN   \n",
       "6    EX_glc__D_e           0.0                   0.0                 NaN   \n",
       "7    EX_glc__D_e           0.0                   0.0                 NaN   \n",
       "8    EX_glc__D_e           0.0                   0.0                 NaN   \n",
       "9    EX_glc__D_e           0.0                   0.0                 NaN   \n",
       "10   EX_glc__D_e           0.0                   0.0                 NaN   \n",
       "11   EX_glc__D_e           0.0                   0.0                 NaN   \n",
       "12   EX_glc__D_e           0.0                   0.0                 NaN   \n",
       "13   EX_glc__D_e           0.0                   0.0                 NaN   \n",
       "14   EX_glc__D_e           0.0                   0.0                 NaN   \n",
       "15   EX_glc__D_e           0.0                   0.0                 NaN   \n",
       "16   EX_glc__D_e           0.0                   0.0                 NaN   \n",
       "17   EX_glc__D_e           0.0                   0.0                 NaN   \n",
       "18   EX_glc__D_e           0.0                   0.0                 NaN   \n",
       "19   EX_glc__D_e           0.0                   0.0                 NaN   \n",
       "\n",
       "    flux_maximum  carbon_yield_maximum  mass_yield_maximum  EX_glc__D_e  \n",
       "0       0.876997          1.161751e+01                 NaN   -10.000000  \n",
       "1       0.830868          1.159910e+01                 NaN    -9.489048  \n",
       "2       0.784740          1.157860e+01                 NaN    -8.978096  \n",
       "3       0.738611          1.155562e+01                 NaN    -8.467144  \n",
       "4       0.692482          1.152970e+01                 NaN    -7.956193  \n",
       "5       0.646353          1.150021e+01                 NaN    -7.445241  \n",
       "6       0.600224          1.146638e+01                 NaN    -6.934289  \n",
       "7       0.554095          1.142717e+01                 NaN    -6.423337  \n",
       "8       0.507966          1.138117e+01                 NaN    -5.912385  \n",
       "9       0.461838          1.132648e+01                 NaN    -5.401433  \n",
       "10      0.415709          1.126036e+01                 NaN    -4.890482  \n",
       "11      0.369580          1.117881e+01                 NaN    -4.379530  \n",
       "12      0.323451          1.107572e+01                 NaN    -3.868578  \n",
       "13      0.277322          1.094125e+01                 NaN    -3.357626  \n",
       "14      0.231193          1.075851e+01                 NaN    -2.846674  \n",
       "15      0.185064          1.049583e+01                 NaN    -2.335722  \n",
       "16      0.138936          1.008603e+01                 NaN    -1.824770  \n",
       "17      0.092714          9.348163e+00                 NaN    -1.313819  \n",
       "18      0.046357          7.648710e+00                 NaN    -0.802867  \n",
       "19      0.000000          3.967413e-14                 NaN    -0.291915  "
      ]
     },
     "execution_count": 14,
     "metadata": {},
     "output_type": "execute_result"
    }
   ],
   "source": [
    "ppp_biomass = production_envelope(model_akg,\n",
    "                    reactions=[model_akg.reactions.EX_glc__D_e],\n",
    "                    objective=model_akg.reactions.BIOMASS_Ec_iML1515_core_75p37M )\n",
    "ppp_biomass"
   ]
  },
  {
   "cell_type": "code",
   "execution_count": 15,
   "metadata": {},
   "outputs": [
    {
     "data": {
      "text/plain": [
       "<AxesSubplot:xlabel='EX_glc__D_e'>"
      ]
     },
     "execution_count": 15,
     "metadata": {},
     "output_type": "execute_result"
    },
    {
     "data": {
      "image/png": "[encoded data removed]",
      "text/plain": [
       "<Figure size 432x288 with 1 Axes>"
      ]
     },
     "metadata": {
      "needs_background": "light"
     },
     "output_type": "display_data"
    }
   ],
   "source": [
    "ppp_biomass.plot(x='EX_glc__D_e', y='flux_maximum')\n"
   ]
  },
  {
   "cell_type": "markdown",
   "metadata": {},
   "source": [
    "PPP analysis for bdo production for Model akg:"
   ]
  },
  {
   "cell_type": "code",
   "execution_count": 25,
   "metadata": {},
   "outputs": [
    {
     "data": {
      "text/html": [
       "<div>\n",
       "<style scoped>\n",
       "    .dataframe tbody tr th:only-of-type {\n",
       "        vertical-align: middle;\n",
       "    }\n",
       "\n",
       "    .dataframe tbody tr th {\n",
       "        vertical-align: top;\n",
       "    }\n",
       "\n",
       "    .dataframe thead th {\n",
       "        text-align: right;\n",
       "    }\n",
       "</style>\n",
       "<table border=\"1\" class=\"dataframe\">\n",
       "  <thead>\n",
       "    <tr style=\"text-align: right;\">\n",
       "      <th></th>\n",
       "      <th>carbon_source</th>\n",
       "      <th>flux_minimum</th>\n",
       "      <th>carbon_yield_minimum</th>\n",
       "      <th>mass_yield_minimum</th>\n",
       "      <th>flux_maximum</th>\n",
       "      <th>carbon_yield_maximum</th>\n",
       "      <th>mass_yield_maximum</th>\n",
       "      <th>EX_glc__D_e</th>\n",
       "    </tr>\n",
       "  </thead>\n",
       "  <tbody>\n",
       "    <tr>\n",
       "      <th>0</th>\n",
       "      <td>EX_glc__D_e</td>\n",
       "      <td>0.0</td>\n",
       "      <td>0.0</td>\n",
       "      <td>NaN</td>\n",
       "      <td>9.708085</td>\n",
       "      <td>3.397830e+00</td>\n",
       "      <td>NaN</td>\n",
       "      <td>-10.000000</td>\n",
       "    </tr>\n",
       "    <tr>\n",
       "      <th>1</th>\n",
       "      <td>EX_glc__D_e</td>\n",
       "      <td>0.0</td>\n",
       "      <td>0.0</td>\n",
       "      <td>NaN</td>\n",
       "      <td>9.197133</td>\n",
       "      <td>3.392328e+00</td>\n",
       "      <td>NaN</td>\n",
       "      <td>-9.489048</td>\n",
       "    </tr>\n",
       "    <tr>\n",
       "      <th>2</th>\n",
       "      <td>EX_glc__D_e</td>\n",
       "      <td>0.0</td>\n",
       "      <td>0.0</td>\n",
       "      <td>NaN</td>\n",
       "      <td>8.686181</td>\n",
       "      <td>3.386201e+00</td>\n",
       "      <td>NaN</td>\n",
       "      <td>-8.978096</td>\n",
       "    </tr>\n",
       "    <tr>\n",
       "      <th>3</th>\n",
       "      <td>EX_glc__D_e</td>\n",
       "      <td>0.0</td>\n",
       "      <td>0.0</td>\n",
       "      <td>NaN</td>\n",
       "      <td>8.175230</td>\n",
       "      <td>3.379333e+00</td>\n",
       "      <td>NaN</td>\n",
       "      <td>-8.467144</td>\n",
       "    </tr>\n",
       "    <tr>\n",
       "      <th>4</th>\n",
       "      <td>EX_glc__D_e</td>\n",
       "      <td>0.0</td>\n",
       "      <td>0.0</td>\n",
       "      <td>NaN</td>\n",
       "      <td>7.664278</td>\n",
       "      <td>3.371584e+00</td>\n",
       "      <td>NaN</td>\n",
       "      <td>-7.956193</td>\n",
       "    </tr>\n",
       "    <tr>\n",
       "      <th>5</th>\n",
       "      <td>EX_glc__D_e</td>\n",
       "      <td>0.0</td>\n",
       "      <td>0.0</td>\n",
       "      <td>NaN</td>\n",
       "      <td>7.153326</td>\n",
       "      <td>3.362771e+00</td>\n",
       "      <td>NaN</td>\n",
       "      <td>-7.445241</td>\n",
       "    </tr>\n",
       "    <tr>\n",
       "      <th>6</th>\n",
       "      <td>EX_glc__D_e</td>\n",
       "      <td>0.0</td>\n",
       "      <td>0.0</td>\n",
       "      <td>NaN</td>\n",
       "      <td>6.642374</td>\n",
       "      <td>3.352659e+00</td>\n",
       "      <td>NaN</td>\n",
       "      <td>-6.934289</td>\n",
       "    </tr>\n",
       "    <tr>\n",
       "      <th>7</th>\n",
       "      <td>EX_glc__D_e</td>\n",
       "      <td>0.0</td>\n",
       "      <td>0.0</td>\n",
       "      <td>NaN</td>\n",
       "      <td>6.131422</td>\n",
       "      <td>3.340939e+00</td>\n",
       "      <td>NaN</td>\n",
       "      <td>-6.423337</td>\n",
       "    </tr>\n",
       "    <tr>\n",
       "      <th>8</th>\n",
       "      <td>EX_glc__D_e</td>\n",
       "      <td>0.0</td>\n",
       "      <td>0.0</td>\n",
       "      <td>NaN</td>\n",
       "      <td>5.620470</td>\n",
       "      <td>3.327193e+00</td>\n",
       "      <td>NaN</td>\n",
       "      <td>-5.912385</td>\n",
       "    </tr>\n",
       "    <tr>\n",
       "      <th>9</th>\n",
       "      <td>EX_glc__D_e</td>\n",
       "      <td>0.0</td>\n",
       "      <td>0.0</td>\n",
       "      <td>NaN</td>\n",
       "      <td>5.109518</td>\n",
       "      <td>3.310846e+00</td>\n",
       "      <td>NaN</td>\n",
       "      <td>-5.401433</td>\n",
       "    </tr>\n",
       "    <tr>\n",
       "      <th>10</th>\n",
       "      <td>EX_glc__D_e</td>\n",
       "      <td>0.0</td>\n",
       "      <td>0.0</td>\n",
       "      <td>NaN</td>\n",
       "      <td>4.598567</td>\n",
       "      <td>3.291084e+00</td>\n",
       "      <td>NaN</td>\n",
       "      <td>-4.890482</td>\n",
       "    </tr>\n",
       "    <tr>\n",
       "      <th>11</th>\n",
       "      <td>EX_glc__D_e</td>\n",
       "      <td>0.0</td>\n",
       "      <td>0.0</td>\n",
       "      <td>NaN</td>\n",
       "      <td>4.087615</td>\n",
       "      <td>3.266710e+00</td>\n",
       "      <td>NaN</td>\n",
       "      <td>-4.379530</td>\n",
       "    </tr>\n",
       "    <tr>\n",
       "      <th>12</th>\n",
       "      <td>EX_glc__D_e</td>\n",
       "      <td>0.0</td>\n",
       "      <td>0.0</td>\n",
       "      <td>NaN</td>\n",
       "      <td>3.576663</td>\n",
       "      <td>3.235897e+00</td>\n",
       "      <td>NaN</td>\n",
       "      <td>-3.868578</td>\n",
       "    </tr>\n",
       "    <tr>\n",
       "      <th>13</th>\n",
       "      <td>EX_glc__D_e</td>\n",
       "      <td>0.0</td>\n",
       "      <td>0.0</td>\n",
       "      <td>NaN</td>\n",
       "      <td>3.065711</td>\n",
       "      <td>3.195707e+00</td>\n",
       "      <td>NaN</td>\n",
       "      <td>-3.357626</td>\n",
       "    </tr>\n",
       "    <tr>\n",
       "      <th>14</th>\n",
       "      <td>EX_glc__D_e</td>\n",
       "      <td>0.0</td>\n",
       "      <td>0.0</td>\n",
       "      <td>NaN</td>\n",
       "      <td>2.554759</td>\n",
       "      <td>3.141089e+00</td>\n",
       "      <td>NaN</td>\n",
       "      <td>-2.846674</td>\n",
       "    </tr>\n",
       "    <tr>\n",
       "      <th>15</th>\n",
       "      <td>EX_glc__D_e</td>\n",
       "      <td>0.0</td>\n",
       "      <td>0.0</td>\n",
       "      <td>NaN</td>\n",
       "      <td>2.043807</td>\n",
       "      <td>3.062576e+00</td>\n",
       "      <td>NaN</td>\n",
       "      <td>-2.335722</td>\n",
       "    </tr>\n",
       "    <tr>\n",
       "      <th>16</th>\n",
       "      <td>EX_glc__D_e</td>\n",
       "      <td>0.0</td>\n",
       "      <td>0.0</td>\n",
       "      <td>NaN</td>\n",
       "      <td>1.532856</td>\n",
       "      <td>2.940093e+00</td>\n",
       "      <td>NaN</td>\n",
       "      <td>-1.824770</td>\n",
       "    </tr>\n",
       "    <tr>\n",
       "      <th>17</th>\n",
       "      <td>EX_glc__D_e</td>\n",
       "      <td>0.0</td>\n",
       "      <td>0.0</td>\n",
       "      <td>NaN</td>\n",
       "      <td>1.021904</td>\n",
       "      <td>2.722342e+00</td>\n",
       "      <td>NaN</td>\n",
       "      <td>-1.313819</td>\n",
       "    </tr>\n",
       "    <tr>\n",
       "      <th>18</th>\n",
       "      <td>EX_glc__D_e</td>\n",
       "      <td>0.0</td>\n",
       "      <td>0.0</td>\n",
       "      <td>NaN</td>\n",
       "      <td>0.510952</td>\n",
       "      <td>2.227432e+00</td>\n",
       "      <td>NaN</td>\n",
       "      <td>-0.802867</td>\n",
       "    </tr>\n",
       "    <tr>\n",
       "      <th>19</th>\n",
       "      <td>EX_glc__D_e</td>\n",
       "      <td>0.0</td>\n",
       "      <td>0.0</td>\n",
       "      <td>NaN</td>\n",
       "      <td>0.000000</td>\n",
       "      <td>6.306009e-14</td>\n",
       "      <td>NaN</td>\n",
       "      <td>-0.291915</td>\n",
       "    </tr>\n",
       "  </tbody>\n",
       "</table>\n",
       "</div>"
      ],
      "text/plain": [
       "   carbon_source  flux_minimum  carbon_yield_minimum  mass_yield_minimum  \\\n",
       "0    EX_glc__D_e           0.0                   0.0                 NaN   \n",
       "1    EX_glc__D_e           0.0                   0.0                 NaN   \n",
       "2    EX_glc__D_e           0.0                   0.0                 NaN   \n",
       "3    EX_glc__D_e           0.0                   0.0                 NaN   \n",
       "4    EX_glc__D_e           0.0                   0.0                 NaN   \n",
       "5    EX_glc__D_e           0.0                   0.0                 NaN   \n",
       "6    EX_glc__D_e           0.0                   0.0                 NaN   \n",
       "7    EX_glc__D_e           0.0                   0.0                 NaN   \n",
       "8    EX_glc__D_e           0.0                   0.0                 NaN   \n",
       "9    EX_glc__D_e           0.0                   0.0                 NaN   \n",
       "10   EX_glc__D_e           0.0                   0.0                 NaN   \n",
       "11   EX_glc__D_e           0.0                   0.0                 NaN   \n",
       "12   EX_glc__D_e           0.0                   0.0                 NaN   \n",
       "13   EX_glc__D_e           0.0                   0.0                 NaN   \n",
       "14   EX_glc__D_e           0.0                   0.0                 NaN   \n",
       "15   EX_glc__D_e           0.0                   0.0                 NaN   \n",
       "16   EX_glc__D_e           0.0                   0.0                 NaN   \n",
       "17   EX_glc__D_e           0.0                   0.0                 NaN   \n",
       "18   EX_glc__D_e           0.0                   0.0                 NaN   \n",
       "19   EX_glc__D_e           0.0                   0.0                 NaN   \n",
       "\n",
       "    flux_maximum  carbon_yield_maximum  mass_yield_maximum  EX_glc__D_e  \n",
       "0       9.708085          3.397830e+00                 NaN   -10.000000  \n",
       "1       9.197133          3.392328e+00                 NaN    -9.489048  \n",
       "2       8.686181          3.386201e+00                 NaN    -8.978096  \n",
       "3       8.175230          3.379333e+00                 NaN    -8.467144  \n",
       "4       7.664278          3.371584e+00                 NaN    -7.956193  \n",
       "5       7.153326          3.362771e+00                 NaN    -7.445241  \n",
       "6       6.642374          3.352659e+00                 NaN    -6.934289  \n",
       "7       6.131422          3.340939e+00                 NaN    -6.423337  \n",
       "8       5.620470          3.327193e+00                 NaN    -5.912385  \n",
       "9       5.109518          3.310846e+00                 NaN    -5.401433  \n",
       "10      4.598567          3.291084e+00                 NaN    -4.890482  \n",
       "11      4.087615          3.266710e+00                 NaN    -4.379530  \n",
       "12      3.576663          3.235897e+00                 NaN    -3.868578  \n",
       "13      3.065711          3.195707e+00                 NaN    -3.357626  \n",
       "14      2.554759          3.141089e+00                 NaN    -2.846674  \n",
       "15      2.043807          3.062576e+00                 NaN    -2.335722  \n",
       "16      1.532856          2.940093e+00                 NaN    -1.824770  \n",
       "17      1.021904          2.722342e+00                 NaN    -1.313819  \n",
       "18      0.510952          2.227432e+00                 NaN    -0.802867  \n",
       "19      0.000000          6.306009e-14                 NaN    -0.291915  "
      ]
     },
     "execution_count": 25,
     "metadata": {},
     "output_type": "execute_result"
    }
   ],
   "source": [
    "ppp_bdoprod = production_envelope(model_akg,\n",
    "                    reactions=[model_akg.reactions.EX_glc__D_e],\n",
    "                    objective=model_akg.reactions.ADH)\n",
    "ppp_bdoprod"
   ]
  },
  {
   "cell_type": "code",
   "execution_count": 26,
   "metadata": {},
   "outputs": [
    {
     "data": {
      "text/plain": [
       "<AxesSubplot:xlabel='EX_glc__D_e'>"
      ]
     },
     "execution_count": 26,
     "metadata": {},
     "output_type": "execute_result"
    },
    {
     "data": {
      "image/png": "[encoded data removed]",
      "text/plain": [
       "<Figure size 432x288 with 1 Axes>"
      ]
     },
     "metadata": {
      "needs_background": "light"
     },
     "output_type": "display_data"
    }
   ],
   "source": [
    "ppp_bdoprod.plot(x='EX_glc__D_e',y='flux_maximum')\n"
   ]
  },
  {
   "cell_type": "markdown",
   "metadata": {},
   "source": [
    "PPP analysis for biomass on glucose model sucd"
   ]
  },
  {
   "cell_type": "code",
   "execution_count": 27,
   "metadata": {},
   "outputs": [
    {
     "data": {
      "text/html": [
       "<div>\n",
       "<style scoped>\n",
       "    .dataframe tbody tr th:only-of-type {\n",
       "        vertical-align: middle;\n",
       "    }\n",
       "\n",
       "    .dataframe tbody tr th {\n",
       "        vertical-align: top;\n",
       "    }\n",
       "\n",
       "    .dataframe thead th {\n",
       "        text-align: right;\n",
       "    }\n",
       "</style>\n",
       "<table border=\"1\" class=\"dataframe\">\n",
       "  <thead>\n",
       "    <tr style=\"text-align: right;\">\n",
       "      <th></th>\n",
       "      <th>carbon_source</th>\n",
       "      <th>flux_minimum</th>\n",
       "      <th>carbon_yield_minimum</th>\n",
       "      <th>mass_yield_minimum</th>\n",
       "      <th>flux_maximum</th>\n",
       "      <th>carbon_yield_maximum</th>\n",
       "      <th>mass_yield_maximum</th>\n",
       "      <th>EX_glc__D_e</th>\n",
       "    </tr>\n",
       "  </thead>\n",
       "  <tbody>\n",
       "    <tr>\n",
       "      <th>0</th>\n",
       "      <td>EX_glc__D_e</td>\n",
       "      <td>0.0</td>\n",
       "      <td>0.0</td>\n",
       "      <td>NaN</td>\n",
       "      <td>0.876997</td>\n",
       "      <td>1.161751e+01</td>\n",
       "      <td>NaN</td>\n",
       "      <td>-10.000000</td>\n",
       "    </tr>\n",
       "    <tr>\n",
       "      <th>1</th>\n",
       "      <td>EX_glc__D_e</td>\n",
       "      <td>0.0</td>\n",
       "      <td>0.0</td>\n",
       "      <td>NaN</td>\n",
       "      <td>0.830868</td>\n",
       "      <td>1.159910e+01</td>\n",
       "      <td>NaN</td>\n",
       "      <td>-9.489048</td>\n",
       "    </tr>\n",
       "    <tr>\n",
       "      <th>2</th>\n",
       "      <td>EX_glc__D_e</td>\n",
       "      <td>0.0</td>\n",
       "      <td>0.0</td>\n",
       "      <td>NaN</td>\n",
       "      <td>0.784740</td>\n",
       "      <td>1.157860e+01</td>\n",
       "      <td>NaN</td>\n",
       "      <td>-8.978096</td>\n",
       "    </tr>\n",
       "    <tr>\n",
       "      <th>3</th>\n",
       "      <td>EX_glc__D_e</td>\n",
       "      <td>0.0</td>\n",
       "      <td>0.0</td>\n",
       "      <td>NaN</td>\n",
       "      <td>0.738611</td>\n",
       "      <td>1.155562e+01</td>\n",
       "      <td>NaN</td>\n",
       "      <td>-8.467144</td>\n",
       "    </tr>\n",
       "    <tr>\n",
       "      <th>4</th>\n",
       "      <td>EX_glc__D_e</td>\n",
       "      <td>0.0</td>\n",
       "      <td>0.0</td>\n",
       "      <td>NaN</td>\n",
       "      <td>0.692482</td>\n",
       "      <td>1.152970e+01</td>\n",
       "      <td>NaN</td>\n",
       "      <td>-7.956193</td>\n",
       "    </tr>\n",
       "    <tr>\n",
       "      <th>5</th>\n",
       "      <td>EX_glc__D_e</td>\n",
       "      <td>0.0</td>\n",
       "      <td>0.0</td>\n",
       "      <td>NaN</td>\n",
       "      <td>0.646353</td>\n",
       "      <td>1.150021e+01</td>\n",
       "      <td>NaN</td>\n",
       "      <td>-7.445241</td>\n",
       "    </tr>\n",
       "    <tr>\n",
       "      <th>6</th>\n",
       "      <td>EX_glc__D_e</td>\n",
       "      <td>0.0</td>\n",
       "      <td>0.0</td>\n",
       "      <td>NaN</td>\n",
       "      <td>0.600224</td>\n",
       "      <td>1.146638e+01</td>\n",
       "      <td>NaN</td>\n",
       "      <td>-6.934289</td>\n",
       "    </tr>\n",
       "    <tr>\n",
       "      <th>7</th>\n",
       "      <td>EX_glc__D_e</td>\n",
       "      <td>0.0</td>\n",
       "      <td>0.0</td>\n",
       "      <td>NaN</td>\n",
       "      <td>0.554095</td>\n",
       "      <td>1.142717e+01</td>\n",
       "      <td>NaN</td>\n",
       "      <td>-6.423337</td>\n",
       "    </tr>\n",
       "    <tr>\n",
       "      <th>8</th>\n",
       "      <td>EX_glc__D_e</td>\n",
       "      <td>0.0</td>\n",
       "      <td>0.0</td>\n",
       "      <td>NaN</td>\n",
       "      <td>0.507966</td>\n",
       "      <td>1.138117e+01</td>\n",
       "      <td>NaN</td>\n",
       "      <td>-5.912385</td>\n",
       "    </tr>\n",
       "    <tr>\n",
       "      <th>9</th>\n",
       "      <td>EX_glc__D_e</td>\n",
       "      <td>0.0</td>\n",
       "      <td>0.0</td>\n",
       "      <td>NaN</td>\n",
       "      <td>0.461838</td>\n",
       "      <td>1.132648e+01</td>\n",
       "      <td>NaN</td>\n",
       "      <td>-5.401433</td>\n",
       "    </tr>\n",
       "    <tr>\n",
       "      <th>10</th>\n",
       "      <td>EX_glc__D_e</td>\n",
       "      <td>0.0</td>\n",
       "      <td>0.0</td>\n",
       "      <td>NaN</td>\n",
       "      <td>0.415709</td>\n",
       "      <td>1.126036e+01</td>\n",
       "      <td>NaN</td>\n",
       "      <td>-4.890482</td>\n",
       "    </tr>\n",
       "    <tr>\n",
       "      <th>11</th>\n",
       "      <td>EX_glc__D_e</td>\n",
       "      <td>0.0</td>\n",
       "      <td>0.0</td>\n",
       "      <td>NaN</td>\n",
       "      <td>0.369580</td>\n",
       "      <td>1.117881e+01</td>\n",
       "      <td>NaN</td>\n",
       "      <td>-4.379530</td>\n",
       "    </tr>\n",
       "    <tr>\n",
       "      <th>12</th>\n",
       "      <td>EX_glc__D_e</td>\n",
       "      <td>0.0</td>\n",
       "      <td>0.0</td>\n",
       "      <td>NaN</td>\n",
       "      <td>0.323451</td>\n",
       "      <td>1.107572e+01</td>\n",
       "      <td>NaN</td>\n",
       "      <td>-3.868578</td>\n",
       "    </tr>\n",
       "    <tr>\n",
       "      <th>13</th>\n",
       "      <td>EX_glc__D_e</td>\n",
       "      <td>0.0</td>\n",
       "      <td>0.0</td>\n",
       "      <td>NaN</td>\n",
       "      <td>0.277322</td>\n",
       "      <td>1.094125e+01</td>\n",
       "      <td>NaN</td>\n",
       "      <td>-3.357626</td>\n",
       "    </tr>\n",
       "    <tr>\n",
       "      <th>14</th>\n",
       "      <td>EX_glc__D_e</td>\n",
       "      <td>0.0</td>\n",
       "      <td>0.0</td>\n",
       "      <td>NaN</td>\n",
       "      <td>0.231193</td>\n",
       "      <td>1.075851e+01</td>\n",
       "      <td>NaN</td>\n",
       "      <td>-2.846674</td>\n",
       "    </tr>\n",
       "    <tr>\n",
       "      <th>15</th>\n",
       "      <td>EX_glc__D_e</td>\n",
       "      <td>0.0</td>\n",
       "      <td>0.0</td>\n",
       "      <td>NaN</td>\n",
       "      <td>0.185064</td>\n",
       "      <td>1.049583e+01</td>\n",
       "      <td>NaN</td>\n",
       "      <td>-2.335722</td>\n",
       "    </tr>\n",
       "    <tr>\n",
       "      <th>16</th>\n",
       "      <td>EX_glc__D_e</td>\n",
       "      <td>0.0</td>\n",
       "      <td>0.0</td>\n",
       "      <td>NaN</td>\n",
       "      <td>0.138936</td>\n",
       "      <td>1.008603e+01</td>\n",
       "      <td>NaN</td>\n",
       "      <td>-1.824770</td>\n",
       "    </tr>\n",
       "    <tr>\n",
       "      <th>17</th>\n",
       "      <td>EX_glc__D_e</td>\n",
       "      <td>0.0</td>\n",
       "      <td>0.0</td>\n",
       "      <td>NaN</td>\n",
       "      <td>0.092714</td>\n",
       "      <td>9.348163e+00</td>\n",
       "      <td>NaN</td>\n",
       "      <td>-1.313819</td>\n",
       "    </tr>\n",
       "    <tr>\n",
       "      <th>18</th>\n",
       "      <td>EX_glc__D_e</td>\n",
       "      <td>0.0</td>\n",
       "      <td>0.0</td>\n",
       "      <td>NaN</td>\n",
       "      <td>0.046357</td>\n",
       "      <td>7.648710e+00</td>\n",
       "      <td>NaN</td>\n",
       "      <td>-0.802867</td>\n",
       "    </tr>\n",
       "    <tr>\n",
       "      <th>19</th>\n",
       "      <td>EX_glc__D_e</td>\n",
       "      <td>0.0</td>\n",
       "      <td>0.0</td>\n",
       "      <td>NaN</td>\n",
       "      <td>0.000000</td>\n",
       "      <td>5.340678e-14</td>\n",
       "      <td>NaN</td>\n",
       "      <td>-0.291915</td>\n",
       "    </tr>\n",
       "  </tbody>\n",
       "</table>\n",
       "</div>"
      ],
      "text/plain": [
       "   carbon_source  flux_minimum  carbon_yield_minimum  mass_yield_minimum  \\\n",
       "0    EX_glc__D_e           0.0                   0.0                 NaN   \n",
       "1    EX_glc__D_e           0.0                   0.0                 NaN   \n",
       "2    EX_glc__D_e           0.0                   0.0                 NaN   \n",
       "3    EX_glc__D_e           0.0                   0.0                 NaN   \n",
       "4    EX_glc__D_e           0.0                   0.0                 NaN   \n",
       "5    EX_glc__D_e           0.0                   0.0                 NaN   \n",
       "6    EX_glc__D_e           0.0                   0.0                 NaN   \n",
       "7    EX_glc__D_e           0.0                   0.0                 NaN   \n",
       "8    EX_glc__D_e           0.0                   0.0                 NaN   \n",
       "9    EX_glc__D_e           0.0                   0.0                 NaN   \n",
       "10   EX_glc__D_e           0.0                   0.0                 NaN   \n",
       "11   EX_glc__D_e           0.0                   0.0                 NaN   \n",
       "12   EX_glc__D_e           0.0                   0.0                 NaN   \n",
       "13   EX_glc__D_e           0.0                   0.0                 NaN   \n",
       "14   EX_glc__D_e           0.0                   0.0                 NaN   \n",
       "15   EX_glc__D_e           0.0                   0.0                 NaN   \n",
       "16   EX_glc__D_e           0.0                   0.0                 NaN   \n",
       "17   EX_glc__D_e           0.0                   0.0                 NaN   \n",
       "18   EX_glc__D_e           0.0                   0.0                 NaN   \n",
       "19   EX_glc__D_e           0.0                   0.0                 NaN   \n",
       "\n",
       "    flux_maximum  carbon_yield_maximum  mass_yield_maximum  EX_glc__D_e  \n",
       "0       0.876997          1.161751e+01                 NaN   -10.000000  \n",
       "1       0.830868          1.159910e+01                 NaN    -9.489048  \n",
       "2       0.784740          1.157860e+01                 NaN    -8.978096  \n",
       "3       0.738611          1.155562e+01                 NaN    -8.467144  \n",
       "4       0.692482          1.152970e+01                 NaN    -7.956193  \n",
       "5       0.646353          1.150021e+01                 NaN    -7.445241  \n",
       "6       0.600224          1.146638e+01                 NaN    -6.934289  \n",
       "7       0.554095          1.142717e+01                 NaN    -6.423337  \n",
       "8       0.507966          1.138117e+01                 NaN    -5.912385  \n",
       "9       0.461838          1.132648e+01                 NaN    -5.401433  \n",
       "10      0.415709          1.126036e+01                 NaN    -4.890482  \n",
       "11      0.369580          1.117881e+01                 NaN    -4.379530  \n",
       "12      0.323451          1.107572e+01                 NaN    -3.868578  \n",
       "13      0.277322          1.094125e+01                 NaN    -3.357626  \n",
       "14      0.231193          1.075851e+01                 NaN    -2.846674  \n",
       "15      0.185064          1.049583e+01                 NaN    -2.335722  \n",
       "16      0.138936          1.008603e+01                 NaN    -1.824770  \n",
       "17      0.092714          9.348163e+00                 NaN    -1.313819  \n",
       "18      0.046357          7.648710e+00                 NaN    -0.802867  \n",
       "19      0.000000          5.340678e-14                 NaN    -0.291915  "
      ]
     },
     "execution_count": 27,
     "metadata": {},
     "output_type": "execute_result"
    }
   ],
   "source": [
    "ppp_biomass_sucd = production_envelope(model_sucd,\n",
    "                    reactions=[model_sucd.reactions.EX_glc__D_e],\n",
    "                    objective=model_sucd.reactions.BIOMASS_Ec_iML1515_core_75p37M )\n",
    "ppp_biomass_sucd\n",
    "\n"
   ]
  },
  {
   "cell_type": "code",
   "execution_count": 28,
   "metadata": {},
   "outputs": [
    {
     "data": {
      "text/plain": [
       "<AxesSubplot:xlabel='EX_glc__D_e'>"
      ]
     },
     "execution_count": 28,
     "metadata": {},
     "output_type": "execute_result"
    },
    {
     "data": {
      "image/png": "[encoded data removed]",
      "text/plain": [
       "<Figure size 432x288 with 1 Axes>"
      ]
     },
     "metadata": {
      "needs_background": "light"
     },
     "output_type": "display_data"
    }
   ],
   "source": [
    "ppp_biomass_sucd.plot(x='EX_glc__D_e', y='flux_maximum')\n"
   ]
  },
  {
   "cell_type": "markdown",
   "metadata": {},
   "source": [
    "PPP analysis for bdo production for Model sucd:"
   ]
  },
  {
   "cell_type": "code",
   "execution_count": 29,
   "metadata": {},
   "outputs": [
    {
     "data": {
      "text/html": [
       "<div>\n",
       "<style scoped>\n",
       "    .dataframe tbody tr th:only-of-type {\n",
       "        vertical-align: middle;\n",
       "    }\n",
       "\n",
       "    .dataframe tbody tr th {\n",
       "        vertical-align: top;\n",
       "    }\n",
       "\n",
       "    .dataframe thead th {\n",
       "        text-align: right;\n",
       "    }\n",
       "</style>\n",
       "<table border=\"1\" class=\"dataframe\">\n",
       "  <thead>\n",
       "    <tr style=\"text-align: right;\">\n",
       "      <th></th>\n",
       "      <th>carbon_source</th>\n",
       "      <th>flux_minimum</th>\n",
       "      <th>carbon_yield_minimum</th>\n",
       "      <th>mass_yield_minimum</th>\n",
       "      <th>flux_maximum</th>\n",
       "      <th>carbon_yield_maximum</th>\n",
       "      <th>mass_yield_maximum</th>\n",
       "      <th>EX_glc__D_e</th>\n",
       "    </tr>\n",
       "  </thead>\n",
       "  <tbody>\n",
       "    <tr>\n",
       "      <th>0</th>\n",
       "      <td>EX_glc__D_e</td>\n",
       "      <td>0.0</td>\n",
       "      <td>0.0</td>\n",
       "      <td>NaN</td>\n",
       "      <td>9.605895</td>\n",
       "      <td>3.362063e+00</td>\n",
       "      <td>NaN</td>\n",
       "      <td>-10.000000</td>\n",
       "    </tr>\n",
       "    <tr>\n",
       "      <th>1</th>\n",
       "      <td>EX_glc__D_e</td>\n",
       "      <td>0.0</td>\n",
       "      <td>0.0</td>\n",
       "      <td>NaN</td>\n",
       "      <td>9.100321</td>\n",
       "      <td>3.356620e+00</td>\n",
       "      <td>NaN</td>\n",
       "      <td>-9.489048</td>\n",
       "    </tr>\n",
       "    <tr>\n",
       "      <th>2</th>\n",
       "      <td>EX_glc__D_e</td>\n",
       "      <td>0.0</td>\n",
       "      <td>0.0</td>\n",
       "      <td>NaN</td>\n",
       "      <td>8.594748</td>\n",
       "      <td>3.350556e+00</td>\n",
       "      <td>NaN</td>\n",
       "      <td>-8.978096</td>\n",
       "    </tr>\n",
       "    <tr>\n",
       "      <th>3</th>\n",
       "      <td>EX_glc__D_e</td>\n",
       "      <td>0.0</td>\n",
       "      <td>0.0</td>\n",
       "      <td>NaN</td>\n",
       "      <td>8.089175</td>\n",
       "      <td>3.343761e+00</td>\n",
       "      <td>NaN</td>\n",
       "      <td>-8.467144</td>\n",
       "    </tr>\n",
       "    <tr>\n",
       "      <th>4</th>\n",
       "      <td>EX_glc__D_e</td>\n",
       "      <td>0.0</td>\n",
       "      <td>0.0</td>\n",
       "      <td>NaN</td>\n",
       "      <td>7.583601</td>\n",
       "      <td>3.336094e+00</td>\n",
       "      <td>NaN</td>\n",
       "      <td>-7.956193</td>\n",
       "    </tr>\n",
       "    <tr>\n",
       "      <th>5</th>\n",
       "      <td>EX_glc__D_e</td>\n",
       "      <td>0.0</td>\n",
       "      <td>0.0</td>\n",
       "      <td>NaN</td>\n",
       "      <td>7.078028</td>\n",
       "      <td>3.327374e+00</td>\n",
       "      <td>NaN</td>\n",
       "      <td>-7.445241</td>\n",
       "    </tr>\n",
       "    <tr>\n",
       "      <th>6</th>\n",
       "      <td>EX_glc__D_e</td>\n",
       "      <td>0.0</td>\n",
       "      <td>0.0</td>\n",
       "      <td>NaN</td>\n",
       "      <td>6.572454</td>\n",
       "      <td>3.317368e+00</td>\n",
       "      <td>NaN</td>\n",
       "      <td>-6.934289</td>\n",
       "    </tr>\n",
       "    <tr>\n",
       "      <th>7</th>\n",
       "      <td>EX_glc__D_e</td>\n",
       "      <td>0.0</td>\n",
       "      <td>0.0</td>\n",
       "      <td>NaN</td>\n",
       "      <td>6.066881</td>\n",
       "      <td>3.305771e+00</td>\n",
       "      <td>NaN</td>\n",
       "      <td>-6.423337</td>\n",
       "    </tr>\n",
       "    <tr>\n",
       "      <th>8</th>\n",
       "      <td>EX_glc__D_e</td>\n",
       "      <td>0.0</td>\n",
       "      <td>0.0</td>\n",
       "      <td>NaN</td>\n",
       "      <td>5.561307</td>\n",
       "      <td>3.292170e+00</td>\n",
       "      <td>NaN</td>\n",
       "      <td>-5.912385</td>\n",
       "    </tr>\n",
       "    <tr>\n",
       "      <th>9</th>\n",
       "      <td>EX_glc__D_e</td>\n",
       "      <td>0.0</td>\n",
       "      <td>0.0</td>\n",
       "      <td>NaN</td>\n",
       "      <td>5.055734</td>\n",
       "      <td>3.275995e+00</td>\n",
       "      <td>NaN</td>\n",
       "      <td>-5.401433</td>\n",
       "    </tr>\n",
       "    <tr>\n",
       "      <th>10</th>\n",
       "      <td>EX_glc__D_e</td>\n",
       "      <td>0.0</td>\n",
       "      <td>0.0</td>\n",
       "      <td>NaN</td>\n",
       "      <td>4.550161</td>\n",
       "      <td>3.256441e+00</td>\n",
       "      <td>NaN</td>\n",
       "      <td>-4.890482</td>\n",
       "    </tr>\n",
       "    <tr>\n",
       "      <th>11</th>\n",
       "      <td>EX_glc__D_e</td>\n",
       "      <td>0.0</td>\n",
       "      <td>0.0</td>\n",
       "      <td>NaN</td>\n",
       "      <td>4.044587</td>\n",
       "      <td>3.232323e+00</td>\n",
       "      <td>NaN</td>\n",
       "      <td>-4.379530</td>\n",
       "    </tr>\n",
       "    <tr>\n",
       "      <th>12</th>\n",
       "      <td>EX_glc__D_e</td>\n",
       "      <td>0.0</td>\n",
       "      <td>0.0</td>\n",
       "      <td>NaN</td>\n",
       "      <td>3.539014</td>\n",
       "      <td>3.201835e+00</td>\n",
       "      <td>NaN</td>\n",
       "      <td>-3.868578</td>\n",
       "    </tr>\n",
       "    <tr>\n",
       "      <th>13</th>\n",
       "      <td>EX_glc__D_e</td>\n",
       "      <td>0.0</td>\n",
       "      <td>0.0</td>\n",
       "      <td>NaN</td>\n",
       "      <td>3.033440</td>\n",
       "      <td>3.162068e+00</td>\n",
       "      <td>NaN</td>\n",
       "      <td>-3.357626</td>\n",
       "    </tr>\n",
       "    <tr>\n",
       "      <th>14</th>\n",
       "      <td>EX_glc__D_e</td>\n",
       "      <td>0.0</td>\n",
       "      <td>0.0</td>\n",
       "      <td>NaN</td>\n",
       "      <td>2.527867</td>\n",
       "      <td>3.108025e+00</td>\n",
       "      <td>NaN</td>\n",
       "      <td>-2.846674</td>\n",
       "    </tr>\n",
       "    <tr>\n",
       "      <th>15</th>\n",
       "      <td>EX_glc__D_e</td>\n",
       "      <td>0.0</td>\n",
       "      <td>0.0</td>\n",
       "      <td>NaN</td>\n",
       "      <td>2.022294</td>\n",
       "      <td>3.030338e+00</td>\n",
       "      <td>NaN</td>\n",
       "      <td>-2.335722</td>\n",
       "    </tr>\n",
       "    <tr>\n",
       "      <th>16</th>\n",
       "      <td>EX_glc__D_e</td>\n",
       "      <td>0.0</td>\n",
       "      <td>0.0</td>\n",
       "      <td>NaN</td>\n",
       "      <td>1.516720</td>\n",
       "      <td>2.909144e+00</td>\n",
       "      <td>NaN</td>\n",
       "      <td>-1.824770</td>\n",
       "    </tr>\n",
       "    <tr>\n",
       "      <th>17</th>\n",
       "      <td>EX_glc__D_e</td>\n",
       "      <td>0.0</td>\n",
       "      <td>0.0</td>\n",
       "      <td>NaN</td>\n",
       "      <td>1.011147</td>\n",
       "      <td>2.693685e+00</td>\n",
       "      <td>NaN</td>\n",
       "      <td>-1.313819</td>\n",
       "    </tr>\n",
       "    <tr>\n",
       "      <th>18</th>\n",
       "      <td>EX_glc__D_e</td>\n",
       "      <td>0.0</td>\n",
       "      <td>0.0</td>\n",
       "      <td>NaN</td>\n",
       "      <td>0.505573</td>\n",
       "      <td>2.203986e+00</td>\n",
       "      <td>NaN</td>\n",
       "      <td>-0.802867</td>\n",
       "    </tr>\n",
       "    <tr>\n",
       "      <th>19</th>\n",
       "      <td>EX_glc__D_e</td>\n",
       "      <td>0.0</td>\n",
       "      <td>0.0</td>\n",
       "      <td>NaN</td>\n",
       "      <td>0.000000</td>\n",
       "      <td>4.913044e-14</td>\n",
       "      <td>NaN</td>\n",
       "      <td>-0.291915</td>\n",
       "    </tr>\n",
       "  </tbody>\n",
       "</table>\n",
       "</div>"
      ],
      "text/plain": [
       "   carbon_source  flux_minimum  carbon_yield_minimum  mass_yield_minimum  \\\n",
       "0    EX_glc__D_e           0.0                   0.0                 NaN   \n",
       "1    EX_glc__D_e           0.0                   0.0                 NaN   \n",
       "2    EX_glc__D_e           0.0                   0.0                 NaN   \n",
       "3    EX_glc__D_e           0.0                   0.0                 NaN   \n",
       "4    EX_glc__D_e           0.0                   0.0                 NaN   \n",
       "5    EX_glc__D_e           0.0                   0.0                 NaN   \n",
       "6    EX_glc__D_e           0.0                   0.0                 NaN   \n",
       "7    EX_glc__D_e           0.0                   0.0                 NaN   \n",
       "8    EX_glc__D_e           0.0                   0.0                 NaN   \n",
       "9    EX_glc__D_e           0.0                   0.0                 NaN   \n",
       "10   EX_glc__D_e           0.0                   0.0                 NaN   \n",
       "11   EX_glc__D_e           0.0                   0.0                 NaN   \n",
       "12   EX_glc__D_e           0.0                   0.0                 NaN   \n",
       "13   EX_glc__D_e           0.0                   0.0                 NaN   \n",
       "14   EX_glc__D_e           0.0                   0.0                 NaN   \n",
       "15   EX_glc__D_e           0.0                   0.0                 NaN   \n",
       "16   EX_glc__D_e           0.0                   0.0                 NaN   \n",
       "17   EX_glc__D_e           0.0                   0.0                 NaN   \n",
       "18   EX_glc__D_e           0.0                   0.0                 NaN   \n",
       "19   EX_glc__D_e           0.0                   0.0                 NaN   \n",
       "\n",
       "    flux_maximum  carbon_yield_maximum  mass_yield_maximum  EX_glc__D_e  \n",
       "0       9.605895          3.362063e+00                 NaN   -10.000000  \n",
       "1       9.100321          3.356620e+00                 NaN    -9.489048  \n",
       "2       8.594748          3.350556e+00                 NaN    -8.978096  \n",
       "3       8.089175          3.343761e+00                 NaN    -8.467144  \n",
       "4       7.583601          3.336094e+00                 NaN    -7.956193  \n",
       "5       7.078028          3.327374e+00                 NaN    -7.445241  \n",
       "6       6.572454          3.317368e+00                 NaN    -6.934289  \n",
       "7       6.066881          3.305771e+00                 NaN    -6.423337  \n",
       "8       5.561307          3.292170e+00                 NaN    -5.912385  \n",
       "9       5.055734          3.275995e+00                 NaN    -5.401433  \n",
       "10      4.550161          3.256441e+00                 NaN    -4.890482  \n",
       "11      4.044587          3.232323e+00                 NaN    -4.379530  \n",
       "12      3.539014          3.201835e+00                 NaN    -3.868578  \n",
       "13      3.033440          3.162068e+00                 NaN    -3.357626  \n",
       "14      2.527867          3.108025e+00                 NaN    -2.846674  \n",
       "15      2.022294          3.030338e+00                 NaN    -2.335722  \n",
       "16      1.516720          2.909144e+00                 NaN    -1.824770  \n",
       "17      1.011147          2.693685e+00                 NaN    -1.313819  \n",
       "18      0.505573          2.203986e+00                 NaN    -0.802867  \n",
       "19      0.000000          4.913044e-14                 NaN    -0.291915  "
      ]
     },
     "execution_count": 29,
     "metadata": {},
     "output_type": "execute_result"
    }
   ],
   "source": [
    "ppp_bdoprod_sucd = production_envelope(model_sucd,\n",
    "                    reactions=[model_sucd.reactions.EX_glc__D_e],\n",
    "                    objective=model_sucd.reactions.ADH)\n",
    "ppp_bdoprod_sucd"
   ]
  },
  {
   "cell_type": "code",
   "execution_count": 30,
   "metadata": {},
   "outputs": [
    {
     "data": {
      "text/plain": [
       "<AxesSubplot:xlabel='EX_glc__D_e'>"
      ]
     },
     "execution_count": 30,
     "metadata": {},
     "output_type": "execute_result"
    },
    {
     "data": {
      "image/png": "[encoded data removed]",
      "text/plain": [
       "<Figure size 432x288 with 1 Axes>"
      ]
     },
     "metadata": {
      "needs_background": "light"
     },
     "output_type": "display_data"
    }
   ],
   "source": [
    "ppp_bdoprod_sucd.plot(x='EX_glc__D_e', y='flux_maximum')\n"
   ]
  },
  {
   "cell_type": "markdown",
   "metadata": {},
   "source": [
    "The phenotypic phase plane analyses shows that there is a direct trade-off between production of the target compound and growth in both models.\n",
    "\n"
   ]
  },
  {
   "cell_type": "markdown",
   "metadata": {},
   "source": [
    "## Identify genes for targeted gene knock out"
   ]
  },
  {
   "cell_type": "code",
   "execution_count": 4,
   "metadata": {},
   "outputs": [
    {
     "data": {
      "text/plain": [
       "'b1380'"
      ]
     },
     "execution_count": 4,
     "metadata": {},
     "output_type": "execute_result"
    }
   ],
   "source": [
    "model.reactions.LDH_D.gene_reaction_rule "
   ]
  },
  {
   "cell_type": "code",
   "execution_count": 5,
   "metadata": {},
   "outputs": [
    {
     "data": {
      "text/plain": [
       "'b3236'"
      ]
     },
     "execution_count": 5,
     "metadata": {},
     "output_type": "execute_result"
    }
   ],
   "source": [
    "model.reactions.MDH.gene_reaction_rule "
   ]
  },
  {
   "cell_type": "code",
   "execution_count": 6,
   "metadata": {},
   "outputs": [
    {
     "data": {
      "text/plain": [
       "'b1241 or b1478'"
      ]
     },
     "execution_count": 6,
     "metadata": {},
     "output_type": "execute_result"
    }
   ],
   "source": [
    "model.reactions.ALCD2x.gene_reaction_rule "
   ]
  },
  {
   "cell_type": "code",
   "execution_count": 7,
   "metadata": {},
   "outputs": [
    {
     "data": {
      "text/plain": [
       "'( b0902 and b0903 ) or ( b0902 and b3114 ) or ( b3951 and b3952 ) or ( ( b0902 and b0903 ) and b2579 )'"
      ]
     },
     "execution_count": 7,
     "metadata": {},
     "output_type": "execute_result"
    }
   ],
   "source": [
    "model.reactions.PFL.gene_reaction_rule \n",
    "\n"
   ]
  },
  {
   "cell_type": "markdown",
   "metadata": {},
   "source": [
    "## Targeted gene knock outs in Model akg"
   ]
  },
  {
   "cell_type": "markdown",
   "metadata": {},
   "source": [
    "Ldh_d mutant"
   ]
  },
  {
   "cell_type": "code",
   "execution_count": 8,
   "metadata": {
    "tags": []
   },
   "outputs": [
    {
     "name": "stdout",
     "output_type": "stream",
     "text": [
      "Maximal growth rate:\n",
      "0.876997214426975\n",
      "Maximal bdo production rate:\n",
      "9.708085106382974\n"
     ]
    }
   ],
   "source": [
    "with model_akg as ldh_d_mutant:\n",
    "    ldh_d_mutant.genes.b1380.knock_out()\n",
    "    \n",
    "    print(\"Maximal growth rate:\")\n",
    "    print(ldh_d_mutant.slim_optimize())\n",
    "\n",
    "with model_akg as ldh_d_mutant:\n",
    "    ldh_d_mutant.objective = model_akg.reactions.ADH\n",
    "    print(\"Maximal bdo production rate:\")\n",
    "    print(ldh_d_mutant.slim_optimize())"
   ]
  },
  {
   "cell_type": "markdown",
   "metadata": {},
   "source": [
    "Mdh mutant"
   ]
  },
  {
   "cell_type": "code",
   "execution_count": 9,
   "metadata": {},
   "outputs": [
    {
     "name": "stdout",
     "output_type": "stream",
     "text": [
      "Maximal growth rate:\n",
      "0.856444366957576\n",
      "Maximal bdo production rate:\n",
      "9.708085106382981\n"
     ]
    }
   ],
   "source": [
    "with model_akg as mdh_mutant:\n",
    "    mdh_mutant.genes.b3236.knock_out()\n",
    "    \n",
    "    print(\"Maximal growth rate:\")\n",
    "    print(mdh_mutant.slim_optimize())\n",
    "\n",
    "with model_akg as mdh_mutant:\n",
    "    mdh_mutant.objective = model_akg.reactions.ADH\n",
    "    print(\"Maximal bdo production rate:\")\n",
    "    print(mdh_mutant.slim_optimize())"
   ]
  },
  {
   "cell_type": "markdown",
   "metadata": {},
   "source": [
    "Adhe1 mutant "
   ]
  },
  {
   "cell_type": "code",
   "execution_count": 10,
   "metadata": {},
   "outputs": [
    {
     "name": "stdout",
     "output_type": "stream",
     "text": [
      "Maximal growth rate:\n",
      "0.8769972144269893\n",
      "Maximal bdo production rate:\n",
      "9.708085106382988\n"
     ]
    }
   ],
   "source": [
    "with model_akg as adhe1_mutant:\n",
    "    adhe1_mutant.genes.b1241.knock_out()\n",
    "    \n",
    "    print(\"Maximal growth rate:\")\n",
    "    print(adhe1_mutant.slim_optimize())\n",
    "    \n",
    "with model_akg as adhe1_mutant:\n",
    "    adhe1_mutant.objective = model_akg.reactions.ADH\n",
    "    print(\"Maximal bdo production rate:\")\n",
    "    print(adhe1_mutant.slim_optimize())"
   ]
  },
  {
   "cell_type": "markdown",
   "metadata": {},
   "source": [
    "Adhe2 mutant"
   ]
  },
  {
   "cell_type": "code",
   "execution_count": 11,
   "metadata": {},
   "outputs": [
    {
     "name": "stdout",
     "output_type": "stream",
     "text": [
      "Maximal growth rate:\n",
      "0.8769972144269484\n",
      "Maximal bdo production rate:\n",
      "9.708085106383017\n"
     ]
    }
   ],
   "source": [
    "with model_akg as adhe2_mutant:\n",
    "    adhe2_mutant.genes.b1478.knock_out()\n",
    "\n",
    "    \n",
    "    print(\"Maximal growth rate:\")\n",
    "    print(adhe2_mutant.slim_optimize())\n",
    "    \n",
    "with model_akg as adhe2_mutant:\n",
    "    adhe2_mutant.objective = model_akg.reactions.ADH\n",
    "    print(\"Maximal bdo production rate:\")\n",
    "    print(adhe2_mutant.slim_optimize())"
   ]
  },
  {
   "cell_type": "markdown",
   "metadata": {},
   "source": [
    "Adhe12 mutant"
   ]
  },
  {
   "cell_type": "code",
   "execution_count": 12,
   "metadata": {},
   "outputs": [
    {
     "name": "stdout",
     "output_type": "stream",
     "text": [
      "Maximal growth rate:\n",
      "0.8769972144269808\n",
      "Maximal bdo production rate:\n",
      "9.708085106382995\n"
     ]
    }
   ],
   "source": [
    "with model_akg as adhe12_mutant:\n",
    "    adhe12_mutant.genes.b1478.knock_out()\n",
    "    adhe12_mutant.genes.b1241.knock_out()\n",
    "\n",
    "    \n",
    "    print(\"Maximal growth rate:\")\n",
    "    print(adhe12_mutant.slim_optimize())\n",
    "    \n",
    "with model_akg as adhe12_mutant:\n",
    "    adhe12_mutant.objective = model_akg.reactions.ADH\n",
    "    print(\"Maximal bdo production rate:\")\n",
    "    print(adhe12_mutant.slim_optimize())"
   ]
  },
  {
   "cell_type": "markdown",
   "metadata": {},
   "source": [
    "Pfl mutant 1"
   ]
  },
  {
   "cell_type": "code",
   "execution_count": 13,
   "metadata": {},
   "outputs": [
    {
     "name": "stdout",
     "output_type": "stream",
     "text": [
      "Maximal growth rate:\n",
      "0.8769972144269701\n",
      "Maximal bdo production rate:\n",
      "9.70808510638299\n"
     ]
    }
   ],
   "source": [
    "with model_akg as pfl1_mutant:\n",
    "    pfl1_mutant.genes.b0902.knock_out()\n",
    "    pfl1_mutant.genes.b0903.knock_out()\n",
    "    \n",
    "    print(\"Maximal growth rate:\")\n",
    "    print(pfl1_mutant.slim_optimize())\n",
    "    \n",
    "with model_akg as pfl1_mutant:\n",
    "    pfl1_mutant.objective = model_akg.reactions.ADH\n",
    "    print(\"Maximal bdo production rate:\")\n",
    "    print(pfl1_mutant.slim_optimize())"
   ]
  },
  {
   "cell_type": "markdown",
   "metadata": {},
   "source": [
    "Pfl mutant 2\n"
   ]
  },
  {
   "cell_type": "code",
   "execution_count": 14,
   "metadata": {},
   "outputs": [
    {
     "name": "stdout",
     "output_type": "stream",
     "text": [
      "Maximal growth rate:\n",
      "0.8769972144269762\n",
      "Maximal bdo production rate:\n",
      "9.708085106383\n"
     ]
    }
   ],
   "source": [
    "with model_akg as pfl2_mutant:\n",
    "    pfl2_mutant.genes.b0902.knock_out()\n",
    "    pfl2_mutant.genes.b3114.knock_out()\n",
    "    \n",
    "    print(\"Maximal growth rate:\")\n",
    "    print(pfl2_mutant.slim_optimize())\n",
    "    \n",
    "with model_akg as pfl2_mutant:\n",
    "    pfl2_mutant.objective = model_akg.reactions.ADH\n",
    "    print(\"Maximal bdo production rate:\")\n",
    "    print(pfl2_mutant.slim_optimize())"
   ]
  },
  {
   "cell_type": "markdown",
   "metadata": {},
   "source": [
    "Pfl mutant 3"
   ]
  },
  {
   "cell_type": "code",
   "execution_count": 15,
   "metadata": {},
   "outputs": [
    {
     "name": "stdout",
     "output_type": "stream",
     "text": [
      "Maximal growth rate:\n",
      "0.8769972144269739\n",
      "Maximal bdo production rate:\n",
      "9.708085106382969\n"
     ]
    }
   ],
   "source": [
    "with model_akg as pfl3_mutant:\n",
    "    pfl3_mutant.genes.b3951.knock_out()\n",
    "    pfl3_mutant.genes.b3952.knock_out()\n",
    "    \n",
    "    print(\"Maximal growth rate:\")\n",
    "    print(pfl3_mutant.slim_optimize())\n",
    "    \n",
    "with model_akg as pfl3_mutant:\n",
    "    pfl3_mutant.objective = model_akg.reactions.ADH\n",
    "    print(\"Maximal bdo production rate:\")\n",
    "    print(pfl3_mutant.slim_optimize())"
   ]
  },
  {
   "cell_type": "markdown",
   "metadata": {},
   "source": [
    "Pfl mutant 4"
   ]
  },
  {
   "cell_type": "code",
   "execution_count": 16,
   "metadata": {},
   "outputs": [
    {
     "name": "stdout",
     "output_type": "stream",
     "text": [
      "Maximal growth rate:\n",
      "0.8769972144269745\n",
      "Maximal bdo production rate:\n",
      "9.708085106382988\n"
     ]
    }
   ],
   "source": [
    "with model_akg as pfl4_mutant:\n",
    "    pfl4_mutant.genes.b0902.knock_out()\n",
    "    pfl4_mutant.genes.b0903.knock_out()\n",
    "    pfl4_mutant.genes.b2579.knock_out()\n",
    "    \n",
    "    print(\"Maximal growth rate:\")\n",
    "    print(pfl4_mutant.slim_optimize())\n",
    "    \n",
    "with model_akg as pfl4_mutant:\n",
    "    pfl4_mutant.objective = model_akg.reactions.ADH\n",
    "    print(\"Maximal bdo production rate:\")\n",
    "    print(pfl4_mutant.slim_optimize())"
   ]
  },
  {
   "cell_type": "markdown",
   "metadata": {},
   "source": [
    "As we see, knocking these genes out does not affect the growth rate or production of bdo. Here we knock out a combination of genes."
   ]
  },
  {
   "cell_type": "code",
   "execution_count": 17,
   "metadata": {},
   "outputs": [
    {
     "name": "stdout",
     "output_type": "stream",
     "text": [
      "Maximal growth rate:\n",
      "0.8564443669575732\n",
      "Maximal bdo production rate:\n",
      "9.708085106382985\n"
     ]
    }
   ],
   "source": [
    "with model_akg as quadruple_mutant:\n",
    "    quadruple_mutant.genes.b1380.knock_out()\n",
    "    quadruple_mutant.genes.b3236.knock_out()\n",
    "    quadruple_mutant.genes.b1478.knock_out()\n",
    "    quadruple_mutant.genes.b0902.knock_out()\n",
    "    quadruple_mutant.genes.b0903.knock_out()   \n",
    "    \n",
    "    print(\"Maximal growth rate:\")\n",
    "    print(quadruple_mutant.slim_optimize())\n",
    "\n",
    "with model_akg as quadruple_mutant:\n",
    "    quadruple_mutant.objective = model_akg.reactions.ADH\n",
    "    print(\"Maximal bdo production rate:\")\n",
    "    print(quadruple_mutant.slim_optimize())"
   ]
  },
  {
   "cell_type": "markdown",
   "metadata": {},
   "source": [
    "## Targeted gene knock out in model sucd"
   ]
  },
  {
   "cell_type": "markdown",
   "metadata": {},
   "source": [
    "Ldh mutant"
   ]
  },
  {
   "cell_type": "code",
   "execution_count": 19,
   "metadata": {},
   "outputs": [
    {
     "name": "stdout",
     "output_type": "stream",
     "text": [
      "Maximal growth rate:\n",
      "0.8769972144269775\n",
      "Maximal bdo production rate:\n",
      "9.605894736842142\n"
     ]
    }
   ],
   "source": [
    "with model_sucd as ldh_d_mutant:\n",
    "    ldh_d_mutant.genes.b1380.knock_out()\n",
    "    \n",
    "    print(\"Maximal growth rate:\")\n",
    "    print(ldh_d_mutant.slim_optimize())\n",
    "\n",
    "with model_sucd as ldh_d_mutant:\n",
    "    ldh_d_mutant.objective = model_sucd.reactions.ADH\n",
    "    print(\"Maximal bdo production rate:\")\n",
    "    print(ldh_d_mutant.slim_optimize())"
   ]
  },
  {
   "cell_type": "markdown",
   "metadata": {},
   "source": [
    "Mdh mutant"
   ]
  },
  {
   "cell_type": "code",
   "execution_count": 20,
   "metadata": {},
   "outputs": [
    {
     "name": "stdout",
     "output_type": "stream",
     "text": [
      "Maximal growth rate:\n",
      "0.8564443669575338\n",
      "Maximal bdo production rate:\n",
      "9.605894736842119\n"
     ]
    }
   ],
   "source": [
    "with model_sucd as mdh_mutant:\n",
    "    mdh_mutant.genes.b3236.knock_out()\n",
    "    \n",
    "    print(\"Maximal growth rate:\")\n",
    "    print(mdh_mutant.slim_optimize())\n",
    "\n",
    "with model_sucd as mdh_mutant:\n",
    "    mdh_mutant.objective = model_sucd.reactions.ADH\n",
    "    print(\"Maximal bdo production rate:\")\n",
    "    print(mdh_mutant.slim_optimize())"
   ]
  },
  {
   "cell_type": "markdown",
   "metadata": {},
   "source": [
    "Adhe1 mutant"
   ]
  },
  {
   "cell_type": "code",
   "execution_count": 21,
   "metadata": {},
   "outputs": [
    {
     "name": "stdout",
     "output_type": "stream",
     "text": [
      "Maximal growth rate:\n",
      "0.8769972144271085\n",
      "Maximal bdo production rate:\n",
      "9.60589473684207\n"
     ]
    }
   ],
   "source": [
    "with model_sucd as adhe1_mutant:\n",
    "    adhe1_mutant.genes.b1241.knock_out()\n",
    "    \n",
    "    print(\"Maximal growth rate:\")\n",
    "    print(adhe1_mutant.slim_optimize())\n",
    "    \n",
    "with model_sucd as adhe1_mutant:\n",
    "    adhe1_mutant.objective = model_sucd.reactions.ADH\n",
    "    print(\"Maximal bdo production rate:\")\n",
    "    print(adhe1_mutant.slim_optimize())"
   ]
  },
  {
   "cell_type": "markdown",
   "metadata": {},
   "source": [
    "Adhe2 mutant"
   ]
  },
  {
   "cell_type": "code",
   "execution_count": 22,
   "metadata": {},
   "outputs": [
    {
     "name": "stdout",
     "output_type": "stream",
     "text": [
      "Maximal growth rate:\n",
      "0.8769972144270658\n",
      "Maximal bdo production rate:\n",
      "9.605894736842144\n"
     ]
    }
   ],
   "source": [
    "with model_sucd as adhe2_mutant:\n",
    "    adhe2_mutant.genes.b1478.knock_out()\n",
    "\n",
    "    \n",
    "    print(\"Maximal growth rate:\")\n",
    "    print(adhe2_mutant.slim_optimize())\n",
    "    \n",
    "with model_sucd as adhe2_mutant:\n",
    "    adhe2_mutant.objective = model_sucd.reactions.ADH\n",
    "    print(\"Maximal bdo production rate:\")\n",
    "    print(adhe2_mutant.slim_optimize())"
   ]
  },
  {
   "cell_type": "markdown",
   "metadata": {},
   "source": [
    "Adhe12 mutant"
   ]
  },
  {
   "cell_type": "code",
   "execution_count": 23,
   "metadata": {},
   "outputs": [
    {
     "name": "stdout",
     "output_type": "stream",
     "text": [
      "Maximal growth rate:\n",
      "0.8769972144269501\n",
      "Maximal bdo production rate:\n",
      "9.605894736842123\n"
     ]
    }
   ],
   "source": [
    "with model_sucd as adhe12_mutant:\n",
    "    adhe12_mutant.genes.b1478.knock_out()\n",
    "    adhe12_mutant.genes.b1241.knock_out()\n",
    "\n",
    "    \n",
    "    print(\"Maximal growth rate:\")\n",
    "    print(adhe12_mutant.slim_optimize())\n",
    "    \n",
    "with model_sucd as adhe12_mutant:\n",
    "    adhe12_mutant.objective = model_sucd.reactions.ADH\n",
    "    print(\"Maximal bdo production rate:\")\n",
    "    print(adhe12_mutant.slim_optimize())"
   ]
  },
  {
   "cell_type": "markdown",
   "metadata": {},
   "source": [
    "Pfl1 mutant"
   ]
  },
  {
   "cell_type": "code",
   "execution_count": 24,
   "metadata": {},
   "outputs": [
    {
     "name": "stdout",
     "output_type": "stream",
     "text": [
      "Maximal growth rate:\n",
      "0.876997214426981\n",
      "Maximal bdo production rate:\n",
      "9.60589473684211\n"
     ]
    }
   ],
   "source": [
    "with model_sucd as pfl1_mutant:\n",
    "    pfl1_mutant.genes.b0902.knock_out()\n",
    "    pfl1_mutant.genes.b0903.knock_out()\n",
    "    \n",
    "    print(\"Maximal growth rate:\")\n",
    "    print(pfl1_mutant.slim_optimize())\n",
    "    \n",
    "with model_sucd as pfl1_mutant:\n",
    "    pfl1_mutant.objective = model_sucd.reactions.ADH\n",
    "    print(\"Maximal bdo production rate:\")\n",
    "    print(pfl1_mutant.slim_optimize())"
   ]
  },
  {
   "cell_type": "markdown",
   "metadata": {},
   "source": [
    "Pfl2 mutant\n"
   ]
  },
  {
   "cell_type": "code",
   "execution_count": 25,
   "metadata": {},
   "outputs": [
    {
     "name": "stdout",
     "output_type": "stream",
     "text": [
      "Maximal growth rate:\n",
      "0.8769972144269598\n",
      "Maximal bdo production rate:\n",
      "9.60589473684207\n"
     ]
    }
   ],
   "source": [
    "with model_sucd as pfl2_mutant:\n",
    "    pfl2_mutant.genes.b0902.knock_out()\n",
    "    pfl2_mutant.genes.b3114.knock_out()\n",
    "    \n",
    "    print(\"Maximal growth rate:\")\n",
    "    print(pfl2_mutant.slim_optimize())\n",
    "    \n",
    "with model_sucd as pfl2_mutant:\n",
    "    pfl2_mutant.objective = model_sucd.reactions.ADH\n",
    "    print(\"Maximal bdo production rate:\")\n",
    "    print(pfl2_mutant.slim_optimize())"
   ]
  },
  {
   "cell_type": "markdown",
   "metadata": {},
   "source": [
    "Pfl3 mutant"
   ]
  },
  {
   "cell_type": "code",
   "execution_count": 26,
   "metadata": {},
   "outputs": [
    {
     "name": "stdout",
     "output_type": "stream",
     "text": [
      "Maximal growth rate:\n",
      "0.8769972144269909\n",
      "Maximal bdo production rate:\n",
      "9.605894736842066\n"
     ]
    }
   ],
   "source": [
    "with model_sucd as pfl3_mutant:\n",
    "    pfl3_mutant.genes.b3951.knock_out()\n",
    "    pfl3_mutant.genes.b3952.knock_out()\n",
    "    \n",
    "    print(\"Maximal growth rate:\")\n",
    "    print(pfl3_mutant.slim_optimize())\n",
    "    \n",
    "with model_sucd as pfl3_mutant:\n",
    "    pfl3_mutant.objective = model_sucd.reactions.ADH\n",
    "    print(\"Maximal bdo production rate:\")\n",
    "    print(pfl3_mutant.slim_optimize())"
   ]
  },
  {
   "cell_type": "markdown",
   "metadata": {},
   "source": [
    "Pfl4 mutant"
   ]
  },
  {
   "cell_type": "code",
   "execution_count": 29,
   "metadata": {},
   "outputs": [
    {
     "name": "stdout",
     "output_type": "stream",
     "text": [
      "Maximal growth rate:\n",
      "0.8769972144269863\n",
      "Maximal bdo production rate:\n",
      "9.60589473684212\n"
     ]
    }
   ],
   "source": [
    "with model_sucd as pfl4_mutant:\n",
    "    pfl4_mutant.genes.b0902.knock_out()\n",
    "    pfl4_mutant.genes.b0903.knock_out()\n",
    "    pfl4_mutant.genes.b2579.knock_out()\n",
    "    \n",
    "    print(\"Maximal growth rate:\")\n",
    "    print(pfl4_mutant.slim_optimize())\n",
    "\n",
    "with model_sucd as pfl4_mutant:\n",
    "    pfl4_mutant.objective = model_sucd.reactions.ADH\n",
    "    print(\"Maximal bdo production rate:\")\n",
    "    print(pfl4_mutant.slim_optimize())"
   ]
  },
  {
   "cell_type": "markdown",
   "metadata": {},
   "source": [
    "Again, targeted gene knocking out does not affect the growth rate or production of bdo in a big rate. Here we repeat the knock out of the same combination of genes as we did for the akg model."
   ]
  },
  {
   "cell_type": "code",
   "execution_count": 30,
   "metadata": {},
   "outputs": [
    {
     "name": "stdout",
     "output_type": "stream",
     "text": [
      "Maximal growth rate:\n",
      "0.8564443669575781\n",
      "Maximal bdo production rate:\n",
      "9.60589473684212\n"
     ]
    }
   ],
   "source": [
    "with model_sucd as quadruple_mutant:\n",
    "    quadruple_mutant.genes.b1380.knock_out()\n",
    "    quadruple_mutant.genes.b3236.knock_out()\n",
    "    quadruple_mutant.genes.b1478.knock_out()\n",
    "    quadruple_mutant.genes.b0902.knock_out()\n",
    "    quadruple_mutant.genes.b0903.knock_out()   \n",
    "    \n",
    "    print(\"Maximal growth rate:\")\n",
    "    print(quadruple_mutant.slim_optimize())\n",
    "\n",
    "with model_sucd as quadruple_mutant:\n",
    "    quadruple_mutant.objective = model_sucd.reactions.ADH\n",
    "    print(\"Maximal bdo production rate:\")\n",
    "    print(quadruple_mutant.slim_optimize())"
   ]
  },
  {
   "cell_type": "markdown",
   "metadata": {},
   "source": [
    "Conclusion: Knocking out targeted genes did not result in big changes in the growth rate or the bdo production. In the next steps we will use some optimization algorithms that will reveal gene targets for optimizing the production of bdo."
   ]
  },
  {
   "cell_type": "markdown",
   "metadata": {},
   "source": [
    "## OptGene algorithm"
   ]
  },
  {
   "cell_type": "code",
   "execution_count": 39,
   "metadata": {},
   "outputs": [],
   "source": [
    "import cameo\n",
    "from cameo.strain_design.heuristic.evolutionary_based import OptGene\n",
    "from cameo import models\n",
    "\n"
   ]
  },
  {
   "cell_type": "markdown",
   "metadata": {},
   "source": [
    "OptGene for akg model"
   ]
  },
  {
   "cell_type": "code",
   "execution_count": 35,
   "metadata": {},
   "outputs": [],
   "source": [
    "optgene = OptGene(model_akg)\n"
   ]
  },
  {
   "cell_type": "code",
   "execution_count": 43,
   "metadata": {},
   "outputs": [
    {
     "name": "stdout",
     "output_type": "stream",
     "text": [
      "Starting optimization at Sun, 21 Nov 2021 19:04:15\n"
     ]
    },
    {
     "data": {
      "application/vnd.jupyter.widget-view+json": {
       "model_id": "f535b947e0d44752ad2558306b953f33",
       "version_major": 2,
       "version_minor": 0
      },
      "text/plain": [
       "HBox()"
      ]
     },
     "metadata": {},
     "output_type": "display_data"
    },
    {
     "name": "stdout",
     "output_type": "stream",
     "text": [
      "Finished after 00:15:35\n"
     ]
    }
   ],
   "source": [
    "result_akg = optgene.run(target=model_akg.reactions.EX_bdo, \n",
    "                     biomass=model_akg.reactions.BIOMASS_Ec_iML1515_core_75p37M,\n",
    "                     substrate=model_akg.metabolites.glc__D_e,\n",
    "                     max_evaluations=20000, population_size=200, max_knockouts=2,\n",
    "                     plot=False, growth_coupled=True)"
   ]
  },
  {
   "cell_type": "code",
   "execution_count": 44,
   "metadata": {},
   "outputs": [
    {
     "name": "stderr",
     "output_type": "stream",
     "text": [
      "No solutions found\n"
     ]
    },
    {
     "data": {
      "text/html": [
       "\n",
       "        <h3>OptGene Result</h3>\n",
       "        <ul>\n",
       "            <li>Simulation: fba<br/></li>\n",
       "            <li>Objective Function: $$bpcy = \\frac{(BIOMASS\\_Ec\\_iML1515\\_core\\_75p37M * min(EX\\_bdo))}{EX\\_glc\\_\\_D\\_e}$$<br/></li>\n",
       "        </ul>\n",
       "        <div>\n",
       "<style scoped>\n",
       "    .dataframe tbody tr th:only-of-type {\n",
       "        vertical-align: middle;\n",
       "    }\n",
       "\n",
       "    .dataframe tbody tr th {\n",
       "        vertical-align: top;\n",
       "    }\n",
       "\n",
       "    .dataframe thead th {\n",
       "        text-align: right;\n",
       "    }\n",
       "</style>\n",
       "<table border=\"1\" class=\"dataframe\">\n",
       "  <thead>\n",
       "    <tr style=\"text-align: right;\">\n",
       "      <th></th>\n",
       "      <th>reactions</th>\n",
       "      <th>genes</th>\n",
       "      <th>size</th>\n",
       "      <th>fva_min</th>\n",
       "      <th>fva_max</th>\n",
       "      <th>target_flux</th>\n",
       "      <th>biomass_flux</th>\n",
       "      <th>yield</th>\n",
       "      <th>fitness</th>\n",
       "    </tr>\n",
       "  </thead>\n",
       "  <tbody>\n",
       "  </tbody>\n",
       "</table>\n",
       "</div>\n",
       "        "
      ],
      "text/plain": [
       "<cameo.strain_design.heuristic.evolutionary_based.OptGeneResult at 0x1ff348a8b50>"
      ]
     },
     "execution_count": 44,
     "metadata": {},
     "output_type": "execute_result"
    }
   ],
   "source": [
    "result_akg"
   ]
  },
  {
   "cell_type": "markdown",
   "metadata": {},
   "source": [
    "OptGene for sucd model"
   ]
  },
  {
   "cell_type": "code",
   "execution_count": 37,
   "metadata": {},
   "outputs": [
    {
     "name": "stdout",
     "output_type": "stream",
     "text": [
      "Starting optimization at Sun, 21 Nov 2021 18:40:04\n"
     ]
    },
    {
     "data": {
      "application/vnd.jupyter.widget-view+json": {
       "model_id": "e4ff5b4c2ccd429da4121152f4cb0dd2",
       "version_major": 2,
       "version_minor": 0
      },
      "text/plain": [
       "HBox()"
      ]
     },
     "metadata": {},
     "output_type": "display_data"
    },
    {
     "name": "stdout",
     "output_type": "stream",
     "text": [
      "Finished after 00:16:27\n"
     ]
    }
   ],
   "source": [
    "optgene = OptGene(model_sucd)\n",
    "\n",
    "\n",
    "result = optgene.run(target=model_sucd.reactions.EX_bdo, \n",
    "                     biomass=model_sucd.reactions.BIOMASS_Ec_iML1515_core_75p37M,\n",
    "                     substrate=model_sucd.metabolites.glc__D_e,\n",
    "                     max_evaluations=20000, population_size=200, max_knockouts=2,\n",
    "                     plot=False, growth_coupled=True)"
   ]
  },
  {
   "cell_type": "code",
   "execution_count": 38,
   "metadata": {},
   "outputs": [
    {
     "name": "stderr",
     "output_type": "stream",
     "text": [
      "No solutions found\n"
     ]
    },
    {
     "data": {
      "text/html": [
       "\n",
       "        <h3>OptGene Result</h3>\n",
       "        <ul>\n",
       "            <li>Simulation: fba<br/></li>\n",
       "            <li>Objective Function: $$bpcy = \\frac{(BIOMASS\\_Ec\\_iML1515\\_core\\_75p37M * min(EX\\_bdo))}{EX\\_glc\\_\\_D\\_e}$$<br/></li>\n",
       "        </ul>\n",
       "        <div>\n",
       "<style scoped>\n",
       "    .dataframe tbody tr th:only-of-type {\n",
       "        vertical-align: middle;\n",
       "    }\n",
       "\n",
       "    .dataframe tbody tr th {\n",
       "        vertical-align: top;\n",
       "    }\n",
       "\n",
       "    .dataframe thead th {\n",
       "        text-align: right;\n",
       "    }\n",
       "</style>\n",
       "<table border=\"1\" class=\"dataframe\">\n",
       "  <thead>\n",
       "    <tr style=\"text-align: right;\">\n",
       "      <th></th>\n",
       "      <th>reactions</th>\n",
       "      <th>genes</th>\n",
       "      <th>size</th>\n",
       "      <th>fva_min</th>\n",
       "      <th>fva_max</th>\n",
       "      <th>target_flux</th>\n",
       "      <th>biomass_flux</th>\n",
       "      <th>yield</th>\n",
       "      <th>fitness</th>\n",
       "    </tr>\n",
       "  </thead>\n",
       "  <tbody>\n",
       "  </tbody>\n",
       "</table>\n",
       "</div>\n",
       "        "
      ],
      "text/plain": [
       "<cameo.strain_design.heuristic.evolutionary_based.OptGeneResult at 0x1ff3769daf0>"
      ]
     },
     "execution_count": 38,
     "metadata": {},
     "output_type": "execute_result"
    }
   ],
   "source": [
    "result"
   ]
  },
  {
   "cell_type": "markdown",
   "metadata": {},
   "source": [
    "OptGene did not return any results with maximum 20,000 evaluations and maximum 2 knock-out targets. "
   ]
  },
  {
   "cell_type": "markdown",
   "metadata": {},
   "source": [
    "## OptKnock\n"
   ]
  },
  {
   "cell_type": "markdown",
   "metadata": {},
   "source": [
    "OptKnock for akg model"
   ]
  },
  {
   "cell_type": "code",
   "execution_count": 40,
   "metadata": {},
   "outputs": [],
   "source": [
    "from cameo.strain_design.deterministic.linear_programming import OptKnock\n"
   ]
  },
  {
   "cell_type": "code",
   "execution_count": 41,
   "metadata": {},
   "outputs": [
    {
     "name": "stderr",
     "output_type": "stream",
     "text": [
      "C:\\Users\\tzimo\\anaconda3\\lib\\site-packages\\cameo\\strain_design\\deterministic\\linear_programming.py:118: UserWarning: You are trying to run OptKnock with glpk_interface. This might not end well.\n",
      "  warnings.warn(\"You are trying to run OptKnock with %s. This might not end well.\" %\n"
     ]
    },
    {
     "ename": "Infeasible",
     "evalue": "None (infeasible).",
     "output_type": "error",
     "traceback": [
      "\u001b[1;31m---------------------------------------------------------------------------\u001b[0m",
      "\u001b[1;31mInfeasible\u001b[0m                                Traceback (most recent call last)",
      "\u001b[1;32m<ipython-input-41-de9409d08e20>\u001b[0m in \u001b[0;36m<module>\u001b[1;34m\u001b[0m\n\u001b[1;32m----> 1\u001b[1;33m \u001b[0moptknock\u001b[0m \u001b[1;33m=\u001b[0m \u001b[0mOptKnock\u001b[0m\u001b[1;33m(\u001b[0m\u001b[0mmodel_akg\u001b[0m\u001b[1;33m,\u001b[0m \u001b[0mfraction_of_optimum\u001b[0m\u001b[1;33m=\u001b[0m\u001b[1;36m0.1\u001b[0m\u001b[1;33m)\u001b[0m\u001b[1;33m\u001b[0m\u001b[1;33m\u001b[0m\u001b[0m\n\u001b[0m",
      "\u001b[1;32m~\\anaconda3\\lib\\site-packages\\cameo\\strain_design\\deterministic\\linear_programming.py\u001b[0m in \u001b[0;36m__init__\u001b[1;34m(self, model, exclude_reactions, remove_blocked, fraction_of_optimum, exclude_non_gene_reactions, use_nullspace_simplification, *args, **kwargs)\u001b[0m\n\u001b[0;32m    139\u001b[0m             \u001b[0mexclude_reactions\u001b[0m \u001b[1;33m+=\u001b[0m \u001b[1;33m[\u001b[0m\u001b[0mr\u001b[0m\u001b[1;33m.\u001b[0m\u001b[0mid\u001b[0m \u001b[1;32mfor\u001b[0m \u001b[0mr\u001b[0m \u001b[1;32min\u001b[0m \u001b[0mself\u001b[0m\u001b[1;33m.\u001b[0m\u001b[0m_model\u001b[0m\u001b[1;33m.\u001b[0m\u001b[0mreactions\u001b[0m \u001b[1;32mif\u001b[0m \u001b[1;32mnot\u001b[0m \u001b[0mr\u001b[0m\u001b[1;33m.\u001b[0m\u001b[0mgenes\u001b[0m\u001b[1;33m]\u001b[0m\u001b[1;33m\u001b[0m\u001b[1;33m\u001b[0m\u001b[0m\n\u001b[0;32m    140\u001b[0m \u001b[1;33m\u001b[0m\u001b[0m\n\u001b[1;32m--> 141\u001b[1;33m         \u001b[0mself\u001b[0m\u001b[1;33m.\u001b[0m\u001b[0m_build_problem\u001b[0m\u001b[1;33m(\u001b[0m\u001b[0mexclude_reactions\u001b[0m\u001b[1;33m,\u001b[0m \u001b[0muse_nullspace_simplification\u001b[0m\u001b[1;33m)\u001b[0m\u001b[1;33m\u001b[0m\u001b[1;33m\u001b[0m\u001b[0m\n\u001b[0m\u001b[0;32m    142\u001b[0m \u001b[1;33m\u001b[0m\u001b[0m\n\u001b[0;32m    143\u001b[0m     \u001b[1;32mdef\u001b[0m \u001b[0m_remove_blocked_reactions\u001b[0m\u001b[1;33m(\u001b[0m\u001b[0mself\u001b[0m\u001b[1;33m)\u001b[0m\u001b[1;33m:\u001b[0m\u001b[1;33m\u001b[0m\u001b[1;33m\u001b[0m\u001b[0m\n",
      "\u001b[1;32m~\\anaconda3\\lib\\site-packages\\cameo\\strain_design\\deterministic\\linear_programming.py\u001b[0m in \u001b[0;36m_build_problem\u001b[1;34m(self, exclude_reactions, use_nullspace_simplification)\u001b[0m\n\u001b[0;32m    160\u001b[0m         \u001b[0mlogger\u001b[0m\u001b[1;33m.\u001b[0m\u001b[0mdebug\u001b[0m\u001b[1;33m(\u001b[0m\u001b[1;34m\"Starting to formulate OptKnock problem\"\u001b[0m\u001b[1;33m)\u001b[0m\u001b[1;33m\u001b[0m\u001b[1;33m\u001b[0m\u001b[0m\n\u001b[0;32m    161\u001b[0m \u001b[1;33m\u001b[0m\u001b[0m\n\u001b[1;32m--> 162\u001b[1;33m         \u001b[0mself\u001b[0m\u001b[1;33m.\u001b[0m\u001b[0messential_reactions\u001b[0m \u001b[1;33m=\u001b[0m \u001b[0mfind_essential_reactions\u001b[0m\u001b[1;33m(\u001b[0m\u001b[0mself\u001b[0m\u001b[1;33m.\u001b[0m\u001b[0m_model\u001b[0m\u001b[1;33m,\u001b[0m \u001b[0mprocesses\u001b[0m\u001b[1;33m=\u001b[0m\u001b[1;36m1\u001b[0m\u001b[1;33m)\u001b[0m\u001b[1;33m.\u001b[0m\u001b[0munion\u001b[0m\u001b[1;33m(\u001b[0m\u001b[0mself\u001b[0m\u001b[1;33m.\u001b[0m\u001b[0m_model\u001b[0m\u001b[1;33m.\u001b[0m\u001b[0mboundary\u001b[0m\u001b[1;33m)\u001b[0m\u001b[1;33m\u001b[0m\u001b[1;33m\u001b[0m\u001b[0m\n\u001b[0m\u001b[0;32m    163\u001b[0m         \u001b[1;32mif\u001b[0m \u001b[0mexclude_reactions\u001b[0m\u001b[1;33m:\u001b[0m\u001b[1;33m\u001b[0m\u001b[1;33m\u001b[0m\u001b[0m\n\u001b[0;32m    164\u001b[0m             self.exclude_reactions = set.union(\n",
      "\u001b[1;32m~\\anaconda3\\lib\\site-packages\\cobra\\flux_analysis\\variability.py\u001b[0m in \u001b[0;36mfind_essential_reactions\u001b[1;34m(model, threshold, processes)\u001b[0m\n\u001b[0;32m    358\u001b[0m     \"\"\"\n\u001b[0;32m    359\u001b[0m     \u001b[1;32mif\u001b[0m \u001b[0mthreshold\u001b[0m \u001b[1;32mis\u001b[0m \u001b[1;32mNone\u001b[0m\u001b[1;33m:\u001b[0m\u001b[1;33m\u001b[0m\u001b[1;33m\u001b[0m\u001b[0m\n\u001b[1;32m--> 360\u001b[1;33m         \u001b[0mthreshold\u001b[0m \u001b[1;33m=\u001b[0m \u001b[0mmodel\u001b[0m\u001b[1;33m.\u001b[0m\u001b[0mslim_optimize\u001b[0m\u001b[1;33m(\u001b[0m\u001b[0merror_value\u001b[0m\u001b[1;33m=\u001b[0m\u001b[1;32mNone\u001b[0m\u001b[1;33m)\u001b[0m \u001b[1;33m*\u001b[0m \u001b[1;36m1e-02\u001b[0m\u001b[1;33m\u001b[0m\u001b[1;33m\u001b[0m\u001b[0m\n\u001b[0m\u001b[0;32m    361\u001b[0m     \u001b[0mdeletions\u001b[0m \u001b[1;33m=\u001b[0m \u001b[0msingle_reaction_deletion\u001b[0m\u001b[1;33m(\u001b[0m\u001b[0mmodel\u001b[0m\u001b[1;33m,\u001b[0m \u001b[0mmethod\u001b[0m\u001b[1;33m=\u001b[0m\u001b[1;34m\"fba\"\u001b[0m\u001b[1;33m,\u001b[0m \u001b[0mprocesses\u001b[0m\u001b[1;33m=\u001b[0m\u001b[0mprocesses\u001b[0m\u001b[1;33m)\u001b[0m\u001b[1;33m\u001b[0m\u001b[1;33m\u001b[0m\u001b[0m\n\u001b[0;32m    362\u001b[0m     essential = deletions.loc[\n",
      "\u001b[1;32m~\\anaconda3\\lib\\site-packages\\cobra\\core\\model.py\u001b[0m in \u001b[0;36mslim_optimize\u001b[1;34m(self, error_value, message)\u001b[0m\n\u001b[0;32m   1062\u001b[0m             \u001b[1;32mreturn\u001b[0m \u001b[0merror_value\u001b[0m\u001b[1;33m\u001b[0m\u001b[1;33m\u001b[0m\u001b[0m\n\u001b[0;32m   1063\u001b[0m         \u001b[1;32melse\u001b[0m\u001b[1;33m:\u001b[0m\u001b[1;33m\u001b[0m\u001b[1;33m\u001b[0m\u001b[0m\n\u001b[1;32m-> 1064\u001b[1;33m             \u001b[0massert_optimal\u001b[0m\u001b[1;33m(\u001b[0m\u001b[0mself\u001b[0m\u001b[1;33m,\u001b[0m \u001b[0mmessage\u001b[0m\u001b[1;33m)\u001b[0m\u001b[1;33m\u001b[0m\u001b[1;33m\u001b[0m\u001b[0m\n\u001b[0m\u001b[0;32m   1065\u001b[0m \u001b[1;33m\u001b[0m\u001b[0m\n\u001b[0;32m   1066\u001b[0m     \u001b[1;32mdef\u001b[0m \u001b[0moptimize\u001b[0m\u001b[1;33m(\u001b[0m\u001b[0mself\u001b[0m\u001b[1;33m,\u001b[0m \u001b[0mobjective_sense\u001b[0m\u001b[1;33m=\u001b[0m\u001b[1;32mNone\u001b[0m\u001b[1;33m,\u001b[0m \u001b[0mraise_error\u001b[0m\u001b[1;33m=\u001b[0m\u001b[1;32mFalse\u001b[0m\u001b[1;33m)\u001b[0m\u001b[1;33m:\u001b[0m\u001b[1;33m\u001b[0m\u001b[1;33m\u001b[0m\u001b[0m\n",
      "\u001b[1;32m~\\anaconda3\\lib\\site-packages\\cobra\\util\\solver.py\u001b[0m in \u001b[0;36massert_optimal\u001b[1;34m(model, message)\u001b[0m\n\u001b[0;32m    588\u001b[0m     \u001b[1;32mif\u001b[0m \u001b[0mstatus\u001b[0m \u001b[1;33m!=\u001b[0m \u001b[0mOPTIMAL\u001b[0m\u001b[1;33m:\u001b[0m\u001b[1;33m\u001b[0m\u001b[1;33m\u001b[0m\u001b[0m\n\u001b[0;32m    589\u001b[0m         \u001b[0mexception_cls\u001b[0m \u001b[1;33m=\u001b[0m \u001b[0mOPTLANG_TO_EXCEPTIONS_DICT\u001b[0m\u001b[1;33m.\u001b[0m\u001b[0mget\u001b[0m\u001b[1;33m(\u001b[0m\u001b[0mstatus\u001b[0m\u001b[1;33m,\u001b[0m \u001b[0mOptimizationError\u001b[0m\u001b[1;33m)\u001b[0m\u001b[1;33m\u001b[0m\u001b[1;33m\u001b[0m\u001b[0m\n\u001b[1;32m--> 590\u001b[1;33m         \u001b[1;32mraise\u001b[0m \u001b[0mexception_cls\u001b[0m\u001b[1;33m(\u001b[0m\u001b[1;34mf\"{message} ({status}).\"\u001b[0m\u001b[1;33m)\u001b[0m\u001b[1;33m\u001b[0m\u001b[1;33m\u001b[0m\u001b[0m\n\u001b[0m\u001b[0;32m    591\u001b[0m \u001b[1;33m\u001b[0m\u001b[0m\n\u001b[0;32m    592\u001b[0m \u001b[1;33m\u001b[0m\u001b[0m\n",
      "\u001b[1;31mInfeasible\u001b[0m: None (infeasible)."
     ]
    }
   ],
   "source": [
    "optknock = OptKnock(model_akg, fraction_of_optimum=0.1)\n"
   ]
  },
  {
   "cell_type": "code",
   "execution_count": null,
   "metadata": {},
   "outputs": [],
   "source": [
    "result_akg = optknock.run(max_knockouts=1, target=\"DM_bdo_cc\", biomass=\"BIOMASS_Ec_iML1515_core_75p37M\")\n"
   ]
  },
  {
   "cell_type": "code",
   "execution_count": null,
   "metadata": {},
   "outputs": [],
   "source": []
  }
 ],
 "metadata": {
  "kernelspec": {
   "display_name": "Python 3",
   "language": "python",
   "name": "python3"
  },
  "language_info": {
   "codemirror_mode": {
    "name": "ipython",
    "version": 3
   },
   "file_extension": ".py",
   "mimetype": "text/x-python",
   "name": "python",
   "nbconvert_exporter": "python",
   "pygments_lexer": "ipython3",
   "version": "3.8.3"
  }
 },
 "nbformat": 4,
 "nbformat_minor": 5
}
