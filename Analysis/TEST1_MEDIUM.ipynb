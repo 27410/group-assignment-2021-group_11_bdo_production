{
 "cells": [
  {
   "cell_type": "code",
   "execution_count": 1,
   "id": "a9b5e748-7614-4515-9b03-c468bada2971",
   "metadata": {},
   "outputs": [
    {
     "name": "stdout",
     "output_type": "stream",
     "text": [
      "nadh_c + succoa_c --> coa_c + h_c + nad_c + succinyl_semialdehyde_c\n",
      "nadh_c + succinyl_semialdehyde_c --> four_hydroxybutyrate_c + h_c + nad_c\n",
      "accoa_c + four_hydroxybutyrate_c --> ac_c + four_hbcoa_c\n",
      "four_hbcoa_c + nadh_c --> coa_c + four_hbaldehyde_c + h_c + nad_c\n",
      "four_hbaldehyde_c + nadh_c --> bdo_c + h_c + nad_c\n",
      "9.605894736842117\n",
      "Uptake: -10.0\n",
      "Yield for model SucD = 0.9605894736842118\n",
      "akg_c --> co2_c + succinyl_semialdehyde_c\n",
      "nadh_c + succinyl_semialdehyde_c --> four_hydroxybutyrate_c + h_c + nad_c\n",
      "accoa_c + four_hydroxybutyrate_c --> ac_c + four_hbcoa_c\n",
      "four_hbcoa_c + nadh_c --> coa_c + four_hbaldehyde_c + h_c + nad_c\n",
      "four_hbaldehyde_c + nadh_c --> bdo_c + h_c + nad_c\n",
      "9.708085106382972\n",
      "Uptake: -10.0\n",
      "Yield for model Akg = 0.9708085106382972\n"
     ]
    }
   ],
   "source": [
    "%run Model.ipynb"
   ]
  },
  {
   "cell_type": "code",
   "execution_count": 2,
   "id": "6398f0c7-c732-4f31-a797-d0e96086e964",
   "metadata": {},
   "outputs": [
    {
     "data": {
      "text/html": [
       "<strong><em>Optimal</em> solution with objective value 0.877</strong><br><div>\n",
       "<style scoped>\n",
       "    .dataframe tbody tr th:only-of-type {\n",
       "        vertical-align: middle;\n",
       "    }\n",
       "\n",
       "    .dataframe tbody tr th {\n",
       "        vertical-align: top;\n",
       "    }\n",
       "\n",
       "    .dataframe thead th {\n",
       "        text-align: right;\n",
       "    }\n",
       "</style>\n",
       "<table border=\"1\" class=\"dataframe\">\n",
       "  <thead>\n",
       "    <tr style=\"text-align: right;\">\n",
       "      <th></th>\n",
       "      <th>fluxes</th>\n",
       "      <th>reduced_costs</th>\n",
       "    </tr>\n",
       "  </thead>\n",
       "  <tbody>\n",
       "    <tr>\n",
       "      <th>CYTDK2</th>\n",
       "      <td>0.00000</td>\n",
       "      <td>-7.273028e-17</td>\n",
       "    </tr>\n",
       "    <tr>\n",
       "      <th>XPPT</th>\n",
       "      <td>0.00000</td>\n",
       "      <td>-1.504671e-02</td>\n",
       "    </tr>\n",
       "    <tr>\n",
       "      <th>HXPRT</th>\n",
       "      <td>0.00000</td>\n",
       "      <td>-1.504671e-02</td>\n",
       "    </tr>\n",
       "    <tr>\n",
       "      <th>NDPK5</th>\n",
       "      <td>0.00000</td>\n",
       "      <td>-0.000000e+00</td>\n",
       "    </tr>\n",
       "    <tr>\n",
       "      <th>SHK3Dr</th>\n",
       "      <td>0.33424</td>\n",
       "      <td>0.000000e+00</td>\n",
       "    </tr>\n",
       "    <tr>\n",
       "      <th>...</th>\n",
       "      <td>...</td>\n",
       "      <td>...</td>\n",
       "    </tr>\n",
       "    <tr>\n",
       "      <th>HBCT</th>\n",
       "      <td>0.00000</td>\n",
       "      <td>0.000000e+00</td>\n",
       "    </tr>\n",
       "    <tr>\n",
       "      <th>HBCR</th>\n",
       "      <td>0.00000</td>\n",
       "      <td>0.000000e+00</td>\n",
       "    </tr>\n",
       "    <tr>\n",
       "      <th>ADH</th>\n",
       "      <td>0.00000</td>\n",
       "      <td>-1.170938e-17</td>\n",
       "    </tr>\n",
       "    <tr>\n",
       "      <th>EX_bdo</th>\n",
       "      <td>0.00000</td>\n",
       "      <td>0.000000e+00</td>\n",
       "    </tr>\n",
       "    <tr>\n",
       "      <th>DM_bdo_c</th>\n",
       "      <td>0.00000</td>\n",
       "      <td>-0.000000e+00</td>\n",
       "    </tr>\n",
       "  </tbody>\n",
       "</table>\n",
       "<p>2719 rows × 2 columns</p>\n",
       "</div>"
      ],
      "text/plain": [
       "<Solution 0.877 at 0x266ac5a0490>"
      ]
     },
     "execution_count": 2,
     "metadata": {},
     "output_type": "execute_result"
    }
   ],
   "source": [
    "model_sucd.optimize()"
   ]
  },
  {
   "cell_type": "code",
   "execution_count": 3,
   "id": "c3134653-7e89-488f-b2a5-781180927d9c",
   "metadata": {},
   "outputs": [
    {
     "data": {
      "text/html": [
       "<strong><em>Optimal</em> solution with objective value 9.708</strong><br><div>\n",
       "<style scoped>\n",
       "    .dataframe tbody tr th:only-of-type {\n",
       "        vertical-align: middle;\n",
       "    }\n",
       "\n",
       "    .dataframe tbody tr th {\n",
       "        vertical-align: top;\n",
       "    }\n",
       "\n",
       "    .dataframe thead th {\n",
       "        text-align: right;\n",
       "    }\n",
       "</style>\n",
       "<table border=\"1\" class=\"dataframe\">\n",
       "  <thead>\n",
       "    <tr style=\"text-align: right;\">\n",
       "      <th></th>\n",
       "      <th>fluxes</th>\n",
       "      <th>reduced_costs</th>\n",
       "    </tr>\n",
       "  </thead>\n",
       "  <tbody>\n",
       "    <tr>\n",
       "      <th>CYTDK2</th>\n",
       "      <td>0.000000</td>\n",
       "      <td>-2.220446e-16</td>\n",
       "    </tr>\n",
       "    <tr>\n",
       "      <th>XPPT</th>\n",
       "      <td>0.000000</td>\n",
       "      <td>-1.702128e-01</td>\n",
       "    </tr>\n",
       "    <tr>\n",
       "      <th>HXPRT</th>\n",
       "      <td>0.000000</td>\n",
       "      <td>-1.702128e-01</td>\n",
       "    </tr>\n",
       "    <tr>\n",
       "      <th>NDPK5</th>\n",
       "      <td>0.000000</td>\n",
       "      <td>-1.927880e-16</td>\n",
       "    </tr>\n",
       "    <tr>\n",
       "      <th>SHK3Dr</th>\n",
       "      <td>0.000000</td>\n",
       "      <td>-0.000000e+00</td>\n",
       "    </tr>\n",
       "    <tr>\n",
       "      <th>...</th>\n",
       "      <td>...</td>\n",
       "      <td>...</td>\n",
       "    </tr>\n",
       "    <tr>\n",
       "      <th>HBCT</th>\n",
       "      <td>9.708085</td>\n",
       "      <td>5.551115e-17</td>\n",
       "    </tr>\n",
       "    <tr>\n",
       "      <th>HBCR</th>\n",
       "      <td>9.708085</td>\n",
       "      <td>-9.992007e-16</td>\n",
       "    </tr>\n",
       "    <tr>\n",
       "      <th>ADH</th>\n",
       "      <td>9.708085</td>\n",
       "      <td>-1.301043e-16</td>\n",
       "    </tr>\n",
       "    <tr>\n",
       "      <th>EX_bdo</th>\n",
       "      <td>9.708085</td>\n",
       "      <td>0.000000e+00</td>\n",
       "    </tr>\n",
       "    <tr>\n",
       "      <th>DM_bdo_c</th>\n",
       "      <td>0.000000</td>\n",
       "      <td>-0.000000e+00</td>\n",
       "    </tr>\n",
       "  </tbody>\n",
       "</table>\n",
       "<p>2719 rows × 2 columns</p>\n",
       "</div>"
      ],
      "text/plain": [
       "<Solution 9.708 at 0x266ac5fcd90>"
      ]
     },
     "execution_count": 3,
     "metadata": {},
     "output_type": "execute_result"
    }
   ],
   "source": [
    "model_akg.optimize()"
   ]
  },
  {
   "cell_type": "markdown",
   "id": "50f45d64-e872-41b8-b86f-507060e9ea9c",
   "metadata": {},
   "source": [
    "# Biomass growth"
   ]
  },
  {
   "cell_type": "markdown",
   "id": "7b4b46c0-99dd-4fc1-9d08-89c832c27933",
   "metadata": {},
   "source": [
    "## Substrate: glucose"
   ]
  },
  {
   "cell_type": "markdown",
   "id": "81782699-1340-419a-8e6a-8a88eed3a617",
   "metadata": {},
   "source": [
    "The biomass growth of the sucd model is calculated with substrate glucose"
   ]
  },
  {
   "cell_type": "code",
   "execution_count": 4,
   "id": "eb98a542-c4d8-46b0-a87d-e15747454898",
   "metadata": {},
   "outputs": [
    {
     "name": "stdout",
     "output_type": "stream",
     "text": [
      "0.8769972144269966\n"
     ]
    }
   ],
   "source": [
    "# model:sucd\n",
    "medium = model_sucd.medium\n",
    "with model_sucd:\n",
    "    medium['EX_glc__D_e'] = 10\n",
    "    medium['EX_xyl__D_e'] = 0\n",
    "    model_sucd.medium = medium\n",
    "    solution = model_sucd.optimize()\n",
    "    print(solution.fluxes['BIOMASS_Ec_iML1515_core_75p37M'])"
   ]
  },
  {
   "cell_type": "markdown",
   "id": "f1954a46-599f-44ab-a5da-c57364caeb8c",
   "metadata": {},
   "source": [
    "The biomass growth of the akg model is calculated with substrate glucose"
   ]
  },
  {
   "cell_type": "code",
   "execution_count": 5,
   "id": "ffb9b1b9-0e52-4467-9163-57059f19f3a6",
   "metadata": {},
   "outputs": [
    {
     "name": "stdout",
     "output_type": "stream",
     "text": [
      "0.0\n"
     ]
    }
   ],
   "source": [
    "# model:akg\n",
    "medium = model_akg.medium\n",
    "with model_akg:\n",
    "    medium['EX_glc__D_e'] = 10\n",
    "    medium['EX_xyl__D_e'] = 0\n",
    "    model_akg.medium = medium\n",
    "    solution = model_akg.optimize()\n",
    "    print(solution.fluxes['BIOMASS_Ec_iML1515_core_75p37M'])"
   ]
  },
  {
   "cell_type": "markdown",
   "id": "eb7f94d8-ee64-4f25-91bf-43e92bb9fe7a",
   "metadata": {},
   "source": []
  },
  {
   "cell_type": "markdown",
   "id": "3b13c662-cdd4-4f32-8462-d2775efda61b",
   "metadata": {},
   "source": []
  },
  {
   "cell_type": "markdown",
   "id": "32702264-cb2a-4f67-8dbd-3147b2ead94b",
   "metadata": {},
   "source": []
  },
  {
   "cell_type": "markdown",
   "id": "07939636-543a-44bc-a820-1e80867ea966",
   "metadata": {},
   "source": []
  },
  {
   "cell_type": "code",
   "execution_count": null,
   "id": "7fb2cdd2-9a93-4216-95f0-2fa4ed514801",
   "metadata": {},
   "outputs": [],
   "source": []
  },
  {
   "cell_type": "markdown",
   "id": "c29d823d-4325-4ec6-ab3c-5d21dc292920",
   "metadata": {},
   "source": []
  },
  {
   "cell_type": "code",
   "execution_count": null,
   "id": "407712a1-40f5-4e31-927c-a7c10240b10d",
   "metadata": {},
   "outputs": [],
   "source": []
  },
  {
   "cell_type": "markdown",
   "id": "c4c9242d-0f5e-4a46-89b2-853aea1063d9",
   "metadata": {},
   "source": []
  },
  {
   "cell_type": "markdown",
   "id": "1712fbc0-1964-4b84-b0d8-be8146cb79a1",
   "metadata": {},
   "source": [
    "## BDO production in Anaerobic conditions"
   ]
  },
  {
   "cell_type": "markdown",
   "id": "c99ebf9e-b6ed-45fd-ae4b-989106d91286",
   "metadata": {},
   "source": [
    "The BDO production of the sucd model is calculated under anaerobic conditions with a glucose substrate"
   ]
  },
  {
   "cell_type": "code",
   "execution_count": 6,
   "id": "0481c1ec-b04c-4534-95f1-7d8acb6ea1cd",
   "metadata": {},
   "outputs": [
    {
     "name": "stdout",
     "output_type": "stream",
     "text": [
      "6.192761904761846\n"
     ]
    }
   ],
   "source": [
    "with model_sucd:\n",
    "    medium = model_sucd.medium\n",
    "    medium['EX_glc__D_e']=10\n",
    "    medium['EX_xyl__D_e']=0\n",
    "    medium['EX_o2_e'] =0    \n",
    "    model_sucd.medium = medium\n",
    "    with model_sucd:\n",
    "        model_sucd.objective = model_sucd.reactions.EX_bdo\n",
    "        BDO_production = model_sucd.optimize().objective_value\n",
    "\n",
    "print(BDO_production)\n"
   ]
  },
  {
   "cell_type": "code",
   "execution_count": null,
   "id": "c630c80c-2633-4504-807d-a474c41807a7",
   "metadata": {},
   "outputs": [],
   "source": [
    "\n"
   ]
  },
  {
   "cell_type": "markdown",
   "id": "4a97aeb8-6de7-4310-bd6f-47eae04a5a7b",
   "metadata": {},
   "source": [
    "The BDO production of akg model is calculated under anaerobic conditions with a glucose substrate"
   ]
  },
  {
   "cell_type": "code",
   "execution_count": 7,
   "id": "7eda53b8-131d-4733-96ef-d53314f98189",
   "metadata": {},
   "outputs": [
    {
     "name": "stdout",
     "output_type": "stream",
     "text": [
      "4.268235294117692\n"
     ]
    }
   ],
   "source": [
    "with model_akg:\n",
    "    medium = model_akg.medium\n",
    "    medium['EX_glc__D_e']=10\n",
    "    medium['EX_xyl__D_e']=0\n",
    "    medium['EX_o2_e'] =0    \n",
    "    model_akg.medium = medium\n",
    "    with model_akg:\n",
    "        model_akg.objective = model_akg.reactions.EX_bdo\n",
    "        BDO_production = model_akg.optimize().objective_value\n",
    "\n",
    "print(BDO_production)"
   ]
  },
  {
   "cell_type": "code",
   "execution_count": null,
   "id": "95b8b543-743f-437c-a26a-25b0097fb39c",
   "metadata": {},
   "outputs": [],
   "source": []
  },
  {
   "cell_type": "code",
   "execution_count": null,
   "id": "a5b317e4-1050-4c53-b355-6998677e0347",
   "metadata": {},
   "outputs": [],
   "source": [
    "\n",
    "\n"
   ]
  },
  {
   "cell_type": "code",
   "execution_count": null,
   "id": "5877d5be-1d25-4e75-9af6-7017465fe68d",
   "metadata": {},
   "outputs": [],
   "source": []
  },
  {
   "cell_type": "code",
   "execution_count": null,
   "id": "fb3cc297-bfd8-4d00-84ac-10b5e8f5a477",
   "metadata": {},
   "outputs": [],
   "source": []
  },
  {
   "cell_type": "code",
   "execution_count": null,
   "id": "87f9f65d-b9c1-482f-9d3a-353f8aa7e2ec",
   "metadata": {},
   "outputs": [],
   "source": []
  },
  {
   "cell_type": "code",
   "execution_count": 8,
   "id": "07580734-5605-4125-bc23-c437b63ee27f",
   "metadata": {},
   "outputs": [
    {
     "data": {
      "text/plain": [
       "{'EX_pi_e': 1000.0,\n",
       " 'EX_co2_e': 1000.0,\n",
       " 'EX_fe3_e': 1000.0,\n",
       " 'EX_h_e': 1000.0,\n",
       " 'EX_mn2_e': 1000.0,\n",
       " 'EX_fe2_e': 1000.0,\n",
       " 'EX_glc__D_e': 10,\n",
       " 'EX_zn2_e': 1000.0,\n",
       " 'EX_mg2_e': 1000.0,\n",
       " 'EX_ca2_e': 1000.0,\n",
       " 'EX_ni2_e': 1000.0,\n",
       " 'EX_cu2_e': 1000.0,\n",
       " 'EX_sel_e': 1000.0,\n",
       " 'EX_cobalt2_e': 1000.0,\n",
       " 'EX_h2o_e': 1000.0,\n",
       " 'EX_mobd_e': 1000.0,\n",
       " 'EX_so4_e': 1000.0,\n",
       " 'EX_nh4_e': 1000.0,\n",
       " 'EX_k_e': 1000.0,\n",
       " 'EX_na1_e': 1000.0,\n",
       " 'EX_cl_e': 1000.0,\n",
       " 'EX_o2_e': 0,\n",
       " 'EX_tungs_e': 1000.0,\n",
       " 'EX_slnt_e': 1000.0,\n",
       " 'EX_xyl__D_e': 0}"
      ]
     },
     "execution_count": 8,
     "metadata": {},
     "output_type": "execute_result"
    }
   ],
   "source": [
    "medium"
   ]
  },
  {
   "cell_type": "markdown",
   "id": "d8349dfa-a2f3-4d5e-a851-25cd7028fd96",
   "metadata": {},
   "source": [
    "## Looping through the carbons Sources"
   ]
  },
  {
   "cell_type": "markdown",
   "id": "650ef10a-8779-4eca-9fdb-ac26cab992aa",
   "metadata": {},
   "source": [
    "### Model Sucd"
   ]
  },
  {
   "cell_type": "code",
   "execution_count": 16,
   "id": "a890e08e-bb26-4e87-a52b-609e46a51005",
   "metadata": {},
   "outputs": [],
   "source": [
    "\n",
    "#Firstly, the lists which will include the reactions id, the reactions and metabolite names and the metabolites id, are created :\n",
    "\n",
    "reaction_id=[]\n",
    "reaction_names=[]\n",
    "carbon_name=[]\n",
    "carbon_id=[]\n",
    "\n",
    "for reaction in model_sucd.exchanges:\n",
    "    for metabolite in reaction.reactants:\n",
    "        if \"C\" in metabolite.elements:\n",
    "            reaction_id.append(reaction.id)\n",
    "            reaction_names.append(reaction.name) \n",
    "            carbon_name.append(metabolite.name)\n",
    "            carbon_id.append(metabolite.id)\n",
    "\n",
    "# Secondly, the baseline case is being created\n",
    "#That means the growth and production when in the medium there is glucose\n",
    "with model_sucd:\n",
    "    max_base_growth = model_sucd.slim_optimize()\n",
    "    model_sucd.objective = model_sucd.reactions.EX_bdo\n",
    "    max_base_production = model_sucd.slim_optimize()\n",
    "\n",
    "\n",
    "# A loop is created that will check the max growth and the BDO production for the different carbon sources\n",
    "\n",
    " \n",
    "# Now, we will loop through every carbon source in the model and observe the production of BDO.     \n",
    "# We define the lists we are going to use\n",
    "max_growth = [] #All the values of  the biomass growth for each Carbon source will be saved in this list\n",
    "max_production = [] #All the values of the bdo production for the different carbon sources   \n",
    "medium=model_sucd.medium\n",
    "\n",
    "with model_sucd:\n",
    "    for reaction in reaction_id:\n",
    "        medium['EX_glc__D_e'] = 0\n",
    "        medium[reaction]=10\n",
    "        # It is very important to notice that the loop for every carbon source will take place with the concentration being equal to 10\n",
    "        model_sucd.medium = medium\n",
    "        with model_sucd:\n",
    "            max_growth.append(model_sucd.slim_optimize(error_value=0.))\n",
    "            model_sucd.objective = model_sucd.reactions.EX_bdo\n",
    "            max_production.append(model_sucd.slim_optimize(error_value=0.))  # Determining max production\n",
    "        medium[reaction]=0        \n",
    "\n",
    "CARBON1 = {'Reaction_name': reaction_names,\n",
    "             'Reaction_ID': reaction_id,\n",
    "             'Carbon_Metabolite_Name': carbon_name,\n",
    "              'Carbon_Metabolite_ID': carbon_id,\n",
    "            'Max_growth':max_growth,\n",
    "           'Max_BDO_production': max_production}\n",
    "\n",
    "\n",
    "\n"
   ]
  },
  {
   "cell_type": "markdown",
   "id": "cba84174-0088-44ca-ab1b-f97f81c9f0ce",
   "metadata": {},
   "source": [
    "Printing the table with the results descendigly"
   ]
  },
  {
   "cell_type": "code",
   "execution_count": 21,
   "id": "53fd7736-2ab7-4992-9761-a44d99af2e59",
   "metadata": {},
   "outputs": [
    {
     "name": "stdout",
     "output_type": "stream",
     "text": [
      "    Carbon_Metabolite_ID    Max_growth  Max_BDO_production\n",
      "190             malthx_e  5.466242e+00        5.992168e+01\n",
      "215           14glucan_e  5.466242e+00        5.992168e+01\n",
      "77              maltpt_e  4.525823e+00        4.960589e+01\n",
      "239            maltttr_e  3.585404e+00        3.929011e+01\n",
      "268              anhgm_e  2.702371e+00        2.950063e+01\n",
      "128             malttr_e  2.682602e+00        2.939537e+01\n",
      "108             ocdcea_e  2.665123e+00        2.929011e+01\n",
      "101              ocdca_e  2.629139e+00        2.886905e+01\n",
      "65               hdcea_e  2.359259e+00        2.592168e+01\n",
      "171               hdca_e  2.323275e+00        2.550063e+01\n",
      "67              ttdcea_e  2.053394e+00        2.255326e+01\n",
      "84               ttdca_e  2.017410e+00        2.213221e+01\n",
      "210             uacgam_e  1.945630e+00        2.090414e+01\n",
      "175               malt_e  1.779800e+00        1.950063e+01\n",
      "64                 tre_e  1.779800e+00        1.950063e+01\n",
      "4                cellb_e  1.779800e+00        1.950063e+01\n",
      "62               melib_e  1.770395e+00        1.939537e+01\n",
      "100               lcts_e  1.770395e+00        1.939537e+01\n",
      "185               ddca_e  1.711546e+00        1.876379e+01\n",
      "212               udpg_e  1.686568e+00        1.816730e+01\n",
      "213             udpgal_e  1.676999e+00        1.806204e+01\n",
      "118              acmum_e  1.551429e+00        1.697432e+01\n",
      "214           udpglcur_e  1.514328e+00        1.627256e+01\n",
      "264   LalaDgluMdapDala_e  1.497406e+00        1.602695e+01\n",
      "70               acnam_e  1.479391e+00        1.613221e+01\n",
      "119                dca_e  1.405681e+00        1.539537e+01\n",
      "226               g3pi_e  1.252998e+00        1.371116e+01\n",
      "233            manglyc_e  1.234356e+00        1.350063e+01\n",
      "137            fe3dcit_e  1.194525e+00        1.348967e+01\n",
      "68               gthrd_e  1.176725e+00        1.292168e+01\n",
      "218               damp_e  1.147626e+00        1.265853e+01\n",
      "104              dad_2_e  1.147626e+00        1.265853e+01\n",
      "57                 din_e  1.136332e+00        1.255326e+01\n",
      "219               dimp_e  1.136332e+00        1.255326e+01\n",
      "199            acgam1p_e  1.131312e+00        1.234274e+01\n",
      "3                acgam_e  1.131312e+00        1.234274e+01\n",
      "94              acmana_e  1.131312e+00        1.234274e+01\n",
      "198               pppn_e  1.131210e+00        1.265853e+01\n",
      "150             23camp_e  1.105835e+00        1.216730e+01\n",
      "96                 adn_e  1.105835e+00        1.216730e+01\n",
      "71                 amp_e  1.105835e+00        1.216730e+01\n",
      "142               3amp_e  1.105835e+00        1.216730e+01\n",
      "121               octa_e  1.099817e+00        1.202695e+01\n",
      "157                imp_e  1.094571e+00        1.206204e+01\n",
      "97                 ins_e  1.094571e+00        1.206204e+01\n",
      "228              peamn_e  1.082558e+00        1.213221e+01\n",
      "194             pacald_e  1.082558e+00        1.213221e+01\n",
      "235               dgmp_e  1.081431e+00        1.192168e+01\n",
      "45                dgsn_e  1.081431e+00        1.192168e+01\n",
      "237             3hpppn_e  1.063097e+00        1.192168e+01\n",
      "266       LalaDgluMdap_e  1.056626e+00        1.139537e+01\n",
      "225               g3pg_e  1.054519e+00        1.150063e+01\n",
      "270           LalaDglu_e  1.043637e+00        1.171116e+01\n",
      "272           LalaLglu_e  1.043637e+00        1.171116e+01\n",
      "231                gsn_e  1.038331e+00        1.143046e+01\n",
      "143               3gmp_e  1.038331e+00        1.143046e+01\n",
      "151             23cgmp_e  1.038331e+00        1.143046e+01\n",
      "164                gmp_e  1.038331e+00        1.143046e+01\n",
      "92             3hcinnm_e  1.024176e+00        1.150063e+01\n",
      "39                xtsn_e  1.023327e+00        1.132519e+01\n",
      "217                xmp_e  1.023327e+00        1.132519e+01\n",
      "32              sbt__D_e  9.428265e-01        1.034274e+01\n",
      "174                mnl_e  9.428265e-01        1.034274e+01\n",
      "200               galt_e  9.356078e-01        1.034274e+01\n",
      "245             progly_e  9.100045e-01        1.018484e+01\n",
      "106              gam6p_e  9.055316e-01        9.921684e+00\n",
      "238              man6p_e  9.052098e-01        9.921684e+00\n",
      "86                 g6p_e  9.052098e-01        9.921684e+00\n",
      "82                 f6p_e  9.052098e-01        9.921684e+00\n",
      "167             frulys_e  8.927618e-01        9.395368e+00\n",
      "267             psclys_e  8.927618e-01        9.395368e+00\n",
      "227               g3ps_e  8.836813e-01        9.605895e+00\n",
      "180                gam_e  8.773090e-01        9.605895e+00\n",
      "244                g1p_e  8.769972e-01        9.605895e+00\n",
      "47                 fru_e  8.769972e-01        9.605895e+00\n",
      "40              glc__D_e  8.769972e-01        9.605895e+00\n",
      "16                 man_e  8.769972e-01        9.605895e+00\n",
      "193               g3pe_e  8.682176e-01        9.500632e+00\n",
      "249              gal1p_e  8.675930e-01        9.500632e+00\n",
      "48                 gal_e  8.675930e-01        9.500632e+00\n",
      "246             gal_bD_e  8.675930e-01        9.500632e+00\n",
      "73              fuc__L_e  8.621230e-01        9.500632e+00\n",
      "83                 rmn_e  8.621230e-01        9.500632e+00\n",
      "120             all__D_e  8.393805e-01        9.184842e+00\n",
      "116                hxa_e  8.299363e-01        9.079579e+00\n",
      "250               dcmp_e  8.213805e-01        8.869053e+00\n",
      "30                dcyt_e  8.213805e-01        8.869053e+00\n",
      "50                duri_e  8.120314e-01        8.763789e+00\n",
      "247               dump_e  8.120314e-01        8.763789e+00\n",
      "240             alaala_e  8.048265e-01        8.974316e+00\n",
      "11                glcn_e  7.971371e-01        8.693614e+00\n",
      "90             idon__L_e  7.971371e-01        8.693614e+00\n",
      "26               thymd_e  7.904831e-01        8.658526e+00\n",
      "241               dtmp_e  7.904831e-01        8.658526e+00\n",
      "29                cytd_e  7.784834e-01        8.377825e+00\n",
      "251             23ccmp_e  7.784834e-01        8.377825e+00\n",
      "252               3cmp_e  7.784834e-01        8.377825e+00\n",
      "189                cmp_e  7.784834e-01        8.377825e+00\n",
      "261          galctn__L_e  7.702671e-01        8.448000e+00\n",
      "110          galctn__D_e  7.702671e-01        8.448000e+00\n",
      "87             2ddglcn_e  7.702671e-01        8.448000e+00\n",
      "165                ump_e  7.679579e-01        8.272561e+00\n",
      "211           udpacgal_e  7.679579e-01        8.272561e+00\n",
      "144               3ump_e  7.679579e-01        8.272561e+00\n",
      "152             23cump_e  7.679579e-01        8.272561e+00\n",
      "184                uri_e  7.679579e-01        8.272561e+00\n",
      "265             5dglcn_e  7.295744e-01        7.956772e+00\n",
      "22              arg__L_e  7.268337e-01        8.160000e+00\n",
      "112            ascb__L_e  7.265302e-01        7.956772e+00\n",
      "49              xyl__D_e  7.171260e-01        7.851509e+00\n",
      "123            xylu__L_e  7.171260e-01        7.851509e+00\n",
      "117             lyx__L_e  7.171260e-01        7.851509e+00\n",
      "46             arab__L_e  7.171260e-01        7.851509e+00\n",
      "14              pro__L_e  7.138414e-01        8.050110e+00\n",
      "79               glcur_e  7.046861e-01        7.711158e+00\n",
      "201            glcur1p_e  7.046861e-01        7.711158e+00\n",
      "288           metglcur_e  7.046861e-01        7.711158e+00\n",
      "127              fruur_e  7.046861e-01        7.711158e+00\n",
      "95               galur_e  7.046861e-01        7.711158e+00\n",
      "12                 orn_e  7.028768e-01        7.940220e+00\n",
      "115             minohp_e  6.950666e-01        7.605895e+00\n",
      "181              inost_e  6.950666e-01        7.605895e+00\n",
      "36                ptrc_e  6.905665e-01        7.830330e+00\n",
      "114                agm_e  6.905665e-01        7.830330e+00\n",
      "27              rib__D_e  6.889134e-01        7.535719e+00\n",
      "186                r5p_e  6.889134e-01        7.535719e+00\n",
      "224               g3pc_e  6.373496e-01        6.974316e+00\n",
      "178                cit_e  6.349626e-01        7.170989e+00\n",
      "13              gln__L_e  6.164415e-01        6.951209e+00\n",
      "33              glu__L_e  6.155019e-01        6.951209e+00\n",
      "89            galct__D_e  6.084911e-01        6.658526e+00\n",
      "172               glcr_e  6.084911e-01        6.658526e+00\n",
      "276             dxylnt_e  5.994874e-01        6.610961e+00\n",
      "18               4abut_e  5.668502e-01        6.401758e+00\n",
      "20                 akg_e  5.473896e-01        6.181978e+00\n",
      "98              glyc3p_e  5.315351e-01        5.816421e+00\n",
      "183             thr__L_e  5.268250e-01        5.763789e+00\n",
      "202               thrp_e  5.268250e-01        5.763789e+00\n",
      "99                 but_e  5.240619e-01        5.711158e+00\n",
      "162               cgly_e  5.102200e-01        5.553263e+00\n",
      "187             glyc2p_e  4.947135e-01        5.395368e+00\n",
      "15                glyc_e  4.947135e-01        5.395368e+00\n",
      "93                acac_e  4.838625e-01        5.395368e+00\n",
      "197           12ppd__S_e  4.755883e-01        5.364660e+00\n",
      "25                succ_e  4.500863e-01        5.083077e+00\n",
      "269               ppal_e  4.461021e-01        4.974316e+00\n",
      "78              glyald_e  4.271508e-01        4.658526e+00\n",
      "72                 dha_e  4.255961e-01        4.658526e+00\n",
      "177             asn__L_e  4.118411e-01        4.643516e+00\n",
      "179             mal__L_e  4.111649e-01        4.643516e+00\n",
      "23              asp__L_e  4.111649e-01        4.643516e+00\n",
      "31                 fum_e  4.111649e-01        4.643516e+00\n",
      "21              ala__L_e  3.800213e-01        4.237474e+00\n",
      "173             ala__D_e  3.800213e-01        4.237474e+00\n",
      "147             mal__D_e  3.773558e-01        4.237474e+00\n",
      "134                ppa_e  3.773558e-01        4.237474e+00\n",
      "66              lac__D_e  3.773558e-01        4.237474e+00\n",
      "192               etoh_e  3.720871e-01        4.237474e+00\n",
      "285                 sq_e  3.583841e-01        3.921684e+00\n",
      "9               lac__L_e  3.505651e-01        3.921684e+00\n",
      "75            tartr__L_e  3.430526e-01        3.874286e+00\n",
      "260           tartr__D_e  3.430526e-01        3.874286e+00\n",
      "56              trp__L_e  3.266230e-01        3.605895e+00\n",
      "145            glyc__R_e  3.199061e-01        3.500632e+00\n",
      "105             ser__D_e  3.180515e-01        3.500632e+00\n",
      "216            pser__L_e  3.180515e-01        3.500632e+00\n",
      "54              ser__L_e  3.180515e-01        3.500632e+00\n",
      "159            23dappa_e  3.139405e-01        3.500632e+00\n",
      "24                 pyr_e  3.139405e-01        3.500632e+00\n",
      "61               acald_e  3.104483e-01        3.500632e+00\n",
      "170               etha_e  3.016427e-01        3.395368e+00\n",
      "230             cys__L_e  2.893380e-01        3.184842e+00\n",
      "17                 ade_e  2.891971e-01        3.252022e+00\n",
      "6                 hxan_e  2.887173e-01        3.252022e+00\n",
      "256             cys__D_e  2.885186e-01        3.184842e+00\n",
      "154             butso3_e  2.571107e-01        2.854141e+00\n",
      "34                 gua_e  2.336259e-01        2.596284e+00\n",
      "44                 xan_e  2.232249e-01        2.486995e+00\n",
      "19                  ac_e  2.100992e-01        2.342737e+00\n",
      "52                 gly_e  1.882354e-01        2.079579e+00\n",
      "85              glyclt_e  1.530906e-01        1.721967e+00\n",
      "253              urate_e  1.433765e-01        1.612678e+00\n",
      "41               alltn_e  1.433743e-01        1.612678e+00\n",
      "203               fald_e  6.268526e-02        7.346032e-01\n",
      "51                 for_e  9.129655e-03        8.222222e-02\n",
      "8                 chol_e  1.591280e-15       -1.201852e-32\n"
     ]
    }
   ],
   "source": [
    "df1 = pd.DataFrame(CARBON1, columns = ['Carbon_Metabolite_ID','Max_growth', 'Max_BDO_production'])\n",
    "\n",
    "df1= df1[df1['Max_growth'] != 0] \n",
    "df1=df1.sort_values(by='Max_growth', ascending=False).head(200) \n",
    "with pd.option_context('display.max_rows', None, 'display.max_columns', None):  \n",
    "    print(df1)\n"
   ]
  },
  {
   "cell_type": "markdown",
   "id": "4ee4f33b-067a-45b6-9dc9-29ba1f8743a9",
   "metadata": {},
   "source": [
    "### A graph with BDO production as a function of growth for the different carbon sourse but in the same concentration for Sucd model"
   ]
  },
  {
   "cell_type": "code",
   "execution_count": 22,
   "id": "8ca12a2f-215a-4f9b-81ce-0e31cd95459c",
   "metadata": {},
   "outputs": [
    {
     "data": {
      "image/png": "[encoded data removed]",
      "text/plain": [
       "<Figure size 432x288 with 1 Axes>"
      ]
     },
     "metadata": {
      "needs_background": "light"
     },
     "output_type": "display_data"
    }
   ],
   "source": [
    "\n",
    "# And we can create a scatterplot of the production over growth to view the distribution\n",
    "plt.scatter(df1.get('Max_growth'), df1.get('Max_BDO_production'))\n",
    "plt.xlabel('Max growth rate')\n",
    "plt.ylabel('Max BDO production')\n",
    "plt.xlim(0, 8)\n",
    "plt.ylim(0, 70)\n",
    "plt.title('Maximal Growth rate and production model_Sucd')\n",
    "\n",
    "plt.show()"
   ]
  },
  {
   "cell_type": "markdown",
   "id": "a68965da-adfb-48ce-9340-03cb07118f81",
   "metadata": {},
   "source": [
    "## Model akg"
   ]
  },
  {
   "cell_type": "code",
   "execution_count": 13,
   "id": "17c8f42a-43cc-47ec-8b2f-23f269526b24",
   "metadata": {},
   "outputs": [],
   "source": [
    "\n",
    "\n",
    "\n",
    "#Firstly, the lists which will include the reactions id, the reactions and metabolite names and the metabolites id, are created :\n",
    "\n",
    "reaction_id=[]\n",
    "reaction_names=[]\n",
    "carbon_name=[]\n",
    "carbon_id=[]\n",
    "\n",
    "for reaction in model_akg.exchanges:\n",
    "    for metabolite in reaction.reactants:\n",
    "        if \"C\" in metabolite.elements:\n",
    "            reaction_id.append(reaction.id)\n",
    "            reaction_names.append(reaction.name) \n",
    "            carbon_name.append(metabolite.name)\n",
    "            carbon_id.append(metabolite.id)\n",
    "\n",
    "# Secondly, the baseline case is being created\n",
    "#That means the growth and production when in the medium there is glucose\n",
    "with model_akg:\n",
    "    max_base_growth = model_akg.slim_optimize()\n",
    "    model_akg.objective = model_akg.reactions.EX_bdo\n",
    "    max_base_production = model_akg.slim_optimize()\n",
    "\n",
    "\n",
    "# A loop is created that will check the max growth and the BDO production for the different carbon sources\n",
    "\n",
    "   \n",
    "# Now, we will loop through every carbon source in the model and see how good it produces more BDO.     \n",
    "# We define the lists we are going to use\n",
    "max_growth = [] #All the values of  the biomass growth for each Carbon source will be saved in this list\n",
    "max_production = [] #All the values of the bdo production for the different carbon sources \n",
    "medium=model_akg.medium\n",
    "\n",
    "with model_akg:\n",
    "    for reaction in reaction_id:\n",
    "        medium['EX_glc__D_e'] = 0\n",
    "        medium[reaction]=10\n",
    "        model_akg.medium = medium\n",
    "        with model_akg:\n",
    "            max_growth.append(model_akg.slim_optimize(error_value=0.))\n",
    "            model_akg.objective = model_akg.reactions.EX_bdo\n",
    "            max_production.append(model_akg.slim_optimize(error_value=0.))  # Determining max production\n",
    "        medium[reaction]=0        \n",
    "\n",
    "CARBON2 = {'Reaction_name': reaction_names,\n",
    "             'Reaction_ID': reaction_id,\n",
    "             'Carbon_Metabolite_Name': carbon_name,\n",
    "              'Carbon_Metabolite_ID': carbon_id,\n",
    "            'Max_growth':max_growth,\n",
    "           'Max_BDO_production': max_production}\n",
    "\n",
    "\n",
    "\n"
   ]
  },
  {
   "cell_type": "markdown",
   "id": "81793961-786e-4c38-8b9a-901a78129325",
   "metadata": {},
   "source": [
    "#### Presenting the results descendingly"
   ]
  },
  {
   "cell_type": "code",
   "execution_count": 18,
   "id": "6674c1c2-9539-45fd-9f0e-c1f2bd1fe64c",
   "metadata": {},
   "outputs": [
    {
     "name": "stdout",
     "output_type": "stream",
     "text": [
      "    Carbon_Metabolite_ID    Max_growth  Max_BDO_production\n",
      "190             malthx_e  6.042387e+01        6.042387e+01\n",
      "215           14glucan_e  6.042387e+01        6.042387e+01\n",
      "77              maltpt_e  5.010129e+01        5.010129e+01\n",
      "239            maltttr_e  3.970809e+01        3.970809e+01\n",
      "268              anhgm_e  2.981447e+01        2.981447e+01\n",
      "128             malttr_e  2.970809e+01        2.970809e+01\n",
      "108             ocdcea_e  2.960170e+01        2.960170e+01\n",
      "101              ocdca_e  2.917617e+01        2.917617e+01\n",
      "65               hdcea_e  2.619745e+01        2.619745e+01\n",
      "171               hdca_e  2.577191e+01        2.577191e+01\n",
      "67              ttdcea_e  2.279319e+01        2.279319e+01\n",
      "84               ttdca_e  2.236766e+01        2.236766e+01\n",
      "210             uacgam_e  2.112652e+01        2.112652e+01\n",
      "4                cellb_e  1.970809e+01        1.970809e+01\n",
      "175               malt_e  1.970809e+01        1.970809e+01\n",
      "64                 tre_e  1.970809e+01        1.970809e+01\n",
      "100               lcts_e  1.960170e+01        1.960170e+01\n",
      "62               melib_e  1.960170e+01        1.960170e+01\n",
      "185               ddca_e  1.896340e+01        1.896340e+01\n",
      "212               udpg_e  1.835398e+01        1.835398e+01\n",
      "213             udpgal_e  1.825418e+01        1.825418e+01\n",
      "118              acmum_e  1.709962e+01        1.709962e+01\n",
      "214           udpglcur_e  1.644567e+01        1.644567e+01\n",
      "70               acnam_e  1.630383e+01        1.630383e+01\n",
      "264   LalaDgluMdapDala_e  1.619745e+01        1.619745e+01\n",
      "119                dca_e  1.555915e+01        1.555915e+01\n",
      "226               g3pi_e  1.385702e+01        1.385702e+01\n",
      "233            manglyc_e  1.364426e+01        1.364426e+01\n",
      "137            fe3dcit_e  1.363956e+01        1.363956e+01\n",
      "68               gthrd_e  1.305915e+01        1.305915e+01\n",
      "198               pppn_e  1.279319e+01        1.279319e+01\n",
      "3                acgam_e  1.247404e+01        1.247404e+01\n",
      "199            acgam1p_e  1.247404e+01        1.247404e+01\n",
      "94              acmana_e  1.247404e+01        1.247404e+01\n",
      "104              dad_2_e  1.243111e+01        1.243111e+01\n",
      "218               damp_e  1.243111e+01        1.243111e+01\n",
      "219               dimp_e  1.233852e+01        1.233852e+01\n",
      "57                 din_e  1.233852e+01        1.233852e+01\n",
      "228              peamn_e  1.226128e+01        1.226128e+01\n",
      "194             pacald_e  1.226128e+01        1.226128e+01\n",
      "121               octa_e  1.215489e+01        1.215489e+01\n",
      "237             3hpppn_e  1.204851e+01        1.204851e+01\n",
      "270           LalaDglu_e  1.183574e+01        1.183574e+01\n",
      "272           LalaLglu_e  1.183574e+01        1.183574e+01\n",
      "45                dgsn_e  1.178296e+01        1.178296e+01\n",
      "235               dgmp_e  1.178296e+01        1.178296e+01\n",
      "150             23camp_e  1.166043e+01        1.166043e+01\n",
      "142               3amp_e  1.166043e+01        1.166043e+01\n",
      "96                 adn_e  1.166043e+01        1.166043e+01\n",
      "71                 amp_e  1.166043e+01        1.166043e+01\n",
      "92             3hcinnm_e  1.162298e+01        1.162298e+01\n",
      "97                 ins_e  1.157978e+01        1.157978e+01\n",
      "157                imp_e  1.157978e+01        1.157978e+01\n",
      "266       LalaDgluMdap_e  1.151660e+01        1.151660e+01\n",
      "225               g3pg_e  1.123032e+01        1.123032e+01\n",
      "143               3gmp_e  1.109591e+01        1.109591e+01\n",
      "151             23cgmp_e  1.109591e+01        1.109591e+01\n",
      "231                gsn_e  1.109591e+01        1.109591e+01\n",
      "164                gmp_e  1.109591e+01        1.109591e+01\n",
      "217                xmp_e  1.101527e+01        1.101527e+01\n",
      "39                xtsn_e  1.101527e+01        1.101527e+01\n",
      "32              sbt__D_e  1.031294e+01        1.031294e+01\n",
      "174                mnl_e  1.031294e+01        1.031294e+01\n",
      "200               galt_e  1.031294e+01        1.031294e+01\n",
      "245             progly_e  1.029319e+01        1.029319e+01\n",
      "106              gam6p_e  1.002065e+01        1.002065e+01\n",
      "86                 g6p_e  1.002065e+01        1.002065e+01\n",
      "82                 f6p_e  1.002065e+01        1.002065e+01\n",
      "238              man6p_e  1.002065e+01        1.002065e+01\n",
      "244                g1p_e  9.708085e+00        9.708085e+00\n",
      "47                 fru_e  9.708085e+00        9.708085e+00\n",
      "180                gam_e  9.708085e+00        9.708085e+00\n",
      "227               g3ps_e  9.708085e+00        9.708085e+00\n",
      "40              glc__D_e  9.708085e+00        9.708085e+00\n",
      "16                 man_e  9.708085e+00        9.708085e+00\n",
      "83                 rmn_e  9.601702e+00        9.601702e+00\n",
      "249              gal1p_e  9.601702e+00        9.601702e+00\n",
      "246             gal_bD_e  9.601702e+00        9.601702e+00\n",
      "48                 gal_e  9.601702e+00        9.601702e+00\n",
      "193               g3pe_e  9.601702e+00        9.601702e+00\n",
      "73              fuc__L_e  9.601702e+00        9.601702e+00\n",
      "267             psclys_e  9.495319e+00        9.495319e+00\n",
      "167             frulys_e  9.495319e+00        9.495319e+00\n",
      "120             all__D_e  9.282553e+00        9.282553e+00\n",
      "116                hxa_e  9.176170e+00        9.176170e+00\n",
      "30                dcyt_e  8.963404e+00        8.963404e+00\n",
      "250               dcmp_e  8.963404e+00        8.963404e+00\n",
      "50                duri_e  8.857021e+00        8.857021e+00\n",
      "247               dump_e  8.857021e+00        8.857021e+00\n",
      "240             alaala_e  8.797736e+00        8.797736e+00\n",
      "26               thymd_e  8.750638e+00        8.750638e+00\n",
      "241               dtmp_e  8.750638e+00        8.750638e+00\n",
      "11                glcn_e  8.727407e+00        8.727407e+00\n",
      "90             idon__L_e  8.727407e+00        8.727407e+00\n",
      "261          galctn__L_e  8.537872e+00        8.537872e+00\n",
      "87             2ddglcn_e  8.537872e+00        8.537872e+00\n",
      "110          galctn__D_e  8.537872e+00        8.537872e+00\n",
      "29                cytd_e  8.434624e+00        8.434624e+00\n",
      "251             23ccmp_e  8.434624e+00        8.434624e+00\n",
      "252               3cmp_e  8.434624e+00        8.434624e+00\n",
      "189                cmp_e  8.434624e+00        8.434624e+00\n",
      "144               3ump_e  8.353978e+00        8.353978e+00\n",
      "165                ump_e  8.353978e+00        8.353978e+00\n",
      "211           udpacgal_e  8.353978e+00        8.353978e+00\n",
      "184                uri_e  8.353978e+00        8.353978e+00\n",
      "152             23cump_e  8.353978e+00        8.353978e+00\n",
      "22              arg__L_e  8.250667e+00        8.250667e+00\n",
      "14              pro__L_e  8.139556e+00        8.139556e+00\n",
      "265             5dglcn_e  8.041418e+00        8.041418e+00\n",
      "112            ascb__L_e  8.011572e+00        8.011572e+00\n",
      "46             arab__L_e  7.935035e+00        7.935035e+00\n",
      "117             lyx__L_e  7.935035e+00        7.935035e+00\n",
      "49              xyl__D_e  7.935035e+00        7.935035e+00\n",
      "123            xylu__L_e  7.935035e+00        7.935035e+00\n",
      "288           metglcur_e  7.793191e+00        7.793191e+00\n",
      "201            glcur1p_e  7.793191e+00        7.793191e+00\n",
      "127              fruur_e  7.793191e+00        7.793191e+00\n",
      "79               glcur_e  7.793191e+00        7.793191e+00\n",
      "95               galur_e  7.793191e+00        7.793191e+00\n",
      "181              inost_e  7.686809e+00        7.686809e+00\n",
      "115             minohp_e  7.686809e+00        7.686809e+00\n",
      "27              rib__D_e  7.615887e+00        7.615887e+00\n",
      "186                r5p_e  7.615887e+00        7.615887e+00\n",
      "12                 orn_e  7.413565e+00        7.413565e+00\n",
      "178                cit_e  7.250667e+00        7.250667e+00\n",
      "36                ptrc_e  7.224706e+00        7.224706e+00\n",
      "114                agm_e  7.224706e+00        7.224706e+00\n",
      "13              gln__L_e  7.028444e+00        7.028444e+00\n",
      "33              glu__L_e  7.028444e+00        7.028444e+00\n",
      "89            galct__D_e  6.729362e+00        6.729362e+00\n",
      "172               glcr_e  6.729362e+00        6.729362e+00\n",
      "276             dxylnt_e  6.579522e+00        6.579522e+00\n",
      "224               g3pc_e  6.552903e+00        6.552903e+00\n",
      "20                 akg_e  6.250667e+00        6.250667e+00\n",
      "18               4abut_e  6.183571e+00        6.183571e+00\n",
      "99                 but_e  5.771915e+00        5.771915e+00\n",
      "202               thrp_e  5.731698e+00        5.731698e+00\n",
      "183             thr__L_e  5.731698e+00        5.731698e+00\n",
      "98              glyc3p_e  5.665806e+00        5.665806e+00\n",
      "162               cgly_e  5.543019e+00        5.543019e+00\n",
      "93                acac_e  5.452766e+00        5.452766e+00\n",
      "15                glyc_e  5.343226e+00        5.343226e+00\n",
      "187             glyc2p_e  5.343226e+00        5.343226e+00\n",
      "197           12ppd__S_e  5.165882e+00        5.165882e+00\n",
      "25                succ_e  5.112143e+00        5.112143e+00\n",
      "269               ppal_e  4.835472e+00        4.835472e+00\n",
      "78              glyald_e  4.708085e+00        4.708085e+00\n",
      "72                 dha_e  4.708085e+00        4.708085e+00\n",
      "23              asp__L_e  4.695111e+00        4.695111e+00\n",
      "31                 fum_e  4.695111e+00        4.695111e+00\n",
      "177             asn__L_e  4.695111e+00        4.695111e+00\n",
      "179             mal__L_e  4.695111e+00        4.695111e+00\n",
      "134                ppa_e  4.175094e+00        4.175094e+00\n",
      "192               etoh_e  4.175094e+00        4.175094e+00\n",
      "173             ala__D_e  4.175094e+00        4.175094e+00\n",
      "147             mal__D_e  4.175094e+00        4.175094e+00\n",
      "21              ala__L_e  4.175094e+00        4.175094e+00\n",
      "66              lac__D_e  4.175094e+00        4.175094e+00\n",
      "285                 sq_e  3.963404e+00        3.963404e+00\n",
      "260           tartr__D_e  3.917333e+00        3.917333e+00\n",
      "75            tartr__L_e  3.917333e+00        3.917333e+00\n",
      "9               lac__L_e  3.892075e+00        3.892075e+00\n",
      "56              trp__L_e  3.609057e+00        3.609057e+00\n",
      "145            glyc__R_e  3.537872e+00        3.537872e+00\n",
      "216            pser__L_e  3.514717e+00        3.514717e+00\n",
      "54              ser__L_e  3.514717e+00        3.514717e+00\n",
      "24                 pyr_e  3.514717e+00        3.514717e+00\n",
      "105             ser__D_e  3.514717e+00        3.514717e+00\n",
      "159            23dappa_e  3.514717e+00        3.514717e+00\n",
      "61               acald_e  3.514717e+00        3.514717e+00\n",
      "170               etha_e  3.420377e+00        3.420377e+00\n",
      "230             cys__L_e  3.218723e+00        3.218723e+00\n",
      "256             cys__D_e  3.218723e+00        3.218723e+00\n",
      "6                 hxan_e  2.989565e+00        2.989565e+00\n",
      "17                 ade_e  2.989565e+00        2.989565e+00\n",
      "154             butso3_e  2.883265e+00        2.883265e+00\n",
      "34                 gua_e  2.520645e+00        2.520645e+00\n",
      "44                 xan_e  2.431111e+00        2.431111e+00\n",
      "19                  ac_e  2.367660e+00        2.367660e+00\n",
      "52                 gly_e  2.052453e+00        2.052453e+00\n",
      "85              glyclt_e  1.740994e+00        1.740994e+00\n",
      "253              urate_e  1.630497e+00        1.630497e+00\n",
      "41               alltn_e  1.630497e+00        1.630497e+00\n",
      "203               fald_e  6.254054e-01        6.254054e-01\n",
      "51                 for_e  7.883777e-02        7.883777e-02\n",
      "8                 chol_e  2.860232e-15        2.860232e-15\n"
     ]
    }
   ],
   "source": [
    "df2 = pd.DataFrame(CARBON2, columns = ['Carbon_Metabolite_ID','Max_growth', 'Max_BDO_production'])\n",
    "\n",
    "df2= df2[df2['Max_growth'] != 0] \n",
    "df2=df2.sort_values(by='Max_growth', ascending=False).head(200) \n",
    "with pd.option_context('display.max_rows', None, 'display.max_columns', None):  \n",
    "    print(df2)\n"
   ]
  },
  {
   "cell_type": "markdown",
   "id": "22b349cf-3131-4048-803d-89ac52c162f0",
   "metadata": {},
   "source": []
  },
  {
   "cell_type": "markdown",
   "id": "781bbf3d-c7e9-44a5-9790-55bfb8506469",
   "metadata": {},
   "source": [
    "### A graph with BDO production as a function of growth for the different carbon sourse but in the same concentration for akg model"
   ]
  },
  {
   "cell_type": "code",
   "execution_count": 19,
   "id": "5409fc0d-fbf4-4bd4-baba-f424acd0af26",
   "metadata": {},
   "outputs": [
    {
     "data": {
      "image/png": "[encoded data removed]",
      "text/plain": [
       "<Figure size 432x288 with 1 Axes>"
      ]
     },
     "metadata": {
      "needs_background": "light"
     },
     "output_type": "display_data"
    }
   ],
   "source": [
    "\n",
    "\n",
    "plt.scatter(df2.get('Max_growth'), df2.get('Max_BDO_production'))\n",
    "plt.xlabel('Max growth rate')\n",
    "plt.ylabel('Max BDO production')\n",
    "plt.xlim(0, 8)\n",
    "plt.ylim(0, 80)\n",
    "plt.title('Maximal Growth rate and production model_akg')\n",
    "\n",
    "plt.show()"
   ]
  },
  {
   "cell_type": "code",
   "execution_count": null,
   "id": "04d30ae3-bcc3-4466-9232-e9e823cd649d",
   "metadata": {},
   "outputs": [],
   "source": []
  }
 ],
 "metadata": {
  "kernelspec": {
   "display_name": "computer-aided_strain_design",
   "language": "python",
   "name": "computer-aided_strain_design"
  },
  "language_info": {
   "codemirror_mode": {
    "name": "ipython",
    "version": 3
   },
   "file_extension": ".py",
   "mimetype": "text/x-python",
   "name": "python",
   "nbconvert_exporter": "python",
   "pygments_lexer": "ipython3",
   "version": "3.8.8"
  }
 },
 "nbformat": 4,
 "nbformat_minor": 5
}
