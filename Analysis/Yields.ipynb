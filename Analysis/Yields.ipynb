{
 "cells": [
  {
   "cell_type": "code",
   "execution_count": 23,
   "id": "4a85b153-e2d3-4229-a1b3-c72ea1972a53",
   "metadata": {},
   "outputs": [
    {
     "name": "stdout",
     "output_type": "stream",
     "text": [
      "nadh_c + succoa_c --> coa_c + h_c + nad_c + succinyl_semialdehyde_c\n",
      "nadh_c + succinyl_semialdehyde_c --> four_hydroxybutyrate_c + h_c + nad_c\n",
      "accoa_c + four_hydroxybutyrate_c --> ac_c + four_hbcoa_c\n",
      "four_hbcoa_c + nadh_c --> coa_c + four_hbaldehyde_c + h_c + nad_c\n",
      "four_hbaldehyde_c + nadh_c --> bdo_c + h_c + nad_c\n",
      "akg_c --> co2_c + succinyl_semialdehyde_c\n",
      "nadh_c + succinyl_semialdehyde_c --> four_hydroxybutyrate_c + h_c + nad_c\n",
      "accoa_c + four_hydroxybutyrate_c --> ac_c + four_hbcoa_c\n",
      "four_hbcoa_c + nadh_c --> coa_c + four_hbaldehyde_c + h_c + nad_c\n",
      "four_hbaldehyde_c + nadh_c --> bdo_c + h_c + nad_c\n"
     ]
    }
   ],
   "source": [
    "%run Model.ipynb"
   ]
  },
  {
   "cell_type": "markdown",
   "id": "b990b340-64a7-4780-919a-d68816532813",
   "metadata": {},
   "source": [
    "# Yield Calulation "
   ]
  },
  {
   "cell_type": "markdown",
   "id": "d1bac512-2b04-4904-85be-027c5477c07f",
   "metadata": {},
   "source": [
    "## Sucd Model"
   ]
  },
  {
   "cell_type": "code",
   "execution_count": 24,
   "id": "5a79fa0c-cd2c-4c1b-8896-dc60178ad2e8",
   "metadata": {},
   "outputs": [
    {
     "name": "stdout",
     "output_type": "stream",
     "text": [
      "9.605894736842117\n"
     ]
    }
   ],
   "source": [
    "with model_sucd:\n",
    "    model_sucd.objective=model_sucd.reactions.ADH\n",
    "    optimized = float(model_sucd.optimize().objective_value)\n",
    "    print(optimized)"
   ]
  },
  {
   "cell_type": "code",
   "execution_count": 25,
   "id": "e86456c1-0a5a-44aa-9237-ac403f21db1e",
   "metadata": {},
   "outputs": [
    {
     "name": "stdout",
     "output_type": "stream",
     "text": [
      "Uptake: -10.0\n"
     ]
    }
   ],
   "source": [
    "uptake = model_sucd.reactions.EX_glc__D_e.flux #uptake <--\n",
    "print(\"Uptake:\",uptake)"
   ]
  },
  {
   "cell_type": "code",
   "execution_count": 26,
   "id": "7f485746-c589-4d49-a346-6aeb7a3be6b8",
   "metadata": {},
   "outputs": [],
   "source": [
    "Models_yield = dict()\n",
    "Models_yield['sucd']= optimized"
   ]
  },
  {
   "cell_type": "code",
   "execution_count": 27,
   "id": "7a623396-f40d-4a0b-8c50-244691b8e4f7",
   "metadata": {},
   "outputs": [
    {
     "name": "stdout",
     "output_type": "stream",
     "text": [
      "Yield for model SucD = 0.9605894736842118\n"
     ]
    }
   ],
   "source": [
    "print(\"Yield for model SucD =\",(-1)*((Models_yield['sucd'])/uptake)) # Yield for Model_SucD (Succinate) p-mmol/gl-mmol\n",
    "#it is multiplied by -1 because the reaction is an uptake which means thats goes for the right to the left"
   ]
  },
  {
   "cell_type": "markdown",
   "id": "953eccbe-4c24-4e8f-ab16-4880a7d4a3e1",
   "metadata": {},
   "source": [
    "## Akg Model"
   ]
  },
  {
   "cell_type": "code",
   "execution_count": 28,
   "id": "2413cf9b-29d3-47a0-a524-ab86343da4b8",
   "metadata": {},
   "outputs": [
    {
     "name": "stdout",
     "output_type": "stream",
     "text": [
      "9.708085106382972\n"
     ]
    }
   ],
   "source": [
    "with model:\n",
    "    model_akg.objective=model_akg.reactions.ADH\n",
    "    optimized = float(model_akg.optimize().objective_value)\n",
    "    print(optimized)"
   ]
  },
  {
   "cell_type": "code",
   "execution_count": 29,
   "id": "88e19bcf-7868-4b01-bfc4-308ab05c5ef6",
   "metadata": {},
   "outputs": [
    {
     "name": "stdout",
     "output_type": "stream",
     "text": [
      "Uptake: -10.0\n"
     ]
    }
   ],
   "source": [
    "uptake_akg = model_akg.reactions.EX_glc__D_e.flux #uptake <--\n",
    "print(\"Uptake:\", uptake_akg)"
   ]
  },
  {
   "cell_type": "code",
   "execution_count": 30,
   "id": "8a82de84-3b51-4e54-9916-7560aac7789c",
   "metadata": {},
   "outputs": [],
   "source": [
    "Models_yield['akg']= optimized"
   ]
  },
  {
   "cell_type": "code",
   "execution_count": 31,
   "id": "7b67f119-191e-4271-8a84-9234fc3a54aa",
   "metadata": {},
   "outputs": [
    {
     "name": "stdout",
     "output_type": "stream",
     "text": [
      "Yield for model Akg = 0.9708085106382972\n"
     ]
    }
   ],
   "source": [
    "print(\"Yield for model Akg =\",(-1)*((Models_yield['akg'])/uptake)) # Yield for Model_akg (a-ketoglutarate) p-mmol/gl-mmol\n",
    "#it is multiplied by -1 because the reaction is an uptake which means thats goes for the right to the left"
   ]
  }
 ],
 "metadata": {
  "kernelspec": {
   "display_name": "Python 3",
   "language": "python",
   "name": "python3"
  },
  "language_info": {
   "codemirror_mode": {
    "name": "ipython",
    "version": 3
   },
   "file_extension": ".py",
   "mimetype": "text/x-python",
   "name": "python",
   "nbconvert_exporter": "python",
   "pygments_lexer": "ipython3",
   "version": "3.8.8"
  }
 },
 "nbformat": 4,
 "nbformat_minor": 5
}
